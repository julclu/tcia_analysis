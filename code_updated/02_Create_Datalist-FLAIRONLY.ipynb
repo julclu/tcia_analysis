{
 "cells": [
  {
   "cell_type": "markdown",
   "metadata": {},
   "source": [
    "# Create JSON data list "
   ]
  },
  {
   "cell_type": "markdown",
   "metadata": {},
   "source": [
    "In this notebook, I want to create the JSON datalist as exemplified by the rest example_config_datalist: "
   ]
  },
  {
   "cell_type": "code",
   "execution_count": 1,
   "metadata": {},
   "outputs": [],
   "source": [
    "import os\n",
    "import glob\n",
    "import json\n",
    "from pathlib import Path\n",
    "import pandas as pd\n",
    "import subprocess as sub \n",
    "from subprocess import Popen, PIPE, STDOUT"
   ]
  },
  {
   "cell_type": "markdown",
   "metadata": {},
   "source": [
    "# Example file: "
   ]
  },
  {
   "cell_type": "code",
   "execution_count": 2,
   "metadata": {},
   "outputs": [],
   "source": [
    "with open('/working/lupolab/julia/tcia_analysis/nvidia/config/config_fla-t2all_datalist.json') as json_file:\n",
    "    example_list = json.load(json_file)"
   ]
  },
  {
   "cell_type": "code",
   "execution_count": 3,
   "metadata": {
    "scrolled": true
   },
   "outputs": [
    {
     "data": {
      "text/plain": [
       "{'training': [],\n",
       " 'validation': [{'image': 'nifti_march_2020/images/b4819/t13526/t13526_fla.nii.gz'},\n",
       "  {'image': 'nifti_march_2020/images/b4746/t13284/t13284_fla.nii.gz'},\n",
       "  {'image': 'nifti_march_2020/images/b4789/t13431/t13431_fla.nii.gz'},\n",
       "  {'image': 'nifti_march_2020/images/b4005/t13285/t13285_fla.nii.gz'},\n",
       "  {'image': 'nifti_march_2020/images/b4135/t11807/t11807_fla.nii.gz'},\n",
       "  {'image': 'nifti_march_2020/images/b4741/t13277/t13277_fla.nii.gz'},\n",
       "  {'image': 'nifti_march_2020/images/b4791/t13436/t13436_fla.nii.gz'},\n",
       "  {'image': 'nifti_march_2020/images/b4787/t13426/t13426_fla.nii.gz'},\n",
       "  {'image': 'nifti_march_2020/images/b4829/t13572/t13572_fla.nii.gz'},\n",
       "  {'image': 'nifti_march_2020/images/b4740/t13275/t13275_fla.nii.gz'},\n",
       "  {'image': 'nifti_march_2020/images/b4794/t13444/t13444_fla.nii.gz'},\n",
       "  {'image': 'nifti_march_2020/images/b4826/t13566/t13566_fla.nii.gz'},\n",
       "  {'image': 'nifti_march_2020/images/b4837/t13602/t13602_fla.nii.gz'},\n",
       "  {'image': 'nifti_march_2020/images/b4590/t13612/t13612_fla.nii.gz'},\n",
       "  {'image': 'nifti_march_2020/images/b4817/t13522/t13522_fla.nii.gz'},\n",
       "  {'image': 'nifti_march_2020/images/b4823/t13545/t13545_fla.nii.gz'},\n",
       "  {'image': 'nifti_march_2020/images/b4853/t13642/t13642_fla.nii.gz'},\n",
       "  {'image': 'nifti_march_2020/images/b4742/t13280/t13280_fla.nii.gz'},\n",
       "  {'image': 'nifti_march_2020/images/b3685/t13633/t13633_fla.nii.gz'},\n",
       "  {'image': 'nifti_march_2020/images/b3531/t13418/t13418_fla.nii.gz'},\n",
       "  {'image': 'nifti_march_2020/images/b4814/t13510/t13510_fla.nii.gz'},\n",
       "  {'image': 'nifti_march_2020/images/b4797/t13460/t13460_fla.nii.gz'},\n",
       "  {'image': 'nifti_march_2020/images/b4838/t13604/t13604_fla.nii.gz'},\n",
       "  {'image': 'nifti_march_2020/images/b4745/t13283/t13283_fla.nii.gz'},\n",
       "  {'image': 'nifti_march_2020/images/b4342/t13587/t13587_fla.nii.gz'},\n",
       "  {'image': 'nifti_march_2020/images/b4747/t13286/t13286_fla.nii.gz'},\n",
       "  {'image': 'nifti_march_2020/images/b4744/t13282/t13282_fla.nii.gz'},\n",
       "  {'image': 'nifti_march_2020/images/b4807/t13496/t13496_fla.nii.gz'},\n",
       "  {'image': 'nifti_march_2020/images/b4849/t13631/t13631_fla.nii.gz'},\n",
       "  {'image': 'nifti_march_2020/images/b4739/t13274/t13274_fla.nii.gz'},\n",
       "  {'image': 'nifti_march_2020/images/b4820/t13532/t13532_fla.nii.gz'},\n",
       "  {'image': 'nifti_march_2020/images/b4830/t13574/t13574_fla.nii.gz'},\n",
       "  {'image': 'nifti_march_2020/images/b4809/t13498/t13498_fla.nii.gz'},\n",
       "  {'image': 'nifti_march_2020/images/b4799/t13470/t13470_fla.nii.gz'},\n",
       "  {'image': 'nifti_march_2020/images/b4835/t13591/t13591_fla.nii.gz'},\n",
       "  {'image': 'nifti_march_2020/images/b3971/t13559/t13559_fla.nii.gz'},\n",
       "  {'image': 'nifti_march_2020/images/b4789/t13430/t13430_fla.nii.gz'},\n",
       "  {'image': 'nifti_march_2020/images/b4800/t13478/t13478_fla.nii.gz'},\n",
       "  {'image': 'nifti_march_2020/images/b4841/t13614/t13614_fla.nii.gz'},\n",
       "  {'image': 'nifti_march_2020/images/b4787/t13425/t13425_fla.nii.gz'},\n",
       "  {'image': 'nifti_march_2020/images/b4851/t13638/t13638_fla.nii.gz'},\n",
       "  {'image': 'nifti_march_2020/images/b4812/t13502/t13502_fla.nii.gz'},\n",
       "  {'image': 'nifti_march_2020/images/b4832/t13581/t13581_fla.nii.gz'},\n",
       "  {'image': 'nifti_march_2020/images/b4786/t13423/t13423_fla.nii.gz'},\n",
       "  {'image': 'nifti_march_2020/images/b4828/t13570/t13570_fla.nii.gz'},\n",
       "  {'image': 'nifti_march_2020/images/b4839/t13606/t13606_fla.nii.gz'},\n",
       "  {'image': 'nifti_march_2020/images/b2978/t13432/t13432_fla.nii.gz'},\n",
       "  {'image': 'nifti_march_2020/images/b4791/t13437/t13437_fla.nii.gz'},\n",
       "  {'image': 'nifti_march_2020/images/b4793/t13442/t13442_fla.nii.gz'},\n",
       "  {'image': 'nifti_march_2020/images/b4798/t13464/t13464_fla.nii.gz'},\n",
       "  {'image': 'nifti_march_2020/images/b4795/t13446/t13446_fla.nii.gz'},\n",
       "  {'image': 'nifti_march_2020/images/b4738/t13272/t13272_fla.nii.gz'},\n",
       "  {'image': 'nifti_march_2020/images/b4310/t13562/t13562_fla.nii.gz'},\n",
       "  {'image': 'nifti_march_2020/images/b4737/t13271/t13271_fla.nii.gz'},\n",
       "  {'image': 'nifti_march_2020/images/b4790/t13434/t13434_fla.nii.gz'},\n",
       "  {'image': 'nifti_march_2020/images/b4836/t13600/t13600_fla.nii.gz'}]}"
      ]
     },
     "execution_count": 3,
     "metadata": {},
     "output_type": "execute_result"
    }
   ],
   "source": [
    "example_list"
   ]
  },
  {
   "cell_type": "code",
   "execution_count": 4,
   "metadata": {},
   "outputs": [],
   "source": [
    "## Need to mimic the structure of this 'validation' list \n",
    "# example_list['validation']"
   ]
  },
  {
   "cell_type": "code",
   "execution_count": 5,
   "metadata": {},
   "outputs": [],
   "source": [
    "## It is a list of dictionaries that have 'label' keys and 'image' keys; label key will be left blank \n",
    "## Image key will be list of stirngs describing nifti input \n",
    "## Must be in the following order: 1) t1c 2) t1 3) t2 4) t2flair "
   ]
  },
  {
   "cell_type": "markdown",
   "metadata": {},
   "source": [
    "## Use results from labeling (that we did during registration)"
   ]
  },
  {
   "cell_type": "code",
   "execution_count": 6,
   "metadata": {},
   "outputs": [],
   "source": [
    "PATH = Path('/working/lupolab/julia/tcia_analysis/datasets/')"
   ]
  },
  {
   "cell_type": "code",
   "execution_count": 7,
   "metadata": {},
   "outputs": [],
   "source": [
    "full_label_df = pd.read_csv(Path(PATH, 'one_exam_per_patient_with_labels.csv'), index_col = 0)\n",
    "full_label_df = full_label_df.reset_index(drop = True)"
   ]
  },
  {
   "cell_type": "code",
   "execution_count": 8,
   "metadata": {},
   "outputs": [
    {
     "data": {
      "text/plain": [
       "(3630, 8)"
      ]
     },
     "execution_count": 8,
     "metadata": {},
     "output_type": "execute_result"
    }
   ],
   "source": [
    "full_label_df.shape"
   ]
  },
  {
   "cell_type": "code",
   "execution_count": 9,
   "metadata": {},
   "outputs": [],
   "source": [
    "root_dir = '/working/lupolab/julia/tcia_analysis'"
   ]
  },
  {
   "cell_type": "code",
   "execution_count": 10,
   "metadata": {},
   "outputs": [],
   "source": [
    "patient_id = \"TCGA-06-1801\""
   ]
  },
  {
   "cell_type": "code",
   "execution_count": 11,
   "metadata": {},
   "outputs": [
    {
     "data": {
      "text/plain": [
       "'9-AxT1-thin_for_surgery-27598'"
      ]
     },
     "execution_count": 11,
     "metadata": {},
     "output_type": "execute_result"
    }
   ],
   "source": [
    "full_label_df.image[0]"
   ]
  },
  {
   "cell_type": "code",
   "execution_count": 12,
   "metadata": {},
   "outputs": [
    {
     "data": {
      "text/html": [
       "<div>\n",
       "<style scoped>\n",
       "    .dataframe tbody tr th:only-of-type {\n",
       "        vertical-align: middle;\n",
       "    }\n",
       "\n",
       "    .dataframe tbody tr th {\n",
       "        vertical-align: top;\n",
       "    }\n",
       "\n",
       "    .dataframe thead th {\n",
       "        text-align: right;\n",
       "    }\n",
       "</style>\n",
       "<table border=\"1\" class=\"dataframe\">\n",
       "  <thead>\n",
       "    <tr style=\"text-align: right;\">\n",
       "      <th></th>\n",
       "      <th>patient_id</th>\n",
       "      <th>cohort</th>\n",
       "      <th>patient_exam</th>\n",
       "      <th>image</th>\n",
       "      <th>contrast</th>\n",
       "      <th>contrast_label</th>\n",
       "      <th>plane</th>\n",
       "      <th>exam_eligible</th>\n",
       "    </tr>\n",
       "  </thead>\n",
       "  <tbody>\n",
       "    <tr>\n",
       "      <th>0</th>\n",
       "      <td>TCGA-06-0240</td>\n",
       "      <td>TCGA-GBM</td>\n",
       "      <td>07-02-2005-04728</td>\n",
       "      <td>9-AxT1-thin_for_surgery-27598</td>\n",
       "      <td>1</td>\n",
       "      <td>T1C</td>\n",
       "      <td>ax</td>\n",
       "      <td>1</td>\n",
       "    </tr>\n",
       "    <tr>\n",
       "      <th>1</th>\n",
       "      <td>TCGA-06-0240</td>\n",
       "      <td>TCGA-GBM</td>\n",
       "      <td>07-02-2005-04728</td>\n",
       "      <td>21-nordicICE_HFH_-_rBF_map_-Leakage_corrected-...</td>\n",
       "      <td>1</td>\n",
       "      <td>rBF</td>\n",
       "      <td>cor</td>\n",
       "      <td>1</td>\n",
       "    </tr>\n",
       "    <tr>\n",
       "      <th>2</th>\n",
       "      <td>TCGA-06-0240</td>\n",
       "      <td>TCGA-GBM</td>\n",
       "      <td>07-02-2005-04728</td>\n",
       "      <td>1-3_PLANE_LOC-22369</td>\n",
       "      <td>0</td>\n",
       "      <td>LOCALIZER</td>\n",
       "      <td>NaN</td>\n",
       "      <td>1</td>\n",
       "    </tr>\n",
       "    <tr>\n",
       "      <th>3</th>\n",
       "      <td>TCGA-06-0240</td>\n",
       "      <td>TCGA-GBM</td>\n",
       "      <td>07-02-2005-04728</td>\n",
       "      <td>5-AXIAL_DIFFUSION-62807</td>\n",
       "      <td>0</td>\n",
       "      <td>DWI</td>\n",
       "      <td>ax</td>\n",
       "      <td>1</td>\n",
       "    </tr>\n",
       "    <tr>\n",
       "      <th>4</th>\n",
       "      <td>TCGA-06-0240</td>\n",
       "      <td>TCGA-GBM</td>\n",
       "      <td>07-02-2005-04728</td>\n",
       "      <td>8-AXIAL_PERFUSION-44568</td>\n",
       "      <td>1</td>\n",
       "      <td>PERFUSION</td>\n",
       "      <td>ax</td>\n",
       "      <td>1</td>\n",
       "    </tr>\n",
       "  </tbody>\n",
       "</table>\n",
       "</div>"
      ],
      "text/plain": [
       "     patient_id    cohort      patient_exam  \\\n",
       "0  TCGA-06-0240  TCGA-GBM  07-02-2005-04728   \n",
       "1  TCGA-06-0240  TCGA-GBM  07-02-2005-04728   \n",
       "2  TCGA-06-0240  TCGA-GBM  07-02-2005-04728   \n",
       "3  TCGA-06-0240  TCGA-GBM  07-02-2005-04728   \n",
       "4  TCGA-06-0240  TCGA-GBM  07-02-2005-04728   \n",
       "\n",
       "                                               image  contrast contrast_label  \\\n",
       "0                      9-AxT1-thin_for_surgery-27598         1            T1C   \n",
       "1  21-nordicICE_HFH_-_rBF_map_-Leakage_corrected-...         1            rBF   \n",
       "2                                1-3_PLANE_LOC-22369         0      LOCALIZER   \n",
       "3                            5-AXIAL_DIFFUSION-62807         0            DWI   \n",
       "4                            8-AXIAL_PERFUSION-44568         1      PERFUSION   \n",
       "\n",
       "  plane  exam_eligible  \n",
       "0    ax              1  \n",
       "1   cor              1  \n",
       "2   NaN              1  \n",
       "3    ax              1  \n",
       "4    ax              1  "
      ]
     },
     "execution_count": 12,
     "metadata": {},
     "output_type": "execute_result"
    }
   ],
   "source": [
    "full_label_df.head()"
   ]
  },
  {
   "cell_type": "code",
   "execution_count": 13,
   "metadata": {},
   "outputs": [
    {
     "data": {
      "text/plain": [
       "T1C          669\n",
       "T1           562\n",
       "T2           424\n",
       "DWI          353\n",
       "T2_FLAIR     298\n",
       "DTI          282\n",
       "OTHER        251\n",
       "LOCALIZER    189\n",
       "ADC          185\n",
       "PERFUSION    130\n",
       "SCOUT        126\n",
       "MTT           42\n",
       "rBF           42\n",
       "rBV           42\n",
       "FA            30\n",
       "MRSI           5\n",
       "Name: contrast_label, dtype: int64"
      ]
     },
     "execution_count": 13,
     "metadata": {},
     "output_type": "execute_result"
    }
   ],
   "source": [
    "full_label_df.contrast_label.value_counts()"
   ]
  },
  {
   "cell_type": "code",
   "execution_count": 14,
   "metadata": {},
   "outputs": [],
   "source": [
    "flair_df = full_label_df.loc[full_label_df.contrast_label == \"T2_FLAIR\"]"
   ]
  },
  {
   "cell_type": "code",
   "execution_count": 15,
   "metadata": {},
   "outputs": [
    {
     "data": {
      "text/plain": [
       "(298, 8)"
      ]
     },
     "execution_count": 15,
     "metadata": {},
     "output_type": "execute_result"
    }
   ],
   "source": [
    "flair_df.shape"
   ]
  },
  {
   "cell_type": "code",
   "execution_count": 16,
   "metadata": {},
   "outputs": [],
   "source": [
    "flair_df_nodup = flair_df.drop_duplicates(subset = ['patient_id'])"
   ]
  },
  {
   "cell_type": "code",
   "execution_count": 18,
   "metadata": {},
   "outputs": [
    {
     "data": {
      "text/plain": [
       "(274, 8)"
      ]
     },
     "execution_count": 18,
     "metadata": {},
     "output_type": "execute_result"
    }
   ],
   "source": [
    "flair_df_nodup.shape"
   ]
  },
  {
   "cell_type": "code",
   "execution_count": 19,
   "metadata": {},
   "outputs": [
    {
     "data": {
      "text/html": [
       "<div>\n",
       "<style scoped>\n",
       "    .dataframe tbody tr th:only-of-type {\n",
       "        vertical-align: middle;\n",
       "    }\n",
       "\n",
       "    .dataframe tbody tr th {\n",
       "        vertical-align: top;\n",
       "    }\n",
       "\n",
       "    .dataframe thead th {\n",
       "        text-align: right;\n",
       "    }\n",
       "</style>\n",
       "<table border=\"1\" class=\"dataframe\">\n",
       "  <thead>\n",
       "    <tr style=\"text-align: right;\">\n",
       "      <th></th>\n",
       "      <th>patient_id</th>\n",
       "      <th>cohort</th>\n",
       "      <th>patient_exam</th>\n",
       "      <th>image</th>\n",
       "      <th>contrast</th>\n",
       "      <th>contrast_label</th>\n",
       "      <th>plane</th>\n",
       "      <th>exam_eligible</th>\n",
       "    </tr>\n",
       "  </thead>\n",
       "  <tbody>\n",
       "    <tr>\n",
       "      <th>5</th>\n",
       "      <td>TCGA-06-0240</td>\n",
       "      <td>TCGA-GBM</td>\n",
       "      <td>07-02-2005-04728</td>\n",
       "      <td>4-AxFLAIR-thin_for_surgery-47036</td>\n",
       "      <td>0</td>\n",
       "      <td>T2_FLAIR</td>\n",
       "      <td>ax</td>\n",
       "      <td>1</td>\n",
       "    </tr>\n",
       "    <tr>\n",
       "      <th>29</th>\n",
       "      <td>TCGA-06-0143</td>\n",
       "      <td>TCGA-GBM</td>\n",
       "      <td>02-11-2005-83875</td>\n",
       "      <td>6-AXIAL_FLAIR-72192</td>\n",
       "      <td>0</td>\n",
       "      <td>T2_FLAIR</td>\n",
       "      <td>ax</td>\n",
       "      <td>1</td>\n",
       "    </tr>\n",
       "    <tr>\n",
       "      <th>42</th>\n",
       "      <td>TCGA-06-0149</td>\n",
       "      <td>TCGA-GBM</td>\n",
       "      <td>03-25-2003-87536</td>\n",
       "      <td>5-AXIAL_T2_FLAIR-94682</td>\n",
       "      <td>0</td>\n",
       "      <td>T2_FLAIR</td>\n",
       "      <td>ax</td>\n",
       "      <td>1</td>\n",
       "    </tr>\n",
       "    <tr>\n",
       "      <th>56</th>\n",
       "      <td>TCGA-19-0955</td>\n",
       "      <td>TCGA-GBM</td>\n",
       "      <td>04-07-2001-NR_MRI_BRAIN_WWO-83151</td>\n",
       "      <td>3-MRHG_FLAIR_AX-38966</td>\n",
       "      <td>0</td>\n",
       "      <td>T2_FLAIR</td>\n",
       "      <td>ax</td>\n",
       "      <td>1</td>\n",
       "    </tr>\n",
       "    <tr>\n",
       "      <th>74</th>\n",
       "      <td>TCGA-06-0648</td>\n",
       "      <td>TCGA-GBM</td>\n",
       "      <td>01-20-2006-51419</td>\n",
       "      <td>6-AXIAL_FLAIR-80030</td>\n",
       "      <td>0</td>\n",
       "      <td>T2_FLAIR</td>\n",
       "      <td>ax</td>\n",
       "      <td>1</td>\n",
       "    </tr>\n",
       "  </tbody>\n",
       "</table>\n",
       "</div>"
      ],
      "text/plain": [
       "      patient_id    cohort                       patient_exam  \\\n",
       "5   TCGA-06-0240  TCGA-GBM                   07-02-2005-04728   \n",
       "29  TCGA-06-0143  TCGA-GBM                   02-11-2005-83875   \n",
       "42  TCGA-06-0149  TCGA-GBM                   03-25-2003-87536   \n",
       "56  TCGA-19-0955  TCGA-GBM  04-07-2001-NR_MRI_BRAIN_WWO-83151   \n",
       "74  TCGA-06-0648  TCGA-GBM                   01-20-2006-51419   \n",
       "\n",
       "                               image  contrast contrast_label plane  \\\n",
       "5   4-AxFLAIR-thin_for_surgery-47036         0       T2_FLAIR    ax   \n",
       "29               6-AXIAL_FLAIR-72192         0       T2_FLAIR    ax   \n",
       "42            5-AXIAL_T2_FLAIR-94682         0       T2_FLAIR    ax   \n",
       "56             3-MRHG_FLAIR_AX-38966         0       T2_FLAIR    ax   \n",
       "74               6-AXIAL_FLAIR-80030         0       T2_FLAIR    ax   \n",
       "\n",
       "    exam_eligible  \n",
       "5               1  \n",
       "29              1  \n",
       "42              1  \n",
       "56              1  \n",
       "74              1  "
      ]
     },
     "execution_count": 19,
     "metadata": {},
     "output_type": "execute_result"
    }
   ],
   "source": [
    "flair_df_nodup.head()"
   ]
  },
  {
   "cell_type": "code",
   "execution_count": 20,
   "metadata": {},
   "outputs": [
    {
     "name": "stdout",
     "output_type": "stream",
     "text": [
      "/working/lupolab/julia/tcia_analysis/datasets/TCGA-GBM-nifti/TCGA-12-0775/09-02-1997-MRI_BRAIN_WWO_ENHANCE-60393\n",
      "/working/lupolab/julia/tcia_analysis/datasets/TCGA-GBM-nifti/TCGA-14-1794/04-18-1998-MRI_BRAIN_WWO_CONT-48802\n",
      "/working/lupolab/julia/tcia_analysis/datasets/TCGA-GBM-nifti/TCGA-14-1823/05-27-2000-MRI_BRAIN_WWO_CONTRAST-65740\n",
      "/working/lupolab/julia/tcia_analysis/datasets/TCGA-GBM-nifti/TCGA-06-0174/11-09-2001-MRI_BRAIN_WWO_CONTRAS-84848\n",
      "/working/lupolab/julia/tcia_analysis/datasets/TCGA-GBM-nifti/TCGA-06-0190/12-10-2004-MRI_BRAIN_WWO_CONTRAS-69767\n",
      "/working/lupolab/julia/tcia_analysis/datasets/TCGA-GBM-nifti/TCGA-14-1829/01-12-2002-MRI_Brain_w_wo_Contrast-20440\n",
      "/working/lupolab/julia/tcia_analysis/datasets/TCGA-GBM-nifti/TCGA-14-1043/03-16-1997-MRI_BRAIN_W_WOUT_CONTRAST-67734\n",
      "/working/lupolab/julia/tcia_analysis/datasets/TCGA-GBM-nifti/TCGA-14-1034/10-25-1991-BRAIN-90181\n",
      "/working/lupolab/julia/tcia_analysis/datasets/TCGA-GBM-nifti/TCGA-06-0238/04-12-2005-MRI_BRAIN_WWO_CONTRAST-24302\n",
      "/working/lupolab/julia/tcia_analysis/datasets/TCGA-GBM-nifti/TCGA-06-1084/09-17-2007-17434\n",
      "/working/lupolab/julia/tcia_analysis/datasets/TCGA-GBM-nifti/TCGA-14-1396/02-25-1996-MRI_BRAIN-07037\n",
      "/working/lupolab/julia/tcia_analysis/datasets/TCGA-GBM-nifti/TCGA-06-0213/10-23-1996-56914\n",
      "/working/lupolab/julia/tcia_analysis/datasets/TCGA-GBM-nifti/TCGA-08-0353/03-14-2001-MSTEALTH-19020\n",
      "/working/lupolab/julia/tcia_analysis/datasets/TCGA-GBM-nifti/TCGA-12-0616/04-12-1999-Routine_Brain-03138\n",
      "/working/lupolab/julia/tcia_analysis/datasets/TCGA-GBM-nifti/TCGA-08-0359/01-19-2003-MSTEALTH-62951\n",
      "/working/lupolab/julia/tcia_analysis/datasets/TCGA-GBM-nifti/TCGA-76-6191/10-20-2000-MRI_STRYKER_BRAIN_W__JHN-83114\n",
      "/working/lupolab/julia/tcia_analysis/datasets/TCGA-GBM-nifti/TCGA-06-0189/10-02-2004-MRI_BRAIN_WWO_CONTRAST-11697\n",
      "/working/lupolab/julia/tcia_analysis/datasets/TCGA-GBM-nifti/TCGA-06-0128/02-18-1999-TUMOR_VOL__SI-36438\n",
      "/working/lupolab/julia/tcia_analysis/datasets/TCGA-GBM-nifti/TCGA-14-1452/03-02-1998-MRI_BRAIN_WWO_CONT-02060\n",
      "/working/lupolab/julia/tcia_analysis/datasets/TCGA-GBM-nifti/TCGA-06-5408/01-11-2008-34135\n",
      "/working/lupolab/julia/tcia_analysis/datasets/TCGA-GBM-nifti/TCGA-08-0522/04-24-2000-MSTEALTH-54446\n",
      "/working/lupolab/julia/tcia_analysis/datasets/TCGA-GBM-nifti/TCGA-06-0122/09-14-2004-55494\n",
      "/working/lupolab/julia/tcia_analysis/datasets/TCGA-GBM-nifti/TCGA-14-1458/06-26-2000-MRI_BRAIN_WWO_CONT-79052\n",
      "/working/lupolab/julia/tcia_analysis/datasets/TCGA-GBM-nifti/TCGA-12-1602/03-04-2001-MRI_BRAIN-38341\n",
      "/working/lupolab/julia/tcia_analysis/datasets/TCGA-GBM-nifti/TCGA-06-0158/09-05-1996-30968\n",
      "/working/lupolab/julia/tcia_analysis/datasets/TCGA-GBM-nifti/TCGA-06-0125/09-09-2002-37827\n",
      "/working/lupolab/julia/tcia_analysis/datasets/TCGA-GBM-nifti/TCGA-06-6389/04-04-2009-MRI_BRAIN_WWO_CONTRAST-34431\n",
      "/working/lupolab/julia/tcia_analysis/datasets/TCGA-GBM-nifti/TCGA-12-1598/08-23-1999-MRI_BRAIN-61414\n",
      "/working/lupolab/julia/tcia_analysis/datasets/TCGA-GBM-nifti/TCGA-02-0046/11-28-1998-MRI_BRAIN_WWO_CONTR-34177\n",
      "/working/lupolab/julia/tcia_analysis/datasets/TCGA-GBM-nifti/TCGA-06-0184/12-29-2007-61185\n",
      "/working/lupolab/julia/tcia_analysis/datasets/TCGA-GBM-nifti/TCGA-08-0354/05-08-2001-MSTEALTH-65242\n",
      "/working/lupolab/julia/tcia_analysis/datasets/TCGA-GBM-nifti/TCGA-06-0214/11-14-1996-54815\n",
      "/working/lupolab/julia/tcia_analysis/datasets/TCGA-GBM-nifti/TCGA-02-0009/06-14-1997-MRI_BRAIN_WWO_CONTRAMR-13452\n",
      "/working/lupolab/julia/tcia_analysis/datasets/TCGA-GBM-nifti/TCGA-02-0003/06-08-1997-MRI_BRAIN_WWO_CONTRAMR-81239\n",
      "/working/lupolab/julia/tcia_analysis/datasets/TCGA-GBM-nifti/TCGA-06-0141/09-12-1998-11907\n",
      "/working/lupolab/julia/tcia_analysis/datasets/TCGA-GBM-nifti/TCGA-76-4934/10-08-2000-MRI_BRAINSTRYKER_IP-29203\n",
      "/working/lupolab/julia/tcia_analysis/datasets/TCGA-GBM-nifti/TCGA-19-2631/03-02-2003-NR_MRI_BRAIN_WWO-07216\n",
      "/working/lupolab/julia/tcia_analysis/datasets/TCGA-GBM-nifti/TCGA-14-2555/12-09-2001-HeadRoutine-72958\n",
      "/working/lupolab/julia/tcia_analysis/datasets/TCGA-GBM-nifti/TCGA-06-0173/11-05-2001-23056\n",
      "/working/lupolab/julia/tcia_analysis/datasets/TCGA-GBM-nifti/TCGA-06-0179/07-27-2002-73217\n"
     ]
    }
   ],
   "source": [
    "valid_list = []\n",
    "for idx, row in flair_df_nodup.iterrows(): \n",
    "    flair_image_loc = row['cohort']+\"-nifti/\"+row['patient_id']+\"/\"+row['patient_exam']+\"/\"+row['image']+'a.nii.gz'\n",
    "    full_path = Path(PATH, Path(flair_image_loc).parent)\n",
    "#     print(full_path)\n",
    "    if os.path.isdir(full_path):\n",
    "        if flair_image_loc.split('/')[-1] in os.listdir(full_path) :\n",
    "            flair_dict = {'image': flair_image_loc}\n",
    "            valid_list.append(flair_dict)\n",
    "    else: print(full_path)\n",
    "    "
   ]
  },
  {
   "cell_type": "code",
   "execution_count": 21,
   "metadata": {},
   "outputs": [
    {
     "data": {
      "text/plain": [
       "234"
      ]
     },
     "execution_count": 21,
     "metadata": {},
     "output_type": "execute_result"
    }
   ],
   "source": [
    "len(valid_list)"
   ]
  },
  {
   "cell_type": "code",
   "execution_count": 22,
   "metadata": {},
   "outputs": [],
   "source": [
    "validation_datalist = {'training': [], 'validation': valid_list}"
   ]
  },
  {
   "cell_type": "code",
   "execution_count": 23,
   "metadata": {},
   "outputs": [
    {
     "data": {
      "text/plain": [
       "{'training': [],\n",
       " 'validation': [{'image': 'TCGA-GBM-nifti/TCGA-06-0240/07-02-2005-04728/4-AxFLAIR-thin_for_surgery-47036a.nii.gz'},\n",
       "  {'image': 'TCGA-GBM-nifti/TCGA-06-0143/02-11-2005-83875/6-AXIAL_FLAIR-72192a.nii.gz'},\n",
       "  {'image': 'TCGA-GBM-nifti/TCGA-06-0149/03-25-2003-87536/5-AXIAL_T2_FLAIR-94682a.nii.gz'},\n",
       "  {'image': 'TCGA-GBM-nifti/TCGA-19-0955/04-07-2001-NR_MRI_BRAIN_WWO-83151/3-MRHG_FLAIR_AX-38966a.nii.gz'},\n",
       "  {'image': 'TCGA-GBM-nifti/TCGA-06-0648/01-20-2006-51419/6-AXIAL_FLAIR-80030a.nii.gz'},\n",
       "  {'image': 'TCGA-GBM-nifti/TCGA-12-0829/06-02-1999-BRAIN-09460/4-FLAIR-82367a.nii.gz'},\n",
       "  {'image': 'TCGA-GBM-nifti/TCGA-06-0171/08-04-2001-68007/7-AXIAL_FLAIR_RF2__150-15878a.nii.gz'},\n",
       "  {'image': 'TCGA-GBM-nifti/TCGA-14-1401/04-18-1997-MRI_BRAIN_W_WOUT_CONTRAST-27628/601-BRAIN_WWO_FLAIR-20508a.nii.gz'},\n",
       "  {'image': 'TCGA-GBM-nifti/TCGA-02-0033/05-26-1997-MRI_BRAIN_WWO_CONTR-89744/4-AX_FLAIR-20679a.nii.gz'},\n",
       "  {'image': 'TCGA-GBM-nifti/TCGA-06-0127/03-07-2000-83889/4-AXIAL_FLAIR-56917a.nii.gz'},\n",
       "  {'image': 'TCGA-GBM-nifti/TCGA-19-1390/03-20-2001-NR_MRI_BRAIN_WWO-90326/3-MRHG_FLAIR_AX-64301a.nii.gz'},\n",
       "  {'image': 'TCGA-GBM-nifti/TCGA-08-0356/03-26-2002-MSTEALTH-31923/3-AX_FLAIR-66003a.nii.gz'},\n",
       "  {'image': 'TCGA-GBM-nifti/TCGA-02-0106/10-30-1998-MRI_BRAIN_WWO_CONTR-44146/4-AX_FLAIR-75922a.nii.gz'},\n",
       "  {'image': 'TCGA-GBM-nifti/TCGA-06-0878/07-19-2007-51845/6-AXIAL_FLAIR-69525a.nii.gz'},\n",
       "  {'image': 'TCGA-GBM-nifti/TCGA-06-0168/08-12-2000-88871/5-AXIAL_FLAIR-44027a.nii.gz'},\n",
       "  {'image': 'TCGA-GBM-nifti/TCGA-06-0162/12-07-1998-49032/3-AXIAL_FLAIR-61895a.nii.gz'},\n",
       "  {'image': 'TCGA-GBM-nifti/TCGA-76-6193/06-02-2001-MRI_BRAIN_STRYKER_JHN_IP-60175/4-BRAINNONCONTRASTFLAIRA-83981a.nii.gz'},\n",
       "  {'image': 'TCGA-GBM-nifti/TCGA-06-0165/05-15-1999-89866/3-AXIAL_FLAIR-69672a.nii.gz'},\n",
       "  {'image': 'TCGA-GBM-nifti/TCGA-14-0813/10-13-1996-MRI_BRAIN_W_WOUT_CONTRAST-51578/401-BRAIN_WWO_FLAIR-32434a.nii.gz'},\n",
       "  {'image': 'TCGA-GBM-nifti/TCGA-12-1098/07-23-2000-MRI_BRAIN-99313/8-FLAIR_AXIAL-14764a.nii.gz'},\n",
       "  {'image': 'TCGA-GBM-nifti/TCGA-02-0006/08-23-1996-MRI_BRAIN_W_WO_CONTRAMR-42545/4-AX_FLAIR-23922a.nii.gz'},\n",
       "  {'image': 'TCGA-GBM-nifti/TCGA-08-0520/10-13-1999-MSTEALTH-10536/5-AX_FLAIR-45101a.nii.gz'},\n",
       "  {'image': 'TCGA-GBM-nifti/TCGA-02-0034/07-27-1997-MRI_BRAIN_WWO_CONTRAMR-39956/11-AX_FLAIR-81489a.nii.gz'},\n",
       "  {'image': 'TCGA-GBM-nifti/TCGA-14-1821/10-05-1998-MRI_BRAIN_WWO_CONTRAST-50216/4-AX_T2FLAIR_Prop-32483a.nii.gz'},\n",
       "  {'image': 'TCGA-GBM-nifti/TCGA-06-0176/04-09-2002-86055/4-AXIAL_FLAIR-45540a.nii.gz'},\n",
       "  {'image': 'TCGA-GBM-nifti/TCGA-02-0068/05-16-2000-MRI_BRAIN_WWO_CONTRAST-14061/4-AX_FLAIR-05016a.nii.gz'},\n",
       "  {'image': 'TCGA-GBM-nifti/TCGA-02-0086/07-25-1999-MRI_BRAIN_WWO_CONTR-49848/4-AX_FLAIR-08895a.nii.gz'},\n",
       "  {'image': 'TCGA-GBM-nifti/TCGA-06-0645/11-30-2005-52945/7-Ax_FLAIR_2.5mm_for_surgery-39868a.nii.gz'},\n",
       "  {'image': 'TCGA-GBM-nifti/TCGA-06-5413/06-17-2008-18002/5-AXIAL_FLAIR-86504a.nii.gz'},\n",
       "  {'image': 'TCGA-GBM-nifti/TCGA-06-0133/07-28-2005-41762/6-AXIAL_FLAIR-36485a.nii.gz'},\n",
       "  {'image': 'TCGA-GBM-nifti/TCGA-06-0139/11-09-2004-53123/6-AXIAL_FLAIR-77694a.nii.gz'},\n",
       "  {'image': 'TCGA-GBM-nifti/TCGA-02-0027/03-28-1999-MRI_BRAIN_WWO_CONTR-72782/4-T2_FLAIR-53321a.nii.gz'},\n",
       "  {'image': 'TCGA-GBM-nifti/TCGA-06-1802/01-31-2008-24216/8-AXIAL_FLAIR-86474a.nii.gz'},\n",
       "  {'image': 'TCGA-GBM-nifti/TCGA-06-0137/09-23-2003-16004/5-AXIAL_T2_FLAIR-77638a.nii.gz'},\n",
       "  {'image': 'TCGA-GBM-nifti/TCGA-06-5417/09-03-2008-MRI_BRAIN_WWO_CONTRAST-20551/5-AXIAL_FLAIR-52893a.nii.gz'},\n",
       "  {'image': 'TCGA-GBM-nifti/TCGA-06-1806/02-27-2008-MRI_BRAIN_WWO_CONTRAST-78379/5-AXIAL_FLAIR-78218a.nii.gz'},\n",
       "  {'image': 'TCGA-GBM-nifti/TCGA-76-4935/01-22-2001-MRI_BRAIN_COMBO-10861/801-T2_AX_FLAIR-73732a.nii.gz'},\n",
       "  {'image': 'TCGA-GBM-nifti/TCGA-08-0390/08-05-2003-MSTEALTH-70636/5-AX_FLAIR-86502a.nii.gz'},\n",
       "  {'image': 'TCGA-GBM-nifti/TCGA-02-0054/05-16-1999-MRI_BRAIN_WWO_CONTR-68633/5-AX_FLAIR-89982a.nii.gz'},\n",
       "  {'image': 'TCGA-GBM-nifti/TCGA-06-0178/07-13-2002-62651/6-AXIAL_T2_FLAIR-46785a.nii.gz'},\n",
       "  {'image': 'TCGA-GBM-nifti/TCGA-14-1402/10-23-1997-MRI_3D_RECONSTRUCTION-97117/4-AX_T2FLAIR_Prop-54684a.nii.gz'},\n",
       "  {'image': 'TCGA-GBM-nifti/TCGA-14-1825/02-10-2000-HeadRoutine-89271/3-t2flair_ax-76103a.nii.gz'},\n",
       "  {'image': 'TCGA-GBM-nifti/TCGA-02-0116/03-22-1997-MRI_BRAIN_WWO_CONTRAMR-70515/4-AX_FLAIR-47439a.nii.gz'},\n",
       "  {'image': 'TCGA-GBM-nifti/TCGA-02-0011/02-01-1998-MRI_BRAIN_WWO_CONTRAMR-31709/4-AX_FLAIR-53905a.nii.gz'},\n",
       "  {'image': 'TCGA-GBM-nifti/TCGA-08-0524/11-02-2000-MSTEALTH-38362/2-AX_FLAIR-67041a.nii.gz'},\n",
       "  {'image': 'TCGA-GBM-nifti/TCGA-14-1454/02-07-1999-MRI_BRAIN_WWO_CONTRAST-76034/4-Ax_T2_FLAIR-55337a.nii.gz'},\n",
       "  {'image': 'TCGA-GBM-nifti/TCGA-02-0047/12-15-1998-MRI_BRAIN_WWO_CONTR-70492/4-AX_FLAIR-13161a.nii.gz'},\n",
       "  {'image': 'TCGA-GBM-nifti/TCGA-76-4926/03-29-1996-JHN_BRAIN_WSTRYKER___IP-46194/5-BRAINCONTRASTFLAIRAXIAL-59949a.nii.gz'},\n",
       "  {'image': 'TCGA-GBM-nifti/TCGA-08-0389/07-25-2003-MSTEALTH-53431/5-Ax_T2_FLAIR-33749a.nii.gz'},\n",
       "  {'image': 'TCGA-GBM-nifti/TCGA-19-5960/03-15-2004-NR_MRI_BRAIN_WWO-30388/7-FLAIR_AX-90386a.nii.gz'},\n",
       "  {'image': 'TCGA-GBM-nifti/TCGA-06-0185/11-07-2003-26945/4-AxFLAIR-thin_for_surgery-17004a.nii.gz'},\n",
       "  {'image': 'TCGA-GBM-nifti/TCGA-02-0075/09-24-1999-MRI_BRAIN_WWO_CONTRAST-32875/8-T2_FLAIR-2MM-74210a.nii.gz'},\n",
       "  {'image': 'TCGA-GBM-nifti/TCGA-14-0817/05-04-1998-MRI_BRAIN_WWO_CONT-74561/301-BRAIN______FLAIR-27209a.nii.gz'},\n",
       "  {'image': 'TCGA-GBM-nifti/TCGA-08-0355/06-06-2001-MSTEALTH-13589/4-AX_FLAIR-31670a.nii.gz'},\n",
       "  {'image': 'TCGA-GBM-nifti/TCGA-08-0358/11-26-2002-MR_BRAIN_WSPEC-14604/3-AX_FLAIR-31770a.nii.gz'},\n",
       "  {'image': 'TCGA-GBM-nifti/TCGA-02-0102/12-15-1997-MRI_BRAIN_WWO_CONTR-46432/4-AX_FLAIR-60256a.nii.gz'},\n",
       "  {'image': 'TCGA-GBM-nifti/TCGA-06-0166/06-01-1999-45485/3-AXIAL_FLAIR-96643a.nii.gz'},\n",
       "  {'image': 'TCGA-GBM-nifti/TCGA-06-0188/08-08-2005-27435/4-AXIAL_FLAIR-83725a.nii.gz'},\n",
       "  {'image': 'TCGA-GBM-nifti/TCGA-06-0182/09-01-2002-MRI_BRAIN_WWO_CONTRAS-96990/7-AxFLAIR-thin_for_surgery-31783a.nii.gz'},\n",
       "  {'image': 'TCGA-GBM-nifti/TCGA-02-0037/01-13-1998-MRI_BRAIN_WWO_CONTRAMR-61567/4-AX_FLAIR-95660a.nii.gz'},\n",
       "  {'image': 'TCGA-GBM-nifti/TCGA-08-0360/02-23-2003-MSTEALTH-DTI-31064/7-AX_FLAIR_gad-51944a.nii.gz'},\n",
       "  {'image': 'TCGA-GBM-nifti/TCGA-19-2624/12-10-2002-NR_MRI_BRAIN_WWO-21815/3-MRHR_FLAIR_AX-17941a.nii.gz'},\n",
       "  {'image': 'TCGA-GBM-nifti/TCGA-06-0154/04-05-1996-29573/3-flair-14012a.nii.gz'},\n",
       "  {'image': 'TCGA-GBM-nifti/TCGA-14-1459/10-01-1999-MRI_BRAIN_WWO_CONT-40517/301-FLAIR-87903a.nii.gz'},\n",
       "  {'image': 'TCGA-GBM-nifti/TCGA-08-0529/10-29-2002-MSTEALTH-52317/3-AX_FLAIR-52108a.nii.gz'},\n",
       "  {'image': 'TCGA-GBM-nifti/TCGA-14-1453/04-10-1998-MRI_BRAIN_WWO_CONT-55756/301-brain_with_FLAIR-53137a.nii.gz'},\n",
       "  {'image': 'TCGA-GBM-nifti/TCGA-14-1795/07-27-1998-MRI_BRAIN_WWO_CONT-65851/301-FLAIR-48439a.nii.gz'},\n",
       "  {'image': 'TCGA-GBM-nifti/TCGA-02-0085/01-30-1999-MRI_BRAIN_WWO_CONTR-29853/4-AX_FLAIR-14351a.nii.gz'},\n",
       "  {'image': 'TCGA-GBM-nifti/TCGA-06-0646/12-09-2005-56216/5-AXIAL_FLAIR-68587a.nii.gz'},\n",
       "  {'image': 'TCGA-GBM-nifti/TCGA-76-6280/07-21-1998-MRI_BRAIN_WITHO-51400/401-T2_AX_FLAIR-15378a.nii.gz'},\n",
       "  {'image': 'TCGA-GBM-nifti/TCGA-06-0881/06-07-2007-72317/6-AXIAL_FLAIR-80237a.nii.gz'},\n",
       "  {'image': 'TCGA-GBM-nifti/TCGA-06-0175/11-20-2001-44085/5-AXIAL_FLAIR-69159a.nii.gz'},\n",
       "  {'image': 'TCGA-GBM-nifti/TCGA-02-0059/08-29-1999-MRI_BRAIN_WWO_CONTR-16610/8-T2_FLAIR-05867a.nii.gz'},\n",
       "  {'image': 'TCGA-GBM-nifti/TCGA-06-1801/09-27-2007-97400/6-AXIAL_FLAIR-62752a.nii.gz'},\n",
       "  {'image': 'TCGA-GBM-nifti/TCGA-06-2570/07-26-2007-MRI_BRAIN_WWO_CONTRAST-42847/7-AXIAL_FLAIR-40162a.nii.gz'},\n",
       "  {'image': 'TCGA-GBM-nifti/TCGA-76-4932/03-16-1997-MRI_BRAIN_STRYKER-44803/6-FASTBRAINFLAIRAXIAL-30248a.nii.gz'},\n",
       "  {'image': 'TCGA-GBM-nifti/TCGA-19-0963/10-12-2001-NR_MRI_BRAIN_WWO-55607/3-MRHG_FLAIR_AX-87168a.nii.gz'},\n",
       "  {'image': 'TCGA-GBM-nifti/TCGA-06-0147/06-10-1997-20382/3-AXIAL_FLAIR-45456a.nii.gz'},\n",
       "  {'image': 'TCGA-GBM-nifti/TCGA-06-0130/06-18-2002-52263/7-AXIAL_FLAIR-66324a.nii.gz'},\n",
       "  {'image': 'TCGA-GBM-nifti/TCGA-14-1037/09-22-1995-MRI_BRAIN_W_WOUT_CONTRAST-28737/401-brain_with_FLAIR-92381a.nii.gz'},\n",
       "  {'image': 'TCGA-GBM-nifti/TCGA-06-0177/05-25-2002-52708/4-Ax_FLAIR_2.5mm_for_surgery-96866a.nii.gz'},\n",
       "  {'image': 'TCGA-GBM-nifti/TCGA-12-0776/05-12-1998-BRAIN_W_AND_WO_CONTR-22391/3-Ax_Flair_irFSE_H-76518a.nii.gz'},\n",
       "  {'image': 'TCGA-GBM-nifti/TCGA-76-6656/06-02-2001-MRI_BRAIN_IP-02901/601-T2_AX_FLAIR-30900a.nii.gz'},\n",
       "  {'image': 'TCGA-GBM-nifti/TCGA-02-0069/05-28-2000-MRI_BRAIN_WWO_CONTRAST-43557/4-T2_FLAIR-13189a.nii.gz'},\n",
       "  {'image': 'TCGA-GBM-nifti/TCGA-06-0644/11-28-2005-78030/5-AXIAL_FLAIR-36667a.nii.gz'},\n",
       "  {'image': 'TCGA-GBM-nifti/TCGA-02-0087/12-13-1999-MRI_BRAIN_WWO_CONTRAST-62702/6-T2_FLAIR2MM25FOV-05155a.nii.gz'},\n",
       "  {'image': 'TCGA-GBM-nifti/TCGA-14-3477/05-06-2002-HeadRoutine-31370/11-AX_FLAIR-01197a.nii.gz'},\n",
       "  {'image': 'TCGA-GBM-nifti/TCGA-76-6282/08-24-1998-JHN_BRAIN_COMBO_IP-22866/6-BRAINSTRYKERFLAIR-14133a.nii.gz'},\n",
       "  {'image': 'TCGA-GBM-nifti/TCGA-06-0138/06-24-2004-31514/6-AXIAL_FLAIR-49462a.nii.gz'},\n",
       "  {'image': 'TCGA-GBM-nifti/TCGA-06-5412/06-03-2008-71272/10-AXIAL_FLAIR-00786a.nii.gz'},\n",
       "  {'image': 'TCGA-GBM-nifti/TCGA-06-0145/11-06-2000-TVPSPECTOSCOPTIC-46751/4-AXIAL_FLAIR-90714a.nii.gz'},\n",
       "  {'image': 'TCGA-GBM-nifti/TCGA-06-0132/05-17-2005-85588/5-AXIAL_FLAIR-24045a.nii.gz'},\n",
       "  {'image': 'TCGA-GBM-nifti/TCGA-14-1395/09-05-1995-MRI_BRAIN_W_WOUT_CONTRAST-36603/501-brain_with_FLAIR-60524a.nii.gz'},\n",
       "  {'image': 'TCGA-GBM-nifti/TCGA-76-6664/01-10-2002-MRI_BRAIN_per_R-81790/601-T2_AX_FLAIR-75280a.nii.gz'},\n",
       "  {'image': 'TCGA-GBM-nifti/TCGA-06-0164/02-17-1999-70122/3-AXIAL_FLAIR-80139a.nii.gz'},\n",
       "  {'image': 'TCGA-GBM-nifti/TCGA-06-0119/12-26-2003-90543/7-AxFLAIR-thin_for_surgery-06923a.nii.gz'},\n",
       "  {'image': 'TCGA-GBM-nifti/TCGA-76-6192/05-25-2001-JHN_MRI_BRAIN_IP-75377/4-BRAINCONTRASTFLAIR-41201a.nii.gz'},\n",
       "  {'image': 'TCGA-GBM-nifti/TCGA-02-0070/07-10-2000-MRI_BRAIN_WWO_CONTRAST-48290/4-T2_FLAIR-05248a.nii.gz'},\n",
       "  {'image': 'TCGA-GBM-nifti/TCGA-12-1093/09-20-1999-MRI_BRAIN_WWO_C-34026/4-AX_T2_FLAIR-23516a.nii.gz'},\n",
       "  {'image': 'TCGA-GBM-nifti/TCGA-14-0812/03-19-1996-MRI_BRAIN_W_WOUT_CONTRAST-64984/601-BRAIN_WOW_FLAIR_AX-67284a.nii.gz'},\n",
       "  {'image': 'TCGA-GBM-nifti/TCGA-14-0865/08-21-1995-MRI_BRAIN_W_WOUT_CONTRAST-38462/401-BRAIN_WOW_FLAIR_AX-48572a.nii.gz'},\n",
       "  {'image': 'TCGA-GBM-nifti/TCGA-06-0156/11-20-1996-TUMOR_VOL.-73646/3-AXIAL_FLAIR-24439a.nii.gz'},\n",
       "  {'image': 'TCGA-GBM-nifti/TCGA-08-0521/03-07-2000-MSTEALTH-60948/2-AX_FLAIR-57772a.nii.gz'},\n",
       "  {'image': 'TCGA-GBM-nifti/TCGA-27-1836/02-29-1988-ENCEFALO_ADULTIGENERALE-86529/4-T2_FLAIR_COR-40465a.nii.gz'},\n",
       "  {'image': 'TCGA-GBM-nifti/TCGA-02-0048/01-29-1999-MRI_BRAIN_WWO_CONTR-02900/4-AX_FLAIR-84631a.nii.gz'},\n",
       "  {'image': 'TCGA-GBM-nifti/TCGA-14-0790/07-17-1998-MRI_BRAIN_WWO_CONT-44009/301-FLAIR-98130a.nii.gz'},\n",
       "  {'image': 'TCGA-GBM-nifti/TCGA-12-1601/06-19-2000-MRI_BRAIN_WWO_ENHANCEMENT-83859/5-ax_flair-26552a.nii.gz'},\n",
       "  {'image': 'TCGA-GBM-nifti/TCGA-14-1456/07-08-1999-MRI_BRAIN_WWO_CONT-62843/401-FLAIR-90028a.nii.gz'},\n",
       "  {'image': 'TCGA-GBM-nifti/TCGA-12-1094/11-15-1999-BRAIN-48421/3-COR_FLAIR-97371a.nii.gz'},\n",
       "  {'image': 'TCGA-GBM-nifti/TCGA-19-5950/08-31-2003-NR_MRI_BRAIN_WWO-41051/3-FLAIR_AXIALS-52753a.nii.gz'},\n",
       "  {'image': 'TCGA-GBM-nifti/TCGA-06-0187/07-07-2004-41002/7-AxFLAIR-thin_for_surgery-83857a.nii.gz'},\n",
       "  {'image': 'TCGA-GBM-nifti/TCGA-06-0241/08-30-2005-93299/5-AXIAL_FLAIR-99930a.nii.gz'},\n",
       "  {'image': 'TCGA-GBM-nifti/TCGA-08-0392/11-03-2003-MSTEALTH-79112/4-AX_FLAIR-87676a.nii.gz'},\n",
       "  {'image': 'TCGA-GBM-nifti/TCGA-27-2524/09-06-1987-ENCEFALO_ADULTIGENERALE-83983/3-T2_FLAIR_COR-11521a.nii.gz'},\n",
       "  {'image': 'TCGA-GBM-nifti/TCGA-14-0789/11-21-1997-MRI_BRAIN_WWO_CONT-19115/1101-quick_brainT2FLAIR-02375a.nii.gz'},\n",
       "  {'image': 'TCGA-GBM-nifti/TCGA-14-0783/09-05-1992-MRI_BRAIN-69129/401-Brain______FLAIR_AX_____TRA____TIR___11000_____120___-76548a.nii.gz'},\n",
       "  {'image': 'TCGA-GBM-nifti/TCGA-06-0142/03-11-2000-15813/7-AXIAL_FLAIR-05489a.nii.gz'},\n",
       "  {'image': 'TCGA-GBM-nifti/TCGA-14-0871/07-05-1991-BRAIN-10249/301-QUICK_HEADSFLAIR_______TRA____IRTSE_8000______120-98191a.nii.gz'},\n",
       "  {'image': 'TCGA-GBM-nifti/TCGA-06-0649/01-26-2006-23619/501-AX._FLAIR-92837a.nii.gz'},\n",
       "  {'image': 'TCGA-GBM-nifti/TCGA-12-3650/07-29-2001-BRAIN-95330/4-Ax_T2Flair-59587a.nii.gz'},\n",
       "  {'image': 'TCGA-GBM-nifti/TCGA-02-0064/08-08-1999-MRI_BRAIN_WWO_CONTRAST-72116/12-T2_FLAIR-41740a.nii.gz'},\n",
       "  {'image': 'TCGA-GBM-nifti/TCGA-19-1388/11-01-2001-NR_MRI_BRAIN_WWO-09984/3-MRHG_FLAIR_AX-82064a.nii.gz'},\n",
       "  {'image': 'TCGA-GBM-nifti/TCGA-76-6285/12-19-1998-MRI_STRYKER_W__JHN-32999/4-BRAINSTRYKERFLAIR-90461a.nii.gz'},\n",
       "  {'image': 'TCGA-GBM-nifti/TCGA-02-0060/02-28-2000-MRI_BRAIN_WWO_CONTRAST-60307/9-T2_FLAIR-05792a.nii.gz'},\n",
       "  {'image': 'TCGA-LGG-nifti/TCGA-HT-A614/12-24-1999-MRI_BRAIN_WWO_CONTRAST-59404/5-Ax_T2_Flair-75934a.nii.gz'},\n",
       "  {'image': 'TCGA-LGG-nifti/TCGA-FG-6692/06-06-2002-NR_MRI_BRAIN_WWO-54931/5-MRHR_FLAIR_AX-17349a.nii.gz'},\n",
       "  {'image': 'TCGA-LGG-nifti/TCGA-HT-8113/08-09-1993-MRI_BRAIN_FOR_STEREOTACTI-59884/5-Ax_Flair_irFSE_H-81944a.nii.gz'},\n",
       "  {'image': 'TCGA-LGG-nifti/TCGA-HT-7680/02-02-1997-MRI_BRAIN_FOR_STEREOTACTIC_WWO_CONTR-12810/6-Ax_Flair_irFSE_H-95027a.nii.gz'},\n",
       "  {'image': 'TCGA-LGG-nifti/TCGA-CS-6667/11-05-2001-MRI_BRAIN_WITH-96919/7-AX_FLAIR-14614a.nii.gz'},\n",
       "  {'image': 'TCGA-LGG-nifti/TCGA-CS-4944/02-08-2001-JHN_BRAIN-IP-65472/5-BRAINSTRYKERFLAIR-35819a.nii.gz'},\n",
       "  {'image': 'TCGA-LGG-nifti/TCGA-DU-7301/11-12-1991-MRI_BRAIN_WWO_CONTRAST-22050/6-AXIAL_FLAIR-66613a.nii.gz'},\n",
       "  {'image': 'TCGA-LGG-nifti/TCGA-DU-7008/07-23-1983-60413/3-AXIAL_FLAIR-20193a.nii.gz'},\n",
       "  {'image': 'TCGA-LGG-nifti/TCGA-HT-7473/08-26-1997-MRI_BRAIN_FOR_STEREOTACTIC_WWO_CONTR-47712/8-Ax_Flair_irFSE_H-57005a.nii.gz'},\n",
       "  {'image': 'TCGA-LGG-nifti/TCGA-DU-6542/05-08-1996-MRI_BRAIN_WWO_CONTRAST-27308/4-AXIAL_FLAIR-35548a.nii.gz'},\n",
       "  {'image': 'TCGA-LGG-nifti/TCGA-HT-7693/05-20-1995-MRI_BRAIN_WWO-71036/7-Ax_Flair_irFSE_H-18767a.nii.gz'},\n",
       "  {'image': 'TCGA-LGG-nifti/TCGA-DU-6400/05-18-1983-TUMOR_VOLUME-38359/3-AXIAL_FLAIR-24180a.nii.gz'},\n",
       "  {'image': 'TCGA-LGG-nifti/TCGA-HT-7882/01-25-1997-MRI_BRAIN_FOR_STEREOTACTIC_WWO_CONTR-81378/5-Ax_Flair_irFSE_H-64631a.nii.gz'},\n",
       "  {'image': 'TCGA-LGG-nifti/TCGA-DU-6407/12-22-1992-MRI_BRAIN_WWO_CONTRAST-78886/5-AXIAL_FLAIR-43201a.nii.gz'},\n",
       "  {'image': 'TCGA-LGG-nifti/TCGA-DU-5871/12-06-1994-MRI_BRAIN_WWO_CONTRAST-77531/6-AXIAL_FLAIR-22910a.nii.gz'},\n",
       "  {'image': 'TCGA-LGG-nifti/TCGA-FG-7643/11-04-2002-NR_MRI_BRAIN_WWO-33312/4-FLAIR_AXIALS-14146a.nii.gz'},\n",
       "  {'image': 'TCGA-LGG-nifti/TCGA-HT-A61A/01-27-2000-MRI_BRAIN_WWO_CONTRAST-09361/14-OPT_FLAIR_AX-74687a.nii.gz'},\n",
       "  {'image': 'TCGA-LGG-nifti/TCGA-HT-8107/07-08-1998-MRI_BRAIN_FOR_STEREOTACTIC_WWO_CONTR-30177/7-Ax_T2_Flair-25684a.nii.gz'},\n",
       "  {'image': 'TCGA-LGG-nifti/TCGA-HT-7694/04-04-1995-MRI_BRAIN_FOR_STEREOTACTIC_WWO_CONTR-93153/7-Ax_Flair_irFSE_H-82301a.nii.gz'},\n",
       "  {'image': 'TCGA-LGG-nifti/TCGA-DU-5849/04-05-1995-MRI_BRAIN_WWO_CONTRAST-20866/8-AXIAL_FLAIR-05561a.nii.gz'},\n",
       "  {'image': 'TCGA-LGG-nifti/TCGA-DU-8167/04-02-1997-MRI_BRAIN_WWO_CONTRAST-29125/6-AXIAL_FLAIR-25902a.nii.gz'},\n",
       "  {'image': 'TCGA-LGG-nifti/TCGA-DU-7298/03-24-1991-MRI_BRAIN_WWO_CONTRAST-10889/4-Ax_FLAIR_2.5mm_for_surgery-16562a.nii.gz'},\n",
       "  {'image': 'TCGA-LGG-nifti/TCGA-CS-5395/10-04-1998-JHN_STYKER_BRAIN_IP_SPEC-45955/3-BRAINCONTRASTFLAIR-39749a.nii.gz'},\n",
       "  {'image': 'TCGA-LGG-nifti/TCGA-DU-7306/05-12-1993-MRI_BRAIN_WWO_CONTRAST-11323/6-AXIAL_FLAIR-72811a.nii.gz'},\n",
       "  {'image': 'TCGA-LGG-nifti/TCGA-CS-4943/09-02-2000-JHN_IP_MRI_BRAIN_STRYKER-52921/5-BRAINSTRYKERFLAIR-30011a.nii.gz'},\n",
       "  {'image': 'TCGA-LGG-nifti/TCGA-HT-8114/10-30-1998-MRI_BRAIN_FOR_STEREOTACTIC_WWO_CONTR-22947/7-Ax_Flair_irFSE_H-86866a.nii.gz'},\n",
       "  {'image': 'TCGA-LGG-nifti/TCGA-HT-A5R7/08-27-1999-MRI_BRAIN_FOR_STEREOTACTIC_WWO_CONTR-85543/5-AXIAL_T2_FLAIR-50069a.nii.gz'},\n",
       "  {'image': 'TCGA-LGG-nifti/TCGA-DU-A6S3/07-11-1998-MRI_BRAIN_WWO_CONTRAST-51715/701-FLAIRLongTR-51998a.nii.gz'},\n",
       "  {'image': 'TCGA-LGG-nifti/TCGA-EZ-7264A/08-16-2001-MRA_HEAD_WWO_CONT-77134/7-FLAIRAXBLADE-98267a.nii.gz'},\n",
       "  {'image': 'TCGA-LGG-nifti/TCGA-DU-A6S7/05-13-1998-MRI_BRAIN_WWO_CONTRAST-81139/601-FLAIRLongTR-81161a.nii.gz'},\n",
       "  {'image': 'TCGA-LGG-nifti/TCGA-FG-6691/04-05-2002-NR_MRI_BRAIN_WWO-30457/4-FLAIR_AXIALS-08985a.nii.gz'},\n",
       "  {'image': 'TCGA-LGG-nifti/TCGA-DU-5854/11-04-1995-MRI_BRAIN_WWO_CONTRAST-28000/5-Ax_FLAIR_2.5mm_for_surgery-96147a.nii.gz'},\n",
       "  {'image': 'TCGA-LGG-nifti/TCGA-DU-6410/12-28-1995-MRI_BRAIN_WWO_CONTRAST-76637/4-Ax_FLAIR_2.5mm_for_surgery-15388a.nii.gz'},\n",
       "  {'image': 'TCGA-LGG-nifti/TCGA-DU-7302/12-03-1991-MRI_BRAIN_WWO_CONTRAST-41440/5-AXIAL_FLAIR-46378a.nii.gz'},\n",
       "  {'image': 'TCGA-LGG-nifti/TCGA-FG-5964/05-11-2001-NR_MRI_BRAIN_WWO-55981/5-MRHG_FLAIR_AX-21158a.nii.gz'},\n",
       "  {'image': 'TCGA-LGG-nifti/TCGA-HT-7690/03-12-1996-MRI_BRAIN_FOR_STEREOTACTIC_WWO_CONTR-64118/7-Ax_Flair_irFSE_H-88757a.nii.gz'},\n",
       "  {'image': 'TCGA-LGG-nifti/TCGA-FG-6688/02-15-2002-NR_MRI_BRAIN_WWO-18551/3-FLAIR_AXIALS-66389a.nii.gz'},\n",
       "  {'image': 'TCGA-LGG-nifti/TCGA-DU-8163/11-19-1996-MRI_BRAIN_WWO_CONTRAST-27038/8-AXIAL_FLAIR-03695a.nii.gz'},\n",
       "  {'image': 'TCGA-LGG-nifti/TCGA-DU-A5TU/03-12-1998-MRI_BRAIN_W_AND_WO_CONTR-77342/10-Axial_FLAIR-13367a.nii.gz'},\n",
       "  {'image': 'TCGA-LGG-nifti/TCGA-DU-7018/12-20-1991-MRI_BRAIN_WWO_CONTRAST-98852/8-AXIAL_FLAIR-28777a.nii.gz'},\n",
       "  {'image': 'TCGA-LGG-nifti/TCGA-HT-7881/10-15-1998-MRI_BRAIN_FOR_STEREOTACTIC_WWO_CONTR-40658/4-OPT_Ax_Flair_irFSE_H-58038a.nii.gz'},\n",
       "  {'image': 'TCGA-LGG-nifti/TCGA-DU-5872/02-23-1995-MRI_BRAIN_WWO_CONTRAST-88714/5-Ax_FLAIR_2.5mm_for_surgery-31127a.nii.gz'},\n",
       "  {'image': 'TCGA-LGG-nifti/TCGA-DU-6404/06-29-1985-TUMOR_VOLUME-62392/3-AXIAL_FLAIR-99356a.nii.gz'},\n",
       "  {'image': 'TCGA-LGG-nifti/TCGA-DU-7015/06-18-1989-MRI_BRAIN_WWO_CONTRAS-16160/8-AXIAL_FLAIR-42112a.nii.gz'},\n",
       "  {'image': 'TCGA-LGG-nifti/TCGA-DU-A5TR/07-26-1997-MRI_BRAIN_WWO_CONTRAST-17402/5-AXIAL_FLAIR-79506a.nii.gz'},\n",
       "  {'image': 'TCGA-LGG-nifti/TCGA-DU-8164/01-11-1997-MRI_BRAIN_WWO_CONTRAST-98366/4-AXIAL_FLAIR-03012a.nii.gz'},\n",
       "  {'image': 'TCGA-LGG-nifti/TCGA-EZ-7265A/02-16-2002-MRI_BRAIN__W_WO_CONT-21931/3-FLAIRAXBLADE-09682a.nii.gz'},\n",
       "  {'image': 'TCGA-LGG-nifti/TCGA-FG-A4MT/02-12-2002-NR_MRI_BRAIN_WWO-92800/3-FLAIR_AXIALS-02285a.nii.gz'},\n",
       "  {'image': 'TCGA-LGG-nifti/TCGA-HT-7604/10-28-1995-MRI_BRAIN_FOR_STEREOTACTIC_WWO_CONTR-85806/7-Ax_Flair_irFSE_H-59891a.nii.gz'},\n",
       "  {'image': 'TCGA-LGG-nifti/TCGA-DU-5853/08-23-1995-MRI_BRAIN_WWO_CONTRAST-78436/6-AXIAL_FLAIR-84159a.nii.gz'},\n",
       "  {'image': 'TCGA-LGG-nifti/TCGA-HT-7684/08-16-1995-MRI_BRAIN_WWO_CONTRAST-29908/7-Ax_Flair_irFSE_H-26694a.nii.gz'},\n",
       "  {'image': 'TCGA-LGG-nifti/TCGA-FG-A6J1/04-23-2004-NR_MRI_BRAIN_WWO-08141/17-FLAIR_axial-36217a.nii.gz'},\n",
       "  {'image': 'TCGA-LGG-nifti/TCGA-CS-6186/06-01-2000-MRI_BRAIN_per_R-97608/401-T2_AX_FLAIR-72445a.nii.gz'},\n",
       "  {'image': 'TCGA-LGG-nifti/TCGA-HT-7879/10-09-1998-MRI_BRAIN_FOR_STEREOTACTIC_WWO_CONTR-87116/5-Ax_T2_Flair-42124a.nii.gz'},\n",
       "  {'image': 'TCGA-LGG-nifti/TCGA-DU-7299/04-17-1991-MRI_BRAIN_WWO_CONTRAST-84114/5-AXIAL_FLAIR-03289a.nii.gz'},\n",
       "  {'image': 'TCGA-LGG-nifti/TCGA-DU-A6S2/04-04-1998-MRI_BRAIN_WWO_CONTRAST-27768/501-FLAIRLongTR-35981a.nii.gz'},\n",
       "  {'image': 'TCGA-LGG-nifti/TCGA-HT-8018/04-11-1997-MRI_BRAIN_FOR_STEREOTACTIC_WWO_CONTR-53563/6-Ax_Flair_irFSE_H-43337a.nii.gz'},\n",
       "  {'image': 'TCGA-LGG-nifti/TCGA-HT-7686/06-29-1995-MRI_BRAIN_FOR_STEREOTACTIC_WWO_CONTR-39199/7-Ax_Flair_irFSE_H-35931a.nii.gz'},\n",
       "  {'image': 'TCGA-LGG-nifti/TCGA-DU-A6S8/06-20-1998-MRI_BRAIN_WWO_CONTRAST-07083/701-FLAIRLongTR-58933a.nii.gz'},\n",
       "  {'image': 'TCGA-LGG-nifti/TCGA-DU-5851/04-28-1995-MRI_BRAIN_WWO_CONTRAST-02930/4-Ax_FLAIR_2.5mm_for_surgery-05877a.nii.gz'},\n",
       "  {'image': 'TCGA-LGG-nifti/TCGA-HT-7860/05-13-1996-MRI_BRAIN_FOR_STEREOTACTIC_WWO_CONTR-14721/7-Ax_Flair_irFSE_H-18747a.nii.gz'},\n",
       "  {'image': 'TCGA-LGG-nifti/TCGA-HT-7884/09-13-1998-MRI_BRAIN_FOR_STEREOTACTIC_WWO_CONTR-21174/7-Ax_Flair_irFSE_H-63283a.nii.gz'},\n",
       "  {'image': 'TCGA-LGG-nifti/TCGA-HT-8106/07-27-1997-MRI_BRAIN_FOR_STEREOTACTIC_WWO_CONTR-67522/6-Ax_Flair_irFSE_H-39528a.nii.gz'},\n",
       "  {'image': 'TCGA-LGG-nifti/TCGA-DU-A5TP/06-14-1997-MRI_BRAIN_WWO_CONTRAST-14542/6-AXIAL_FLAIR-07910a.nii.gz'},\n",
       "  {'image': 'TCGA-LGG-nifti/TCGA-DU-8166/03-22-1997-MRI_BRAIN_WWO_CONTRAST-94974/7-AXIAL_FLAIR-20431a.nii.gz'},\n",
       "  {'image': 'TCGA-LGG-nifti/TCGA-HT-7475/09-18-1997-MRI_BRAIN_FOR_STEREOTACTIC_WWO_CONTR-31460/6-Ax_Flair_irFSE_H-06527a.nii.gz'},\n",
       "  {'image': 'TCGA-LGG-nifti/TCGA-HT-7855/10-20-1995-MRI_BRAIN_FOR_STEREOTACTIC_WWO_CONTR-24581/5-Ax_T2_Flair-36356a.nii.gz'},\n",
       "  {'image': 'TCGA-LGG-nifti/TCGA-DU-A5TW/02-28-1998-MRI_BRAIN_WWO_CONTRAST-80988/501-AX_T2_FLAIR-37956a.nii.gz'},\n",
       "  {'image': 'TCGA-LGG-nifti/TCGA-HT-7472/08-15-1997-MRI_BRAIN_FOR_STEREOTACTIC_WWO_CONTR-97221/6-Ax_Flair_irFSE_H-49303a.nii.gz'},\n",
       "  {'image': 'TCGA-LGG-nifti/TCGA-HT-A5RC/08-31-1999-MRI_BRAIN_WWO_CONTRAST-87101/5-Ax_Flair_irFSE_H-29741a.nii.gz'},\n",
       "  {'image': 'TCGA-LGG-nifti/TCGA-HT-7692/07-24-1996-MRI_BRAIN_FOR_STEREOTACTIC_WWO_CONTR-13406/6-Ax_Flair_irFSE_H-36055a.nii.gz'},\n",
       "  {'image': 'TCGA-LGG-nifti/TCGA-DU-6401/10-01-1983-MRI_TUMOR_VOLUME-85812/3-AXIAL_FLAIR-15579a.nii.gz'},\n",
       "  {'image': 'TCGA-LGG-nifti/TCGA-FG-A6IZ/02-20-2004-NR_MRI_BRAIN_WWO-63316/2-FLAIR_AX-95245a.nii.gz'},\n",
       "  {'image': 'TCGA-LGG-nifti/TCGA-DU-7010/03-07-1986-MRI_OF_BRAIN-22330/3-AXIAL_FLAIR-53649a.nii.gz'},\n",
       "  {'image': 'TCGA-LGG-nifti/TCGA-DU-7300/08-14-1991-MRI_BRAIN_WWO_CONTRAST-33968/5-AXIAL_FLAIR-16329a.nii.gz'},\n",
       "  {'image': 'TCGA-LGG-nifti/TCGA-DU-7294/01-04-1989-MRI_BRAIN_WWO_CONTRAS-19917/7-AXIAL_FLAIR_RF2__150-07121a.nii.gz'},\n",
       "  {'image': 'TCGA-LGG-nifti/TCGA-FG-A713/07-09-2004-NR_MRI_BRAIN_WWO-06810/4-FLAIR_axial-08517a.nii.gz'},\n",
       "  {'image': 'TCGA-LGG-nifti/TCGA-CS-5393/06-06-1999-JHN_MRI_BRAINSTRYKER_IP-28540/4-BRAINCONTRASTFLAIR-92756a.nii.gz'},\n",
       "  {'image': 'TCGA-LGG-nifti/TCGA-HT-7874/09-02-1995-MRI_BRAIN_WDIFFUSION_WWO_CONTRAST-61816/6-Ax_Flair_irFSE_H-00373a.nii.gz'},\n",
       "  {'image': 'TCGA-LGG-nifti/TCGA-CS-6666/11-09-2001-MRI_BRAIN_WITH-71602/701-T2_AX_FLAIR-08756a.nii.gz'},\n",
       "  {'image': 'TCGA-LGG-nifti/TCGA-DU-7304/03-25-1993-MRI_BRAIN_WWO_CONTRAST-46100/5-AXIAL_FLAIR-79801a.nii.gz'},\n",
       "  {'image': 'TCGA-LGG-nifti/TCGA-CS-4941/09-09-1996-BRAIN_WWO-83863/5-AXIAL_FLAIR-33857a.nii.gz'},\n",
       "  {'image': 'TCGA-LGG-nifti/TCGA-HT-8563/12-09-1998-MRI_BRAIN_FOR_STEREOTACTIC_WWO_CONTR-58636/6-Ax_Flair_irFSE_H-47930a.nii.gz'},\n",
       "  {'image': 'TCGA-LGG-nifti/TCGA-DU-5852/07-09-1995-MRI_BRAIN_WWO_CONTRAST-62702/7-AXIAL_FLAIR-87535a.nii.gz'},\n",
       "  {'image': 'TCGA-LGG-nifti/TCGA-HT-7616/08-13-1994-MRI_BRAIN_WDIFFUSION_WWO_CONTRAST-74533/8-Ax_Flair_irFSE_H-30437a.nii.gz'},\n",
       "  {'image': 'TCGA-LGG-nifti/TCGA-DU-6405/10-05-1985-TUMOR_VOL-13206/3-AXIAL_FLAIR-74943a.nii.gz'},\n",
       "  {'image': 'TCGA-LGG-nifti/TCGA-DU-7014/06-18-1986-TUMOR_VOL.-_WAND-80617/5-AXIAL_FLAIR-06644a.nii.gz'},\n",
       "  {'image': 'TCGA-LGG-nifti/TCGA-FG-A4MU/09-03-2003-NR_MRI_BRAIN_WWO-12086/3-FLAIR_AX-15823a.nii.gz'},\n",
       "  {'image': 'TCGA-LGG-nifti/TCGA-DU-A5TS/07-26-1997-MRI_BRAIN_WWO_CONTRAST-00379/4-Ax_FLAIR_2.5mm_for_surgery-75341a.nii.gz'},\n",
       "  {'image': 'TCGA-LGG-nifti/TCGA-DU-8165/02-05-1997-MRI_BRAIN_WWO_CONTRAST-94305/6-AXIAL_FLAIR-16811a.nii.gz'},\n",
       "  {'image': 'TCGA-LGG-nifti/TCGA-DU-A5TY/07-09-1997-MRI_BRAIN_WWO_CONTRAST-80103/5-AXIAL_FLAIR-45628a.nii.gz'},\n",
       "  {'image': 'TCGA-LGG-nifti/TCGA-FG-A87N/08-27-2004-NR_MRI_BRAIN_WWO-98244/4-FLAIR_axial-10513a.nii.gz'},\n",
       "  {'image': 'TCGA-LGG-nifti/TCGA-DU-6397/01-30-1985-TUMOR_BRAIN-30833/3-AXIAL_FLAIR-43459a.nii.gz'},\n",
       "  {'image': 'TCGA-LGG-nifti/TCGA-HT-7605/09-16-1995-MRI_BRAIN_FOR_STEREOTACTIC_WWO_CONTR-23970/15-AXIAL_T2_FLAIR-83535a.nii.gz'},\n",
       "  {'image': 'TCGA-LGG-nifti/TCGA-HT-8105/08-26-1998-MRI_BRAIN_FOR_STEREOTACTIC_WWO_CONTR-50202/6-Ax_Flair_irFSE_H-49239a.nii.gz'},\n",
       "  {'image': 'TCGA-LGG-nifti/TCGA-HT-7602/11-03-1995-MRI_BRAIN_FOR_STEREOTACTIC_WWO_CONTR-96833/4-Ax_Flair_irFSE_H-63620a.nii.gz'},\n",
       "  {'image': 'TCGA-LGG-nifti/TCGA-HT-7608/03-04-1994-MRI_BRAIN_FOR_STEREOTACTIC_WWO_CONTR-09691/3-Ax_T2_Flair-18873a.nii.gz'},\n",
       "  {'image': 'TCGA-LGG-nifti/TCGA-CS-6290/09-17-2000-JHN_IP_BRAIN_CONTRASTMRA.MRV-26774/11-BRAINCONTRASTFLAIR-78370a.nii.gz'},\n",
       "  {'image': 'TCGA-LGG-nifti/TCGA-DU-8162/10-29-1996-MRI_BRAIN_WWO_CONTRAST-44912/4-AXIAL_FLAIR-34659a.nii.gz'},\n",
       "  {'image': 'TCGA-LGG-nifti/TCGA-DU-A5TT/03-18-1998-MRI_BRAIN_WWO_CONTRAST-63650/601-FLAIRLongTR-70500a.nii.gz'},\n",
       "  {'image': 'TCGA-LGG-nifti/TCGA-DU-8168/05-03-1997-MRI_BRAIN_WWO_CONTRAST-55138/7-AXIAL_FLAIR-40636a.nii.gz'},\n",
       "  {'image': 'TCGA-LGG-nifti/TCGA-FG-6689/03-26-2002-NR_MRI_BRAIN_WWO-47983/3-FLAIR_AXIALS-99471a.nii.gz'},\n",
       "  {'image': 'TCGA-LGG-nifti/TCGA-HT-7856/08-31-1995-MRI_BRAIN_WWO_CONTRAST-71037/6-Ax_Flair_irFSE_H-08103a.nii.gz'},\n",
       "  {'image': 'TCGA-LGG-nifti/TCGA-DU-7019/09-08-1994-MRI_BRAIN_WWO_CONTRAST-36813/6-AXIAL_FLAIR-36919a.nii.gz'},\n",
       "  {'image': 'TCGA-LGG-nifti/TCGA-DU-6408/05-21-1986-TVP_WSPEC-40424/3-AXIAL_FLAIR-22793a.nii.gz'},\n",
       "  {'image': 'TCGA-LGG-nifti/TCGA-DU-5874/05-10-1995-MRI_BRAIN_WWO_CONTRAST-73527/8-AXIAL_FLAIR-99641a.nii.gz'},\n",
       "  {'image': 'TCGA-LGG-nifti/TCGA-HT-8111/03-30-1998-MRI_BRAIN_WWO_CONTRAST-68651/6-Ax_Flair_irFSE_H-04644a.nii.gz'},\n",
       "  {'image': 'TCGA-LGG-nifti/TCGA-HT-7688/06-07-1996-MRI_BRAIN_WWO_CONTRAST-09340/7-Ax_Flair_irFSE_H-41436a.nii.gz'},\n",
       "  {'image': 'TCGA-LGG-nifti/TCGA-DU-A6S6/05-21-1992-MRI_BRAIN_WWO_CONTRAST-42529/4-Ax_FLAIR_2.5mm_for_surgery-08555a.nii.gz'},\n",
       "  {'image': 'TCGA-LGG-nifti/TCGA-DU-7309/08-31-1996-MRI_BRAIN_WWO_CONTRAST-83234/6-AXIAL_FLAIR-44187a.nii.gz'}]}"
      ]
     },
     "execution_count": 23,
     "metadata": {},
     "output_type": "execute_result"
    }
   ],
   "source": [
    "validation_datalist"
   ]
  },
  {
   "cell_type": "code",
   "execution_count": 24,
   "metadata": {},
   "outputs": [],
   "source": [
    "with open('/working/lupolab/julia/tcia_analysis/nvidia/config/config_datalist_flair.json', 'w') as fp:\n",
    "    json.dump(validation_datalist, fp)"
   ]
  },
  {
   "cell_type": "code",
   "execution_count": null,
   "metadata": {},
   "outputs": [],
   "source": []
  },
  {
   "cell_type": "code",
   "execution_count": null,
   "metadata": {},
   "outputs": [],
   "source": []
  },
  {
   "cell_type": "code",
   "execution_count": null,
   "metadata": {},
   "outputs": [],
   "source": []
  },
  {
   "cell_type": "code",
   "execution_count": null,
   "metadata": {},
   "outputs": [],
   "source": []
  },
  {
   "cell_type": "code",
   "execution_count": null,
   "metadata": {},
   "outputs": [],
   "source": []
  }
 ],
 "metadata": {
  "kernelspec": {
   "display_name": "Fastai SVCF",
   "language": "python",
   "name": "fastai"
  },
  "language_info": {
   "codemirror_mode": {
    "name": "ipython",
    "version": 3
   },
   "file_extension": ".py",
   "mimetype": "text/x-python",
   "name": "python",
   "nbconvert_exporter": "python",
   "pygments_lexer": "ipython3",
   "version": "3.7.2"
  }
 },
 "nbformat": 4,
 "nbformat_minor": 2
}
