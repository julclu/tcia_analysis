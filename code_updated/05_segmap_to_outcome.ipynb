{
 "cells": [
  {
   "cell_type": "code",
   "execution_count": 66,
   "metadata": {},
   "outputs": [],
   "source": [
    "import os\n",
    "import glob\n",
    "import pandas as pd \n",
    "from pathlib import Path\n",
    "import numpy as np \n",
    "from scipy.io import loadmat\n",
    "from torch.utils.data import Dataset\n",
    "import json\n",
    "import nibabel as nib"
   ]
  },
  {
   "cell_type": "code",
   "execution_count": 67,
   "metadata": {},
   "outputs": [],
   "source": [
    "pd.set_option('display.max_rows', 500)\n",
    "pd.set_option('display.max_columns', 500)\n",
    "pd.set_option('display.width', 1000)"
   ]
  },
  {
   "cell_type": "markdown",
   "metadata": {},
   "source": [
    "# Read in the outcome files: "
   ]
  },
  {
   "cell_type": "code",
   "execution_count": 68,
   "metadata": {},
   "outputs": [
    {
     "data": {
      "text/plain": [
       "'/working/lupolab/julia/tcia_analysis/code_updated'"
      ]
     },
     "execution_count": 68,
     "metadata": {},
     "output_type": "execute_result"
    }
   ],
   "source": [
    "os.getcwd()"
   ]
  },
  {
   "cell_type": "code",
   "execution_count": 69,
   "metadata": {},
   "outputs": [],
   "source": [
    "PATH = Path('/working/lupolab/julia/')"
   ]
  },
  {
   "cell_type": "code",
   "execution_count": 70,
   "metadata": {},
   "outputs": [
    {
     "data": {
      "text/plain": [
       "((795, 7), (65, 22))"
      ]
     },
     "execution_count": 70,
     "metadata": {},
     "output_type": "execute_result"
    }
   ],
   "source": [
    "outcome1 = pd.read_csv(Path(PATH, 'cnn_analysis/who_subtype/data/raw_csvs/tcga_subtype_data.csv'))\n",
    "outcome2 = pd.read_table(Path(PATH, 'cnn_analysis/who_subtype/code/09_createSeparateMasterList_TCIAWHO/gbm_tcga_pub2013_clinical_data.tsv'))\n",
    "outcome1.shape, outcome2.shape"
   ]
  },
  {
   "cell_type": "code",
   "execution_count": 71,
   "metadata": {},
   "outputs": [
    {
     "data": {
      "text/html": [
       "<div>\n",
       "<style scoped>\n",
       "    .dataframe tbody tr th:only-of-type {\n",
       "        vertical-align: middle;\n",
       "    }\n",
       "\n",
       "    .dataframe tbody tr th {\n",
       "        vertical-align: top;\n",
       "    }\n",
       "\n",
       "    .dataframe thead th {\n",
       "        text-align: right;\n",
       "    }\n",
       "</style>\n",
       "<table border=\"1\" class=\"dataframe\">\n",
       "  <thead>\n",
       "    <tr style=\"text-align: right;\">\n",
       "      <th></th>\n",
       "      <th>track_name</th>\n",
       "      <th>IDH-1P10Q Subtype</th>\n",
       "      <th>IDH/codel subtype</th>\n",
       "      <th>MGMT promoter status</th>\n",
       "      <th>Overall Survival (Months)</th>\n",
       "      <th>IDH1</th>\n",
       "      <th>IDH1.1</th>\n",
       "    </tr>\n",
       "  </thead>\n",
       "  <tbody>\n",
       "    <tr>\n",
       "      <th>1</th>\n",
       "      <td>TCGA-P5-A5ET</td>\n",
       "      <td>Codel</td>\n",
       "      <td>IDHmut-codel</td>\n",
       "      <td>Methylated</td>\n",
       "      <td>0</td>\n",
       "      <td>NaN</td>\n",
       "      <td>Missense Mutation (putative driver)</td>\n",
       "    </tr>\n",
       "    <tr>\n",
       "      <th>2</th>\n",
       "      <td>TCGA-QH-A6CU</td>\n",
       "      <td>Codel</td>\n",
       "      <td>IDHmut-codel</td>\n",
       "      <td>Methylated</td>\n",
       "      <td>0</td>\n",
       "      <td>NaN</td>\n",
       "      <td>Missense Mutation (putative driver)</td>\n",
       "    </tr>\n",
       "    <tr>\n",
       "      <th>3</th>\n",
       "      <td>TCGA-HT-7467</td>\n",
       "      <td>Codel</td>\n",
       "      <td>IDHmut-codel</td>\n",
       "      <td>Methylated</td>\n",
       "      <td>0.1</td>\n",
       "      <td>NaN</td>\n",
       "      <td>Missense Mutation (putative driver)</td>\n",
       "    </tr>\n",
       "    <tr>\n",
       "      <th>4</th>\n",
       "      <td>TCGA-HT-7471</td>\n",
       "      <td>Codel</td>\n",
       "      <td>IDHmut-codel</td>\n",
       "      <td>Methylated</td>\n",
       "      <td>0.1</td>\n",
       "      <td>NaN</td>\n",
       "      <td>Missense Mutation (putative driver)</td>\n",
       "    </tr>\n",
       "    <tr>\n",
       "      <th>5</th>\n",
       "      <td>TCGA-HT-7687</td>\n",
       "      <td>Codel</td>\n",
       "      <td>IDHmut-codel</td>\n",
       "      <td>Methylated</td>\n",
       "      <td>0.1</td>\n",
       "      <td>NaN</td>\n",
       "      <td>Missense Mutation (putative driver)</td>\n",
       "    </tr>\n",
       "  </tbody>\n",
       "</table>\n",
       "</div>"
      ],
      "text/plain": [
       "     track_name IDH-1P10Q Subtype IDH/codel subtype MGMT promoter status Overall Survival (Months) IDH1                               IDH1.1\n",
       "1  TCGA-P5-A5ET             Codel      IDHmut-codel           Methylated                         0  NaN  Missense Mutation (putative driver)\n",
       "2  TCGA-QH-A6CU             Codel      IDHmut-codel           Methylated                         0  NaN  Missense Mutation (putative driver)\n",
       "3  TCGA-HT-7467             Codel      IDHmut-codel           Methylated                       0.1  NaN  Missense Mutation (putative driver)\n",
       "4  TCGA-HT-7471             Codel      IDHmut-codel           Methylated                       0.1  NaN  Missense Mutation (putative driver)\n",
       "5  TCGA-HT-7687             Codel      IDHmut-codel           Methylated                       0.1  NaN  Missense Mutation (putative driver)"
      ]
     },
     "execution_count": 71,
     "metadata": {},
     "output_type": "execute_result"
    }
   ],
   "source": [
    "outcome1 = outcome1.drop(0)\n",
    "outcome1.head()"
   ]
  },
  {
   "cell_type": "code",
   "execution_count": 72,
   "metadata": {},
   "outputs": [
    {
     "data": {
      "text/plain": [
       "IDHwt               362\n",
       "IDHmut-non-codel    263\n",
       "IDHmut-codel        169\n",
       "Name: IDH/codel subtype, dtype: int64"
      ]
     },
     "execution_count": 72,
     "metadata": {},
     "output_type": "execute_result"
    }
   ],
   "source": [
    "outcome1['IDH/codel subtype'].value_counts()"
   ]
  },
  {
   "cell_type": "code",
   "execution_count": 73,
   "metadata": {},
   "outputs": [
    {
     "data": {
      "text/plain": [
       "0.2128463476070529"
      ]
     },
     "execution_count": 73,
     "metadata": {},
     "output_type": "execute_result"
    }
   ],
   "source": [
    "169/(169+263+362)"
   ]
  },
  {
   "cell_type": "code",
   "execution_count": 74,
   "metadata": {},
   "outputs": [
    {
     "data": {
      "text/html": [
       "<div>\n",
       "<style scoped>\n",
       "    .dataframe tbody tr th:only-of-type {\n",
       "        vertical-align: middle;\n",
       "    }\n",
       "\n",
       "    .dataframe tbody tr th {\n",
       "        vertical-align: top;\n",
       "    }\n",
       "\n",
       "    .dataframe thead th {\n",
       "        text-align: right;\n",
       "    }\n",
       "</style>\n",
       "<table border=\"1\" class=\"dataframe\">\n",
       "  <thead>\n",
       "    <tr style=\"text-align: right;\">\n",
       "      <th></th>\n",
       "      <th>Study ID</th>\n",
       "      <th>Patient ID</th>\n",
       "      <th>Sample ID</th>\n",
       "      <th>Diagnosis Age</th>\n",
       "      <th>Cancer Type</th>\n",
       "      <th>Cancer Type Detailed</th>\n",
       "      <th>Disease Free (Months)</th>\n",
       "      <th>Disease Free Status</th>\n",
       "      <th>Gene Expression Subtype</th>\n",
       "      <th>Fraction Genome Altered</th>\n",
       "      <th>G-CIMP  Methylation</th>\n",
       "      <th>IDH1 Mutation</th>\n",
       "      <th>Methylation Status</th>\n",
       "      <th>MGMT Status</th>\n",
       "      <th>Mutation Count</th>\n",
       "      <th>Oncotree Code</th>\n",
       "      <th>Overall Survival (Months)</th>\n",
       "      <th>Overall Survival Status</th>\n",
       "      <th>Number of Samples Per Patient</th>\n",
       "      <th>Sample Type</th>\n",
       "      <th>Sex</th>\n",
       "      <th>therapy</th>\n",
       "    </tr>\n",
       "  </thead>\n",
       "  <tbody>\n",
       "    <tr>\n",
       "      <th>0</th>\n",
       "      <td>gbm_tcga_pub2013</td>\n",
       "      <td>TCGA-02-0006</td>\n",
       "      <td>TCGA-02-0006-01</td>\n",
       "      <td>56.2</td>\n",
       "      <td>Glioma</td>\n",
       "      <td>Glioblastoma Multiforme</td>\n",
       "      <td>9.9</td>\n",
       "      <td>Recurred/Progressed</td>\n",
       "      <td>Mesenchymal</td>\n",
       "      <td>0.2391</td>\n",
       "      <td>non-G-CIMP</td>\n",
       "      <td>WT</td>\n",
       "      <td>CL_2</td>\n",
       "      <td>UNMETHYLATED</td>\n",
       "      <td>NaN</td>\n",
       "      <td>GBM</td>\n",
       "      <td>18.3</td>\n",
       "      <td>DECEASED</td>\n",
       "      <td>1</td>\n",
       "      <td>Primary</td>\n",
       "      <td>Female</td>\n",
       "      <td>Standard Radiation, TMZ Chemo</td>\n",
       "    </tr>\n",
       "    <tr>\n",
       "      <th>1</th>\n",
       "      <td>gbm_tcga_pub2013</td>\n",
       "      <td>TCGA-02-0011</td>\n",
       "      <td>TCGA-02-0011-01</td>\n",
       "      <td>19.0</td>\n",
       "      <td>Glioma</td>\n",
       "      <td>Glioblastoma Multiforme</td>\n",
       "      <td>4.7</td>\n",
       "      <td>Recurred/Progressed</td>\n",
       "      <td>Proneural</td>\n",
       "      <td>0.2939</td>\n",
       "      <td>non-G-CIMP</td>\n",
       "      <td>WT</td>\n",
       "      <td>CL_6</td>\n",
       "      <td>METHYLATED</td>\n",
       "      <td>NaN</td>\n",
       "      <td>GBM</td>\n",
       "      <td>20.7</td>\n",
       "      <td>DECEASED</td>\n",
       "      <td>1</td>\n",
       "      <td>Primary</td>\n",
       "      <td>Female</td>\n",
       "      <td>TMZ Chemoradiation, TMZ Chemo</td>\n",
       "    </tr>\n",
       "    <tr>\n",
       "      <th>2</th>\n",
       "      <td>gbm_tcga_pub2013</td>\n",
       "      <td>TCGA-02-0027</td>\n",
       "      <td>TCGA-02-0027-01</td>\n",
       "      <td>33.9</td>\n",
       "      <td>Glioma</td>\n",
       "      <td>Glioblastoma Multiforme</td>\n",
       "      <td>8.5</td>\n",
       "      <td>Recurred/Progressed</td>\n",
       "      <td>Classical</td>\n",
       "      <td>0.1618</td>\n",
       "      <td>non-G-CIMP</td>\n",
       "      <td>WT</td>\n",
       "      <td>CL_1</td>\n",
       "      <td>METHYLATED</td>\n",
       "      <td>NaN</td>\n",
       "      <td>GBM</td>\n",
       "      <td>12.2</td>\n",
       "      <td>DECEASED</td>\n",
       "      <td>1</td>\n",
       "      <td>Primary</td>\n",
       "      <td>Female</td>\n",
       "      <td>TMZ Chemoradiation, TMZ Chemo</td>\n",
       "    </tr>\n",
       "    <tr>\n",
       "      <th>3</th>\n",
       "      <td>gbm_tcga_pub2013</td>\n",
       "      <td>TCGA-02-0034</td>\n",
       "      <td>TCGA-02-0034-01</td>\n",
       "      <td>60.7</td>\n",
       "      <td>Glioma</td>\n",
       "      <td>Glioblastoma Multiforme</td>\n",
       "      <td>12.7</td>\n",
       "      <td>Recurred/Progressed</td>\n",
       "      <td>Mesenchymal</td>\n",
       "      <td>0.2146</td>\n",
       "      <td>non-G-CIMP</td>\n",
       "      <td>WT</td>\n",
       "      <td>CL_1</td>\n",
       "      <td>UNMETHYLATED</td>\n",
       "      <td>NaN</td>\n",
       "      <td>GBM</td>\n",
       "      <td>14.1</td>\n",
       "      <td>DECEASED</td>\n",
       "      <td>1</td>\n",
       "      <td>Primary</td>\n",
       "      <td>Male</td>\n",
       "      <td>Standard Radiation, TMZ Chemo</td>\n",
       "    </tr>\n",
       "    <tr>\n",
       "      <th>4</th>\n",
       "      <td>gbm_tcga_pub2013</td>\n",
       "      <td>TCGA-02-0037</td>\n",
       "      <td>TCGA-02-0037-01</td>\n",
       "      <td>74.1</td>\n",
       "      <td>Glioma</td>\n",
       "      <td>Glioblastoma Multiforme</td>\n",
       "      <td>1.2</td>\n",
       "      <td>Recurred/Progressed</td>\n",
       "      <td>Classical</td>\n",
       "      <td>0.1885</td>\n",
       "      <td>non-G-CIMP</td>\n",
       "      <td>WT</td>\n",
       "      <td>CL_3</td>\n",
       "      <td>UNMETHYLATED</td>\n",
       "      <td>NaN</td>\n",
       "      <td>GBM</td>\n",
       "      <td>3.6</td>\n",
       "      <td>DECEASED</td>\n",
       "      <td>1</td>\n",
       "      <td>Primary</td>\n",
       "      <td>Female</td>\n",
       "      <td>Standard Radiation</td>\n",
       "    </tr>\n",
       "  </tbody>\n",
       "</table>\n",
       "</div>"
      ],
      "text/plain": [
       "           Study ID    Patient ID        Sample ID  Diagnosis Age Cancer Type     Cancer Type Detailed  Disease Free (Months)  Disease Free Status Gene Expression Subtype  Fraction Genome Altered G-CIMP  Methylation IDH1 Mutation Methylation Status   MGMT Status  Mutation Count Oncotree Code  Overall Survival (Months) Overall Survival Status  Number of Samples Per Patient Sample Type     Sex                        therapy\n",
       "0  gbm_tcga_pub2013  TCGA-02-0006  TCGA-02-0006-01           56.2      Glioma  Glioblastoma Multiforme                    9.9  Recurred/Progressed             Mesenchymal                   0.2391          non-G-CIMP            WT               CL_2  UNMETHYLATED             NaN           GBM                       18.3                DECEASED                              1     Primary  Female  Standard Radiation, TMZ Chemo\n",
       "1  gbm_tcga_pub2013  TCGA-02-0011  TCGA-02-0011-01           19.0      Glioma  Glioblastoma Multiforme                    4.7  Recurred/Progressed               Proneural                   0.2939          non-G-CIMP            WT               CL_6    METHYLATED             NaN           GBM                       20.7                DECEASED                              1     Primary  Female  TMZ Chemoradiation, TMZ Chemo\n",
       "2  gbm_tcga_pub2013  TCGA-02-0027  TCGA-02-0027-01           33.9      Glioma  Glioblastoma Multiforme                    8.5  Recurred/Progressed               Classical                   0.1618          non-G-CIMP            WT               CL_1    METHYLATED             NaN           GBM                       12.2                DECEASED                              1     Primary  Female  TMZ Chemoradiation, TMZ Chemo\n",
       "3  gbm_tcga_pub2013  TCGA-02-0034  TCGA-02-0034-01           60.7      Glioma  Glioblastoma Multiforme                   12.7  Recurred/Progressed             Mesenchymal                   0.2146          non-G-CIMP            WT               CL_1  UNMETHYLATED             NaN           GBM                       14.1                DECEASED                              1     Primary    Male  Standard Radiation, TMZ Chemo\n",
       "4  gbm_tcga_pub2013  TCGA-02-0037  TCGA-02-0037-01           74.1      Glioma  Glioblastoma Multiforme                    1.2  Recurred/Progressed               Classical                   0.1885          non-G-CIMP            WT               CL_3  UNMETHYLATED             NaN           GBM                        3.6                DECEASED                              1     Primary  Female             Standard Radiation"
      ]
     },
     "execution_count": 74,
     "metadata": {},
     "output_type": "execute_result"
    }
   ],
   "source": [
    "outcome2.head()"
   ]
  },
  {
   "cell_type": "code",
   "execution_count": 75,
   "metadata": {},
   "outputs": [],
   "source": [
    "outcome1.columns =['patient_id', '1p19q', 'idh_codel_subtype', 'mgmt_status', 'OS', 'IDH1_drop', 'idh1_mut']"
   ]
  },
  {
   "cell_type": "code",
   "execution_count": 76,
   "metadata": {},
   "outputs": [],
   "source": [
    "cols_to_drop = [x for x in list(outcome2.columns) if x not in ['Patient ID', 'IDH1 Mutation', 'MGMT Status', 'Overall Survival (Months)']]"
   ]
  },
  {
   "cell_type": "code",
   "execution_count": 77,
   "metadata": {},
   "outputs": [],
   "source": [
    "outcome2 = outcome2.drop(cols_to_drop, axis = 1)"
   ]
  },
  {
   "cell_type": "code",
   "execution_count": 78,
   "metadata": {},
   "outputs": [],
   "source": [
    "outcome2.columns = ['patient_id', 'idh_mut', 'mgmg_status', 'OS']"
   ]
  },
  {
   "cell_type": "markdown",
   "metadata": {},
   "source": [
    "# Create the final outcome"
   ]
  },
  {
   "cell_type": "code",
   "execution_count": 79,
   "metadata": {},
   "outputs": [
    {
     "data": {
      "text/plain": [
       "Index(['patient_id', '1p19q', 'idh_codel_subtype', 'mgmt_status', 'OS', 'IDH1_drop', 'idh1_mut'], dtype='object')"
      ]
     },
     "execution_count": 79,
     "metadata": {},
     "output_type": "execute_result"
    }
   ],
   "source": [
    "outcome1.columns"
   ]
  },
  {
   "cell_type": "code",
   "execution_count": 80,
   "metadata": {},
   "outputs": [],
   "source": [
    "outcome1['outcome'], outcome1['cohort'] = ['' for x in outcome1.patient_id], ['' for x in outcome1.patient_id]\n",
    "outcome2['outcome'], outcome2['cohort'] = ['' for x in outcome2.patient_id], ['TCGA-GBM' for x in outcome2.patient_id]"
   ]
  },
  {
   "cell_type": "code",
   "execution_count": 81,
   "metadata": {},
   "outputs": [],
   "source": [
    "outcome1 = outcome1.sort_values(by = 'patient_id').reset_index(drop = True)"
   ]
  },
  {
   "cell_type": "code",
   "execution_count": 82,
   "metadata": {},
   "outputs": [],
   "source": [
    "outcome1.at[:284, 'cohort'] = 'TCGA-GBM'\n",
    "outcome1.at[284:, 'cohort'] = 'TCGA-LGG'"
   ]
  },
  {
   "cell_type": "code",
   "execution_count": 83,
   "metadata": {},
   "outputs": [
    {
     "data": {
      "text/plain": [
       "Non-codel    625\n",
       "Codel        169\n",
       "Name: 1p19q, dtype: int64"
      ]
     },
     "execution_count": 83,
     "metadata": {},
     "output_type": "execute_result"
    }
   ],
   "source": [
    "outcome1['1p19q'].value_counts()"
   ]
  },
  {
   "cell_type": "code",
   "execution_count": 84,
   "metadata": {
    "scrolled": false
   },
   "outputs": [
    {
     "data": {
      "text/plain": [
       "IDHwt               362\n",
       "IDHmut-non-codel    263\n",
       "IDHmut-codel        169\n",
       "Name: idh_codel_subtype, dtype: int64"
      ]
     },
     "execution_count": 84,
     "metadata": {},
     "output_type": "execute_result"
    }
   ],
   "source": [
    "outcome1['idh_codel_subtype'].value_counts()"
   ]
  },
  {
   "cell_type": "code",
   "execution_count": 85,
   "metadata": {},
   "outputs": [],
   "source": [
    "for idx, row in outcome1.iterrows():\n",
    "    if row['cohort'] == 'TCGA-GBM' and row['idh_codel_subtype'] == 'IDHwt': \n",
    "        outcome1.at[idx, 'outcome'] = 'gbm_idh_wt'\n",
    "    elif row['cohort'] == 'TCGA-GBM' and row['idh_codel_subtype'] != 'IDHwt': \n",
    "        outcome1.at[idx, 'outcome'] = 'as_idh_mut'\n",
    "    elif row['cohort'] == 'TCGA-LGG' and row['idh_codel_subtype'] == 'IDHwt': \n",
    "        outcome1.at[idx, 'outcome'] = 'gbm_idh_wt'\n",
    "    elif row['cohort'] == 'TCGA-LGG' and row['idh_codel_subtype'] == 'IDHmut-non-codel': \n",
    "        outcome1.at[idx, 'outcome'] = 'as_idh_mut'\n",
    "    elif row['cohort'] == 'TCGA-LGG' and row['idh_codel_subtype'] == 'IDHmut-codel': \n",
    "        outcome1.at[idx, 'outcome'] = 'od_1p19codel'"
   ]
  },
  {
   "cell_type": "code",
   "execution_count": 86,
   "metadata": {},
   "outputs": [
    {
     "data": {
      "text/plain": [
       "gbm_idh_wt      362\n",
       "as_idh_mut      263\n",
       "od_1p19codel    169\n",
       "Name: outcome, dtype: int64"
      ]
     },
     "execution_count": 86,
     "metadata": {},
     "output_type": "execute_result"
    }
   ],
   "source": [
    "outcome1.outcome.value_counts()"
   ]
  },
  {
   "cell_type": "code",
   "execution_count": 87,
   "metadata": {},
   "outputs": [
    {
     "data": {
      "text/plain": [
       "False    794\n",
       "Name: outcome, dtype: int64"
      ]
     },
     "execution_count": 87,
     "metadata": {},
     "output_type": "execute_result"
    }
   ],
   "source": [
    "outcome1.outcome.isnull().value_counts()"
   ]
  },
  {
   "cell_type": "code",
   "execution_count": 88,
   "metadata": {},
   "outputs": [
    {
     "data": {
      "text/plain": [
       "gbm_idh_wt      362\n",
       "as_idh_mut      263\n",
       "od_1p19codel    169\n",
       "Name: outcome, dtype: int64"
      ]
     },
     "execution_count": 88,
     "metadata": {},
     "output_type": "execute_result"
    }
   ],
   "source": [
    "outcome1.outcome.value_counts()"
   ]
  },
  {
   "cell_type": "code",
   "execution_count": 89,
   "metadata": {},
   "outputs": [
    {
     "data": {
      "text/plain": [
       "WT       39\n",
       "R132H     2\n",
       "Name: idh_mut, dtype: int64"
      ]
     },
     "execution_count": 89,
     "metadata": {},
     "output_type": "execute_result"
    }
   ],
   "source": [
    "outcome2.idh_mut.value_counts()"
   ]
  },
  {
   "cell_type": "code",
   "execution_count": 90,
   "metadata": {},
   "outputs": [],
   "source": [
    "for idx, row in outcome2.iterrows():\n",
    "    if row['cohort'] == 'TCGA-GBM' and row['idh_mut'] == 'WT': \n",
    "        outcome2.at[idx, 'outcome'] = 'gbm_idh_wt'\n",
    "    elif row['cohort'] == 'TCGA-GBM' and row['idh_mut'] != 'R132H': \n",
    "        outcome2.at[idx, 'outcome'] = 'as_idh_mut'\n",
    "    else: \n",
    "        outcome2.at[idx, 'outcome'] = 'gbm_nos'"
   ]
  },
  {
   "cell_type": "code",
   "execution_count": 91,
   "metadata": {},
   "outputs": [
    {
     "data": {
      "text/plain": [
       "gbm_idh_wt    39\n",
       "as_idh_mut    24\n",
       "gbm_nos        2\n",
       "Name: outcome, dtype: int64"
      ]
     },
     "execution_count": 91,
     "metadata": {},
     "output_type": "execute_result"
    }
   ],
   "source": [
    "outcome2.outcome.value_counts()"
   ]
  },
  {
   "cell_type": "code",
   "execution_count": 92,
   "metadata": {},
   "outputs": [
    {
     "data": {
      "text/plain": [
       "Index(['patient_id', '1p19q', 'idh_codel_subtype', 'mgmt_status', 'OS', 'IDH1_drop', 'idh1_mut', 'outcome', 'cohort'], dtype='object')"
      ]
     },
     "execution_count": 92,
     "metadata": {},
     "output_type": "execute_result"
    }
   ],
   "source": [
    "outcome1.columns"
   ]
  },
  {
   "cell_type": "code",
   "execution_count": 93,
   "metadata": {},
   "outputs": [
    {
     "data": {
      "text/plain": [
       "Index(['patient_id', 'idh_mut', 'mgmg_status', 'OS', 'outcome', 'cohort'], dtype='object')"
      ]
     },
     "execution_count": 93,
     "metadata": {},
     "output_type": "execute_result"
    }
   ],
   "source": [
    "outcome2.columns"
   ]
  },
  {
   "cell_type": "code",
   "execution_count": 94,
   "metadata": {},
   "outputs": [],
   "source": [
    "outcome2['idh_codel_subtype'] = ['IDHwt'  if x == 'WT' else 'IDHmut-non-codel' if x == 'R132H' else 'gbm_nos' for x in list(outcome2.idh_mut)]"
   ]
  },
  {
   "cell_type": "code",
   "execution_count": 95,
   "metadata": {},
   "outputs": [],
   "source": [
    "outcomes = outcome1[['patient_id', 'outcome', 'cohort', 'idh_codel_subtype']].append(outcome2[['patient_id', 'outcome', 'cohort', 'idh_codel_subtype']])"
   ]
  },
  {
   "cell_type": "code",
   "execution_count": 96,
   "metadata": {},
   "outputs": [
    {
     "data": {
      "text/plain": [
       "gbm_idh_wt      401\n",
       "as_idh_mut      287\n",
       "od_1p19codel    169\n",
       "gbm_nos           2\n",
       "Name: outcome, dtype: int64"
      ]
     },
     "execution_count": 96,
     "metadata": {},
     "output_type": "execute_result"
    }
   ],
   "source": [
    "outcomes.outcome.value_counts()"
   ]
  },
  {
   "cell_type": "code",
   "execution_count": 97,
   "metadata": {},
   "outputs": [
    {
     "data": {
      "text/html": [
       "<div>\n",
       "<style scoped>\n",
       "    .dataframe tbody tr th:only-of-type {\n",
       "        vertical-align: middle;\n",
       "    }\n",
       "\n",
       "    .dataframe tbody tr th {\n",
       "        vertical-align: top;\n",
       "    }\n",
       "\n",
       "    .dataframe thead th {\n",
       "        text-align: right;\n",
       "    }\n",
       "</style>\n",
       "<table border=\"1\" class=\"dataframe\">\n",
       "  <thead>\n",
       "    <tr style=\"text-align: right;\">\n",
       "      <th></th>\n",
       "      <th>patient_id</th>\n",
       "      <th>outcome</th>\n",
       "      <th>cohort</th>\n",
       "      <th>idh_codel_subtype</th>\n",
       "    </tr>\n",
       "  </thead>\n",
       "  <tbody>\n",
       "    <tr>\n",
       "      <th>0</th>\n",
       "      <td>TCGA-02-0003</td>\n",
       "      <td>gbm_idh_wt</td>\n",
       "      <td>TCGA-GBM</td>\n",
       "      <td>IDHwt</td>\n",
       "    </tr>\n",
       "    <tr>\n",
       "      <th>1</th>\n",
       "      <td>TCGA-02-0033</td>\n",
       "      <td>gbm_idh_wt</td>\n",
       "      <td>TCGA-GBM</td>\n",
       "      <td>IDHwt</td>\n",
       "    </tr>\n",
       "    <tr>\n",
       "      <th>2</th>\n",
       "      <td>TCGA-02-0047</td>\n",
       "      <td>gbm_idh_wt</td>\n",
       "      <td>TCGA-GBM</td>\n",
       "      <td>IDHwt</td>\n",
       "    </tr>\n",
       "    <tr>\n",
       "      <th>3</th>\n",
       "      <td>TCGA-02-0055</td>\n",
       "      <td>gbm_idh_wt</td>\n",
       "      <td>TCGA-GBM</td>\n",
       "      <td>IDHwt</td>\n",
       "    </tr>\n",
       "    <tr>\n",
       "      <th>4</th>\n",
       "      <td>TCGA-02-2470</td>\n",
       "      <td>gbm_idh_wt</td>\n",
       "      <td>TCGA-GBM</td>\n",
       "      <td>IDHwt</td>\n",
       "    </tr>\n",
       "  </tbody>\n",
       "</table>\n",
       "</div>"
      ],
      "text/plain": [
       "     patient_id     outcome    cohort idh_codel_subtype\n",
       "0  TCGA-02-0003  gbm_idh_wt  TCGA-GBM             IDHwt\n",
       "1  TCGA-02-0033  gbm_idh_wt  TCGA-GBM             IDHwt\n",
       "2  TCGA-02-0047  gbm_idh_wt  TCGA-GBM             IDHwt\n",
       "3  TCGA-02-0055  gbm_idh_wt  TCGA-GBM             IDHwt\n",
       "4  TCGA-02-2470  gbm_idh_wt  TCGA-GBM             IDHwt"
      ]
     },
     "execution_count": 97,
     "metadata": {},
     "output_type": "execute_result"
    }
   ],
   "source": [
    "outcomes.head()"
   ]
  },
  {
   "cell_type": "code",
   "execution_count": 98,
   "metadata": {},
   "outputs": [
    {
     "data": {
      "text/plain": [
       "(859, 4)"
      ]
     },
     "execution_count": 98,
     "metadata": {},
     "output_type": "execute_result"
    }
   ],
   "source": [
    "outcomes.shape"
   ]
  },
  {
   "cell_type": "markdown",
   "metadata": {},
   "source": [
    "# Merge the outcomes with the segmentation map: "
   ]
  },
  {
   "cell_type": "code",
   "execution_count": 99,
   "metadata": {},
   "outputs": [],
   "source": [
    "seg_t1c_df = pd.read_csv(Path(PATH, 'tcia_analysis/datasets/segmentation_t1c_df.csv'))\n",
    "seg_fla_df = pd.read_csv(Path(PATH, 'tcia_analysis/datasets/segmentation_fla_df.csv'))"
   ]
  },
  {
   "cell_type": "code",
   "execution_count": 100,
   "metadata": {},
   "outputs": [
    {
     "data": {
      "text/plain": [
       "(226, 5)"
      ]
     },
     "execution_count": 100,
     "metadata": {},
     "output_type": "execute_result"
    }
   ],
   "source": [
    "seg_t1c_df.shape"
   ]
  },
  {
   "cell_type": "code",
   "execution_count": 101,
   "metadata": {},
   "outputs": [
    {
     "data": {
      "text/plain": [
       "(224, 5)"
      ]
     },
     "execution_count": 101,
     "metadata": {},
     "output_type": "execute_result"
    }
   ],
   "source": [
    "seg_fla_df.shape"
   ]
  },
  {
   "cell_type": "code",
   "execution_count": 102,
   "metadata": {},
   "outputs": [],
   "source": [
    "seg_df = pd.merge(seg_t1c_df, seg_fla_df, how = 'outer', on = ['patient_id', 'cohort', 'patient_exam'], suffixes =['_t1ca', '_fla'])"
   ]
  },
  {
   "cell_type": "code",
   "execution_count": 103,
   "metadata": {},
   "outputs": [],
   "source": [
    "seg_w_outcome = pd.merge(seg_df, outcomes, on = ['patient_id'], how = 'left')"
   ]
  },
  {
   "cell_type": "code",
   "execution_count": 104,
   "metadata": {},
   "outputs": [
    {
     "data": {
      "text/plain": [
       "(229, 10)"
      ]
     },
     "execution_count": 104,
     "metadata": {},
     "output_type": "execute_result"
    }
   ],
   "source": [
    "seg_w_outcome.shape"
   ]
  },
  {
   "cell_type": "code",
   "execution_count": 105,
   "metadata": {},
   "outputs": [
    {
     "data": {
      "text/html": [
       "<div>\n",
       "<style scoped>\n",
       "    .dataframe tbody tr th:only-of-type {\n",
       "        vertical-align: middle;\n",
       "    }\n",
       "\n",
       "    .dataframe tbody tr th {\n",
       "        vertical-align: top;\n",
       "    }\n",
       "\n",
       "    .dataframe thead th {\n",
       "        text-align: right;\n",
       "    }\n",
       "</style>\n",
       "<table border=\"1\" class=\"dataframe\">\n",
       "  <thead>\n",
       "    <tr style=\"text-align: right;\">\n",
       "      <th></th>\n",
       "      <th>patient_id</th>\n",
       "      <th>seg_file_t1ca</th>\n",
       "      <th>seg_loc_t1ca</th>\n",
       "      <th>cohort_x</th>\n",
       "      <th>patient_exam</th>\n",
       "      <th>seg_file_fla</th>\n",
       "      <th>seg_loc_fla</th>\n",
       "      <th>outcome</th>\n",
       "      <th>cohort_y</th>\n",
       "      <th>idh_codel_subtype</th>\n",
       "    </tr>\n",
       "  </thead>\n",
       "  <tbody>\n",
       "    <tr>\n",
       "      <th>0</th>\n",
       "      <td>TCGA-06-0240</td>\n",
       "      <td>9-AxT1-thin_for_surgery-27598a_TC_shifted.nii.gz</td>\n",
       "      <td>/working/lupolab/julia/tcia_analysis/nvidia/ev...</td>\n",
       "      <td>TCGA-GBM</td>\n",
       "      <td>07-02-2005-04728</td>\n",
       "      <td>4-AxFLAIR-thin_for_surgery-47036_TC_shifted.ni...</td>\n",
       "      <td>/working/lupolab/julia/tcia_analysis/nvidia/ev...</td>\n",
       "      <td>NaN</td>\n",
       "      <td>NaN</td>\n",
       "      <td>NaN</td>\n",
       "    </tr>\n",
       "    <tr>\n",
       "      <th>1</th>\n",
       "      <td>TCGA-06-0143</td>\n",
       "      <td>11-COR__T1_POST_GD_FLAIR-28783a_TC_shifted.nii.gz</td>\n",
       "      <td>/working/lupolab/julia/tcia_analysis/nvidia/ev...</td>\n",
       "      <td>TCGA-GBM</td>\n",
       "      <td>02-11-2005-83875</td>\n",
       "      <td>6-AXIAL_FLAIR-72192_TC_shifted.nii.gz</td>\n",
       "      <td>/working/lupolab/julia/tcia_analysis/nvidia/ev...</td>\n",
       "      <td>gbm_idh_wt</td>\n",
       "      <td>TCGA-GBM</td>\n",
       "      <td>IDHwt</td>\n",
       "    </tr>\n",
       "    <tr>\n",
       "      <th>2</th>\n",
       "      <td>TCGA-06-0149</td>\n",
       "      <td>10-COR_T1_POST_GD_FLAIR-88922a_TC_shifted.nii.gz</td>\n",
       "      <td>/working/lupolab/julia/tcia_analysis/nvidia/ev...</td>\n",
       "      <td>TCGA-GBM</td>\n",
       "      <td>03-25-2003-87536</td>\n",
       "      <td>5-AXIAL_T2_FLAIR-94682_TC_shifted.nii.gz</td>\n",
       "      <td>/working/lupolab/julia/tcia_analysis/nvidia/ev...</td>\n",
       "      <td>as_idh_mut</td>\n",
       "      <td>TCGA-GBM</td>\n",
       "      <td>gbm_nos</td>\n",
       "    </tr>\n",
       "    <tr>\n",
       "      <th>3</th>\n",
       "      <td>TCGA-19-0955</td>\n",
       "      <td>8-MRHG_T1_AX_POST_GAD-01973a_TC_shifted.nii.gz</td>\n",
       "      <td>/working/lupolab/julia/tcia_analysis/nvidia/ev...</td>\n",
       "      <td>TCGA-GBM</td>\n",
       "      <td>04-07-2001-NR_MRI_BRAIN_WWO-83151</td>\n",
       "      <td>3-MRHG_FLAIR_AX-38966_TC_shifted.nii.gz</td>\n",
       "      <td>/working/lupolab/julia/tcia_analysis/nvidia/ev...</td>\n",
       "      <td>as_idh_mut</td>\n",
       "      <td>TCGA-GBM</td>\n",
       "      <td>gbm_nos</td>\n",
       "    </tr>\n",
       "    <tr>\n",
       "      <th>4</th>\n",
       "      <td>TCGA-06-0648</td>\n",
       "      <td>11-AX_T1_POST_GD_FLAIR-02197a_TC_shifted.nii.gz</td>\n",
       "      <td>/working/lupolab/julia/tcia_analysis/nvidia/ev...</td>\n",
       "      <td>TCGA-GBM</td>\n",
       "      <td>01-20-2006-51419</td>\n",
       "      <td>6-AXIAL_FLAIR-80030_TC_shifted.nii.gz</td>\n",
       "      <td>/working/lupolab/julia/tcia_analysis/nvidia/ev...</td>\n",
       "      <td>gbm_idh_wt</td>\n",
       "      <td>TCGA-GBM</td>\n",
       "      <td>IDHwt</td>\n",
       "    </tr>\n",
       "  </tbody>\n",
       "</table>\n",
       "</div>"
      ],
      "text/plain": [
       "     patient_id                                      seg_file_t1ca                                       seg_loc_t1ca  cohort_x                       patient_exam                                       seg_file_fla                                        seg_loc_fla     outcome  cohort_y idh_codel_subtype\n",
       "0  TCGA-06-0240   9-AxT1-thin_for_surgery-27598a_TC_shifted.nii.gz  /working/lupolab/julia/tcia_analysis/nvidia/ev...  TCGA-GBM                   07-02-2005-04728  4-AxFLAIR-thin_for_surgery-47036_TC_shifted.ni...  /working/lupolab/julia/tcia_analysis/nvidia/ev...         NaN       NaN               NaN\n",
       "1  TCGA-06-0143  11-COR__T1_POST_GD_FLAIR-28783a_TC_shifted.nii.gz  /working/lupolab/julia/tcia_analysis/nvidia/ev...  TCGA-GBM                   02-11-2005-83875              6-AXIAL_FLAIR-72192_TC_shifted.nii.gz  /working/lupolab/julia/tcia_analysis/nvidia/ev...  gbm_idh_wt  TCGA-GBM             IDHwt\n",
       "2  TCGA-06-0149   10-COR_T1_POST_GD_FLAIR-88922a_TC_shifted.nii.gz  /working/lupolab/julia/tcia_analysis/nvidia/ev...  TCGA-GBM                   03-25-2003-87536           5-AXIAL_T2_FLAIR-94682_TC_shifted.nii.gz  /working/lupolab/julia/tcia_analysis/nvidia/ev...  as_idh_mut  TCGA-GBM           gbm_nos\n",
       "3  TCGA-19-0955     8-MRHG_T1_AX_POST_GAD-01973a_TC_shifted.nii.gz  /working/lupolab/julia/tcia_analysis/nvidia/ev...  TCGA-GBM  04-07-2001-NR_MRI_BRAIN_WWO-83151            3-MRHG_FLAIR_AX-38966_TC_shifted.nii.gz  /working/lupolab/julia/tcia_analysis/nvidia/ev...  as_idh_mut  TCGA-GBM           gbm_nos\n",
       "4  TCGA-06-0648    11-AX_T1_POST_GD_FLAIR-02197a_TC_shifted.nii.gz  /working/lupolab/julia/tcia_analysis/nvidia/ev...  TCGA-GBM                   01-20-2006-51419              6-AXIAL_FLAIR-80030_TC_shifted.nii.gz  /working/lupolab/julia/tcia_analysis/nvidia/ev...  gbm_idh_wt  TCGA-GBM             IDHwt"
      ]
     },
     "execution_count": 105,
     "metadata": {},
     "output_type": "execute_result"
    }
   ],
   "source": [
    "seg_w_outcome.head()"
   ]
  },
  {
   "cell_type": "code",
   "execution_count": 106,
   "metadata": {},
   "outputs": [
    {
     "data": {
      "text/plain": [
       "gbm_idh_wt      107\n",
       "as_idh_mut       81\n",
       "od_1p19codel     27\n",
       "gbm_nos           2\n",
       "Name: outcome, dtype: int64"
      ]
     },
     "execution_count": 106,
     "metadata": {},
     "output_type": "execute_result"
    }
   ],
   "source": [
    "seg_w_outcome.outcome.value_counts()"
   ]
  },
  {
   "cell_type": "code",
   "execution_count": 107,
   "metadata": {},
   "outputs": [
    {
     "data": {
      "text/plain": [
       "0       TCGA-06-0240\n",
       "14      TCGA-06-0162\n",
       "16      TCGA-06-0165\n",
       "72      TCGA-76-4932\n",
       "74      TCGA-06-0147\n",
       "96      TCGA-14-0865\n",
       "97      TCGA-06-0156\n",
       "102     TCGA-12-1601\n",
       "136     TCGA-HT-A61A\n",
       "147    TCGA-EZ-7264A\n",
       "164    TCGA-EZ-7265A\n",
       "203     TCGA-DU-7014\n",
       "Name: patient_id, dtype: object"
      ]
     },
     "execution_count": 107,
     "metadata": {},
     "output_type": "execute_result"
    }
   ],
   "source": [
    "seg_w_outcome.loc[seg_w_outcome.outcome.isnull()].patient_id"
   ]
  },
  {
   "cell_type": "markdown",
   "metadata": {},
   "source": [
    "## Adding in missing patients: "
   ]
  },
  {
   "cell_type": "code",
   "execution_count": 108,
   "metadata": {},
   "outputs": [],
   "source": [
    "missing_patients = pd.read_table(Path(PATH, 'cnn_analysis/who_subtype/data/raw_csvs/missing_patients.tsv'))"
   ]
  },
  {
   "cell_type": "code",
   "execution_count": 109,
   "metadata": {},
   "outputs": [
    {
     "data": {
      "text/html": [
       "<div>\n",
       "<style scoped>\n",
       "    .dataframe tbody tr th:only-of-type {\n",
       "        vertical-align: middle;\n",
       "    }\n",
       "\n",
       "    .dataframe tbody tr th {\n",
       "        vertical-align: top;\n",
       "    }\n",
       "\n",
       "    .dataframe thead th {\n",
       "        text-align: right;\n",
       "    }\n",
       "</style>\n",
       "<table border=\"1\" class=\"dataframe\">\n",
       "  <thead>\n",
       "    <tr style=\"text-align: right;\">\n",
       "      <th></th>\n",
       "      <th>Study ID</th>\n",
       "      <th>Patient ID</th>\n",
       "      <th>Sample ID</th>\n",
       "      <th>Absolute Extract Ploidy</th>\n",
       "      <th>Diagnosis Age</th>\n",
       "      <th>ATRX status</th>\n",
       "      <th>BCR Status</th>\n",
       "      <th>BRAF-KIAA1549 fusion</th>\n",
       "      <th>BRAF V600E status</th>\n",
       "      <th>Cancer Type</th>\n",
       "      <th>Cancer Type Detailed</th>\n",
       "      <th>Chr 19/20 co-gain</th>\n",
       "      <th>Chr 7 gain/Chr 10 loss</th>\n",
       "      <th>DAXX status</th>\n",
       "      <th>ESTIMATE combined score</th>\n",
       "      <th>ESTIMATE immune score</th>\n",
       "      <th>ESTIMATE stromal score</th>\n",
       "      <th>Neoplasm Histologic Grade</th>\n",
       "      <th>Neoplasm Histologic Type Name</th>\n",
       "      <th>HM27</th>\n",
       "      <th>HM450</th>\n",
       "      <th>IDH-1P10Q Subtype</th>\n",
       "      <th>IDH/codel subtype</th>\n",
       "      <th>IDH-specific DNA Methylation Cluster</th>\n",
       "      <th>IDH-specific RNA Expression Cluster</th>\n",
       "      <th>IDH status</th>\n",
       "      <th>Karnofsky Performance Score</th>\n",
       "      <th>MGMT promoter status</th>\n",
       "      <th>Mutation Count</th>\n",
       "      <th>Oncotree Code</th>\n",
       "      <th>Original Subtype</th>\n",
       "      <th>Overall Survival (Months)</th>\n",
       "      <th>Overall Survival Status</th>\n",
       "      <th>Pan-Glioma DNA Methylation Cluster</th>\n",
       "      <th>Pan-Glioma RNA Expression Cluster</th>\n",
       "      <th>Percent aneuploidy</th>\n",
       "      <th>Absolute Purity</th>\n",
       "      <th>Random Forest Sturm Cluster</th>\n",
       "      <th>RNA-SEQ Data</th>\n",
       "      <th>RPPA</th>\n",
       "      <th>RPPA Cluster</th>\n",
       "      <th>Number of Samples Per Patient</th>\n",
       "      <th>Sex</th>\n",
       "      <th>SNP6</th>\n",
       "      <th>Study</th>\n",
       "      <th>Supervised DNA Methylation Cluster</th>\n",
       "      <th>Telomere length estimate in blood normal (Kb)</th>\n",
       "      <th>Telomere length estimate in tumor (Kb)</th>\n",
       "      <th>Telomere Maintenance</th>\n",
       "      <th>TERT expression (log2)</th>\n",
       "      <th>TERT expression status</th>\n",
       "      <th>TERT promoter status</th>\n",
       "      <th>Tissue Source Site</th>\n",
       "      <th>Transcriptome Subtype</th>\n",
       "      <th>U133a</th>\n",
       "      <th>Whole Exome Sequencing</th>\n",
       "      <th>Whole Genome Sequencing</th>\n",
       "    </tr>\n",
       "  </thead>\n",
       "  <tbody>\n",
       "    <tr>\n",
       "      <th>0</th>\n",
       "      <td>lgggbm_tcga_pub</td>\n",
       "      <td>TCGA-06-0147</td>\n",
       "      <td>TCGA-06-0147-01</td>\n",
       "      <td>NaN</td>\n",
       "      <td>51.0</td>\n",
       "      <td>NaN</td>\n",
       "      <td>IGC</td>\n",
       "      <td>NaN</td>\n",
       "      <td>NaN</td>\n",
       "      <td>Glioma</td>\n",
       "      <td>Diffuse Glioma</td>\n",
       "      <td>No chr 19/20 gain</td>\n",
       "      <td>No combined CNA</td>\n",
       "      <td>NaN</td>\n",
       "      <td>NaN</td>\n",
       "      <td>NaN</td>\n",
       "      <td>NaN</td>\n",
       "      <td>G4</td>\n",
       "      <td>glioblastoma</td>\n",
       "      <td>Yes</td>\n",
       "      <td>No</td>\n",
       "      <td>Non-codel</td>\n",
       "      <td>IDHwt</td>\n",
       "      <td>IDHwt-K2</td>\n",
       "      <td>NaN</td>\n",
       "      <td>WT</td>\n",
       "      <td>NaN</td>\n",
       "      <td>Methylated</td>\n",
       "      <td>NaN</td>\n",
       "      <td>DIFG</td>\n",
       "      <td>Mesenchymal</td>\n",
       "      <td>17.8</td>\n",
       "      <td>DECEASED</td>\n",
       "      <td>LGm5</td>\n",
       "      <td>LGr4</td>\n",
       "      <td>0.144902</td>\n",
       "      <td>NaN</td>\n",
       "      <td>NaN</td>\n",
       "      <td>No</td>\n",
       "      <td>No</td>\n",
       "      <td>NaN</td>\n",
       "      <td>1</td>\n",
       "      <td>Female</td>\n",
       "      <td>Yes</td>\n",
       "      <td>Glioblastoma multiforme</td>\n",
       "      <td>Mesenchymal-like</td>\n",
       "      <td>NaN</td>\n",
       "      <td>NaN</td>\n",
       "      <td>NaN</td>\n",
       "      <td>NaN</td>\n",
       "      <td>NaN</td>\n",
       "      <td>NaN</td>\n",
       "      <td>Henry Ford Hospital</td>\n",
       "      <td>ME</td>\n",
       "      <td>Yes</td>\n",
       "      <td>No</td>\n",
       "      <td>No</td>\n",
       "    </tr>\n",
       "    <tr>\n",
       "      <th>1</th>\n",
       "      <td>lgggbm_tcga_pub</td>\n",
       "      <td>TCGA-06-0156</td>\n",
       "      <td>TCGA-06-0156-01</td>\n",
       "      <td>NaN</td>\n",
       "      <td>57.0</td>\n",
       "      <td>NaN</td>\n",
       "      <td>IGC</td>\n",
       "      <td>WT</td>\n",
       "      <td>NaN</td>\n",
       "      <td>Glioma</td>\n",
       "      <td>Diffuse Glioma</td>\n",
       "      <td>NaN</td>\n",
       "      <td>NaN</td>\n",
       "      <td>NaN</td>\n",
       "      <td>3897.975</td>\n",
       "      <td>2334.814</td>\n",
       "      <td>1563.161</td>\n",
       "      <td>G4</td>\n",
       "      <td>glioblastoma</td>\n",
       "      <td>No</td>\n",
       "      <td>No</td>\n",
       "      <td>NaN</td>\n",
       "      <td>NaN</td>\n",
       "      <td>NaN</td>\n",
       "      <td>IDHmut-R3</td>\n",
       "      <td>Mutant</td>\n",
       "      <td>NaN</td>\n",
       "      <td>NaN</td>\n",
       "      <td>NaN</td>\n",
       "      <td>DIFG</td>\n",
       "      <td>Proneural</td>\n",
       "      <td>5.8</td>\n",
       "      <td>DECEASED</td>\n",
       "      <td>NaN</td>\n",
       "      <td>LGr4</td>\n",
       "      <td>NaN</td>\n",
       "      <td>NaN</td>\n",
       "      <td>NaN</td>\n",
       "      <td>Yes</td>\n",
       "      <td>Yes</td>\n",
       "      <td>K1</td>\n",
       "      <td>1</td>\n",
       "      <td>Male</td>\n",
       "      <td>No</td>\n",
       "      <td>Glioblastoma multiforme</td>\n",
       "      <td>NaN</td>\n",
       "      <td>NaN</td>\n",
       "      <td>NaN</td>\n",
       "      <td>NaN</td>\n",
       "      <td>4.906891</td>\n",
       "      <td>Expressed</td>\n",
       "      <td>NaN</td>\n",
       "      <td>Henry Ford Hospital</td>\n",
       "      <td>ME</td>\n",
       "      <td>Yes</td>\n",
       "      <td>Yes</td>\n",
       "      <td>No</td>\n",
       "    </tr>\n",
       "    <tr>\n",
       "      <th>2</th>\n",
       "      <td>lgggbm_tcga_pub</td>\n",
       "      <td>TCGA-06-0162</td>\n",
       "      <td>TCGA-06-0162-01</td>\n",
       "      <td>1.85</td>\n",
       "      <td>47.0</td>\n",
       "      <td>NaN</td>\n",
       "      <td>IGC</td>\n",
       "      <td>NaN</td>\n",
       "      <td>NaN</td>\n",
       "      <td>Glioma</td>\n",
       "      <td>Diffuse Glioma</td>\n",
       "      <td>No chr 19/20 gain</td>\n",
       "      <td>No combined CNA</td>\n",
       "      <td>NaN</td>\n",
       "      <td>NaN</td>\n",
       "      <td>NaN</td>\n",
       "      <td>NaN</td>\n",
       "      <td>G4</td>\n",
       "      <td>glioblastoma</td>\n",
       "      <td>No</td>\n",
       "      <td>No</td>\n",
       "      <td>Non-codel</td>\n",
       "      <td>NaN</td>\n",
       "      <td>NaN</td>\n",
       "      <td>NaN</td>\n",
       "      <td>NaN</td>\n",
       "      <td>60.0</td>\n",
       "      <td>NaN</td>\n",
       "      <td>NaN</td>\n",
       "      <td>DIFG</td>\n",
       "      <td>Neural</td>\n",
       "      <td>3.4</td>\n",
       "      <td>DECEASED</td>\n",
       "      <td>NaN</td>\n",
       "      <td>LGr4</td>\n",
       "      <td>0.386795</td>\n",
       "      <td>0.67</td>\n",
       "      <td>NaN</td>\n",
       "      <td>No</td>\n",
       "      <td>No</td>\n",
       "      <td>NaN</td>\n",
       "      <td>1</td>\n",
       "      <td>Female</td>\n",
       "      <td>Yes</td>\n",
       "      <td>Glioblastoma multiforme</td>\n",
       "      <td>NaN</td>\n",
       "      <td>NaN</td>\n",
       "      <td>NaN</td>\n",
       "      <td>NaN</td>\n",
       "      <td>NaN</td>\n",
       "      <td>NaN</td>\n",
       "      <td>NaN</td>\n",
       "      <td>Henry Ford Hospital</td>\n",
       "      <td>NE</td>\n",
       "      <td>Yes</td>\n",
       "      <td>No</td>\n",
       "      <td>No</td>\n",
       "    </tr>\n",
       "    <tr>\n",
       "      <th>3</th>\n",
       "      <td>lgggbm_tcga_pub</td>\n",
       "      <td>TCGA-06-0165</td>\n",
       "      <td>TCGA-06-0165-01</td>\n",
       "      <td>NaN</td>\n",
       "      <td>52.0</td>\n",
       "      <td>WT</td>\n",
       "      <td>IGC</td>\n",
       "      <td>NaN</td>\n",
       "      <td>WT</td>\n",
       "      <td>Glioma</td>\n",
       "      <td>Diffuse Glioma</td>\n",
       "      <td>No chr 19/20 gain</td>\n",
       "      <td>No combined CNA</td>\n",
       "      <td>WT</td>\n",
       "      <td>NaN</td>\n",
       "      <td>NaN</td>\n",
       "      <td>NaN</td>\n",
       "      <td>G4</td>\n",
       "      <td>glioblastoma</td>\n",
       "      <td>No</td>\n",
       "      <td>No</td>\n",
       "      <td>Non-codel</td>\n",
       "      <td>IDHwt</td>\n",
       "      <td>NaN</td>\n",
       "      <td>NaN</td>\n",
       "      <td>WT</td>\n",
       "      <td>90.0</td>\n",
       "      <td>NaN</td>\n",
       "      <td>NaN</td>\n",
       "      <td>DIFG</td>\n",
       "      <td>NaN</td>\n",
       "      <td>10.6</td>\n",
       "      <td>DECEASED</td>\n",
       "      <td>NaN</td>\n",
       "      <td>NaN</td>\n",
       "      <td>NaN</td>\n",
       "      <td>NaN</td>\n",
       "      <td>NaN</td>\n",
       "      <td>No</td>\n",
       "      <td>No</td>\n",
       "      <td>NaN</td>\n",
       "      <td>1</td>\n",
       "      <td>Male</td>\n",
       "      <td>Yes</td>\n",
       "      <td>Glioblastoma multiforme</td>\n",
       "      <td>NaN</td>\n",
       "      <td>NaN</td>\n",
       "      <td>NaN</td>\n",
       "      <td>NaN</td>\n",
       "      <td>NaN</td>\n",
       "      <td>NaN</td>\n",
       "      <td>NaN</td>\n",
       "      <td>Henry Ford Hospital</td>\n",
       "      <td>NaN</td>\n",
       "      <td>No</td>\n",
       "      <td>Yes</td>\n",
       "      <td>No</td>\n",
       "    </tr>\n",
       "    <tr>\n",
       "      <th>4</th>\n",
       "      <td>lgggbm_tcga_pub</td>\n",
       "      <td>TCGA-06-0240</td>\n",
       "      <td>TCGA-06-0240-01</td>\n",
       "      <td>NaN</td>\n",
       "      <td>57.0</td>\n",
       "      <td>WT</td>\n",
       "      <td>IGC</td>\n",
       "      <td>NaN</td>\n",
       "      <td>WT</td>\n",
       "      <td>Glioma</td>\n",
       "      <td>Diffuse Glioma</td>\n",
       "      <td>No chr 19/20 gain</td>\n",
       "      <td>No combined CNA</td>\n",
       "      <td>WT</td>\n",
       "      <td>NaN</td>\n",
       "      <td>NaN</td>\n",
       "      <td>NaN</td>\n",
       "      <td>G4</td>\n",
       "      <td>glioblastoma</td>\n",
       "      <td>No</td>\n",
       "      <td>No</td>\n",
       "      <td>Non-codel</td>\n",
       "      <td>IDHwt</td>\n",
       "      <td>NaN</td>\n",
       "      <td>NaN</td>\n",
       "      <td>WT</td>\n",
       "      <td>90.0</td>\n",
       "      <td>NaN</td>\n",
       "      <td>NaN</td>\n",
       "      <td>DIFG</td>\n",
       "      <td>NaN</td>\n",
       "      <td>20.4</td>\n",
       "      <td>DECEASED</td>\n",
       "      <td>NaN</td>\n",
       "      <td>LGr2</td>\n",
       "      <td>NaN</td>\n",
       "      <td>NaN</td>\n",
       "      <td>NaN</td>\n",
       "      <td>No</td>\n",
       "      <td>No</td>\n",
       "      <td>NaN</td>\n",
       "      <td>1</td>\n",
       "      <td>Male</td>\n",
       "      <td>Yes</td>\n",
       "      <td>Glioblastoma multiforme</td>\n",
       "      <td>NaN</td>\n",
       "      <td>NaN</td>\n",
       "      <td>NaN</td>\n",
       "      <td>NaN</td>\n",
       "      <td>NaN</td>\n",
       "      <td>NaN</td>\n",
       "      <td>NaN</td>\n",
       "      <td>Henry Ford Hospital</td>\n",
       "      <td>NE</td>\n",
       "      <td>Yes</td>\n",
       "      <td>Yes</td>\n",
       "      <td>No</td>\n",
       "    </tr>\n",
       "  </tbody>\n",
       "</table>\n",
       "</div>"
      ],
      "text/plain": [
       "          Study ID    Patient ID        Sample ID  Absolute Extract Ploidy  Diagnosis Age ATRX status BCR Status BRAF-KIAA1549 fusion BRAF V600E status Cancer Type Cancer Type Detailed  Chr 19/20 co-gain Chr 7 gain/Chr 10 loss DAXX status  ESTIMATE combined score  ESTIMATE immune score  ESTIMATE stromal score Neoplasm Histologic Grade Neoplasm Histologic Type Name HM27 HM450 IDH-1P10Q Subtype IDH/codel subtype IDH-specific DNA Methylation Cluster IDH-specific RNA Expression Cluster IDH status  Karnofsky Performance Score MGMT promoter status  Mutation Count Oncotree Code Original Subtype  Overall Survival (Months) Overall Survival Status Pan-Glioma DNA Methylation Cluster Pan-Glioma RNA Expression Cluster  Percent aneuploidy  Absolute Purity Random Forest Sturm Cluster RNA-SEQ Data RPPA RPPA Cluster  Number of Samples Per Patient     Sex SNP6                    Study Supervised DNA Methylation Cluster  Telomere length estimate in blood normal (Kb)  \\\n",
       "0  lgggbm_tcga_pub  TCGA-06-0147  TCGA-06-0147-01                      NaN           51.0         NaN        IGC                  NaN               NaN      Glioma       Diffuse Glioma  No chr 19/20 gain        No combined CNA         NaN                      NaN                    NaN                     NaN                        G4                  glioblastoma  Yes    No         Non-codel             IDHwt                             IDHwt-K2                                 NaN         WT                          NaN           Methylated             NaN          DIFG      Mesenchymal                       17.8                DECEASED                               LGm5                              LGr4            0.144902              NaN                         NaN           No   No          NaN                              1  Female  Yes  Glioblastoma multiforme                   Mesenchymal-like                                            NaN   \n",
       "1  lgggbm_tcga_pub  TCGA-06-0156  TCGA-06-0156-01                      NaN           57.0         NaN        IGC                   WT               NaN      Glioma       Diffuse Glioma                NaN                    NaN         NaN                 3897.975               2334.814                1563.161                        G4                  glioblastoma   No    No               NaN               NaN                                  NaN                           IDHmut-R3     Mutant                          NaN                  NaN             NaN          DIFG        Proneural                        5.8                DECEASED                                NaN                              LGr4                 NaN              NaN                         NaN          Yes  Yes           K1                              1    Male   No  Glioblastoma multiforme                                NaN                                            NaN   \n",
       "2  lgggbm_tcga_pub  TCGA-06-0162  TCGA-06-0162-01                     1.85           47.0         NaN        IGC                  NaN               NaN      Glioma       Diffuse Glioma  No chr 19/20 gain        No combined CNA         NaN                      NaN                    NaN                     NaN                        G4                  glioblastoma   No    No         Non-codel               NaN                                  NaN                                 NaN        NaN                         60.0                  NaN             NaN          DIFG           Neural                        3.4                DECEASED                                NaN                              LGr4            0.386795             0.67                         NaN           No   No          NaN                              1  Female  Yes  Glioblastoma multiforme                                NaN                                            NaN   \n",
       "3  lgggbm_tcga_pub  TCGA-06-0165  TCGA-06-0165-01                      NaN           52.0          WT        IGC                  NaN                WT      Glioma       Diffuse Glioma  No chr 19/20 gain        No combined CNA          WT                      NaN                    NaN                     NaN                        G4                  glioblastoma   No    No         Non-codel             IDHwt                                  NaN                                 NaN         WT                         90.0                  NaN             NaN          DIFG              NaN                       10.6                DECEASED                                NaN                               NaN                 NaN              NaN                         NaN           No   No          NaN                              1    Male  Yes  Glioblastoma multiforme                                NaN                                            NaN   \n",
       "4  lgggbm_tcga_pub  TCGA-06-0240  TCGA-06-0240-01                      NaN           57.0          WT        IGC                  NaN                WT      Glioma       Diffuse Glioma  No chr 19/20 gain        No combined CNA          WT                      NaN                    NaN                     NaN                        G4                  glioblastoma   No    No         Non-codel             IDHwt                                  NaN                                 NaN         WT                         90.0                  NaN             NaN          DIFG              NaN                       20.4                DECEASED                                NaN                              LGr2                 NaN              NaN                         NaN           No   No          NaN                              1    Male  Yes  Glioblastoma multiforme                                NaN                                            NaN   \n",
       "\n",
       "   Telomere length estimate in tumor (Kb) Telomere Maintenance  TERT expression (log2) TERT expression status TERT promoter status   Tissue Source Site Transcriptome Subtype U133a Whole Exome Sequencing Whole Genome Sequencing  \n",
       "0                                     NaN                  NaN                     NaN                    NaN                  NaN  Henry Ford Hospital                    ME   Yes                     No                      No  \n",
       "1                                     NaN                  NaN                4.906891              Expressed                  NaN  Henry Ford Hospital                    ME   Yes                    Yes                      No  \n",
       "2                                     NaN                  NaN                     NaN                    NaN                  NaN  Henry Ford Hospital                    NE   Yes                     No                      No  \n",
       "3                                     NaN                  NaN                     NaN                    NaN                  NaN  Henry Ford Hospital                   NaN    No                    Yes                      No  \n",
       "4                                     NaN                  NaN                     NaN                    NaN                  NaN  Henry Ford Hospital                    NE   Yes                    Yes                      No  "
      ]
     },
     "execution_count": 109,
     "metadata": {},
     "output_type": "execute_result"
    }
   ],
   "source": [
    "missing_patients.head()"
   ]
  },
  {
   "cell_type": "code",
   "execution_count": 110,
   "metadata": {},
   "outputs": [],
   "source": [
    "cols_to_drop = [x for x in list(missing_patients.columns) if x not in ['Patient ID', 'IDH1 Mutation', 'IDH-1P10Q Subtype', 'IDH/codel subtype','IDH status', 'MGMT Status', 'Overall Survival (Months)']]"
   ]
  },
  {
   "cell_type": "code",
   "execution_count": 111,
   "metadata": {},
   "outputs": [],
   "source": [
    "missing_patients = missing_patients.drop(cols_to_drop, axis = 1)"
   ]
  },
  {
   "cell_type": "code",
   "execution_count": 112,
   "metadata": {},
   "outputs": [
    {
     "data": {
      "text/html": [
       "<div>\n",
       "<style scoped>\n",
       "    .dataframe tbody tr th:only-of-type {\n",
       "        vertical-align: middle;\n",
       "    }\n",
       "\n",
       "    .dataframe tbody tr th {\n",
       "        vertical-align: top;\n",
       "    }\n",
       "\n",
       "    .dataframe thead th {\n",
       "        text-align: right;\n",
       "    }\n",
       "</style>\n",
       "<table border=\"1\" class=\"dataframe\">\n",
       "  <thead>\n",
       "    <tr style=\"text-align: right;\">\n",
       "      <th></th>\n",
       "      <th>Patient ID</th>\n",
       "      <th>IDH-1P10Q Subtype</th>\n",
       "      <th>IDH/codel subtype</th>\n",
       "      <th>IDH status</th>\n",
       "      <th>Overall Survival (Months)</th>\n",
       "    </tr>\n",
       "  </thead>\n",
       "  <tbody>\n",
       "    <tr>\n",
       "      <th>0</th>\n",
       "      <td>TCGA-06-0147</td>\n",
       "      <td>Non-codel</td>\n",
       "      <td>IDHwt</td>\n",
       "      <td>WT</td>\n",
       "      <td>17.8</td>\n",
       "    </tr>\n",
       "    <tr>\n",
       "      <th>1</th>\n",
       "      <td>TCGA-06-0156</td>\n",
       "      <td>NaN</td>\n",
       "      <td>NaN</td>\n",
       "      <td>Mutant</td>\n",
       "      <td>5.8</td>\n",
       "    </tr>\n",
       "    <tr>\n",
       "      <th>2</th>\n",
       "      <td>TCGA-06-0162</td>\n",
       "      <td>Non-codel</td>\n",
       "      <td>NaN</td>\n",
       "      <td>NaN</td>\n",
       "      <td>3.4</td>\n",
       "    </tr>\n",
       "    <tr>\n",
       "      <th>3</th>\n",
       "      <td>TCGA-06-0165</td>\n",
       "      <td>Non-codel</td>\n",
       "      <td>IDHwt</td>\n",
       "      <td>WT</td>\n",
       "      <td>10.6</td>\n",
       "    </tr>\n",
       "    <tr>\n",
       "      <th>4</th>\n",
       "      <td>TCGA-06-0240</td>\n",
       "      <td>Non-codel</td>\n",
       "      <td>IDHwt</td>\n",
       "      <td>WT</td>\n",
       "      <td>20.4</td>\n",
       "    </tr>\n",
       "    <tr>\n",
       "      <th>5</th>\n",
       "      <td>TCGA-12-1601</td>\n",
       "      <td>NaN</td>\n",
       "      <td>NaN</td>\n",
       "      <td>WT</td>\n",
       "      <td>NaN</td>\n",
       "    </tr>\n",
       "    <tr>\n",
       "      <th>6</th>\n",
       "      <td>TCGA-14-0865</td>\n",
       "      <td>Non-codel</td>\n",
       "      <td>IDHwt</td>\n",
       "      <td>WT</td>\n",
       "      <td>16.5</td>\n",
       "    </tr>\n",
       "    <tr>\n",
       "      <th>7</th>\n",
       "      <td>TCGA-76-4932</td>\n",
       "      <td>NaN</td>\n",
       "      <td>NaN</td>\n",
       "      <td>WT</td>\n",
       "      <td>47.9</td>\n",
       "    </tr>\n",
       "    <tr>\n",
       "      <th>8</th>\n",
       "      <td>TCGA-DU-7014</td>\n",
       "      <td>Non-codel</td>\n",
       "      <td>NaN</td>\n",
       "      <td>NaN</td>\n",
       "      <td>117.3</td>\n",
       "    </tr>\n",
       "    <tr>\n",
       "      <th>9</th>\n",
       "      <td>TCGA-EZ-7264</td>\n",
       "      <td>Codel</td>\n",
       "      <td>IDHmut-codel</td>\n",
       "      <td>Mutant</td>\n",
       "      <td>14.3</td>\n",
       "    </tr>\n",
       "    <tr>\n",
       "      <th>10</th>\n",
       "      <td>TCGA-HT-A61A</td>\n",
       "      <td>Non-codel</td>\n",
       "      <td>IDHmut-non-codel</td>\n",
       "      <td>Mutant</td>\n",
       "      <td>6.4</td>\n",
       "    </tr>\n",
       "  </tbody>\n",
       "</table>\n",
       "</div>"
      ],
      "text/plain": [
       "      Patient ID IDH-1P10Q Subtype IDH/codel subtype IDH status  Overall Survival (Months)\n",
       "0   TCGA-06-0147         Non-codel             IDHwt         WT                       17.8\n",
       "1   TCGA-06-0156               NaN               NaN     Mutant                        5.8\n",
       "2   TCGA-06-0162         Non-codel               NaN        NaN                        3.4\n",
       "3   TCGA-06-0165         Non-codel             IDHwt         WT                       10.6\n",
       "4   TCGA-06-0240         Non-codel             IDHwt         WT                       20.4\n",
       "5   TCGA-12-1601               NaN               NaN         WT                        NaN\n",
       "6   TCGA-14-0865         Non-codel             IDHwt         WT                       16.5\n",
       "7   TCGA-76-4932               NaN               NaN         WT                       47.9\n",
       "8   TCGA-DU-7014         Non-codel               NaN        NaN                      117.3\n",
       "9   TCGA-EZ-7264             Codel      IDHmut-codel     Mutant                       14.3\n",
       "10  TCGA-HT-A61A         Non-codel  IDHmut-non-codel     Mutant                        6.4"
      ]
     },
     "execution_count": 112,
     "metadata": {},
     "output_type": "execute_result"
    }
   ],
   "source": [
    "missing_patients"
   ]
  },
  {
   "cell_type": "code",
   "execution_count": 113,
   "metadata": {},
   "outputs": [],
   "source": [
    "missing_patients.columns =['patient_id', '1p19q', 'idh_codel_subtype', 'idh_status', 'OS']"
   ]
  },
  {
   "cell_type": "code",
   "execution_count": 114,
   "metadata": {},
   "outputs": [],
   "source": [
    "missing_patients['outcome'],  missing_patients['cohort'] = ['' for x in missing_patients.patient_id], ['' for x in missing_patients.patient_id]\n",
    "missing_patients.at[:8, 'cohort'] = 'TCGA-GBM'\n",
    "missing_patients.at[8:, 'cohort'] = 'TCGA-LGG'"
   ]
  },
  {
   "cell_type": "code",
   "execution_count": 115,
   "metadata": {},
   "outputs": [
    {
     "data": {
      "text/html": [
       "<div>\n",
       "<style scoped>\n",
       "    .dataframe tbody tr th:only-of-type {\n",
       "        vertical-align: middle;\n",
       "    }\n",
       "\n",
       "    .dataframe tbody tr th {\n",
       "        vertical-align: top;\n",
       "    }\n",
       "\n",
       "    .dataframe thead th {\n",
       "        text-align: right;\n",
       "    }\n",
       "</style>\n",
       "<table border=\"1\" class=\"dataframe\">\n",
       "  <thead>\n",
       "    <tr style=\"text-align: right;\">\n",
       "      <th></th>\n",
       "      <th>patient_id</th>\n",
       "      <th>1p19q</th>\n",
       "      <th>idh_codel_subtype</th>\n",
       "      <th>idh_status</th>\n",
       "      <th>OS</th>\n",
       "      <th>outcome</th>\n",
       "      <th>cohort</th>\n",
       "    </tr>\n",
       "  </thead>\n",
       "  <tbody>\n",
       "    <tr>\n",
       "      <th>0</th>\n",
       "      <td>TCGA-06-0147</td>\n",
       "      <td>Non-codel</td>\n",
       "      <td>IDHwt</td>\n",
       "      <td>WT</td>\n",
       "      <td>17.8</td>\n",
       "      <td></td>\n",
       "      <td>TCGA-GBM</td>\n",
       "    </tr>\n",
       "    <tr>\n",
       "      <th>1</th>\n",
       "      <td>TCGA-06-0156</td>\n",
       "      <td>NaN</td>\n",
       "      <td>NaN</td>\n",
       "      <td>Mutant</td>\n",
       "      <td>5.8</td>\n",
       "      <td></td>\n",
       "      <td>TCGA-GBM</td>\n",
       "    </tr>\n",
       "    <tr>\n",
       "      <th>2</th>\n",
       "      <td>TCGA-06-0162</td>\n",
       "      <td>Non-codel</td>\n",
       "      <td>NaN</td>\n",
       "      <td>NaN</td>\n",
       "      <td>3.4</td>\n",
       "      <td></td>\n",
       "      <td>TCGA-GBM</td>\n",
       "    </tr>\n",
       "    <tr>\n",
       "      <th>3</th>\n",
       "      <td>TCGA-06-0165</td>\n",
       "      <td>Non-codel</td>\n",
       "      <td>IDHwt</td>\n",
       "      <td>WT</td>\n",
       "      <td>10.6</td>\n",
       "      <td></td>\n",
       "      <td>TCGA-GBM</td>\n",
       "    </tr>\n",
       "    <tr>\n",
       "      <th>4</th>\n",
       "      <td>TCGA-06-0240</td>\n",
       "      <td>Non-codel</td>\n",
       "      <td>IDHwt</td>\n",
       "      <td>WT</td>\n",
       "      <td>20.4</td>\n",
       "      <td></td>\n",
       "      <td>TCGA-GBM</td>\n",
       "    </tr>\n",
       "    <tr>\n",
       "      <th>5</th>\n",
       "      <td>TCGA-12-1601</td>\n",
       "      <td>NaN</td>\n",
       "      <td>NaN</td>\n",
       "      <td>WT</td>\n",
       "      <td>NaN</td>\n",
       "      <td></td>\n",
       "      <td>TCGA-GBM</td>\n",
       "    </tr>\n",
       "    <tr>\n",
       "      <th>6</th>\n",
       "      <td>TCGA-14-0865</td>\n",
       "      <td>Non-codel</td>\n",
       "      <td>IDHwt</td>\n",
       "      <td>WT</td>\n",
       "      <td>16.5</td>\n",
       "      <td></td>\n",
       "      <td>TCGA-GBM</td>\n",
       "    </tr>\n",
       "    <tr>\n",
       "      <th>7</th>\n",
       "      <td>TCGA-76-4932</td>\n",
       "      <td>NaN</td>\n",
       "      <td>NaN</td>\n",
       "      <td>WT</td>\n",
       "      <td>47.9</td>\n",
       "      <td></td>\n",
       "      <td>TCGA-GBM</td>\n",
       "    </tr>\n",
       "    <tr>\n",
       "      <th>8</th>\n",
       "      <td>TCGA-DU-7014</td>\n",
       "      <td>Non-codel</td>\n",
       "      <td>NaN</td>\n",
       "      <td>NaN</td>\n",
       "      <td>117.3</td>\n",
       "      <td></td>\n",
       "      <td>TCGA-LGG</td>\n",
       "    </tr>\n",
       "    <tr>\n",
       "      <th>9</th>\n",
       "      <td>TCGA-EZ-7264</td>\n",
       "      <td>Codel</td>\n",
       "      <td>IDHmut-codel</td>\n",
       "      <td>Mutant</td>\n",
       "      <td>14.3</td>\n",
       "      <td></td>\n",
       "      <td>TCGA-LGG</td>\n",
       "    </tr>\n",
       "    <tr>\n",
       "      <th>10</th>\n",
       "      <td>TCGA-HT-A61A</td>\n",
       "      <td>Non-codel</td>\n",
       "      <td>IDHmut-non-codel</td>\n",
       "      <td>Mutant</td>\n",
       "      <td>6.4</td>\n",
       "      <td></td>\n",
       "      <td>TCGA-LGG</td>\n",
       "    </tr>\n",
       "  </tbody>\n",
       "</table>\n",
       "</div>"
      ],
      "text/plain": [
       "      patient_id      1p19q idh_codel_subtype idh_status     OS outcome    cohort\n",
       "0   TCGA-06-0147  Non-codel             IDHwt         WT   17.8          TCGA-GBM\n",
       "1   TCGA-06-0156        NaN               NaN     Mutant    5.8          TCGA-GBM\n",
       "2   TCGA-06-0162  Non-codel               NaN        NaN    3.4          TCGA-GBM\n",
       "3   TCGA-06-0165  Non-codel             IDHwt         WT   10.6          TCGA-GBM\n",
       "4   TCGA-06-0240  Non-codel             IDHwt         WT   20.4          TCGA-GBM\n",
       "5   TCGA-12-1601        NaN               NaN         WT    NaN          TCGA-GBM\n",
       "6   TCGA-14-0865  Non-codel             IDHwt         WT   16.5          TCGA-GBM\n",
       "7   TCGA-76-4932        NaN               NaN         WT   47.9          TCGA-GBM\n",
       "8   TCGA-DU-7014  Non-codel               NaN        NaN  117.3          TCGA-LGG\n",
       "9   TCGA-EZ-7264      Codel      IDHmut-codel     Mutant   14.3          TCGA-LGG\n",
       "10  TCGA-HT-A61A  Non-codel  IDHmut-non-codel     Mutant    6.4          TCGA-LGG"
      ]
     },
     "execution_count": 115,
     "metadata": {},
     "output_type": "execute_result"
    }
   ],
   "source": [
    "missing_patients"
   ]
  },
  {
   "cell_type": "code",
   "execution_count": 116,
   "metadata": {},
   "outputs": [],
   "source": [
    "for idx, row in missing_patients.iterrows():\n",
    "    if row['cohort'] == 'TCGA-GBM' and row['idh_codel_subtype'] == 'IDHwt': \n",
    "        missing_patients.at[idx, 'outcome'] = 'gbm_idh_wt'\n",
    "    elif row['cohort'] == 'TCGA-GBM' and row['idh_codel_subtype'] != 'IDHwt': \n",
    "        missing_patients.at[idx, 'outcome'] = 'gbm_idh_mut'\n",
    "    elif row['cohort'] == 'TCGA-LGG' and row['idh_codel_subtype'] == 'IDHwt': \n",
    "        missing_patients.at[idx, 'outcome'] = 'as_idh_wt'\n",
    "    elif row['cohort'] == 'TCGA-LGG' and row['idh_codel_subtype'] == 'IDHmut-non-codel': \n",
    "        missing_patients.at[idx, 'outcome'] = 'as_idh_mut'\n",
    "    elif row['cohort'] == 'TCGA-LGG' and row['idh_codel_subtype'] == 'IDHmut-codel': \n",
    "        missing_patients.at[idx, 'outcome'] = 'od_1p19codel'"
   ]
  },
  {
   "cell_type": "code",
   "execution_count": 117,
   "metadata": {},
   "outputs": [
    {
     "data": {
      "text/html": [
       "<div>\n",
       "<style scoped>\n",
       "    .dataframe tbody tr th:only-of-type {\n",
       "        vertical-align: middle;\n",
       "    }\n",
       "\n",
       "    .dataframe tbody tr th {\n",
       "        vertical-align: top;\n",
       "    }\n",
       "\n",
       "    .dataframe thead th {\n",
       "        text-align: right;\n",
       "    }\n",
       "</style>\n",
       "<table border=\"1\" class=\"dataframe\">\n",
       "  <thead>\n",
       "    <tr style=\"text-align: right;\">\n",
       "      <th></th>\n",
       "      <th>patient_id</th>\n",
       "      <th>1p19q</th>\n",
       "      <th>idh_codel_subtype</th>\n",
       "      <th>idh_status</th>\n",
       "      <th>OS</th>\n",
       "      <th>outcome</th>\n",
       "      <th>cohort</th>\n",
       "    </tr>\n",
       "  </thead>\n",
       "  <tbody>\n",
       "    <tr>\n",
       "      <th>0</th>\n",
       "      <td>TCGA-06-0147</td>\n",
       "      <td>Non-codel</td>\n",
       "      <td>IDHwt</td>\n",
       "      <td>WT</td>\n",
       "      <td>17.8</td>\n",
       "      <td>gbm_idh_wt</td>\n",
       "      <td>TCGA-GBM</td>\n",
       "    </tr>\n",
       "    <tr>\n",
       "      <th>1</th>\n",
       "      <td>TCGA-06-0156</td>\n",
       "      <td>NaN</td>\n",
       "      <td>NaN</td>\n",
       "      <td>Mutant</td>\n",
       "      <td>5.8</td>\n",
       "      <td>gbm_idh_mut</td>\n",
       "      <td>TCGA-GBM</td>\n",
       "    </tr>\n",
       "    <tr>\n",
       "      <th>2</th>\n",
       "      <td>TCGA-06-0162</td>\n",
       "      <td>Non-codel</td>\n",
       "      <td>NaN</td>\n",
       "      <td>NaN</td>\n",
       "      <td>3.4</td>\n",
       "      <td>gbm_idh_mut</td>\n",
       "      <td>TCGA-GBM</td>\n",
       "    </tr>\n",
       "    <tr>\n",
       "      <th>3</th>\n",
       "      <td>TCGA-06-0165</td>\n",
       "      <td>Non-codel</td>\n",
       "      <td>IDHwt</td>\n",
       "      <td>WT</td>\n",
       "      <td>10.6</td>\n",
       "      <td>gbm_idh_wt</td>\n",
       "      <td>TCGA-GBM</td>\n",
       "    </tr>\n",
       "    <tr>\n",
       "      <th>4</th>\n",
       "      <td>TCGA-06-0240</td>\n",
       "      <td>Non-codel</td>\n",
       "      <td>IDHwt</td>\n",
       "      <td>WT</td>\n",
       "      <td>20.4</td>\n",
       "      <td>gbm_idh_wt</td>\n",
       "      <td>TCGA-GBM</td>\n",
       "    </tr>\n",
       "    <tr>\n",
       "      <th>5</th>\n",
       "      <td>TCGA-12-1601</td>\n",
       "      <td>NaN</td>\n",
       "      <td>NaN</td>\n",
       "      <td>WT</td>\n",
       "      <td>NaN</td>\n",
       "      <td>gbm_idh_mut</td>\n",
       "      <td>TCGA-GBM</td>\n",
       "    </tr>\n",
       "    <tr>\n",
       "      <th>6</th>\n",
       "      <td>TCGA-14-0865</td>\n",
       "      <td>Non-codel</td>\n",
       "      <td>IDHwt</td>\n",
       "      <td>WT</td>\n",
       "      <td>16.5</td>\n",
       "      <td>gbm_idh_wt</td>\n",
       "      <td>TCGA-GBM</td>\n",
       "    </tr>\n",
       "    <tr>\n",
       "      <th>7</th>\n",
       "      <td>TCGA-76-4932</td>\n",
       "      <td>NaN</td>\n",
       "      <td>NaN</td>\n",
       "      <td>WT</td>\n",
       "      <td>47.9</td>\n",
       "      <td>gbm_idh_mut</td>\n",
       "      <td>TCGA-GBM</td>\n",
       "    </tr>\n",
       "    <tr>\n",
       "      <th>8</th>\n",
       "      <td>TCGA-DU-7014</td>\n",
       "      <td>Non-codel</td>\n",
       "      <td>NaN</td>\n",
       "      <td>NaN</td>\n",
       "      <td>117.3</td>\n",
       "      <td></td>\n",
       "      <td>TCGA-LGG</td>\n",
       "    </tr>\n",
       "    <tr>\n",
       "      <th>9</th>\n",
       "      <td>TCGA-EZ-7264</td>\n",
       "      <td>Codel</td>\n",
       "      <td>IDHmut-codel</td>\n",
       "      <td>Mutant</td>\n",
       "      <td>14.3</td>\n",
       "      <td>od_1p19codel</td>\n",
       "      <td>TCGA-LGG</td>\n",
       "    </tr>\n",
       "    <tr>\n",
       "      <th>10</th>\n",
       "      <td>TCGA-HT-A61A</td>\n",
       "      <td>Non-codel</td>\n",
       "      <td>IDHmut-non-codel</td>\n",
       "      <td>Mutant</td>\n",
       "      <td>6.4</td>\n",
       "      <td>as_idh_mut</td>\n",
       "      <td>TCGA-LGG</td>\n",
       "    </tr>\n",
       "  </tbody>\n",
       "</table>\n",
       "</div>"
      ],
      "text/plain": [
       "      patient_id      1p19q idh_codel_subtype idh_status     OS       outcome    cohort\n",
       "0   TCGA-06-0147  Non-codel             IDHwt         WT   17.8    gbm_idh_wt  TCGA-GBM\n",
       "1   TCGA-06-0156        NaN               NaN     Mutant    5.8   gbm_idh_mut  TCGA-GBM\n",
       "2   TCGA-06-0162  Non-codel               NaN        NaN    3.4   gbm_idh_mut  TCGA-GBM\n",
       "3   TCGA-06-0165  Non-codel             IDHwt         WT   10.6    gbm_idh_wt  TCGA-GBM\n",
       "4   TCGA-06-0240  Non-codel             IDHwt         WT   20.4    gbm_idh_wt  TCGA-GBM\n",
       "5   TCGA-12-1601        NaN               NaN         WT    NaN   gbm_idh_mut  TCGA-GBM\n",
       "6   TCGA-14-0865  Non-codel             IDHwt         WT   16.5    gbm_idh_wt  TCGA-GBM\n",
       "7   TCGA-76-4932        NaN               NaN         WT   47.9   gbm_idh_mut  TCGA-GBM\n",
       "8   TCGA-DU-7014  Non-codel               NaN        NaN  117.3                TCGA-LGG\n",
       "9   TCGA-EZ-7264      Codel      IDHmut-codel     Mutant   14.3  od_1p19codel  TCGA-LGG\n",
       "10  TCGA-HT-A61A  Non-codel  IDHmut-non-codel     Mutant    6.4    as_idh_mut  TCGA-LGG"
      ]
     },
     "execution_count": 117,
     "metadata": {},
     "output_type": "execute_result"
    }
   ],
   "source": [
    "missing_patients"
   ]
  },
  {
   "cell_type": "code",
   "execution_count": 118,
   "metadata": {},
   "outputs": [
    {
     "data": {
      "text/plain": [
       "Index(['patient_id', 'outcome', 'cohort', 'idh_codel_subtype'], dtype='object')"
      ]
     },
     "execution_count": 118,
     "metadata": {},
     "output_type": "execute_result"
    }
   ],
   "source": [
    "outcomes.columns"
   ]
  },
  {
   "cell_type": "code",
   "execution_count": 119,
   "metadata": {},
   "outputs": [],
   "source": [
    "outcomes = outcomes.append(missing_patients[['patient_id', 'outcome', 'cohort', 'idh_codel_subtype']])"
   ]
  },
  {
   "cell_type": "code",
   "execution_count": 120,
   "metadata": {},
   "outputs": [],
   "source": [
    "seg_w_outcome = pd.merge(seg_df, outcomes, on = ['patient_id', 'cohort'], how = 'left')"
   ]
  },
  {
   "cell_type": "code",
   "execution_count": 121,
   "metadata": {},
   "outputs": [
    {
     "data": {
      "text/html": [
       "<div>\n",
       "<style scoped>\n",
       "    .dataframe tbody tr th:only-of-type {\n",
       "        vertical-align: middle;\n",
       "    }\n",
       "\n",
       "    .dataframe tbody tr th {\n",
       "        vertical-align: top;\n",
       "    }\n",
       "\n",
       "    .dataframe thead th {\n",
       "        text-align: right;\n",
       "    }\n",
       "</style>\n",
       "<table border=\"1\" class=\"dataframe\">\n",
       "  <thead>\n",
       "    <tr style=\"text-align: right;\">\n",
       "      <th></th>\n",
       "      <th>patient_id</th>\n",
       "      <th>seg_file_t1ca</th>\n",
       "      <th>seg_loc_t1ca</th>\n",
       "      <th>cohort</th>\n",
       "      <th>patient_exam</th>\n",
       "      <th>seg_file_fla</th>\n",
       "      <th>seg_loc_fla</th>\n",
       "      <th>outcome</th>\n",
       "      <th>idh_codel_subtype</th>\n",
       "    </tr>\n",
       "  </thead>\n",
       "  <tbody>\n",
       "    <tr>\n",
       "      <th>0</th>\n",
       "      <td>TCGA-06-0240</td>\n",
       "      <td>9-AxT1-thin_for_surgery-27598a_TC_shifted.nii.gz</td>\n",
       "      <td>/working/lupolab/julia/tcia_analysis/nvidia/ev...</td>\n",
       "      <td>TCGA-GBM</td>\n",
       "      <td>07-02-2005-04728</td>\n",
       "      <td>4-AxFLAIR-thin_for_surgery-47036_TC_shifted.ni...</td>\n",
       "      <td>/working/lupolab/julia/tcia_analysis/nvidia/ev...</td>\n",
       "      <td>gbm_idh_wt</td>\n",
       "      <td>IDHwt</td>\n",
       "    </tr>\n",
       "    <tr>\n",
       "      <th>1</th>\n",
       "      <td>TCGA-06-0143</td>\n",
       "      <td>11-COR__T1_POST_GD_FLAIR-28783a_TC_shifted.nii.gz</td>\n",
       "      <td>/working/lupolab/julia/tcia_analysis/nvidia/ev...</td>\n",
       "      <td>TCGA-GBM</td>\n",
       "      <td>02-11-2005-83875</td>\n",
       "      <td>6-AXIAL_FLAIR-72192_TC_shifted.nii.gz</td>\n",
       "      <td>/working/lupolab/julia/tcia_analysis/nvidia/ev...</td>\n",
       "      <td>gbm_idh_wt</td>\n",
       "      <td>IDHwt</td>\n",
       "    </tr>\n",
       "    <tr>\n",
       "      <th>2</th>\n",
       "      <td>TCGA-06-0149</td>\n",
       "      <td>10-COR_T1_POST_GD_FLAIR-88922a_TC_shifted.nii.gz</td>\n",
       "      <td>/working/lupolab/julia/tcia_analysis/nvidia/ev...</td>\n",
       "      <td>TCGA-GBM</td>\n",
       "      <td>03-25-2003-87536</td>\n",
       "      <td>5-AXIAL_T2_FLAIR-94682_TC_shifted.nii.gz</td>\n",
       "      <td>/working/lupolab/julia/tcia_analysis/nvidia/ev...</td>\n",
       "      <td>as_idh_mut</td>\n",
       "      <td>gbm_nos</td>\n",
       "    </tr>\n",
       "    <tr>\n",
       "      <th>3</th>\n",
       "      <td>TCGA-19-0955</td>\n",
       "      <td>8-MRHG_T1_AX_POST_GAD-01973a_TC_shifted.nii.gz</td>\n",
       "      <td>/working/lupolab/julia/tcia_analysis/nvidia/ev...</td>\n",
       "      <td>TCGA-GBM</td>\n",
       "      <td>04-07-2001-NR_MRI_BRAIN_WWO-83151</td>\n",
       "      <td>3-MRHG_FLAIR_AX-38966_TC_shifted.nii.gz</td>\n",
       "      <td>/working/lupolab/julia/tcia_analysis/nvidia/ev...</td>\n",
       "      <td>as_idh_mut</td>\n",
       "      <td>gbm_nos</td>\n",
       "    </tr>\n",
       "    <tr>\n",
       "      <th>4</th>\n",
       "      <td>TCGA-06-0648</td>\n",
       "      <td>11-AX_T1_POST_GD_FLAIR-02197a_TC_shifted.nii.gz</td>\n",
       "      <td>/working/lupolab/julia/tcia_analysis/nvidia/ev...</td>\n",
       "      <td>TCGA-GBM</td>\n",
       "      <td>01-20-2006-51419</td>\n",
       "      <td>6-AXIAL_FLAIR-80030_TC_shifted.nii.gz</td>\n",
       "      <td>/working/lupolab/julia/tcia_analysis/nvidia/ev...</td>\n",
       "      <td>gbm_idh_wt</td>\n",
       "      <td>IDHwt</td>\n",
       "    </tr>\n",
       "  </tbody>\n",
       "</table>\n",
       "</div>"
      ],
      "text/plain": [
       "     patient_id                                      seg_file_t1ca                                       seg_loc_t1ca    cohort                       patient_exam                                       seg_file_fla                                        seg_loc_fla     outcome idh_codel_subtype\n",
       "0  TCGA-06-0240   9-AxT1-thin_for_surgery-27598a_TC_shifted.nii.gz  /working/lupolab/julia/tcia_analysis/nvidia/ev...  TCGA-GBM                   07-02-2005-04728  4-AxFLAIR-thin_for_surgery-47036_TC_shifted.ni...  /working/lupolab/julia/tcia_analysis/nvidia/ev...  gbm_idh_wt             IDHwt\n",
       "1  TCGA-06-0143  11-COR__T1_POST_GD_FLAIR-28783a_TC_shifted.nii.gz  /working/lupolab/julia/tcia_analysis/nvidia/ev...  TCGA-GBM                   02-11-2005-83875              6-AXIAL_FLAIR-72192_TC_shifted.nii.gz  /working/lupolab/julia/tcia_analysis/nvidia/ev...  gbm_idh_wt             IDHwt\n",
       "2  TCGA-06-0149   10-COR_T1_POST_GD_FLAIR-88922a_TC_shifted.nii.gz  /working/lupolab/julia/tcia_analysis/nvidia/ev...  TCGA-GBM                   03-25-2003-87536           5-AXIAL_T2_FLAIR-94682_TC_shifted.nii.gz  /working/lupolab/julia/tcia_analysis/nvidia/ev...  as_idh_mut           gbm_nos\n",
       "3  TCGA-19-0955     8-MRHG_T1_AX_POST_GAD-01973a_TC_shifted.nii.gz  /working/lupolab/julia/tcia_analysis/nvidia/ev...  TCGA-GBM  04-07-2001-NR_MRI_BRAIN_WWO-83151            3-MRHG_FLAIR_AX-38966_TC_shifted.nii.gz  /working/lupolab/julia/tcia_analysis/nvidia/ev...  as_idh_mut           gbm_nos\n",
       "4  TCGA-06-0648    11-AX_T1_POST_GD_FLAIR-02197a_TC_shifted.nii.gz  /working/lupolab/julia/tcia_analysis/nvidia/ev...  TCGA-GBM                   01-20-2006-51419              6-AXIAL_FLAIR-80030_TC_shifted.nii.gz  /working/lupolab/julia/tcia_analysis/nvidia/ev...  gbm_idh_wt             IDHwt"
      ]
     },
     "execution_count": 121,
     "metadata": {},
     "output_type": "execute_result"
    }
   ],
   "source": [
    "seg_w_outcome.head()"
   ]
  },
  {
   "cell_type": "code",
   "execution_count": 122,
   "metadata": {},
   "outputs": [
    {
     "data": {
      "text/plain": [
       "False    227\n",
       "True       2\n",
       "Name: outcome, dtype: int64"
      ]
     },
     "execution_count": 122,
     "metadata": {},
     "output_type": "execute_result"
    }
   ],
   "source": [
    "seg_w_outcome.outcome.isnull().value_counts()"
   ]
  },
  {
   "cell_type": "code",
   "execution_count": 123,
   "metadata": {},
   "outputs": [
    {
     "data": {
      "text/plain": [
       "gbm_idh_wt      111\n",
       "as_idh_mut       82\n",
       "od_1p19codel     27\n",
       "gbm_idh_mut       4\n",
       "gbm_nos           2\n",
       "                  1\n",
       "Name: outcome, dtype: int64"
      ]
     },
     "execution_count": 123,
     "metadata": {},
     "output_type": "execute_result"
    }
   ],
   "source": [
    "seg_w_outcome.outcome.value_counts()"
   ]
  },
  {
   "cell_type": "code",
   "execution_count": 124,
   "metadata": {},
   "outputs": [
    {
     "data": {
      "text/plain": [
       "TCGA-GBM    122\n",
       "TCGA-LGG    107\n",
       "Name: cohort, dtype: int64"
      ]
     },
     "execution_count": 124,
     "metadata": {},
     "output_type": "execute_result"
    }
   ],
   "source": [
    "seg_df.cohort.value_counts()"
   ]
  },
  {
   "cell_type": "code",
   "execution_count": 125,
   "metadata": {},
   "outputs": [
    {
     "data": {
      "text/plain": [
       "IDHmut-non-codel    57\n",
       "IDHmut-codel        27\n",
       "IDHwt               20\n",
       "Name: idh_codel_subtype, dtype: int64"
      ]
     },
     "execution_count": 125,
     "metadata": {},
     "output_type": "execute_result"
    }
   ],
   "source": [
    "seg_w_outcome.loc[seg_w_outcome.cohort == 'TCGA-LGG'].idh_codel_subtype.value_counts()"
   ]
  },
  {
   "cell_type": "code",
   "execution_count": 128,
   "metadata": {},
   "outputs": [
    {
     "data": {
      "text/plain": [
       "'/working/lupolab/julia/tcia_analysis/nvidia/eval_t1c/9-AxT1-thin_for_surgery-27598a_t1ca'"
      ]
     },
     "execution_count": 128,
     "metadata": {},
     "output_type": "execute_result"
    }
   ],
   "source": [
    "seg_w_outcome.seg_loc_t1ca[0]"
   ]
  },
  {
   "cell_type": "code",
   "execution_count": 129,
   "metadata": {},
   "outputs": [],
   "source": [
    "seg_w_outcome.to_csv(Path(PATH, 'cnn_analysis/who_subtype/data/processed_csvs/seg_map_with_outcome.csv'), index = False)"
   ]
  },
  {
   "cell_type": "code",
   "execution_count": null,
   "metadata": {},
   "outputs": [],
   "source": []
  }
 ],
 "metadata": {
  "kernelspec": {
   "display_name": "PytNEW",
   "language": "python",
   "name": "pytnew"
  },
  "language_info": {
   "codemirror_mode": {
    "name": "ipython",
    "version": 3
   },
   "file_extension": ".py",
   "mimetype": "text/x-python",
   "name": "python",
   "nbconvert_exporter": "python",
   "pygments_lexer": "ipython3",
   "version": "3.7.2"
  }
 },
 "nbformat": 4,
 "nbformat_minor": 2
}
