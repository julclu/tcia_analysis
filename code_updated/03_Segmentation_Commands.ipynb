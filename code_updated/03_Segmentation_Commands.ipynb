{
 "cells": [
  {
   "cell_type": "code",
   "execution_count": 1,
   "metadata": {},
   "outputs": [],
   "source": [
    "import os\n",
    "import glob\n",
    "import json\n",
    "from pathlib import Path\n",
    "import pandas as pd\n",
    "import subprocess as sub \n",
    "from subprocess import Popen, PIPE, STDOUT"
   ]
  },
  {
   "cell_type": "markdown",
   "metadata": {},
   "source": [
    "# 1. Change the infer.sh script"
   ]
  },
  {
   "cell_type": "code",
   "execution_count": 2,
   "metadata": {},
   "outputs": [],
   "source": [
    "PATH = Path('/working/lupolab/julia/tcia_analysis/')"
   ]
  },
  {
   "cell_type": "code",
   "execution_count": 3,
   "metadata": {},
   "outputs": [
    {
     "data": {
      "text/plain": [
       "['train_4gpu.sh',\n",
       " 'train_sge.sh',\n",
       " 'train_finetune.sh',\n",
       " 'validate.sh',\n",
       " 'replace_files.sh',\n",
       " 'train_4gpu_generic.sh',\n",
       " 'train.sh',\n",
       " 'set_env.sh',\n",
       " 'infer.sh',\n",
       " 'export.sh',\n",
       " 'test_replace.sh',\n",
       " 'train_sge_multi.sh',\n",
       " 'train_2gpu.sh']"
      ]
     },
     "execution_count": 3,
     "metadata": {},
     "output_type": "execute_result"
    }
   ],
   "source": [
    "os.listdir(Path(PATH, 'nvidia/commands'))"
   ]
  },
  {
   "cell_type": "markdown",
   "metadata": {},
   "source": [
    "Copy `infer.sh to` `infer_t1c.sh`"
   ]
  },
  {
   "cell_type": "markdown",
   "metadata": {},
   "source": [
    "`nano infer_t1c.sh`"
   ]
  },
  {
   "cell_type": "markdown",
   "metadata": {},
   "source": [
    "\n",
    "1. Change `ENVIRONMENT_FILE=config/environment.json` to `ENVIRONMENT_FILE=config/environment_t1c.json`\n",
    "2. Change `DATASET_JSON=/working/lupolab/julia/tcia_analysis/nvidia/config/config_datalist.json` to `DATASET_JSON=/working/lupolab/julia/tcia_analysis/nvidia/config/config_datalist_t1c.json`"
   ]
  },
  {
   "cell_type": "markdown",
   "metadata": {},
   "source": [
    "# 2. Change config files: "
   ]
  },
  {
   "cell_type": "markdown",
   "metadata": {},
   "source": [
    "## 2.1 environment.json"
   ]
  },
  {
   "cell_type": "markdown",
   "metadata": {},
   "source": [
    "Change `\"DATASET_JSON\": \"/working/lupolab/julia/tcia_analysis/nvidia/config/config_datalist_flair.json\"` to `\"DATASET_JSON\": \"/working/lupolab/julia/tcia_analysis/nvidia/config/config_datalist_t1c.json\"`"
   ]
  },
  {
   "cell_type": "markdown",
   "metadata": {},
   "source": [
    "Change `\"MMAR_EVAL_OUTPUT_PATH\": \"eval_t1c\"`"
   ]
  },
  {
   "cell_type": "markdown",
   "metadata": {},
   "source": [
    "# 3. Run inference: "
   ]
  },
  {
   "cell_type": "markdown",
   "metadata": {},
   "source": [
    "`singularity exec --nv -B /working/lupolab/julia/tcia_analysis:/working/lupolab/julia/tcia_analysis -B /scratch/sf673542:/scratch --pwd $PWD /data/i2/nvidia/singularity/clara-train-sdk-v2-api.img ./infer_t1c.sh`"
   ]
  },
  {
   "cell_type": "markdown",
   "metadata": {},
   "source": [
    "Note, stalled on index 9 (batch 10) so I got rid of i"
   ]
  },
  {
   "cell_type": "code",
   "execution_count": null,
   "metadata": {},
   "outputs": [],
   "source": []
  }
 ],
 "metadata": {
  "kernelspec": {
   "display_name": "Fastai SVCF",
   "language": "python",
   "name": "fastai"
  },
  "language_info": {
   "codemirror_mode": {
    "name": "ipython",
    "version": 3
   },
   "file_extension": ".py",
   "mimetype": "text/x-python",
   "name": "python",
   "nbconvert_exporter": "python",
   "pygments_lexer": "ipython3",
   "version": "3.7.2"
  }
 },
 "nbformat": 4,
 "nbformat_minor": 2
}
