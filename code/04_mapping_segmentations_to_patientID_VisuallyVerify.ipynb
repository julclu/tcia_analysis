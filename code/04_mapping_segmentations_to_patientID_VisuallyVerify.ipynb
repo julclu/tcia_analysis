{
 "cells": [
  {
   "cell_type": "code",
   "execution_count": 64,
   "metadata": {},
   "outputs": [],
   "source": [
    "import os \n",
    "import glob\n",
    "from pathlib import Path\n",
    "import pandas as pd \n",
    "import numpy as np \n",
    "import nibabel as nib \n",
    "import json"
   ]
  },
  {
   "cell_type": "code",
   "execution_count": 65,
   "metadata": {},
   "outputs": [],
   "source": [
    "gbm_patients = os.listdir('/working/lupolab/julia/tcia_analysis/datasets/TCGA-GBM-nifti')"
   ]
  },
  {
   "cell_type": "code",
   "execution_count": 66,
   "metadata": {},
   "outputs": [],
   "source": [
    "lgg_patients = os.listdir('/working/lupolab/julia/tcia_analysis/datasets/TCGA-LGG-nifti')"
   ]
  },
  {
   "cell_type": "markdown",
   "metadata": {},
   "source": [
    "## We need to map the segmentations that are seemingly randomly named from one of the T1, T2, T2-FLAIR or T1C nifti images that were fed to the algorithm"
   ]
  },
  {
   "cell_type": "code",
   "execution_count": 67,
   "metadata": {},
   "outputs": [],
   "source": [
    "series_folders_with_segs = os.listdir('/working/lupolab/julia/tcia_analysis/segmentation_mri_brain_tumors_br16_full_v1/eval_strip')"
   ]
  },
  {
   "cell_type": "code",
   "execution_count": 68,
   "metadata": {},
   "outputs": [],
   "source": [
    "patient = gbm_patients[0]"
   ]
  },
  {
   "cell_type": "code",
   "execution_count": 69,
   "metadata": {},
   "outputs": [],
   "source": [
    "root_dir = \"/working/lupolab/julia/tcia_analysis/datasets/TCGA-GBM-nifti\""
   ]
  },
  {
   "cell_type": "code",
   "execution_count": 70,
   "metadata": {},
   "outputs": [],
   "source": [
    "# [x.split('/')[-1] for x in glob.glob(root_dir+\"/\"+patient+\"/*/*\")]"
   ]
  },
  {
   "cell_type": "code",
   "execution_count": 71,
   "metadata": {},
   "outputs": [
    {
     "data": {
      "text/plain": [
       "['/working/lupolab/julia/tcia_analysis/datasets/TCGA-GBM-nifti/TCGA-06-0210/08-17-1995-19584/1-SAG_LOCAL-29333.nii.gz',\n",
       " '/working/lupolab/julia/tcia_analysis/datasets/TCGA-GBM-nifti/TCGA-06-0210/08-17-1995-19584/3-AXIAL_T1-88865.nii.gz',\n",
       " '/working/lupolab/julia/tcia_analysis/datasets/TCGA-GBM-nifti/TCGA-06-0210/08-17-1995-19584/2-AXIAL_T2-83081.nii.gz',\n",
       " '/working/lupolab/julia/tcia_analysis/datasets/TCGA-GBM-nifti/TCGA-06-0210/08-17-1995-19584/4-AXIAL_T1_POST_GD-64939.nii.gz']"
      ]
     },
     "execution_count": 71,
     "metadata": {},
     "output_type": "execute_result"
    }
   ],
   "source": [
    "glob.glob(root_dir+\"/\"+patient+\"/*/*\")"
   ]
  },
  {
   "cell_type": "code",
   "execution_count": 72,
   "metadata": {},
   "outputs": [],
   "source": [
    "gbm_patientID_to_seriesID = {}\n",
    "for patient in gbm_patients: \n",
    "    gbm_patientID_to_seriesID[patient] = [x.split('/')[-1].split('.')[0:-2][0] for x in glob.glob(root_dir+\"/\"+patient+\"/*/*\")]"
   ]
  },
  {
   "cell_type": "code",
   "execution_count": 73,
   "metadata": {},
   "outputs": [],
   "source": [
    "root_dir = \"/working/lupolab/julia/tcia_analysis/datasets/TCGA-LGG-nifti\""
   ]
  },
  {
   "cell_type": "code",
   "execution_count": 74,
   "metadata": {},
   "outputs": [],
   "source": [
    "lgg_patientID_to_seriesID = {}\n",
    "for patient in lgg_patients: \n",
    "    lgg_patientID_to_seriesID[patient] = [x.split('/')[-1].split('.')[0:-2][0] for x in glob.glob(root_dir+\"/\"+patient+\"/*/*\")]"
   ]
  },
  {
   "cell_type": "code",
   "execution_count": 75,
   "metadata": {},
   "outputs": [],
   "source": [
    "# gbm_patientID_to_seriesID"
   ]
  },
  {
   "cell_type": "code",
   "execution_count": 76,
   "metadata": {},
   "outputs": [],
   "source": [
    "mapping_dict = {}"
   ]
  },
  {
   "cell_type": "code",
   "execution_count": 77,
   "metadata": {},
   "outputs": [],
   "source": [
    "for idx, i in enumerate(series_folders_with_segs): \n",
    "    for key, value in gbm_patientID_to_seriesID.items(): \n",
    "        if i in value: \n",
    "#             print(idx, i, key)\n",
    "            mapping_dict[i] = key"
   ]
  },
  {
   "cell_type": "code",
   "execution_count": 78,
   "metadata": {},
   "outputs": [],
   "source": [
    "for idx, i in enumerate(series_folders_with_segs): \n",
    "    for key, value in lgg_patientID_to_seriesID.items(): \n",
    "        if i in value: \n",
    "#             print(idx, i, key)\n",
    "            mapping_dict[i] = key"
   ]
  },
  {
   "cell_type": "code",
   "execution_count": 79,
   "metadata": {},
   "outputs": [
    {
     "data": {
      "text/plain": [
       "{'10-AX_T1_POST_GD_FLAIR-95256a_n': 'TCGA-06-0241',\n",
       " '9-AX_T1_POST_GD_FLAIR-32350a_n': 'TCGA-06-0171',\n",
       " '15-Ax_SE_T1_Post-42502a_n': 'TCGA-02-0087',\n",
       " '6-AX_T1_POST-52648a_n': 'TCGA-02-0116',\n",
       " '11-AX_T1_POST_GD_FLAIR-15818a_n': 'TCGA-06-2570',\n",
       " '6-AX_T1_POST-64479a_n': 'TCGA-02-0037',\n",
       " '8-Ax_T1_2': 'TCGA-DU-5851',\n",
       " '8-AXIAL_T1_GD-71120a_n': 'TCGA-06-0127',\n",
       " '10-AX_T1_POST_GD_FLAIR-80095a_n': 'TCGA-06-0881',\n",
       " '13-AxT1-thin_for_surgery-12089a_n': 'TCGA-06-0182',\n",
       " '6-3D_SPGR_AX-79240a_n': 'TCGA-08-0521',\n",
       " '12-AX_T1_POST_GD_FLAIR-37089a_n': 'TCGA-06-0138',\n",
       " '10-3d_T1_FSPGR__CONT-32567a_n': 'TCGA-08-0389',\n",
       " '801-brain_with_AX_T1_POST-26488a_n': 'TCGA-14-1395',\n",
       " '901-BRAIN_WWO_T1_POST-50983a_n': 'TCGA-14-0813',\n",
       " '10-AX_T1_POST_GD_FLAIR-65253a_n': 'TCGA-06-0644',\n",
       " '12-AX_T1_POST_GD_FLAIR-61610a_n': 'TCGA-06-1802',\n",
       " '2-Ax_T1_SE-18545a_n': 'TCGA-14-1459',\n",
       " '2-ax_t1_c-85616a_n': 'TCGA-12-1093',\n",
       " '9-AxT1-thin_for_surgery-27598a_n': 'TCGA-06-0240',\n",
       " '9-AXIAL_T1_GD-34814a_n': 'TCGA-06-0176',\n",
       " '12-AxT1-thin_for_surgery-42560a_n': 'TCGA-06-0187',\n",
       " '1201-BRAIN_WWO_T1_POST-04167a_n': 'TCGA-14-1401',\n",
       " '801-NABITT_____AX_T1_POST-33921a_n': 'TCGA-14-1402',\n",
       " '13-AX_T1_POST_GD_FLAIR-17395a_n': 'TCGA-06-5417',\n",
       " '10-AXIAL_T1_GD-80908a_n': 'TCGA-06-0132',\n",
       " '6-3D_SPGR_AX-57389a_n': 'TCGA-08-0360',\n",
       " '6-AX_T1_POST-54190a_n': 'TCGA-02-0048',\n",
       " '801-brain_with_AX_T1_POST-15005a_n': 'TCGA-14-1453',\n",
       " '18-T1_AX_POST-73832a_n': 'TCGA-12-0829',\n",
       " '10-AX_T1_POST_GD_FLAIR-07635a_n': 'TCGA-06-0192',\n",
       " '8-AX_T1_FLAIR_C-45978a_n': 'TCGA-06-1801',\n",
       " '601-Brain______T1_AX_POST___TRA____SE____627_______15____-09503a_n': 'TCGA-14-0871',\n",
       " '11-AXIAL_T1_POST_GD-54779a_n': 'TCGA-06-0164',\n",
       " '11-AXIAL_T1_GD-28546a_n': 'TCGA-06-0142',\n",
       " '10-AX_T1_POST_GD_FLAIR-05388a_n': 'TCGA-06-0139',\n",
       " '9-AX_T1_POST_GD_FLAIR-62729a_n': 'TCGA-06-0878',\n",
       " '6-AX_T1_POST-23335a_n': 'TCGA-02-0085',\n",
       " '901-BRAIN______T1_AX_POST-47275a_n': 'TCGA-14-0817',\n",
       " '14-Ax_SE_T1_Post-47437a_n': 'TCGA-02-0059',\n",
       " '1401-T1_SAG_POST-07378a_n': 'TCGA-76-6664',\n",
       " '9-AX_T1_POST-76909a_n': 'TCGA-02-0068',\n",
       " '9-Ax_T1_2': 'TCGA-06-0645',\n",
       " '13-MRHR_T1_AX_POST_GAD-93013a_n': 'TCGA-19-2624',\n",
       " '7-3D_SPGR_AX-36833a_n': 'TCGA-08-0529',\n",
       " '13-AX_T1_POST-03821a_n': 'TCGA-02-0034',\n",
       " '6-t1secor_5mm-62600a_n': 'TCGA-27-2524',\n",
       " '801-T1_AX_POST-06170a_n': 'TCGA-06-0649',\n",
       " '9-MRHG_T1_AX_Gd-93615a_n': 'TCGA-19-1390',\n",
       " '601-brain_with_AX_T1_POST-65155a_n': 'TCGA-14-1037',\n",
       " '13-AX_T1_POST_GD_FLAIR-16002a_n': 'TCGA-06-0121',\n",
       " '9-T1_AXIAL_Gd-31768a_n': 'TCGA-19-5960',\n",
       " '7-MRHG_T1_AX_POST_GAD-07452a_n': 'TCGA-19-1388',\n",
       " '6-AX_T1_POST-51465a_n': 'TCGA-02-0033',\n",
       " '11-AX_T1_POST_GD_FLAIR-02197a_n': 'TCGA-06-0648',\n",
       " '10-AXIAL_T1_GD-65337a_n': 'TCGA-06-0168',\n",
       " '6-3D_SPGR_AX-29720a_n': 'TCGA-08-0355',\n",
       " '7-BRAINSTRYKERt1AX-94711a_n': 'TCGA-76-6285',\n",
       " '901-BRAIN_WOW_AX_T1_POST-86504a_n': 'TCGA-14-0812',\n",
       " '17-Ax_SE_T1_Post-08723a_n': 'TCGA-02-0075',\n",
       " '13-AX_T1_POST_GD_FLAIR-81821a_n': 'TCGA-06-5413',\n",
       " '901-T1_AX_POST-37946a_n': 'TCGA-14-0789',\n",
       " '14-AX_T1_POST_GD_FLAIR-85362a_n': 'TCGA-06-5412',\n",
       " '10-AXIAL_T1_GD-78761a_n': 'TCGA-06-0145',\n",
       " '1001-T1_AX_POST-07058a_n': 'TCGA-14-1456',\n",
       " '7-AX_3D_SPGR_GAD-17095a_n': 'TCGA-08-0356',\n",
       " '7-t1secor_5mm-17757a_n': 'TCGA-27-1836',\n",
       " '7-Ax_SE_T1_Post-25755a_n': 'TCGA-02-0027',\n",
       " '10-AXIAL_T1_C-24985a_n': 'TCGA-02-0070',\n",
       " '9-AXIAL_T1_C-28466a_n': 'TCGA-02-0069',\n",
       " '8-AX_SPGR_3D-23898a_n': 'TCGA-08-0390',\n",
       " '6-AX_T1_POST-08177a_n': 'TCGA-02-0106',\n",
       " '2-ax_t1c-66912a_n': 'TCGA-12-1601',\n",
       " '11-MRHG_T1_AX_POST_GAD-32132a_n': 'TCGA-19-0955',\n",
       " '10-T1_AXIAL__POST-97398a_n': 'TCGA-12-1098',\n",
       " '14-3D_AX_FSPGR_POST-81939a_n': 'TCGA-02-0060',\n",
       " '8-T1_AX_POST_GAD-12257a_n': 'TCGA-08-0358',\n",
       " '7-POST_AX_T1-19749a_n': 'TCGA-12-1094',\n",
       " '8-AXIAL_T1_GD-58362a_n': 'TCGA-06-0188',\n",
       " '501-QUICK_HEADST1_AX_POST___TRA____SE____500_______15____-37980a_n': 'TCGA-14-0736',\n",
       " '3-3D_SPGR_AX-13292a_n': 'TCGA-08-0520',\n",
       " '9-AX_T1_POST-33611a_n': 'TCGA-02-0054',\n",
       " '6-AX_T1_POST-23284a_n': 'TCGA-02-0011',\n",
       " '8-GD_AX_T1-63316a_n': 'TCGA-06-0143',\n",
       " '10-AX_T1_POST_GD_FLAIR-11824a_n': 'TCGA-06-0646',\n",
       " '14-Ax_SE_T1_Post-12227a_n': 'TCGA-02-0064',\n",
       " '1001-T1_AX_POST-79169a_n': 'TCGA-14-1821',\n",
       " '801-T1_AX_POST-02525a_n': 'TCGA-14-1795',\n",
       " '6-AX_T1_POST-94928a_n': 'TCGA-02-0102',\n",
       " '11-AX_T1_POST_GD_FLAIR-18829a_n': 'TCGA-06-0130',\n",
       " '7-AXIAL_T1_GD-06033a_n': 'TCGA-06-0133',\n",
       " '9-AX_T1_PostFIL-17853a_n': 'TCGA-14-3477',\n",
       " '11-AX_T1_POST-86265a_n': 'TCGA-02-0086',\n",
       " '10-AXIAL_T1_GD-48895a_n': 'TCGA-06-0175',\n",
       " '8-AXIAL_T1_GD-27646a_n': 'TCGA-06-0137',\n",
       " '1301-T1_AX_SE_FS_POST-40917a_n': 'TCGA-76-4935',\n",
       " '11-AxT1-thin_for_surgery-54106a_n': 'TCGA-06-0119',\n",
       " '301-Brain______T1_AX_POST___TRA____SE____507_______12____-06472a_n': 'TCGA-14-0783',\n",
       " '9-AX_T1_POST_GD_FLAIR-08425a_n': 'TCGA-06-0149',\n",
       " '10-Ax_T1_SE_POST-41828a_n': 'TCGA-14-1454',\n",
       " '7-MRHG_T1_AX_POST_GAD-84768a_n': 'TCGA-19-0963',\n",
       " '1101-T1_AX_SE_FS_POST-29108a_n': 'TCGA-76-6656',\n",
       " '7-3D_SPGR_AX-62668a_n': 'TCGA-08-0392',\n",
       " '5-AX_T1_FSE_HC-14079a_n': 'TCGA-12-0776',\n",
       " '4-3D_SPGR_AX-58233a_n': 'TCGA-08-0524',\n",
       " '10-AX_T1_POST_GD_FLAIR-24372a_n': 'TCGA-06-0178',\n",
       " '10-t1tra_post-80382a_n': 'TCGA-14-1825',\n",
       " '6-AX_T1_POST-26504a_n': 'TCGA-02-0006',\n",
       " '9-AX_T1_POST-58593a_n': 'TCGA-12-3650',\n",
       " '6-AX_T1_POST-66184a_n': 'TCGA-02-0047',\n",
       " '11-AX_T1_POST_GD_FLAIR-87636a_n': 'TCGA-06-1806',\n",
       " '901-T1_SAG_POST-35676a_n': 'TCGA-76-6280',\n",
       " '11-AX_T1_POST_GD_FLAIR-45183a_n': 'TCGA-DU-7302',\n",
       " '10-AX_3D_SPGR-35180a_n': 'TCGA-HT-8563',\n",
       " '10-AX_3D_SPGR-56128a_n': 'TCGA-HT-7602',\n",
       " '9-AX_3D_SPGR__C-46765a_n': 'TCGA-HT-8018',\n",
       " '11-Ax_T1_2': 'TCGA-DU-A5TS',\n",
       " '12-POST_Ax_T1_MP_SPGR-64353a_n': 'TCGA-HT-7879',\n",
       " '10-AX_T1_POST_GD_FLAIR-91295a_n': 'TCGA-DU-6407',\n",
       " '12-AX_T1_POST_GD_FLAIR-53586a_n': 'TCGA-DU-5849',\n",
       " '10-AX_T1_POST_GD_FLAIR-02819a_n': 'TCGA-DU-8164',\n",
       " '13-AX_T1_POST_GD_FLAIR-47091a_n': 'TCGA-DU-7018',\n",
       " '12-AX_T1_POST_GD_FLAIR-47718a_n': 'TCGA-DU-8166',\n",
       " '11-AX_3D_SPGRC-33028a_n': 'TCGA-HT-7475',\n",
       " '901-POST_AX_T1_FLAIR-75656a_n': 'TCGA-DU-A5TW',\n",
       " '6-AXIAL_T1_POST_GAD_FATSAT-04322a_n': 'TCGA-CS-4941',\n",
       " '13-Ax_T1_MP_SPGR_C-64481a_n': 'TCGA-HT-8107',\n",
       " '14-mpRAGE_AX3DSPGRFast-40697a_n': 'TCGA-HT-7472',\n",
       " '15-Axial_T1_FSE_Post_Gad-17816a_n': 'TCGA-DU-A5TU',\n",
       " '11-C_Ax_T1_MP_SPGR-28808a_n': 'TCGA-HT-A614',\n",
       " '10-AX_T1_POST_GD_FLAIR-19430a_n': 'TCGA-DU-7015',\n",
       " '10-AX_T1_POST_GD_FLAIR-15937a_n': 'TCGA-DU-A5TY',\n",
       " '12-AX_T1_POST_GD_FLAIR-28074a_n': 'TCGA-DU-5874',\n",
       " '10-T1AXMPRSEL3D-83348a_n': 'TCGA-EZ-7265A',\n",
       " '12-T1AXMPRSEL3D-14364a_n': 'TCGA-EZ-7264A',\n",
       " '13-CAX_3D_SPGR-47898a_n': 'TCGA-HT-7694',\n",
       " '9-C_SAG_T1_SE-69743a_n': 'TCGA-HT-A5R7',\n",
       " '1303-POST_AX_T1__3MM-05566a_n': 'TCGA-DU-A6S8',\n",
       " '12-POST_Ax_T1_SE-36810a_n': 'TCGA-HT-7882',\n",
       " '11-AX_T1_POST_GD_FLAIR-34098a_n': 'TCGA-DU-7019',\n",
       " '11-AX_T1_POST_GD_FLAIR-78295a_n': 'TCGA-DU-8162',\n",
       " '8-T1_AXIAL_Gd-67673a_n': 'TCGA-FG-A4MU',\n",
       " '1103-POST_AX_T1__3MM-87638a_n': 'TCGA-DU-A6S7',\n",
       " '1001-Post_AX_T1WIRTSE-01683a_n': 'TCGA-DU-A6S2',\n",
       " '12-CAX_3D_SPGR-37353a_n': 'TCGA-HT-7604',\n",
       " '10-AX_T1_POST_GD_FLAIR-49564a_n': 'TCGA-DU-7299',\n",
       " '9-AX_3D_SPGR__C-53314a_n': 'TCGA-HT-7692',\n",
       " '18-C_3D_AXIALIRSPGRFast-30837a_n': 'TCGA-HT-A61A',\n",
       " '10-AX_T1_POST_GD_FLAIR-90264a_n': 'TCGA-DU-A5TP',\n",
       " '10-AX_T1_POST_GD_FLAIR-74207a_n': 'TCGA-DU-8167',\n",
       " '10-AX_3D_SPGRC-88568a_n': 'TCGA-HT-7616',\n",
       " '1101-T1_AX_SE_FS_POST-08997a_n': 'TCGA-CS-6666',\n",
       " '11-AX_3D_SPGRC-47886a_n': 'TCGA-HT-8111',\n",
       " '12-CAX_3D_SPGR-00878a_n': 'TCGA-HT-7860',\n",
       " '11-AX_3D_SPGR-99436a_n': 'TCGA-HT-8114',\n",
       " '10-AX_T1_POST_GD_FLAIR-79006a_n': 'TCGA-DU-7304',\n",
       " '10-AX_3D_SPGR-39020a_n': 'TCGA-HT-7686',\n",
       " '12-AX_T1_POST_GD_FLAIR-79320a_n': 'TCGA-DU-8168',\n",
       " '11-AX_3D_SPGRC-52662a_n': 'TCGA-HT-7884',\n",
       " '11-t1mpragetra_Gd-45030a_n': 'TCGA-FG-A713',\n",
       " '9-AX_3D_SPGR-81510a_n': 'TCGA-HT-8113',\n",
       " '14-BRAINSTRYKERt1AX-67858a_n': 'TCGA-CS-5395',\n",
       " '12-AX_3D_SPGRC-76794a_n': 'TCGA-HT-7473',\n",
       " '3-AX_3D_SPGR-09138a_n': 'TCGA-HT-A5RC',\n",
       " '12-CAX_3D_SPGR-92286a_n': 'TCGA-HT-7680',\n",
       " '20-T1fl2dAx__Gd-43129a_n': 'TCGA-FG-A6J1',\n",
       " '1302-POST_AX_T1_BRAIN_LAB_1MM-00396a_n': 'TCGA-DU-A6S3',\n",
       " '12-AX_T1C-63038a_n': 'TCGA-HT-7688',\n",
       " '10-AX_T1_POST_GD_FLAIR-17011a_n': 'TCGA-DU-7300',\n",
       " '12-AX_T1_POST_GD_FLAIR-96133a_n': 'TCGA-DU-8165',\n",
       " '20-C_Ax_T1_MP_SPGR-72811a_n': 'TCGA-HT-7605',\n",
       " '1101-Post_AX_T1WIRTSE-89300a_n': 'TCGA-DU-A5TT',\n",
       " '11-t1mpragetra_Gd-25909a_n': 'TCGA-FG-A87N',\n",
       " '12-AX_T1_POST_GD_FLAIR-75778a_n': 'TCGA-DU-7309',\n",
       " '12-Ax_T1_MP_SPGR__GAD-05970a_n': 'TCGA-HT-7608',\n",
       " '11-AX_3D_SPGR-38668a_n': 'TCGA-HT-7874',\n",
       " '13-MRHR_T1_AX_POST_GAD-66565a_n': 'TCGA-FG-6692',\n",
       " '11-AX_T1_POST_GD_FLAIR-63849a_n': 'TCGA-DU-5871',\n",
       " '11-AX_T1_POST_GD_FLAIR-41253a_n': 'TCGA-DU-5852',\n",
       " '9-Ax_T1_FS_BRAIN_POST-73660a_n': 'TCGA-CS-6667',\n",
       " '8-AX_3D_SPGR-86734a_n': 'TCGA-HT-7856',\n",
       " '11-CAX_3D_SPGR-24306a_n': 'TCGA-HT-7693',\n",
       " '12-CAX_3D_SPGR-46928a_n': 'TCGA-HT-8106',\n",
       " '13-Ax_T1_2': 'TCGA-DU-5872',\n",
       " '11-Ax_T1_SEC-73599a_n': 'TCGA-HT-7855',\n",
       " '12-AX_T1_POST_GD_FLAIR-07772a_n': 'TCGA-DU-8163',\n",
       " '10-AX_T1_POST_GD_FLAIR-56964a_n': 'TCGA-DU-7301',\n",
       " '11-AX_T1_POST_GD_FLAIR-81300a_n': 'TCGA-DU-5853',\n",
       " '11-AX_T1_POST_GD_FLAIR-99692a_n': 'TCGA-DU-6542',\n",
       " '6-CAX_3D_SPGR_POST-39088a_n': 'TCGA-HT-7881',\n",
       " '11-AX_T1_POST_GD_FLAIR-17891a_n': 'TCGA-DU-7306',\n",
       " '14-AX_T1_LOC__PODT_GD-70066a_n': 'TCGA-DU-7294',\n",
       " '10-AX_T1_POST_GD_FLAIR-23755a_n': 'TCGA-DU-A5TR',\n",
       " '1001-T1_SE_POST-94212a_n': 'TCGA-CS-6186'}"
      ]
     },
     "execution_count": 79,
     "metadata": {},
     "output_type": "execute_result"
    }
   ],
   "source": [
    "mapping_dict"
   ]
  },
  {
   "cell_type": "code",
   "execution_count": 80,
   "metadata": {},
   "outputs": [
    {
     "data": {
      "text/plain": [
       "194"
      ]
     },
     "execution_count": 80,
     "metadata": {},
     "output_type": "execute_result"
    }
   ],
   "source": [
    "len(mapping_dict.keys())"
   ]
  },
  {
   "cell_type": "code",
   "execution_count": 81,
   "metadata": {},
   "outputs": [],
   "source": [
    "with open('segmentation_mapping.json', 'w') as fp:\n",
    "    json.dump(mapping_dict, fp)"
   ]
  },
  {
   "cell_type": "markdown",
   "metadata": {},
   "source": [
    "## Now just quickly visually spot checking a few of the segmentations to see if they are correct: "
   ]
  },
  {
   "cell_type": "code",
   "execution_count": 19,
   "metadata": {},
   "outputs": [],
   "source": [
    "## Let's investigate just a few of them to ensure that they are correct: \n",
    "import nibabel as nib\n",
    "import matplotlib.pyplot as plt"
   ]
  },
  {
   "cell_type": "code",
   "execution_count": 20,
   "metadata": {},
   "outputs": [],
   "source": [
    "%matplotlib inline"
   ]
  },
  {
   "cell_type": "markdown",
   "metadata": {},
   "source": [
    "### TCGA-06-0241"
   ]
  },
  {
   "cell_type": "code",
   "execution_count": 21,
   "metadata": {},
   "outputs": [],
   "source": [
    "t2all_vol = nib.load('/working/lupolab/julia/tcia_analysis/segmentation_mri_brain_tumors_br16_full_v1/eval_strip/10-AX_T1_POST_GD_FLAIR-95256a_n/10-AX_T1_POST_GD_FLAIR-95256a_n_WT.nii.gz')\n",
    "cel_vol = nib.load('/working/lupolab/julia/tcia_analysis/segmentation_mri_brain_tumors_br16_full_v1/eval_strip/10-AX_T1_POST_GD_FLAIR-95256a_n/10-AX_T1_POST_GD_FLAIR-95256a_n_ET.nii.gz')\n",
    "t1c_vol = nib.load('/working/lupolab/julia/tcia_analysis/datasets/TCGA-GBM-nifti/TCGA-06-0241/08-30-2005-93299/10-AX_T1_POST_GD_FLAIR-95256a_n.nii.gz')\n",
    "fla_vol = nib.load('/working/lupolab/julia/tcia_analysis/datasets/TCGA-GBM-nifti/TCGA-06-0241/08-30-2005-93299/5-AXIAL_FLAIR-99930a_n.nii.gz')\n"
   ]
  },
  {
   "cell_type": "code",
   "execution_count": 22,
   "metadata": {},
   "outputs": [],
   "source": [
    "t1c_vol = np.array(t1c_vol.dataobj)\n",
    "fla_vol = np.array(fla_vol.dataobj)\n",
    "t2all_vol = np.array(t2all_vol.dataobj)\n",
    "cel_vol = np.array(cel_vol.dataobj)"
   ]
  },
  {
   "cell_type": "code",
   "execution_count": 23,
   "metadata": {},
   "outputs": [
    {
     "data": {
      "text/plain": [
       "(array([148, 148, 148, ..., 187, 187, 187]),\n",
       " array([138, 139, 139, ..., 137, 137, 137]),\n",
       " array([92, 91, 92, ..., 79, 80, 81]))"
      ]
     },
     "execution_count": 23,
     "metadata": {},
     "output_type": "execute_result"
    }
   ],
   "source": [
    "np.where(t2all_vol > 0.5)"
   ]
  },
  {
   "cell_type": "code",
   "execution_count": 24,
   "metadata": {},
   "outputs": [
    {
     "data": {
      "text/plain": [
       "<matplotlib.image.AxesImage at 0x7fe134d46358>"
      ]
     },
     "execution_count": 24,
     "metadata": {},
     "output_type": "execute_result"
    },
    {
     "data": {
      "image/png": "[encoded data removed]",
      "text/plain": [
       "<Figure size 1080x1080 with 4 Axes>"
      ]
     },
     "metadata": {
      "needs_background": "light"
     },
     "output_type": "display_data"
    }
   ],
   "source": [
    "x =92\n",
    "fig = plt.figure(figsize = (15, 15))\n",
    "ax1 = fig.add_subplot(2,3,1)\n",
    "ax1.imshow(t1c_vol[:,:,x])\n",
    "ax2 = fig.add_subplot(2,3,2)\n",
    "ax2.imshow(fla_vol[:,:,x])\n",
    "# ax3 = fig.add_subplot(2,3,3)\n",
    "# ax3.imshow(adc_vol[:,:,x])\n",
    "ax4 = fig.add_subplot(2,3,3)\n",
    "ax4.imshow(t2all_vol[:,:,x])\n",
    "ax4 = fig.add_subplot(2,3,4)\n",
    "ax4.imshow(cel_vol[:,:,x])\n"
   ]
  },
  {
   "cell_type": "markdown",
   "metadata": {},
   "source": [
    "### TCGA-76-6664\n",
    "\n",
    "Chosen Randomly, maps to `1401-T1_SAG_POST-07378a`\n"
   ]
  },
  {
   "cell_type": "code",
   "execution_count": 25,
   "metadata": {},
   "outputs": [],
   "source": [
    "import json"
   ]
  },
  {
   "cell_type": "code",
   "execution_count": 26,
   "metadata": {},
   "outputs": [],
   "source": [
    "## Read in datalist json\n",
    "\n",
    "with open('/working/lupolab/julia/tcia_analysis/segmentation_mri_brain_tumors_br16_full_v1/config/config_datalist_stripped.json') as json_file:\n",
    "    datalist = json.load(json_file)\n",
    "    "
   ]
  },
  {
   "cell_type": "code",
   "execution_count": 27,
   "metadata": {},
   "outputs": [
    {
     "data": {
      "text/plain": [
       "{'validation': [{'label': '',\n",
       "   'image': ['TCGA-LGG-nifti/TCGA-DU-5853/08-23-1995-MRI_BRAIN_WWO_CONTRAST-78436/11-AX_T1_POST_GD_FLAIR-81300a_n.nii.gz',\n",
       "    'TCGA-LGG-nifti/TCGA-DU-5853/08-23-1995-MRI_BRAIN_WWO_CONTRAST-78436/8-AX_T1_pre_gd-14019a_n.nii.gz',\n",
       "    'TCGA-LGG-nifti/TCGA-DU-5853/08-23-1995-MRI_BRAIN_WWO_CONTRAST-78436/7-AX_T2_FR-FSE_RF2_150-55295a_n.nii.gz',\n",
       "    'TCGA-LGG-nifti/TCGA-DU-5853/08-23-1995-MRI_BRAIN_WWO_CONTRAST-78436/6-AXIAL_FLAIR-84159a_n.nii.gz']},\n",
       "  {'label': '',\n",
       "   'image': ['TCGA-LGG-nifti/TCGA-CS-6186/06-01-2000-MRI_BRAIN_per_R-97608/1001-T1_SE_POST-94212a_n.nii.gz',\n",
       "    'TCGA-LGG-nifti/TCGA-CS-6186/06-01-2000-MRI_BRAIN_per_R-97608/301-T1_SAG_SE-41348a_n.nii.gz',\n",
       "    'TCGA-LGG-nifti/TCGA-CS-6186/06-01-2000-MRI_BRAIN_per_R-97608/501-T2-WHOLE_BRAIN-32557a_n.nii.gz',\n",
       "    'TCGA-LGG-nifti/TCGA-CS-6186/06-01-2000-MRI_BRAIN_per_R-97608/401-T2_AX_FLAIR-72445a_n.nii.gz']},\n",
       "  {'label': '',\n",
       "   'image': ['TCGA-LGG-nifti/TCGA-FG-A6J1/04-23-2004-NR_MRI_BRAIN_WWO-08141/20-T1fl2dAx__Gd-43129a_n.nii.gz',\n",
       "    'TCGA-LGG-nifti/TCGA-FG-A6J1/04-23-2004-NR_MRI_BRAIN_WWO-08141/18-T1tiraxial-48554a_n.nii.gz',\n",
       "    'TCGA-LGG-nifti/TCGA-FG-A6J1/04-23-2004-NR_MRI_BRAIN_WWO-08141/2-T2_axial-49770a_n.nii.gz',\n",
       "    'TCGA-LGG-nifti/TCGA-FG-A6J1/04-23-2004-NR_MRI_BRAIN_WWO-08141/17-FLAIR_axial-36217a_n.nii.gz']},\n",
       "  {'label': '',\n",
       "   'image': ['TCGA-LGG-nifti/TCGA-DU-5872/02-23-1995-MRI_BRAIN_WWO_CONTRAST-88714/13-Ax_T1_2.5mm_for_surgery-85579a_n.nii.gz',\n",
       "    'TCGA-LGG-nifti/TCGA-DU-5872/02-23-1995-MRI_BRAIN_WWO_CONTRAST-88714/11-AXIAL_T1-55226a_n.nii.gz',\n",
       "    'TCGA-LGG-nifti/TCGA-DU-5872/02-23-1995-MRI_BRAIN_WWO_CONTRAST-88714/8-AXIAL_FSE-96257a_n.nii.gz',\n",
       "    'TCGA-LGG-nifti/TCGA-DU-5872/02-23-1995-MRI_BRAIN_WWO_CONTRAST-88714/5-Ax_FLAIR_2.5mm_for_surgery-31127a_n.nii.gz']},\n",
       "  {'label': '',\n",
       "   'image': ['TCGA-LGG-nifti/TCGA-DU-7015/06-18-1989-MRI_BRAIN_WWO_CONTRAS-16160/10-AX_T1_POST_GD_FLAIR-19430a_n.nii.gz',\n",
       "    'TCGA-LGG-nifti/TCGA-DU-7015/06-18-1989-MRI_BRAIN_WWO_CONTRAS-16160/7-AX_T1_pre_gd-93841a_n.nii.gz',\n",
       "    'TCGA-LGG-nifti/TCGA-DU-7015/06-18-1989-MRI_BRAIN_WWO_CONTRAS-16160/5-AX_T2_FR-FSE_RF2_150-98258a_n.nii.gz',\n",
       "    'TCGA-LGG-nifti/TCGA-DU-7015/06-18-1989-MRI_BRAIN_WWO_CONTRAS-16160/8-AXIAL_FLAIR-42112a_n.nii.gz']},\n",
       "  {'label': '',\n",
       "   'image': ['TCGA-LGG-nifti/TCGA-DU-8164/01-11-1997-MRI_BRAIN_WWO_CONTRAST-98366/10-AX_T1_POST_GD_FLAIR-02819a_n.nii.gz',\n",
       "    'TCGA-LGG-nifti/TCGA-DU-8164/01-11-1997-MRI_BRAIN_WWO_CONTRAST-98366/8-AX_T1_pre_gd-39637a_n.nii.gz',\n",
       "    'TCGA-LGG-nifti/TCGA-DU-8164/01-11-1997-MRI_BRAIN_WWO_CONTRAST-98366/7-AX_T2_FR-FSE_RF2_150-94767a_n.nii.gz',\n",
       "    'TCGA-LGG-nifti/TCGA-DU-8164/01-11-1997-MRI_BRAIN_WWO_CONTRAST-98366/4-AXIAL_FLAIR-03012a_n.nii.gz']},\n",
       "  {'label': '',\n",
       "   'image': ['TCGA-LGG-nifti/TCGA-DU-A5TR/07-26-1997-MRI_BRAIN_WWO_CONTRAST-17402/10-AX_T1_POST_GD_FLAIR-23755a_n.nii.gz',\n",
       "    'TCGA-LGG-nifti/TCGA-DU-A5TR/07-26-1997-MRI_BRAIN_WWO_CONTRAST-17402/7-AX_T1_pre_gd-73601a_n.nii.gz',\n",
       "    'TCGA-LGG-nifti/TCGA-DU-A5TR/07-26-1997-MRI_BRAIN_WWO_CONTRAST-17402/4-AX_T2_FR-FSE_RF2_150-34223a_n.nii.gz',\n",
       "    'TCGA-LGG-nifti/TCGA-DU-A5TR/07-26-1997-MRI_BRAIN_WWO_CONTRAST-17402/5-AXIAL_FLAIR-79506a_n.nii.gz']},\n",
       "  {'label': '',\n",
       "   'image': ['TCGA-LGG-nifti/TCGA-HT-7604/10-28-1995-MRI_BRAIN_FOR_STEREOTACTIC_WWO_CONTR-85806/12-CAX_3D_SPGR-37353a_n.nii.gz',\n",
       "    'TCGA-LGG-nifti/TCGA-HT-7604/10-28-1995-MRI_BRAIN_FOR_STEREOTACTIC_WWO_CONTR-85806/5-AX_T1-70448a_n.nii.gz',\n",
       "    'TCGA-LGG-nifti/TCGA-HT-7604/10-28-1995-MRI_BRAIN_FOR_STEREOTACTIC_WWO_CONTR-85806/6-Prop_T2_TRF-66950a_n.nii.gz',\n",
       "    'TCGA-LGG-nifti/TCGA-HT-7604/10-28-1995-MRI_BRAIN_FOR_STEREOTACTIC_WWO_CONTR-85806/7-Ax_Flair_irFSE_H-59891a_n.nii.gz']},\n",
       "  {'label': '',\n",
       "   'image': ['TCGA-LGG-nifti/TCGA-DU-A5TU/03-12-1998-MRI_BRAIN_W_AND_WO_CONTR-77342/15-Axial_T1_FSE_Post_Gad-17816a_n.nii.gz',\n",
       "    'TCGA-LGG-nifti/TCGA-DU-A5TU/03-12-1998-MRI_BRAIN_W_AND_WO_CONTR-77342/9-Axial_T1_FSE-06321a_n.nii.gz',\n",
       "    'TCGA-LGG-nifti/TCGA-DU-A5TU/03-12-1998-MRI_BRAIN_W_AND_WO_CONTR-77342/8-Axial_T2_GE-38145a_n.nii.gz',\n",
       "    'TCGA-LGG-nifti/TCGA-DU-A5TU/03-12-1998-MRI_BRAIN_W_AND_WO_CONTR-77342/10-Axial_FLAIR-13367a_n.nii.gz']},\n",
       "  {'label': '',\n",
       "   'image': ['TCGA-LGG-nifti/TCGA-DU-8163/11-19-1996-MRI_BRAIN_WWO_CONTRAST-27038/12-AX_T1_POST_GD_FLAIR-07772a_n.nii.gz',\n",
       "    'TCGA-LGG-nifti/TCGA-DU-8163/11-19-1996-MRI_BRAIN_WWO_CONTRAST-27038/9-AX_T1_pre_gd-63205a_n.nii.gz',\n",
       "    'TCGA-LGG-nifti/TCGA-DU-8163/11-19-1996-MRI_BRAIN_WWO_CONTRAST-27038/5-AX_T2_FR-FSE_RF2_150-58001a_n.nii.gz',\n",
       "    'TCGA-LGG-nifti/TCGA-DU-8163/11-19-1996-MRI_BRAIN_WWO_CONTRAST-27038/8-AXIAL_FLAIR-03695a_n.nii.gz']},\n",
       "  {'label': '',\n",
       "   'image': ['TCGA-LGG-nifti/TCGA-DU-7018/12-20-1991-MRI_BRAIN_WWO_CONTRAST-98852/13-AX_T1_POST_GD_FLAIR-47091a_n.nii.gz',\n",
       "    'TCGA-LGG-nifti/TCGA-DU-7018/12-20-1991-MRI_BRAIN_WWO_CONTRAST-98852/10-AX_T1_pre_gd-00693a_n.nii.gz',\n",
       "    'TCGA-LGG-nifti/TCGA-DU-7018/12-20-1991-MRI_BRAIN_WWO_CONTRAST-98852/5-AX_T2_FR-FSE_RF2_150-91572a_n.nii.gz',\n",
       "    'TCGA-LGG-nifti/TCGA-DU-7018/12-20-1991-MRI_BRAIN_WWO_CONTRAST-98852/8-AXIAL_FLAIR-28777a_n.nii.gz']},\n",
       "  {'label': '',\n",
       "   'image': ['TCGA-LGG-nifti/TCGA-HT-7881/10-15-1998-MRI_BRAIN_FOR_STEREOTACTIC_WWO_CONTR-40658/6-CAX_3D_SPGR_POST-39088a_n.nii.gz',\n",
       "    'TCGA-LGG-nifti/TCGA-HT-7881/10-15-1998-MRI_BRAIN_FOR_STEREOTACTIC_WWO_CONTR-40658/3-AX_3D_SPGR_PRE-80157a_n.nii.gz',\n",
       "    'TCGA-LGG-nifti/TCGA-HT-7881/10-15-1998-MRI_BRAIN_FOR_STEREOTACTIC_WWO_CONTR-40658/1-3-pl_T2_FGRE_S-48116a_n.nii.gz',\n",
       "    'TCGA-LGG-nifti/TCGA-HT-7881/10-15-1998-MRI_BRAIN_FOR_STEREOTACTIC_WWO_CONTR-40658/4-OPT_Ax_Flair_irFSE_H-58038a_n.nii.gz']},\n",
       "  {'label': '',\n",
       "   'image': ['TCGA-LGG-nifti/TCGA-EZ-7265A/09-17-2001-MRI_BRAIN__W_WO_CONT-92660/10-T1AXMPRSEL3D-83348a_n.nii.gz',\n",
       "    'TCGA-LGG-nifti/TCGA-EZ-7265A/09-17-2001-MRI_BRAIN__W_WO_CONT-92660/7-T1AXMPRSEL3D-32845a_n.nii.gz',\n",
       "    'TCGA-LGG-nifti/TCGA-EZ-7265A/09-17-2001-MRI_BRAIN__W_WO_CONT-92660/6-T2AXTSE3MM-FS-85237a_n.nii.gz',\n",
       "    'TCGA-LGG-nifti/TCGA-EZ-7265A/09-17-2001-MRI_BRAIN__W_WO_CONT-92660/5-FLAIRAX-51397a_n.nii.gz']},\n",
       "  {'label': '',\n",
       "   'image': ['TCGA-LGG-nifti/TCGA-DU-A6S7/05-13-1998-MRI_BRAIN_WWO_CONTRAST-81139/1103-POST_AX_T1__3MM-87638a_n.nii.gz',\n",
       "    'TCGA-LGG-nifti/TCGA-DU-A6S7/05-13-1998-MRI_BRAIN_WWO_CONTRAST-81139/701-AX_T1WIRTSE-19980a_n.nii.gz',\n",
       "    'TCGA-LGG-nifti/TCGA-DU-A6S7/05-13-1998-MRI_BRAIN_WWO_CONTRAST-81139/501-AX_T2WDRIVE-96018a_n.nii.gz',\n",
       "    'TCGA-LGG-nifti/TCGA-DU-A6S7/05-13-1998-MRI_BRAIN_WWO_CONTRAST-81139/601-FLAIRLongTR-81161a_n.nii.gz']},\n",
       "  {'label': '',\n",
       "   'image': ['TCGA-LGG-nifti/TCGA-DU-5854/11-04-1995-MRI_BRAIN_WWO_CONTRAST-28000/8-Ax_T1_2.5mm_for_surgery-85529a_n.nii.gz',\n",
       "    'TCGA-LGG-nifti/TCGA-DU-5854/11-04-1995-MRI_BRAIN_WWO_CONTRAST-28000/6-AXIAL_T1-04722a_n.nii.gz',\n",
       "    'TCGA-LGG-nifti/TCGA-DU-5854/11-04-1995-MRI_BRAIN_WWO_CONTRAST-28000/3-AXIAL_FSE-01732a_n.nii.gz',\n",
       "    'TCGA-LGG-nifti/TCGA-DU-5854/11-04-1995-MRI_BRAIN_WWO_CONTRAST-28000/5-Ax_FLAIR_2.5mm_for_surgery-96147a_n.nii.gz']},\n",
       "  {'label': '',\n",
       "   'image': ['TCGA-LGG-nifti/TCGA-DU-7302/12-03-1991-MRI_BRAIN_WWO_CONTRAST-41440/11-AX_T1_POST_GD_FLAIR-45183a_n.nii.gz',\n",
       "    'TCGA-LGG-nifti/TCGA-DU-7302/12-03-1991-MRI_BRAIN_SPECTROSCOPY-43453/2-AX_T1_FLAIR-13609a_n.nii.gz',\n",
       "    'TCGA-LGG-nifti/TCGA-DU-7302/12-03-1991-MRI_BRAIN_WWO_CONTRAST-41440/6-AX_T2_FR-FSE_RF2_150-85470a_n.nii.gz',\n",
       "    'TCGA-LGG-nifti/TCGA-DU-7302/12-03-1991-MRI_BRAIN_WWO_CONTRAST-41440/5-AXIAL_FLAIR-46378a_n.nii.gz']},\n",
       "  {'label': '',\n",
       "   'image': ['TCGA-LGG-nifti/TCGA-DU-6410/12-28-1995-MRI_BRAIN_WWO_CONTRAST-76637/11-Ax_T1_2.5mm_for_surgery-41121a_n.nii.gz',\n",
       "    'TCGA-LGG-nifti/TCGA-DU-6410/12-28-1995-MRI_BRAIN_WWO_CONTRAST-76637/8-AXIAL_T1-57526a_n.nii.gz',\n",
       "    'TCGA-LGG-nifti/TCGA-DU-6410/12-28-1995-MRI_BRAIN_WWO_CONTRAST-76637/3-AXIAL_FSE-97370a_n.nii.gz',\n",
       "    'TCGA-LGG-nifti/TCGA-DU-6410/12-28-1995-MRI_BRAIN_WWO_CONTRAST-76637/4-Ax_FLAIR_2.5mm_for_surgery-15388a_n.nii.gz']},\n",
       "  {'label': '',\n",
       "   'image': ['TCGA-LGG-nifti/TCGA-DU-7306/05-12-1993-MRI_BRAIN_WWO_CONTRAST-11323/11-AX_T1_POST_GD_FLAIR-17891a_n.nii.gz',\n",
       "    'TCGA-LGG-nifti/TCGA-DU-7306/05-12-1993-MRI_BRAIN_WWO_CONTRAST-11323/9-AX_T1_pre_gd-28619a_n.nii.gz',\n",
       "    'TCGA-LGG-nifti/TCGA-DU-7306/05-12-1993-MRI_BRAIN_WWO_CONTRAST-11323/7-AX_T2_FR-FSE_RF2_150-41748a_n.nii.gz',\n",
       "    'TCGA-LGG-nifti/TCGA-DU-7306/05-12-1993-MRI_BRAIN_WWO_CONTRAST-11323/6-AXIAL_FLAIR-72811a_n.nii.gz']},\n",
       "  {'label': '',\n",
       "   'image': ['TCGA-LGG-nifti/TCGA-CS-5395/10-04-1998-JHN_STYKER_BRAIN_IP_SPEC-45955/14-BRAINSTRYKERt1AX-67858a_n.nii.gz',\n",
       "    'TCGA-LGG-nifti/TCGA-CS-5395/10-04-1998-JHN_STYKER_BRAIN_IP_SPEC-45955/10-BRAINSTRYKERT1AXIAL-44139a_n.nii.gz',\n",
       "    'TCGA-LGG-nifti/TCGA-CS-5395/10-04-1998-JHN_STYKER_BRAIN_IP_SPEC-45955/11-BRAINPITUITARYPDT2AXIA-27074a_n.nii.gz',\n",
       "    'TCGA-LGG-nifti/TCGA-CS-5395/10-04-1998-JHN_STYKER_BRAIN_IP_SPEC-45955/3-BRAINCONTRASTFLAIR-39749a_n.nii.gz']},\n",
       "  {'label': '',\n",
       "   'image': ['TCGA-LGG-nifti/TCGA-DU-7298/03-24-1991-MRI_BRAIN_WWO_CONTRAST-10889/8-Ax_T1_2.5mm_for_surgery-37553a_n.nii.gz',\n",
       "    'TCGA-LGG-nifti/TCGA-DU-7298/03-24-1991-MRI_BRAIN_WWO_CONTRAST-10889/6-AXIAL_T1-98859a_n.nii.gz',\n",
       "    'TCGA-LGG-nifti/TCGA-DU-7298/03-24-1991-MRI_BRAIN_WWO_CONTRAST-10889/3-AXIAL_FSE-50605a_n.nii.gz',\n",
       "    'TCGA-LGG-nifti/TCGA-DU-7298/03-24-1991-MRI_BRAIN_WWO_CONTRAST-10889/4-Ax_FLAIR_2.5mm_for_surgery-16562a_n.nii.gz']},\n",
       "  {'label': '',\n",
       "   'image': ['TCGA-LGG-nifti/TCGA-DU-A6S3/07-11-1998-MRI_BRAIN_WWO_CONTRAST-51715/1302-POST_AX_T1_BRAIN_LAB_1MM-00396a_n.nii.gz',\n",
       "    'TCGA-LGG-nifti/TCGA-DU-A6S3/07-11-1998-MRI_BRAIN_WWO_CONTRAST-51715/801-AX_T1WIRTSE-45170a_n.nii.gz',\n",
       "    'TCGA-LGG-nifti/TCGA-DU-A6S3/07-11-1998-MRI_BRAIN_WWO_CONTRAST-51715/601-AX_T2WDRIVE-52058a_n.nii.gz',\n",
       "    'TCGA-LGG-nifti/TCGA-DU-A6S3/07-11-1998-MRI_BRAIN_WWO_CONTRAST-51715/701-FLAIRLongTR-51998a_n.nii.gz']},\n",
       "  {'label': '',\n",
       "   'image': ['TCGA-LGG-nifti/TCGA-HT-A5R7/08-27-1999-MRI_BRAIN_FOR_STEREOTACTIC_WWO_CONTR-85543/9-C_SAG_T1_SE-69743a_n.nii.gz',\n",
       "    'TCGA-LGG-nifti/TCGA-HT-A5R7/08-27-1999-MRI_BRAIN_FOR_STEREOTACTIC_WWO_CONTR-85543/7-Ax_T1_MP_SPGR-34231a_n.nii.gz',\n",
       "    'TCGA-LGG-nifti/TCGA-HT-A5R7/08-27-1999-MRI_BRAIN_FOR_STEREOTACTIC_WWO_CONTR-85543/6-Cor_2D_T2GRE-76577a_n.nii.gz',\n",
       "    'TCGA-LGG-nifti/TCGA-HT-A5R7/08-27-1999-MRI_BRAIN_FOR_STEREOTACTIC_WWO_CONTR-85543/5-AXIAL_T2_FLAIR-50069a_n.nii.gz']},\n",
       "  {'label': '',\n",
       "   'image': ['TCGA-LGG-nifti/TCGA-HT-8114/10-30-1998-MRI_BRAIN_FOR_STEREOTACTIC_WWO_CONTR-22947/11-AX_3D_SPGR-99436a_n.nii.gz',\n",
       "    'TCGA-LGG-nifti/TCGA-HT-8114/10-30-1998-MRI_BRAIN_FOR_STEREOTACTIC_WWO_CONTR-22947/5-AX_T1-26909a_n.nii.gz',\n",
       "    'TCGA-LGG-nifti/TCGA-HT-8114/10-30-1998-MRI_BRAIN_FOR_STEREOTACTIC_WWO_CONTR-22947/1-3-pl_T2_FGRE_S-26156a_n.nii.gz',\n",
       "    'TCGA-LGG-nifti/TCGA-HT-8114/10-30-1998-MRI_BRAIN_FOR_STEREOTACTIC_WWO_CONTR-22947/7-Ax_Flair_irFSE_H-86866a_n.nii.gz']},\n",
       "  {'label': '',\n",
       "   'image': ['TCGA-LGG-nifti/TCGA-DU-5871/12-06-1994-MRI_BRAIN_WWO_CONTRAST-77531/11-AX_T1_POST_GD_FLAIR-63849a_n.nii.gz',\n",
       "    'TCGA-LGG-nifti/TCGA-DU-5871/12-06-1994-MRI_BRAIN_WWO_CONTRAST-77531/8-AX_T1_pre_gd-75838a_n.nii.gz',\n",
       "    'TCGA-LGG-nifti/TCGA-DU-5871/12-06-1994-MRI_BRAIN_WWO_CONTRAST-77531/7-AX_T2_FR-FSE_RF2_150-65483a_n.nii.gz',\n",
       "    'TCGA-LGG-nifti/TCGA-DU-5871/12-06-1994-MRI_BRAIN_WWO_CONTRAST-77531/6-AXIAL_FLAIR-22910a_n.nii.gz']},\n",
       "  {'label': '',\n",
       "   'image': ['TCGA-LGG-nifti/TCGA-DU-6407/12-22-1992-MRI_BRAIN_WWO_CONTRAST-78886/10-AX_T1_POST_GD_FLAIR-91295a_n.nii.gz',\n",
       "    'TCGA-LGG-nifti/TCGA-DU-6407/12-22-1992-MRI_BRAIN_WWO_CONTRAST-78886/8-AX_T1_pre_gd-59554a_n.nii.gz',\n",
       "    'TCGA-LGG-nifti/TCGA-DU-6407/12-22-1992-MRI_BRAIN_WWO_CONTRAST-78886/6-AX_T2_FR-FSE_RF2_150-57817a_n.nii.gz',\n",
       "    'TCGA-LGG-nifti/TCGA-DU-6407/12-22-1992-MRI_BRAIN_WWO_CONTRAST-78886/5-AXIAL_FLAIR-43201a_n.nii.gz']},\n",
       "  {'label': '',\n",
       "   'image': ['TCGA-LGG-nifti/TCGA-HT-7694/04-04-1995-MRI_BRAIN_FOR_STEREOTACTIC_WWO_CONTR-93153/13-CAX_3D_SPGR-47898a_n.nii.gz',\n",
       "    'TCGA-LGG-nifti/TCGA-HT-7694/04-04-1995-MRI_BRAIN_FOR_STEREOTACTIC_WWO_CONTR-93153/5-AX_T1-06545a_n.nii.gz',\n",
       "    'TCGA-LGG-nifti/TCGA-HT-7694/04-04-1995-MRI_BRAIN_FOR_STEREOTACTIC_WWO_CONTR-93153/6-Prop_T2_TRF-82823a_n.nii.gz',\n",
       "    'TCGA-LGG-nifti/TCGA-HT-7694/04-04-1995-MRI_BRAIN_FOR_STEREOTACTIC_WWO_CONTR-93153/7-Ax_Flair_irFSE_H-82301a_n.nii.gz']},\n",
       "  {'label': '',\n",
       "   'image': ['TCGA-LGG-nifti/TCGA-HT-8107/07-08-1998-MRI_BRAIN_FOR_STEREOTACTIC_WWO_CONTR-30177/13-Ax_T1_MP_SPGR_C-64481a_n.nii.gz',\n",
       "    'TCGA-LGG-nifti/TCGA-HT-8107/07-08-1998-MRI_BRAIN_FOR_STEREOTACTIC_WWO_CONTR-30177/9-Ax_T1_SE-48997a_n.nii.gz',\n",
       "    'TCGA-LGG-nifti/TCGA-HT-8107/07-08-1998-MRI_BRAIN_FOR_STEREOTACTIC_WWO_CONTR-30177/6-OPTIONALAx_T2_FSE_INTER-50083a_n.nii.gz',\n",
       "    'TCGA-LGG-nifti/TCGA-HT-8107/07-08-1998-MRI_BRAIN_FOR_STEREOTACTIC_WWO_CONTR-30177/7-Ax_T2_Flair-25684a_n.nii.gz']},\n",
       "  {'label': '',\n",
       "   'image': ['TCGA-LGG-nifti/TCGA-HT-A61A/01-27-2000-MRI_BRAIN_WWO_CONTRAST-09361/18-C_3D_AXIALIRSPGRFast-30837a_n.nii.gz',\n",
       "    'TCGA-LGG-nifti/TCGA-HT-A61A/01-27-2000-MRI_BRAIN_WWO_CONTRAST-09361/16-3D_AXIALIRSPGRFast-17273a_n.nii.gz',\n",
       "    'TCGA-LGG-nifti/TCGA-HT-A61A/01-27-2000-MRI_BRAIN_WWO_CONTRAST-09361/15-OPTIONALAx_T2_FSE_INTER-52331a_n.nii.gz',\n",
       "    'TCGA-LGG-nifti/TCGA-HT-A61A/01-27-2000-MRI_BRAIN_WWO_CONTRAST-09361/14-OPT_FLAIR_AX-74687a_n.nii.gz']},\n",
       "  {'label': '',\n",
       "   'image': ['TCGA-LGG-nifti/TCGA-DU-8167/04-02-1997-MRI_BRAIN_WWO_CONTRAST-29125/10-AX_T1_POST_GD_FLAIR-74207a_n.nii.gz',\n",
       "    'TCGA-LGG-nifti/TCGA-DU-8167/04-02-1997-MRI_BRAIN_WWO_CONTRAST-29125/8-AX_T1_pre_gd-36450a_n.nii.gz',\n",
       "    'TCGA-LGG-nifti/TCGA-DU-8167/04-02-1997-MRI_BRAIN_WWO_CONTRAST-29125/7-AX_T2_FR-FSE_RF2_150-02988a_n.nii.gz',\n",
       "    'TCGA-LGG-nifti/TCGA-DU-8167/04-02-1997-MRI_BRAIN_WWO_CONTRAST-29125/6-AXIAL_FLAIR-25902a_n.nii.gz']},\n",
       "  {'label': '',\n",
       "   'image': ['TCGA-LGG-nifti/TCGA-DU-5849/04-05-1995-MRI_BRAIN_WWO_CONTRAST-20866/12-AX_T1_POST_GD_FLAIR-53586a_n.nii.gz',\n",
       "    'TCGA-LGG-nifti/TCGA-DU-5849/04-05-1995-MRI_BRAIN_WWO_CONTRAST-20866/9-AX_T1_pre_gd-21019a_n.nii.gz',\n",
       "    'TCGA-LGG-nifti/TCGA-DU-5849/04-05-1995-MRI_BRAIN_WWO_CONTRAST-20866/7-AX_T2_FR-FSE_RF2_150-91281a_n.nii.gz',\n",
       "    'TCGA-LGG-nifti/TCGA-DU-5849/04-05-1995-MRI_BRAIN_WWO_CONTRAST-20866/8-AXIAL_FLAIR-05561a_n.nii.gz']},\n",
       "  {'label': '',\n",
       "   'image': ['TCGA-LGG-nifti/TCGA-DU-6542/05-08-1996-MRI_BRAIN_WWO_CONTRAST-27308/11-AX_T1_POST_GD_FLAIR-99692a_n.nii.gz',\n",
       "    'TCGA-LGG-nifti/TCGA-DU-6542/05-08-1996-MRI_BRAIN_WWO_CONTRAST-27308/8-AX_T1_pre_gd-17760a_n.nii.gz',\n",
       "    'TCGA-LGG-nifti/TCGA-DU-6542/05-08-1996-MRI_BRAIN_WWO_CONTRAST-27308/7-AX_T2_FR-FSE_RF2_150-10201a_n.nii.gz',\n",
       "    'TCGA-LGG-nifti/TCGA-DU-6542/05-08-1996-MRI_BRAIN_WWO_CONTRAST-27308/4-AXIAL_FLAIR-35548a_n.nii.gz']},\n",
       "  {'label': '',\n",
       "   'image': ['TCGA-LGG-nifti/TCGA-HT-7473/08-26-1997-MRI_BRAIN_FOR_STEREOTACTIC_WWO_CONTR-47712/12-AX_3D_SPGRC-76794a_n.nii.gz',\n",
       "    'TCGA-LGG-nifti/TCGA-HT-7473/08-26-1997-MRI_BRAIN_FOR_STEREOTACTIC_WWO_CONTR-47712/5-AX_3D_SPGR-44386a_n.nii.gz',\n",
       "    'TCGA-LGG-nifti/TCGA-HT-7473/08-26-1997-MRI_BRAIN_FOR_STEREOTACTIC_WWO_CONTR-47712/6-Prop_T2_TRF-35426a_n.nii.gz',\n",
       "    'TCGA-LGG-nifti/TCGA-HT-7473/08-26-1997-MRI_BRAIN_FOR_STEREOTACTIC_WWO_CONTR-47712/8-Ax_Flair_irFSE_H-57005a_n.nii.gz']},\n",
       "  {'label': '',\n",
       "   'image': ['TCGA-LGG-nifti/TCGA-HT-7693/05-20-1995-MRI_BRAIN_WWO-71036/11-CAX_3D_SPGR-24306a_n.nii.gz',\n",
       "    'TCGA-LGG-nifti/TCGA-HT-7693/05-20-1995-MRI_BRAIN_WWO-71036/5-AX_T1-32031a_n.nii.gz',\n",
       "    'TCGA-LGG-nifti/TCGA-HT-7693/05-20-1995-MRI_BRAIN_WWO-71036/6-Prop_T2_TRF-32901a_n.nii.gz',\n",
       "    'TCGA-LGG-nifti/TCGA-HT-7693/05-20-1995-MRI_BRAIN_WWO-71036/7-Ax_Flair_irFSE_H-18767a_n.nii.gz']},\n",
       "  {'label': '',\n",
       "   'image': ['TCGA-LGG-nifti/TCGA-EZ-7264A/09-04-2001-MRI_BRAIN__W_WO_CONT-93331/12-T1AXMPRSEL3D-14364a_n.nii.gz',\n",
       "    'TCGA-LGG-nifti/TCGA-EZ-7264A/09-04-2001-MRI_BRAIN__W_WO_CONT-93331/7-T1AXMPRSEL3D-04050a_n.nii.gz',\n",
       "    'TCGA-LGG-nifti/TCGA-EZ-7264A/09-04-2001-MRI_BRAIN__W_WO_CONT-93331/6-T2AXTSE3MM_FS-19167a_n.nii.gz',\n",
       "    'TCGA-LGG-nifti/TCGA-EZ-7264A/09-04-2001-MRI_BRAIN__W_WO_CONT-93331/5-FLAIRAXBLADE-18517a_n.nii.gz']},\n",
       "  {'label': '',\n",
       "   'image': ['TCGA-LGG-nifti/TCGA-HT-7882/01-25-1997-MRI_BRAIN_FOR_STEREOTACTIC_WWO_CONTR-81378/12-POST_Ax_T1_SE-36810a_n.nii.gz',\n",
       "    'TCGA-LGG-nifti/TCGA-HT-7882/01-25-1997-MRI_BRAIN_FOR_STEREOTACTIC_WWO_CONTR-81378/8-AX_3D_SPGR-96980a_n.nii.gz',\n",
       "    'TCGA-LGG-nifti/TCGA-HT-7882/01-25-1997-MRI_BRAIN_FOR_STEREOTACTIC_WWO_CONTR-81378/6-COR_GRE_T2-84363a_n.nii.gz',\n",
       "    'TCGA-LGG-nifti/TCGA-HT-7882/01-25-1997-MRI_BRAIN_FOR_STEREOTACTIC_WWO_CONTR-81378/5-Ax_Flair_irFSE_H-64631a_n.nii.gz']},\n",
       "  {'label': '',\n",
       "   'image': ['TCGA-LGG-nifti/TCGA-FG-6692/06-06-2002-NR_MRI_BRAIN_WWO-54931/13-MRHR_T1_AX_POST_GAD-66565a_n.nii.gz',\n",
       "    'TCGA-LGG-nifti/TCGA-FG-6692/06-06-2002-NR_MRI_BRAIN_WWO-54931/10-T1_AX-92227a_n.nii.gz',\n",
       "    'TCGA-LGG-nifti/TCGA-FG-6692/06-06-2002-NR_MRI_BRAIN_WWO-54931/2-MRHR_T2_AX-69038a_n.nii.gz',\n",
       "    'TCGA-LGG-nifti/TCGA-FG-6692/06-06-2002-NR_MRI_BRAIN_WWO-54931/4-MRHR_FLAIR_AX-42830a_n.nii.gz']},\n",
       "  {'label': '',\n",
       "   'image': ['TCGA-LGG-nifti/TCGA-HT-A614/12-24-1999-MRI_BRAIN_WWO_CONTRAST-59404/11-C_Ax_T1_MP_SPGR-28808a_n.nii.gz',\n",
       "    'TCGA-LGG-nifti/TCGA-HT-A614/12-24-1999-MRI_BRAIN_WWO_CONTRAST-59404/6-Ax_T1_SE-88546a_n.nii.gz',\n",
       "    'TCGA-LGG-nifti/TCGA-HT-A614/12-24-1999-MRI_BRAIN_WWO_CONTRAST-59404/7-T2Prop-24727a_n.nii.gz',\n",
       "    'TCGA-LGG-nifti/TCGA-HT-A614/12-24-1999-MRI_BRAIN_WWO_CONTRAST-59404/5-Ax_T2_Flair-75934a_n.nii.gz']},\n",
       "  {'label': '',\n",
       "   'image': ['TCGA-LGG-nifti/TCGA-HT-7680/02-02-1997-MRI_BRAIN_FOR_STEREOTACTIC_WWO_CONTR-12810/12-CAX_3D_SPGR-92286a_n.nii.gz',\n",
       "    'TCGA-LGG-nifti/TCGA-HT-7680/02-02-1997-MRI_BRAIN_FOR_STEREOTACTIC_WWO_CONTR-12810/5-AX_T1-38562a_n.nii.gz',\n",
       "    'TCGA-LGG-nifti/TCGA-HT-7680/02-02-1997-MRI_BRAIN_FOR_STEREOTACTIC_WWO_CONTR-12810/7-COR_GRE_T2-97585a_n.nii.gz',\n",
       "    'TCGA-LGG-nifti/TCGA-HT-7680/02-02-1997-MRI_BRAIN_FOR_STEREOTACTIC_WWO_CONTR-12810/6-Ax_Flair_irFSE_H-95027a_n.nii.gz']},\n",
       "  {'label': '',\n",
       "   'image': ['TCGA-LGG-nifti/TCGA-HT-8113/08-09-1993-MRI_BRAIN_FOR_STEREOTACTI-59884/9-AX_3D_SPGR-81510a_n.nii.gz',\n",
       "    'TCGA-LGG-nifti/TCGA-HT-8113/08-09-1993-MRI_BRAIN_FOR_STEREOTACTI-59884/3-AX_T1-07039a_n.nii.gz',\n",
       "    'TCGA-LGG-nifti/TCGA-HT-8113/08-09-1993-MRI_BRAIN_FOR_STEREOTACTI-59884/4-Ax_T2_FSE_H-28862a_n.nii.gz',\n",
       "    'TCGA-LGG-nifti/TCGA-HT-8113/08-09-1993-MRI_BRAIN_FOR_STEREOTACTI-59884/5-Ax_Flair_irFSE_H-81944a_n.nii.gz']},\n",
       "  {'label': '',\n",
       "   'image': ['TCGA-LGG-nifti/TCGA-DU-7301/11-12-1991-MRI_BRAIN_WWO_CONTRAST-22050/10-AX_T1_POST_GD_FLAIR-56964a_n.nii.gz',\n",
       "    'TCGA-LGG-nifti/TCGA-DU-7301/11-12-1991-MRI_BRAIN_WWO_CONTRAST-22050/8-AX_T1_pre_gd-40072a_n.nii.gz',\n",
       "    'TCGA-LGG-nifti/TCGA-DU-7301/11-12-1991-MRI_BRAIN_WWO_CONTRAST-22050/5-AX_T2_FR-FSE_RF2_150-68026a_n.nii.gz',\n",
       "    'TCGA-LGG-nifti/TCGA-DU-7301/11-12-1991-MRI_BRAIN_WWO_CONTRAST-22050/6-AXIAL_FLAIR-66613a_n.nii.gz']},\n",
       "  {'label': '',\n",
       "   'image': ['TCGA-LGG-nifti/TCGA-CS-6667/11-05-2001-MRI_BRAIN_WITH-96919/9-Ax_T1_FS_BRAIN_POST-73660a_n.nii.gz',\n",
       "    'TCGA-LGG-nifti/TCGA-CS-6667/11-05-2001-MRI_BRAIN_WITH-96919/5-Ax_T1-31183a_n.nii.gz',\n",
       "    'TCGA-LGG-nifti/TCGA-CS-6667/11-05-2001-MRI_BRAIN_WITH-96919/6-AX_FSE_T2-26661a_n.nii.gz',\n",
       "    'TCGA-LGG-nifti/TCGA-CS-6667/11-05-2001-MRI_BRAIN_WITH-96919/7-AX_FLAIR-14614a_n.nii.gz']},\n",
       "  {'label': '',\n",
       "   'image': ['TCGA-LGG-nifti/TCGA-HT-7688/06-07-1996-MRI_BRAIN_WWO_CONTRAST-09340/12-AX_T1C-63038a_n.nii.gz',\n",
       "    'TCGA-LGG-nifti/TCGA-HT-7688/06-07-1996-MRI_BRAIN_WWO_CONTRAST-09340/5-AX_T1-98149a_n.nii.gz',\n",
       "    'TCGA-LGG-nifti/TCGA-HT-7688/06-07-1996-MRI_BRAIN_WWO_CONTRAST-09340/6-Prop_T2_TRF-39183a_n.nii.gz',\n",
       "    'TCGA-LGG-nifti/TCGA-HT-7688/06-07-1996-MRI_BRAIN_WWO_CONTRAST-09340/7-Ax_Flair_irFSE_H-41436a_n.nii.gz']},\n",
       "  {'label': '',\n",
       "   'image': ['TCGA-LGG-nifti/TCGA-HT-8111/03-30-1998-MRI_BRAIN_WWO_CONTRAST-68651/11-AX_3D_SPGRC-47886a_n.nii.gz',\n",
       "    'TCGA-LGG-nifti/TCGA-HT-8111/03-30-1998-MRI_BRAIN_WWO_CONTRAST-68651/5-AX_T1-01164a_n.nii.gz',\n",
       "    'TCGA-LGG-nifti/TCGA-HT-8111/03-30-1998-MRI_BRAIN_WWO_CONTRAST-68651/7-COR_GRE_T2-25606a_n.nii.gz',\n",
       "    'TCGA-LGG-nifti/TCGA-HT-8111/03-30-1998-MRI_BRAIN_WWO_CONTRAST-68651/6-Ax_Flair_irFSE_H-04644a_n.nii.gz']},\n",
       "  {'label': '',\n",
       "   'image': ['TCGA-LGG-nifti/TCGA-DU-7309/08-31-1996-MRI_BRAIN_WWO_CONTRAST-83234/12-AX_T1_POST_GD_FLAIR-75778a_n.nii.gz',\n",
       "    'TCGA-LGG-nifti/TCGA-DU-7309/08-31-1996-MRI_BRAIN_WWO_CONTRAST-83234/8-AX_T1_pre_gd-90729a_n.nii.gz',\n",
       "    'TCGA-LGG-nifti/TCGA-DU-7309/08-31-1996-MRI_BRAIN_WWO_CONTRAST-83234/4-AX_T2_FR-FSE_RF2_150-79703a_n.nii.gz',\n",
       "    'TCGA-LGG-nifti/TCGA-DU-7309/08-31-1996-MRI_BRAIN_WWO_CONTRAST-83234/6-AXIAL_FLAIR-44187a_n.nii.gz']},\n",
       "  {'label': '',\n",
       "   'image': ['TCGA-LGG-nifti/TCGA-HT-7608/03-04-1994-MRI_BRAIN_FOR_STEREOTACTIC_WWO_CONTR-09691/12-Ax_T1_MP_SPGR__GAD-05970a_n.nii.gz',\n",
       "    'TCGA-LGG-nifti/TCGA-HT-7608/03-04-1994-MRI_BRAIN_FOR_STEREOTACTIC_WWO_CONTR-09691/5-Ax_T1_MP_SPGR_PRE_GAD-09555a_n.nii.gz',\n",
       "    'TCGA-LGG-nifti/TCGA-HT-7608/03-04-1994-MRI_BRAIN_FOR_STEREOTACTIC_WWO_CONTR-09691/4-Ax_T2_FSE-43427a_n.nii.gz',\n",
       "    'TCGA-LGG-nifti/TCGA-HT-7608/03-04-1994-MRI_BRAIN_FOR_STEREOTACTIC_WWO_CONTR-09691/3-Ax_T2_Flair-18873a_n.nii.gz']},\n",
       "  {'label': '',\n",
       "   'image': ['TCGA-LGG-nifti/TCGA-HT-7602/11-03-1995-MRI_BRAIN_FOR_STEREOTACTIC_WWO_CONTR-96833/10-AX_3D_SPGR-56128a_n.nii.gz',\n",
       "    'TCGA-LGG-nifti/TCGA-HT-7602/11-03-1995-MRI_BRAIN_FOR_STEREOTACTIC_WWO_CONTR-96833/7-AX_T1-05806a_n.nii.gz',\n",
       "    'TCGA-LGG-nifti/TCGA-HT-7602/11-03-1995-MRI_BRAIN_FOR_STEREOTACTIC_WWO_CONTR-96833/9-COR_GRE_T2-11320a_n.nii.gz',\n",
       "    'TCGA-LGG-nifti/TCGA-HT-7602/11-03-1995-MRI_BRAIN_FOR_STEREOTACTIC_WWO_CONTR-96833/4-Ax_Flair_irFSE_H-63620a_n.nii.gz']},\n",
       "  {'label': '',\n",
       "   'image': ['TCGA-LGG-nifti/TCGA-HT-7856/08-31-1995-MRI_BRAIN_WWO_CONTRAST-71037/8-AX_3D_SPGR-86734a_n.nii.gz',\n",
       "    'TCGA-LGG-nifti/TCGA-HT-7856/08-31-1995-MRI_BRAIN_WWO_CONTRAST-71037/4-SAG_T1-89560a_n.nii.gz',\n",
       "    'TCGA-LGG-nifti/TCGA-HT-7856/08-31-1995-MRI_BRAIN_WWO_CONTRAST-71037/1-3-pl_T2_FGRE_S-11694a_n.nii.gz',\n",
       "    'TCGA-LGG-nifti/TCGA-HT-7856/08-31-1995-MRI_BRAIN_WWO_CONTRAST-71037/6-Ax_Flair_irFSE_H-08103a_n.nii.gz']},\n",
       "  {'label': '',\n",
       "   'image': ['TCGA-LGG-nifti/TCGA-DU-8168/05-03-1997-MRI_BRAIN_WWO_CONTRAST-55138/12-AX_T1_POST_GD_FLAIR-79320a_n.nii.gz',\n",
       "    'TCGA-LGG-nifti/TCGA-DU-8168/05-03-1997-MRI_BRAIN_WWO_CONTRAST-55138/8-AX_T1_pre_gd-14297a_n.nii.gz',\n",
       "    'TCGA-LGG-nifti/TCGA-DU-8168/05-03-1997-MRI_BRAIN_WWO_CONTRAST-55138/4-AX_T2_FR-FSE_RF2_150-98020a_n.nii.gz',\n",
       "    'TCGA-LGG-nifti/TCGA-DU-8168/05-03-1997-MRI_BRAIN_WWO_CONTRAST-55138/7-AXIAL_FLAIR-40636a_n.nii.gz']},\n",
       "  {'label': '',\n",
       "   'image': ['TCGA-LGG-nifti/TCGA-DU-A5TT/03-18-1998-MRI_BRAIN_WWO_CONTRAST-63650/1101-Post_AX_T1WIRTSE-89300a_n.nii.gz',\n",
       "    'TCGA-LGG-nifti/TCGA-DU-A5TT/03-18-1998-MRI_BRAIN_WWO_CONTRAST-63650/801-Pre_AX_T1WIRTSE-03915a_n.nii.gz',\n",
       "    'TCGA-LGG-nifti/TCGA-DU-A5TT/03-18-1998-MRI_BRAIN_WWO_CONTRAST-63650/1305-AX_T2_1MM-15292a_n.nii.gz',\n",
       "    'TCGA-LGG-nifti/TCGA-DU-A5TT/03-18-1998-MRI_BRAIN_WWO_CONTRAST-63650/601-FLAIRLongTR-70500a_n.nii.gz']},\n",
       "  {'label': '',\n",
       "   'image': ['TCGA-LGG-nifti/TCGA-DU-8162/10-29-1996-MRI_BRAIN_WWO_CONTRAST-44912/11-AX_T1_POST_GD_FLAIR-78295a_n.nii.gz',\n",
       "    'TCGA-LGG-nifti/TCGA-DU-8162/10-29-1996-MRI_BRAIN_WWO_CONTRAST-44912/8-AX_T1_pre_gd-63463a_n.nii.gz',\n",
       "    'TCGA-LGG-nifti/TCGA-DU-8162/10-29-1996-MRI_BRAIN_WWO_CONTRAST-44912/7-AX_T2_FR-FSE_RF2_150-82140a_n.nii.gz',\n",
       "    'TCGA-LGG-nifti/TCGA-DU-8162/10-29-1996-MRI_BRAIN_WWO_CONTRAST-44912/4-AXIAL_FLAIR-34659a_n.nii.gz']},\n",
       "  {'label': '',\n",
       "   'image': ['TCGA-LGG-nifti/TCGA-DU-7019/09-08-1994-MRI_BRAIN_WWO_CONTRAST-36813/11-AX_T1_POST_GD_FLAIR-34098a_n.nii.gz',\n",
       "    'TCGA-LGG-nifti/TCGA-DU-7019/09-08-1994-MRI_BRAIN_WWO_CONTRAST-36813/8-AX_T1_pre_gd-46981a_n.nii.gz',\n",
       "    'TCGA-LGG-nifti/TCGA-DU-7019/09-08-1994-MRI_BRAIN_WWO_CONTRAST-36813/5-AX_T2_FR-FSE_RF2_150-56476a_n.nii.gz',\n",
       "    'TCGA-LGG-nifti/TCGA-DU-7019/09-08-1994-MRI_BRAIN_WWO_CONTRAST-36813/6-AXIAL_FLAIR-36919a_n.nii.gz']},\n",
       "  {'label': '',\n",
       "   'image': ['TCGA-LGG-nifti/TCGA-DU-5874/05-10-1995-MRI_BRAIN_WWO_CONTRAST-73527/12-AX_T1_POST_GD_FLAIR-28074a_n.nii.gz',\n",
       "    'TCGA-LGG-nifti/TCGA-DU-5874/05-10-1995-MRI_BRAIN_WWO_CONTRAST-73527/9-AX_T1_pre_gd-68886a_n.nii.gz',\n",
       "    'TCGA-LGG-nifti/TCGA-DU-5874/05-10-1995-MRI_BRAIN_WWO_CONTRAST-73527/6-AX_T2_FR-FSE_RF2_150-73321a_n.nii.gz',\n",
       "    'TCGA-LGG-nifti/TCGA-DU-5874/05-10-1995-MRI_BRAIN_WWO_CONTRAST-73527/8-AXIAL_FLAIR-99641a_n.nii.gz']},\n",
       "  {'label': '',\n",
       "   'image': ['TCGA-LGG-nifti/TCGA-FG-A87N/08-27-2004-NR_MRI_BRAIN_WWO-98244/11-t1mpragetra_Gd-25909a_n.nii.gz',\n",
       "    'TCGA-LGG-nifti/TCGA-FG-A87N/08-27-2004-NR_MRI_BRAIN_WWO-98244/2-t1mpragetra-18978a_n.nii.gz',\n",
       "    'TCGA-LGG-nifti/TCGA-FG-A87N/08-27-2004-NR_MRI_BRAIN_WWO-98244/3-T2_axial-68962a_n.nii.gz',\n",
       "    'TCGA-LGG-nifti/TCGA-FG-A87N/08-27-2004-NR_MRI_BRAIN_WWO-98244/4-FLAIR_axial-10513a_n.nii.gz']},\n",
       "  {'label': '',\n",
       "   'image': ['TCGA-LGG-nifti/TCGA-DU-A5TY/07-09-1997-MRI_BRAIN_WWO_CONTRAST-80103/10-AX_T1_POST_GD_FLAIR-15937a_n.nii.gz',\n",
       "    'TCGA-LGG-nifti/TCGA-DU-A5TY/07-09-1997-MRI_BRAIN_WWO_CONTRAST-80103/7-AX_T1_pre_gd-79303a_n.nii.gz',\n",
       "    'TCGA-LGG-nifti/TCGA-DU-A5TY/07-09-1997-MRI_BRAIN_WWO_CONTRAST-80103/4-AX_T2_FR-FSE_RF2_150-05186a_n.nii.gz',\n",
       "    'TCGA-LGG-nifti/TCGA-DU-A5TY/07-09-1997-MRI_BRAIN_WWO_CONTRAST-80103/5-AXIAL_FLAIR-45628a_n.nii.gz']},\n",
       "  {'label': '',\n",
       "   'image': ['TCGA-LGG-nifti/TCGA-DU-8165/02-05-1997-MRI_BRAIN_WWO_CONTRAST-94305/12-AX_T1_POST_GD_FLAIR-96133a_n.nii.gz',\n",
       "    'TCGA-LGG-nifti/TCGA-DU-8165/02-05-1997-MRI_BRAIN_WWO_CONTRAST-94305/9-AX_T1_pre_gd-69017a_n.nii.gz',\n",
       "    'TCGA-LGG-nifti/TCGA-DU-8165/02-05-1997-MRI_BRAIN_WWO_CONTRAST-94305/8-AX_T2_FR-FSE_RF2_150-35709a_n.nii.gz',\n",
       "    'TCGA-LGG-nifti/TCGA-DU-8165/02-05-1997-MRI_BRAIN_WWO_CONTRAST-94305/7-AXIAL_FLAIR-60788a_n.nii.gz']},\n",
       "  {'label': '',\n",
       "   'image': ['TCGA-LGG-nifti/TCGA-DU-A5TS/07-26-1997-MRI_BRAIN_WWO_CONTRAST-00379/11-Ax_T1_2.5mm_for_surgery-49338a_n.nii.gz',\n",
       "    'TCGA-LGG-nifti/TCGA-DU-A5TS/07-26-1997-MRI_BRAIN_WWO_CONTRAST-00379/5-AXIAL_T1-90781a_n.nii.gz',\n",
       "    'TCGA-LGG-nifti/TCGA-DU-A5TS/07-26-1997-MRI_BRAIN_WWO_CONTRAST-00379/7-Ax_T2_FSE-15953a_n.nii.gz',\n",
       "    'TCGA-LGG-nifti/TCGA-DU-A5TS/07-26-1997-MRI_BRAIN_WWO_CONTRAST-00379/4-Ax_FLAIR_2.5mm_for_surgery-75341a_n.nii.gz']},\n",
       "  {'label': '',\n",
       "   'image': ['TCGA-LGG-nifti/TCGA-FG-A4MU/09-03-2003-NR_MRI_BRAIN_WWO-12086/8-T1_AXIAL_Gd-67673a_n.nii.gz',\n",
       "    'TCGA-LGG-nifti/TCGA-FG-A4MU/09-03-2003-NR_MRI_BRAIN_WWO-12086/6-TIR_T1_AX-56889a_n.nii.gz',\n",
       "    'TCGA-LGG-nifti/TCGA-FG-A4MU/09-03-2003-NR_MRI_BRAIN_WWO-12086/2-T2_AX-76297a_n.nii.gz',\n",
       "    'TCGA-LGG-nifti/TCGA-FG-A4MU/09-03-2003-NR_MRI_BRAIN_WWO-12086/3-FLAIR_AX-15823a_n.nii.gz']},\n",
       "  {'label': '',\n",
       "   'image': ['TCGA-LGG-nifti/TCGA-HT-7605/09-16-1995-MRI_BRAIN_FOR_STEREOTACTIC_WWO_CONTR-23970/20-C_Ax_T1_MP_SPGR-72811a_n.nii.gz',\n",
       "    'TCGA-LGG-nifti/TCGA-HT-7605/09-16-1995-MRI_BRAIN_FOR_STEREOTACTIC_WWO_CONTR-23970/18-Ax_T1_MP_SPGR-73978a_n.nii.gz',\n",
       "    'TCGA-LGG-nifti/TCGA-HT-7605/09-16-1995-MRI_BRAIN_FOR_STEREOTACTIC_WWO_CONTR-23970/17-OPTIONALAx_T2_FSE_INTER-34158a_n.nii.gz',\n",
       "    'TCGA-LGG-nifti/TCGA-HT-7605/09-16-1995-MRI_BRAIN_FOR_STEREOTACTIC_WWO_CONTR-23970/15-AXIAL_T2_FLAIR-83535a_n.nii.gz']},\n",
       "  {'label': '',\n",
       "   'image': ['TCGA-LGG-nifti/TCGA-CS-4941/09-09-1996-BRAIN_WWO-83863/6-AXIAL_T1_POST_GAD_FATSAT-04322a_n.nii.gz',\n",
       "    'TCGA-LGG-nifti/TCGA-CS-4941/09-09-1996-BRAIN_WWO-83863/2-AXIAL_T1-09309a_n.nii.gz',\n",
       "    'TCGA-LGG-nifti/TCGA-CS-4941/09-09-1996-BRAIN_WWO-83863/3-AXIAL_T2-97278a_n.nii.gz',\n",
       "    'TCGA-LGG-nifti/TCGA-CS-4941/09-09-1996-BRAIN_WWO-83863/5-AXIAL_FLAIR-33857a_n.nii.gz']},\n",
       "  {'label': '',\n",
       "   'image': ['TCGA-LGG-nifti/TCGA-DU-7304/03-25-1993-MRI_BRAIN_WWO_CONTRAST-46100/10-AX_T1_POST_GD_FLAIR-79006a_n.nii.gz',\n",
       "    'TCGA-LGG-nifti/TCGA-DU-7304/03-25-1993-MRI_BRAIN_WWO_CONTRAST-46100/8-AX_T1_pre_gd-54697a_n.nii.gz',\n",
       "    'TCGA-LGG-nifti/TCGA-DU-7304/03-25-1993-MRI_BRAIN_WWO_CONTRAST-46100/6-AX_T2_FR-FSE_RF2_150-02554a_n.nii.gz',\n",
       "    'TCGA-LGG-nifti/TCGA-DU-7304/03-25-1993-MRI_BRAIN_WWO_CONTRAST-46100/5-AXIAL_FLAIR-79801a_n.nii.gz']},\n",
       "  {'label': '',\n",
       "   'image': ['TCGA-LGG-nifti/TCGA-HT-8563/12-09-1998-MRI_BRAIN_FOR_STEREOTACTIC_WWO_CONTR-58636/10-AX_3D_SPGR-35180a_n.nii.gz',\n",
       "    'TCGA-LGG-nifti/TCGA-HT-8563/12-09-1998-MRI_BRAIN_FOR_STEREOTACTIC_WWO_CONTR-58636/5-AX_T1-68450a_n.nii.gz',\n",
       "    'TCGA-LGG-nifti/TCGA-HT-8563/12-09-1998-MRI_BRAIN_FOR_STEREOTACTIC_WWO_CONTR-58636/7-COR_GRE_T2-90435a_n.nii.gz',\n",
       "    'TCGA-LGG-nifti/TCGA-HT-8563/12-09-1998-MRI_BRAIN_FOR_STEREOTACTIC_WWO_CONTR-58636/6-Ax_Flair_irFSE_H-47930a_n.nii.gz']},\n",
       "  {'label': '',\n",
       "   'image': ['TCGA-LGG-nifti/TCGA-DU-5852/07-09-1995-MRI_BRAIN_WWO_CONTRAST-62702/11-AX_T1_POST_GD_FLAIR-41253a_n.nii.gz',\n",
       "    'TCGA-LGG-nifti/TCGA-DU-5852/07-09-1995-MRI_BRAIN_WWO_CONTRAST-62702/8-AX_T1_pre_gd-61202a_n.nii.gz',\n",
       "    'TCGA-LGG-nifti/TCGA-DU-5852/07-09-1995-MRI_BRAIN_WWO_CONTRAST-62702/5-AX_T2_FR-FSE_RF2_150-08573a_n.nii.gz',\n",
       "    'TCGA-LGG-nifti/TCGA-DU-5852/07-09-1995-MRI_BRAIN_WWO_CONTRAST-62702/7-AXIAL_FLAIR-87535a_n.nii.gz']},\n",
       "  {'label': '',\n",
       "   'image': ['TCGA-LGG-nifti/TCGA-HT-7616/08-13-1994-MRI_BRAIN_WDIFFUSION_WWO_CONTRAST-74533/10-AX_3D_SPGRC-88568a_n.nii.gz',\n",
       "    'TCGA-LGG-nifti/TCGA-HT-7616/08-13-1994-MRI_BRAIN_WDIFFUSION_WWO_CONTRAST-74533/4-AX_3D_SPGR-08228a_n.nii.gz',\n",
       "    'TCGA-LGG-nifti/TCGA-HT-7616/08-13-1994-MRI_BRAIN_WDIFFUSION_WWO_CONTRAST-74533/7-Ax_T2_FSE_H-78773a_n.nii.gz',\n",
       "    'TCGA-LGG-nifti/TCGA-HT-7616/08-13-1994-MRI_BRAIN_WDIFFUSION_WWO_CONTRAST-74533/8-Ax_Flair_irFSE_H-30437a_n.nii.gz']},\n",
       "  {'label': '',\n",
       "   'image': ['TCGA-LGG-nifti/TCGA-CS-6666/11-09-2001-MRI_BRAIN_WITH-71602/1101-T1_AX_SE_FS_POST-08997a_n.nii.gz',\n",
       "    'TCGA-LGG-nifti/TCGA-CS-6666/11-09-2001-MRI_BRAIN_WITH-71602/901-T1_AX__SE-78879a_n.nii.gz',\n",
       "    'TCGA-LGG-nifti/TCGA-CS-6666/11-09-2001-MRI_BRAIN_WITH-71602/801-AXIAL__T2-43433a_n.nii.gz',\n",
       "    'TCGA-LGG-nifti/TCGA-CS-6666/11-09-2001-MRI_BRAIN_WITH-71602/701-T2_AX_FLAIR-08756a_n.nii.gz']},\n",
       "  {'label': '',\n",
       "   'image': ['TCGA-LGG-nifti/TCGA-HT-7874/09-02-1995-MRI_BRAIN_WDIFFUSION_WWO_CONTRAST-61816/11-AX_3D_SPGR-38668a_n.nii.gz',\n",
       "    'TCGA-LGG-nifti/TCGA-HT-7874/09-02-1995-MRI_BRAIN_WDIFFUSION_WWO_CONTRAST-61816/5-AX_T1-04486a_n.nii.gz',\n",
       "    'TCGA-LGG-nifti/TCGA-HT-7874/09-02-1995-MRI_BRAIN_WDIFFUSION_WWO_CONTRAST-61816/7-COR_GRE_T2-75870a_n.nii.gz',\n",
       "    'TCGA-LGG-nifti/TCGA-HT-7874/09-02-1995-MRI_BRAIN_WDIFFUSION_WWO_CONTRAST-61816/6-Ax_Flair_irFSE_H-00373a_n.nii.gz']},\n",
       "  {'label': '',\n",
       "   'image': ['TCGA-LGG-nifti/TCGA-FG-A713/07-09-2004-NR_MRI_BRAIN_WWO-06810/11-t1mpragetra_Gd-45030a_n.nii.gz',\n",
       "    'TCGA-LGG-nifti/TCGA-FG-A713/07-09-2004-NR_MRI_BRAIN_WWO-06810/2-t1mpragetra-29148a_n.nii.gz',\n",
       "    'TCGA-LGG-nifti/TCGA-FG-A713/07-09-2004-NR_MRI_BRAIN_WWO-06810/3-T2_axial-60226a_n.nii.gz',\n",
       "    'TCGA-LGG-nifti/TCGA-FG-A713/07-09-2004-NR_MRI_BRAIN_WWO-06810/4-FLAIR_axial-08517a_n.nii.gz']},\n",
       "  {'label': '',\n",
       "   'image': ['TCGA-LGG-nifti/TCGA-DU-7294/01-04-1989-MRI_BRAIN_WWO_CONTRAS-19917/14-AX_T1_LOC__PODT_GD-70066a_n.nii.gz',\n",
       "    'TCGA-LGG-nifti/TCGA-DU-7294/01-04-1989-MRI_BRAIN_WWO_CONTRAS-19917/8-AX_T1_pre_gd-73491a_n.nii.gz',\n",
       "    'TCGA-LGG-nifti/TCGA-DU-7294/01-04-1989-MRI_BRAIN_WWO_CONTRAS-19917/4-AX_T2_FR-FSE_RF2_150-08103a_n.nii.gz',\n",
       "    'TCGA-LGG-nifti/TCGA-DU-7294/01-04-1989-MRI_BRAIN_WWO_CONTRAS-19917/7-AXIAL_FLAIR_RF2__150-07121a_n.nii.gz']},\n",
       "  {'label': '',\n",
       "   'image': ['TCGA-LGG-nifti/TCGA-DU-7300/08-14-1991-MRI_BRAIN_WWO_CONTRAST-33968/10-AX_T1_POST_GD_FLAIR-17011a_n.nii.gz',\n",
       "    'TCGA-LGG-nifti/TCGA-DU-7300/08-14-1991-MRI_BRAIN_WWO_CONTRAST-33968/8-AX_T1_pre_gd-75477a_n.nii.gz',\n",
       "    'TCGA-LGG-nifti/TCGA-DU-7300/08-14-1991-MRI_BRAIN_WWO_CONTRAST-33968/6-AX_T2_FR-FSE_RF2_150-18382a_n.nii.gz',\n",
       "    'TCGA-LGG-nifti/TCGA-DU-7300/08-14-1991-MRI_BRAIN_WWO_CONTRAST-33968/5-AXIAL_FLAIR-16329a_n.nii.gz']},\n",
       "  {'label': '',\n",
       "   'image': ['TCGA-LGG-nifti/TCGA-HT-A5RC/08-31-1999-MRI_BRAIN_WWO_CONTRAST-87101/3-AX_3D_SPGR-09138a_n.nii.gz',\n",
       "    'TCGA-LGG-nifti/TCGA-HT-A5RC/08-31-1999-MRI_BRAIN_WWO_CONTRAST-87101/6-AX_3D_SPGR-65319a_n.nii.gz',\n",
       "    'TCGA-LGG-nifti/TCGA-HT-A5RC/08-31-1999-MRI_BRAIN_WWO_CONTRAST-87101/1-3-pl_T2_FGRE_S-89387a_n.nii.gz',\n",
       "    'TCGA-LGG-nifti/TCGA-HT-A5RC/08-31-1999-MRI_BRAIN_WWO_CONTRAST-87101/5-Ax_Flair_irFSE_H-29741a_n.nii.gz']},\n",
       "  {'label': '',\n",
       "   'image': ['TCGA-LGG-nifti/TCGA-HT-7472/08-06-1997-MRI_BRAIN_FOR_STEREOTACTIC_WWO_CONTR-88431/14-mpRAGE_AX3DSPGRFast-40697a_n.nii.gz',\n",
       "    'TCGA-LGG-nifti/TCGA-HT-7472/08-15-1997-MRI_BRAIN_FOR_STEREOTACTIC_WWO_CONTR-97221/5-AX_T1-78209a_n.nii.gz',\n",
       "    'TCGA-LGG-nifti/TCGA-HT-7472/08-06-1997-MRI_BRAIN_FOR_STEREOTACTIC_WWO_CONTR-88431/13-Ax_T2_FSE_INTER-91195a_n.nii.gz',\n",
       "    'TCGA-LGG-nifti/TCGA-HT-7472/08-15-1997-MRI_BRAIN_FOR_STEREOTACTIC_WWO_CONTR-97221/6-Ax_Flair_irFSE_H-49303a_n.nii.gz']},\n",
       "  {'label': '',\n",
       "   'image': ['TCGA-LGG-nifti/TCGA-DU-A5TW/02-28-1998-MRI_BRAIN_WWO_CONTRAST-80988/901-POST_AX_T1_FLAIR-75656a_n.nii.gz',\n",
       "    'TCGA-LGG-nifti/TCGA-DU-A5TW/02-28-1998-MRI_BRAIN_WWO_CONTRAST-80988/801-AX_T1_FLAIR_PRE-97616a_n.nii.gz',\n",
       "    'TCGA-LGG-nifti/TCGA-DU-A5TW/02-28-1998-MRI_BRAIN_WWO_CONTRAST-80988/401-AX_T2-90558a_n.nii.gz',\n",
       "    'TCGA-LGG-nifti/TCGA-DU-A5TW/02-28-1998-MRI_BRAIN_WWO_CONTRAST-80988/501-AX_T2_FLAIR-37956a_n.nii.gz']},\n",
       "  {'label': '',\n",
       "   'image': ['TCGA-LGG-nifti/TCGA-HT-7855/10-20-1995-MRI_BRAIN_FOR_STEREOTACTIC_WWO_CONTR-24581/11-Ax_T1_SEC-73599a_n.nii.gz',\n",
       "    'TCGA-LGG-nifti/TCGA-HT-7855/10-20-1995-MRI_BRAIN_FOR_STEREOTACTIC_WWO_CONTR-24581/7-Ax_T1_SE-60410a_n.nii.gz',\n",
       "    'TCGA-LGG-nifti/TCGA-HT-7855/10-20-1995-MRI_BRAIN_FOR_STEREOTACTIC_WWO_CONTR-24581/2-Sag_T2_FSE-05582a_n.nii.gz',\n",
       "    'TCGA-LGG-nifti/TCGA-HT-7855/10-20-1995-MRI_BRAIN_FOR_STEREOTACTIC_WWO_CONTR-24581/5-Ax_T2_Flair-36356a_n.nii.gz']},\n",
       "  {'label': '',\n",
       "   'image': ['TCGA-LGG-nifti/TCGA-HT-7692/07-24-1996-MRI_BRAIN_FOR_STEREOTACTIC_WWO_CONTR-13406/9-AX_3D_SPGR__C-53314a_n.nii.gz',\n",
       "    'TCGA-LGG-nifti/TCGA-HT-7692/07-24-1996-MRI_BRAIN_FOR_STEREOTACTIC_WWO_CONTR-13406/5-AX_T1-65940a_n.nii.gz',\n",
       "    'TCGA-LGG-nifti/TCGA-HT-7692/07-24-1996-MRI_BRAIN_FOR_STEREOTACTIC_WWO_CONTR-13406/8-AX_FSE_T2_inter-67120a_n.nii.gz',\n",
       "    'TCGA-LGG-nifti/TCGA-HT-7692/07-24-1996-MRI_BRAIN_FOR_STEREOTACTIC_WWO_CONTR-13406/6-Ax_Flair_irFSE_H-36055a_n.nii.gz']},\n",
       "  {'label': '',\n",
       "   'image': ['TCGA-LGG-nifti/TCGA-HT-7884/09-13-1998-MRI_BRAIN_FOR_STEREOTACTIC_WWO_CONTR-21174/11-AX_3D_SPGRC-52662a_n.nii.gz',\n",
       "    'TCGA-LGG-nifti/TCGA-HT-7884/09-13-1998-MRI_BRAIN_FOR_STEREOTACTIC_WWO_CONTR-21174/5-AX_T1-98660a_n.nii.gz',\n",
       "    'TCGA-LGG-nifti/TCGA-HT-7884/09-13-1998-MRI_BRAIN_FOR_STEREOTACTIC_WWO_CONTR-21174/6-OPT_AX_T2_FSE_inter-35755a_n.nii.gz',\n",
       "    'TCGA-LGG-nifti/TCGA-HT-7884/09-13-1998-MRI_BRAIN_FOR_STEREOTACTIC_WWO_CONTR-21174/7-Ax_Flair_irFSE_H-63283a_n.nii.gz']},\n",
       "  {'label': '',\n",
       "   'image': ['TCGA-LGG-nifti/TCGA-HT-7860/05-13-1996-MRI_BRAIN_FOR_STEREOTACTIC_WWO_CONTR-14721/12-CAX_3D_SPGR-00878a_n.nii.gz',\n",
       "    'TCGA-LGG-nifti/TCGA-HT-7860/05-13-1996-MRI_BRAIN_FOR_STEREOTACTIC_WWO_CONTR-14721/5-AX_T1-04566a_n.nii.gz',\n",
       "    'TCGA-LGG-nifti/TCGA-HT-7860/05-13-1996-MRI_BRAIN_FOR_STEREOTACTIC_WWO_CONTR-14721/6-Prop_T2_TRF-81803a_n.nii.gz',\n",
       "    'TCGA-LGG-nifti/TCGA-HT-7860/05-13-1996-MRI_BRAIN_FOR_STEREOTACTIC_WWO_CONTR-14721/7-Ax_Flair_irFSE_H-18747a_n.nii.gz']},\n",
       "  {'label': '',\n",
       "   'image': ['TCGA-LGG-nifti/TCGA-HT-8106/07-27-1997-MRI_BRAIN_FOR_STEREOTACTIC_WWO_CONTR-67522/12-CAX_3D_SPGR-46928a_n.nii.gz',\n",
       "    'TCGA-LGG-nifti/TCGA-HT-8106/07-27-1997-MRI_BRAIN_FOR_STEREOTACTIC_WWO_CONTR-67522/5-AX_T1-10082a_n.nii.gz',\n",
       "    'TCGA-LGG-nifti/TCGA-HT-8106/07-27-1997-MRI_BRAIN_FOR_STEREOTACTIC_WWO_CONTR-67522/7-COR_GRE_T2-82795a_n.nii.gz',\n",
       "    'TCGA-LGG-nifti/TCGA-HT-8106/07-27-1997-MRI_BRAIN_FOR_STEREOTACTIC_WWO_CONTR-67522/6-Ax_Flair_irFSE_H-39528a_n.nii.gz']},\n",
       "  {'label': '',\n",
       "   'image': ['TCGA-LGG-nifti/TCGA-HT-7475/09-18-1997-MRI_BRAIN_FOR_STEREOTACTIC_WWO_CONTR-31460/11-AX_3D_SPGRC-33028a_n.nii.gz',\n",
       "    'TCGA-LGG-nifti/TCGA-HT-7475/09-18-1997-MRI_BRAIN_FOR_STEREOTACTIC_WWO_CONTR-31460/5-AX_3D_SPGR-10807a_n.nii.gz',\n",
       "    'TCGA-LGG-nifti/TCGA-HT-7475/09-18-1997-MRI_BRAIN_FOR_STEREOTACTIC_WWO_CONTR-31460/1-3-pl_T2_FGRE_S-60211a_n.nii.gz',\n",
       "    'TCGA-LGG-nifti/TCGA-HT-7475/09-18-1997-MRI_BRAIN_FOR_STEREOTACTIC_WWO_CONTR-31460/6-Ax_Flair_irFSE_H-06527a_n.nii.gz']},\n",
       "  {'label': '',\n",
       "   'image': ['TCGA-LGG-nifti/TCGA-DU-8166/03-22-1997-MRI_BRAIN_WWO_CONTRAST-94974/12-AX_T1_POST_GD_FLAIR-47718a_n.nii.gz',\n",
       "    'TCGA-LGG-nifti/TCGA-DU-8166/03-22-1997-MRI_BRAIN_WWO_CONTRAST-94974/9-AX_T1_pre_gd-32082a_n.nii.gz',\n",
       "    'TCGA-LGG-nifti/TCGA-DU-8166/03-22-1997-MRI_BRAIN_WWO_CONTRAST-94974/8-AX_T2_FR-FSE_RF2_150-13948a_n.nii.gz',\n",
       "    'TCGA-LGG-nifti/TCGA-DU-8166/03-22-1997-MRI_BRAIN_WWO_CONTRAST-94974/7-AXIAL_FLAIR-20431a_n.nii.gz']},\n",
       "  {'label': '',\n",
       "   'image': ['TCGA-LGG-nifti/TCGA-DU-A5TP/06-14-1997-MRI_BRAIN_WWO_CONTRAST-14542/10-AX_T1_POST_GD_FLAIR-90264a_n.nii.gz',\n",
       "    'TCGA-LGG-nifti/TCGA-DU-A5TP/06-14-1997-MRI_BRAIN_WWO_CONTRAST-14542/7-AX_T1_pre_gd-49092a_n.nii.gz',\n",
       "    'TCGA-LGG-nifti/TCGA-DU-A5TP/06-14-1997-MRI_BRAIN_WWO_CONTRAST-14542/5-AX_T2_FR-FSE_RF2_150-15488a_n.nii.gz',\n",
       "    'TCGA-LGG-nifti/TCGA-DU-A5TP/06-14-1997-MRI_BRAIN_WWO_CONTRAST-14542/6-AXIAL_FLAIR-07910a_n.nii.gz']},\n",
       "  {'label': '',\n",
       "   'image': ['TCGA-LGG-nifti/TCGA-DU-7299/04-17-1991-MRI_BRAIN_WWO_CONTRAST-84114/10-AX_T1_POST_GD_FLAIR-49564a_n.nii.gz',\n",
       "    'TCGA-LGG-nifti/TCGA-DU-7299/04-17-1991-MRI_BRAIN_WWO_CONTRAST-84114/8-AX_T1_pre_gd-86144a_n.nii.gz',\n",
       "    'TCGA-LGG-nifti/TCGA-DU-7299/04-17-1991-MRI_BRAIN_WWO_CONTRAST-84114/6-AX_T2_FR-FSE_RF2_150-11418a_n.nii.gz',\n",
       "    'TCGA-LGG-nifti/TCGA-DU-7299/04-17-1991-MRI_BRAIN_WWO_CONTRAST-84114/5-AXIAL_FLAIR-03289a_n.nii.gz']},\n",
       "  {'label': '',\n",
       "   'image': ['TCGA-LGG-nifti/TCGA-HT-7879/10-09-1998-MRI_BRAIN_FOR_STEREOTACTIC_WWO_CONTR-87116/12-POST_Ax_T1_MP_SPGR-64353a_n.nii.gz',\n",
       "    'TCGA-LGG-nifti/TCGA-HT-7879/10-09-1998-MRI_BRAIN_FOR_STEREOTACTIC_WWO_CONTR-87116/6-Ax_T1_MP_SPGR-40361a_n.nii.gz',\n",
       "    'TCGA-LGG-nifti/TCGA-HT-7879/10-09-1998-MRI_BRAIN_FOR_STEREOTACTIC_WWO_CONTR-87116/7-OPTIONALAx_T2_FSE_INTER-84430a_n.nii.gz',\n",
       "    'TCGA-LGG-nifti/TCGA-HT-7879/10-09-1998-MRI_BRAIN_FOR_STEREOTACTIC_WWO_CONTR-87116/5-Ax_T2_Flair-42124a_n.nii.gz']},\n",
       "  {'label': '',\n",
       "   'image': ['TCGA-LGG-nifti/TCGA-DU-A6S8/06-20-1998-MRI_BRAIN_WWO_CONTRAST-07083/1303-POST_AX_T1__3MM-05566a_n.nii.gz',\n",
       "    'TCGA-LGG-nifti/TCGA-DU-A6S8/06-20-1998-MRI_BRAIN_WWO_CONTRAST-07083/801-AX_T1WIRTSE-61713a_n.nii.gz',\n",
       "    'TCGA-LGG-nifti/TCGA-DU-A6S8/06-20-1998-MRI_BRAIN_WWO_CONTRAST-07083/601-AX_T2WDRIVE-28974a_n.nii.gz',\n",
       "    'TCGA-LGG-nifti/TCGA-DU-A6S8/06-20-1998-MRI_BRAIN_WWO_CONTRAST-07083/701-FLAIRLongTR-58933a_n.nii.gz']},\n",
       "  {'label': '',\n",
       "   'image': ['TCGA-LGG-nifti/TCGA-HT-7686/06-29-1995-MRI_BRAIN_FOR_STEREOTACTIC_WWO_CONTR-39199/10-AX_3D_SPGR-39020a_n.nii.gz',\n",
       "    'TCGA-LGG-nifti/TCGA-HT-7686/06-29-1995-MRI_BRAIN_FOR_STEREOTACTIC_WWO_CONTR-39199/5-AX_T1-26042a_n.nii.gz',\n",
       "    'TCGA-LGG-nifti/TCGA-HT-7686/06-29-1995-MRI_BRAIN_FOR_STEREOTACTIC_WWO_CONTR-39199/9-COR_GRE_T2-40626a_n.nii.gz',\n",
       "    'TCGA-LGG-nifti/TCGA-HT-7686/06-29-1995-MRI_BRAIN_FOR_STEREOTACTIC_WWO_CONTR-39199/7-Ax_Flair_irFSE_H-35931a_n.nii.gz']},\n",
       "  {'label': '',\n",
       "   'image': ['TCGA-LGG-nifti/TCGA-HT-8018/04-11-1997-MRI_BRAIN_FOR_STEREOTACTIC_WWO_CONTR-53563/9-AX_3D_SPGR__C-46765a_n.nii.gz',\n",
       "    'TCGA-LGG-nifti/TCGA-HT-8018/04-11-1997-MRI_BRAIN_FOR_STEREOTACTIC_WWO_CONTR-53563/4-AX_T1-28979a_n.nii.gz',\n",
       "    'TCGA-LGG-nifti/TCGA-HT-8018/04-11-1997-MRI_BRAIN_FOR_STEREOTACTIC_WWO_CONTR-53563/5-OPTIONAL_AX_FSE_T2_inter-99676a_n.nii.gz',\n",
       "    'TCGA-LGG-nifti/TCGA-HT-8018/04-11-1997-MRI_BRAIN_FOR_STEREOTACTIC_WWO_CONTR-53563/6-Ax_Flair_irFSE_H-43337a_n.nii.gz']},\n",
       "  {'label': '',\n",
       "   'image': ['TCGA-LGG-nifti/TCGA-DU-A6S2/04-04-1998-MRI_BRAIN_WWO_CONTRAST-27768/1001-Post_AX_T1WIRTSE-01683a_n.nii.gz',\n",
       "    'TCGA-LGG-nifti/TCGA-DU-A6S2/04-04-1998-MRI_BRAIN_WWO_CONTRAST-27768/601-AX_T1WIRTSE-64087a_n.nii.gz',\n",
       "    'TCGA-LGG-nifti/TCGA-DU-A6S2/04-04-1998-MRI_BRAIN_WWO_CONTRAST-27768/401-AX_T2WDRIVE-02703a_n.nii.gz',\n",
       "    'TCGA-LGG-nifti/TCGA-DU-A6S2/04-04-1998-MRI_BRAIN_WWO_CONTRAST-27768/501-FLAIRLongTR-35981a_n.nii.gz']},\n",
       "  {'label': '',\n",
       "   'image': ['TCGA-LGG-nifti/TCGA-DU-5851/04-28-1995-MRI_BRAIN_WWO_CONTRAST-02930/8-Ax_T1_2.5mm_for_surgery-67989a_n.nii.gz',\n",
       "    'TCGA-LGG-nifti/TCGA-DU-5851/04-28-1995-MRI_BRAIN_WWO_CONTRAST-02930/6-AXIAL_T1-23762a_n.nii.gz',\n",
       "    'TCGA-LGG-nifti/TCGA-DU-5851/04-28-1995-MRI_BRAIN_WWO_CONTRAST-02930/3-AXIAL_FSE-27040a_n.nii.gz',\n",
       "    'TCGA-LGG-nifti/TCGA-DU-5851/04-28-1995-MRI_BRAIN_WWO_CONTRAST-02930/4-Ax_FLAIR_2.5mm_for_surgery-05877a_n.nii.gz']},\n",
       "  {'label': '',\n",
       "   'image': ['TCGA-GBM-nifti/TCGA-14-0812/03-19-1996-MRI_BRAIN_W_WOUT_CONTRAST-64984/901-BRAIN_WOW_AX_T1_POST-86504a_n.nii.gz',\n",
       "    'TCGA-GBM-nifti/TCGA-14-0812/03-19-1996-MRI_BRAIN_W_WOUT_CONTRAST-64984/501-BRAIN_WOW_AX_T1_PRE-29643a_n.nii.gz',\n",
       "    'TCGA-GBM-nifti/TCGA-14-0812/03-19-1996-MRI_BRAIN_W_WOUT_CONTRAST-64984/801-BRAIN_WOW_T2_GRASE_AX-21628a_n.nii.gz',\n",
       "    'TCGA-GBM-nifti/TCGA-14-0812/03-19-1996-MRI_BRAIN_W_WOUT_CONTRAST-64984/601-BRAIN_WOW_FLAIR_AX-67284a_n.nii.gz']},\n",
       "  {'label': '',\n",
       "   'image': ['TCGA-GBM-nifti/TCGA-12-1093/09-26-1999-MRI_BRAIN_WENHANCEMENT-16868/2-ax_t1_c-85616a_n.nii.gz',\n",
       "    'TCGA-GBM-nifti/TCGA-12-1093/09-20-1999-MRI_BRAIN_WWO_C-34026/8-AX_T1-46830a_n.nii.gz',\n",
       "    'TCGA-GBM-nifti/TCGA-12-1093/09-20-1999-MRI_BRAIN_WWO_C-34026/7-AX_T2-79763a_n.nii.gz',\n",
       "    'TCGA-GBM-nifti/TCGA-12-1093/09-20-1999-MRI_BRAIN_WWO_C-34026/4-AX_T2_FLAIR-23516a_n.nii.gz']},\n",
       "  {'label': '',\n",
       "   'image': ['TCGA-GBM-nifti/TCGA-02-0070/07-10-2000-MRI_BRAIN_WWO_CONTRAST-48290/10-AXIAL_T1_C-24985a_n.nii.gz',\n",
       "    'TCGA-GBM-nifti/TCGA-02-0070/07-10-2000-MRI_BRAIN_WWO_CONTRAST-48290/5-SE_T1-06105a_n.nii.gz',\n",
       "    'TCGA-GBM-nifti/TCGA-02-0070/07-10-2000-MRI_BRAIN_WWO_CONTRAST-48290/6-Axial_T2-64258a_n.nii.gz',\n",
       "    'TCGA-GBM-nifti/TCGA-02-0070/07-10-2000-MRI_BRAIN_WWO_CONTRAST-48290/4-T2_FLAIR-05248a_n.nii.gz']},\n",
       "  {'label': '',\n",
       "   'image': ['TCGA-GBM-nifti/TCGA-14-0736/06-21-1991-BRAIN-75040/501-QUICK_HEADST1_AX_POST___TRA____SE____500_______15____-37980a_n.nii.gz',\n",
       "    'TCGA-GBM-nifti/TCGA-14-0736/11-14-1991-BRAIN-72281/301-QUICK_HEADST1_AX_PRE____TRA____SE____622_______15____-95654a_n.nii.gz',\n",
       "    'TCGA-GBM-nifti/TCGA-14-0736/11-14-1991-BRAIN-72281/501-QUICK_HEADST2_AX_GRASE__TRA____TSE___5000______100___-94961a_n.nii.gz',\n",
       "    'TCGA-GBM-nifti/TCGA-14-0736/11-14-1991-BRAIN-72281/401-QUICK_HEADSFLAIR_AX_____TRA____TIR___11000_____120___-25095a_n.nii.gz']},\n",
       "  {'label': '',\n",
       "   'image': ['TCGA-GBM-nifti/TCGA-06-0119/12-26-2003-90543/11-AxT1-thin_for_surgery-54106a_n.nii.gz',\n",
       "    'TCGA-GBM-nifti/TCGA-06-0119/12-26-2003-90543/6-AXIAL_T1-84562a_n.nii.gz',\n",
       "    'TCGA-GBM-nifti/TCGA-06-0119/12-26-2003-90543/5-AXIAL_FSE-67200a_n.nii.gz',\n",
       "    'TCGA-GBM-nifti/TCGA-06-0119/12-26-2003-90543/7-AxFLAIR-thin_for_surgery-06923a_n.nii.gz']},\n",
       "  {'label': '',\n",
       "   'image': ['TCGA-GBM-nifti/TCGA-06-0164/02-17-1999-70122/11-AXIAL_T1_POST_GD-54779a_n.nii.gz',\n",
       "    'TCGA-GBM-nifti/TCGA-06-0164/02-18-2003-79919/8-AX_T1_pre_gd-07170a_n.nii.gz',\n",
       "    'TCGA-GBM-nifti/TCGA-06-0164/02-17-1999-70122/2-AXIAL__FSE-03506a_n.nii.gz',\n",
       "    'TCGA-GBM-nifti/TCGA-06-0164/02-17-1999-70122/3-AXIAL_FLAIR-80139a_n.nii.gz']},\n",
       "  {'label': '',\n",
       "   'image': ['TCGA-GBM-nifti/TCGA-02-0048/01-29-1999-MRI_BRAIN_WWO_CONTR-02900/6-AX_T1_POST-54190a_n.nii.gz',\n",
       "    'TCGA-GBM-nifti/TCGA-02-0048/01-29-1999-MRI_BRAIN_WWO_CONTR-02900/5-AX_T1-35018a_n.nii.gz',\n",
       "    'TCGA-GBM-nifti/TCGA-02-0048/01-29-1999-MRI_BRAIN_WWO_CONTR-02900/3-AX_T2_FSE-16941a_n.nii.gz',\n",
       "    'TCGA-GBM-nifti/TCGA-02-0048/01-29-1999-MRI_BRAIN_WWO_CONTR-02900/4-AX_FLAIR-84631a_n.nii.gz']},\n",
       "  {'label': '',\n",
       "   'image': ['TCGA-GBM-nifti/TCGA-27-1836/02-29-1988-ENCEFALO_ADULTIGENERALE-86529/7-t1secor_5mm-17757a_n.nii.gz',\n",
       "    'TCGA-GBM-nifti/TCGA-27-1836/02-29-1988-ENCEFALO_ADULTIGENERALE-86529/3-t1sesag-54338a_n.nii.gz',\n",
       "    'TCGA-GBM-nifti/TCGA-27-1836/02-29-1988-ENCEFALO_ADULTIGENERALE-86529/2-pdt2tsetra5907-09622a_n.nii.gz',\n",
       "    'TCGA-GBM-nifti/TCGA-27-1836/02-29-1988-ENCEFALO_ADULTIGENERALE-86529/4-T2_FLAIR_COR-40465a_n.nii.gz']},\n",
       "  {'label': '',\n",
       "   'image': ['TCGA-GBM-nifti/TCGA-08-0521/03-07-2000-MSTEALTH-60948/6-3D_SPGR_AX-79240a_n.nii.gz',\n",
       "    'TCGA-GBM-nifti/TCGA-08-0521/03-07-2000-MSTEALTH-60948/1-FSPGR_SAG-20363a_n.nii.gz',\n",
       "    'TCGA-GBM-nifti/TCGA-08-0521/03-07-2000-MSTEALTH-60948/3-3D_FSE_AX-58207a_n.nii.gz',\n",
       "    'TCGA-GBM-nifti/TCGA-08-0521/03-07-2000-MSTEALTH-60948/2-AX_FLAIR-57772a_n.nii.gz']},\n",
       "  {'label': '',\n",
       "   'image': ['TCGA-GBM-nifti/TCGA-06-0121/03-25-2003-95804/13-AX_T1_POST_GD_FLAIR-16002a_n.nii.gz',\n",
       "    'TCGA-GBM-nifti/TCGA-06-0121/03-25-2003-38993/8-AX_T1_pre_gd-42537a_n.nii.gz',\n",
       "    'TCGA-GBM-nifti/TCGA-06-0121/03-25-2003-38993/9-AX_T2_FR-FSE_RF2_150-70367a_n.nii.gz',\n",
       "    'TCGA-GBM-nifti/TCGA-06-0121/03-25-2003-06505/6-AXIAL_T2_FLAIR-37242a_n.nii.gz']},\n",
       "  {'label': '',\n",
       "   'image': ['TCGA-GBM-nifti/TCGA-14-3477/05-06-2002-HeadRoutine-31370/9-AX_T1_PostFIL-17853a_n.nii.gz',\n",
       "    'TCGA-GBM-nifti/TCGA-14-3477/05-06-2002-HeadRoutine-31370/6-AX_T1-26978a_n.nii.gz',\n",
       "    'TCGA-GBM-nifti/TCGA-14-3477/05-06-2002-HeadRoutine-31370/10-AX_T2_FS-03857a_n.nii.gz',\n",
       "    'TCGA-GBM-nifti/TCGA-14-3477/05-06-2002-HeadRoutine-31370/11-AX_FLAIR-01197a_n.nii.gz']},\n",
       "  {'label': '',\n",
       "   'image': ['TCGA-GBM-nifti/TCGA-12-0776/05-12-1998-BRAIN_W_AND_WO_CONTR-22391/5-AX_T1_FSE_HC-14079a_n.nii.gz',\n",
       "    'TCGA-GBM-nifti/TCGA-12-0776/05-12-1998-BRAIN_W_AND_WO_CONTR-22391/1-Sag_T1_FSE_S-74015a_n.nii.gz',\n",
       "    'TCGA-GBM-nifti/TCGA-12-0776/05-12-1998-BRAIN_W_AND_WO_CONTR-22391/2-Ax_T2_FSE_H-23335a_n.nii.gz',\n",
       "    'TCGA-GBM-nifti/TCGA-12-0776/05-12-1998-BRAIN_W_AND_WO_CONTR-22391/3-Ax_Flair_irFSE_H-76518a_n.nii.gz']},\n",
       "  {'label': '',\n",
       "   'image': ['TCGA-GBM-nifti/TCGA-76-6656/06-02-2001-MRI_BRAIN_IP-02901/1101-T1_AX_SE_FS_POST-29108a_n.nii.gz',\n",
       "    'TCGA-GBM-nifti/TCGA-76-6656/06-02-2001-MRI_BRAIN_IP-02901/901-T1_AX__SE-25444a_n.nii.gz',\n",
       "    'TCGA-GBM-nifti/TCGA-76-6656/06-02-2001-MRI_BRAIN_IP-02901/701-AXIAL__T2-73118a_n.nii.gz',\n",
       "    'TCGA-GBM-nifti/TCGA-76-6656/06-02-2001-MRI_BRAIN_IP-02901/601-T2_AX_FLAIR-30900a_n.nii.gz']},\n",
       "  {'label': '',\n",
       "   'image': ['TCGA-GBM-nifti/TCGA-06-0644/11-28-2005-78030/10-AX_T1_POST_GD_FLAIR-65253a_n.nii.gz',\n",
       "    'TCGA-GBM-nifti/TCGA-06-0644/11-28-2005-78030/8-AX_T1_pre_gd-91966a_n.nii.gz',\n",
       "    'TCGA-GBM-nifti/TCGA-06-0644/11-28-2005-78030/6-AX_T2_FR-FSE_RF2_150-22047a_n.nii.gz',\n",
       "    'TCGA-GBM-nifti/TCGA-06-0644/11-28-2005-78030/5-AXIAL_FLAIR-36667a_n.nii.gz']},\n",
       "  {'label': '',\n",
       "   'image': ['TCGA-GBM-nifti/TCGA-02-0087/12-13-1999-MRI_BRAIN_WWO_CONTRAST-62702/15-Ax_SE_T1_Post-42502a_n.nii.gz',\n",
       "    'TCGA-GBM-nifti/TCGA-02-0087/12-13-1999-MRI_BRAIN_WWO_CONTRAST-62702/11-SE_T1-21223a_n.nii.gz',\n",
       "    'TCGA-GBM-nifti/TCGA-02-0087/12-13-1999-MRI_BRAIN_WWO_CONTRAST-62702/12-Axial_T2-46690a_n.nii.gz',\n",
       "    'TCGA-GBM-nifti/TCGA-02-0087/12-13-1999-MRI_BRAIN_WWO_CONTRAST-62702/10-T2_FLAIR-05645a_n.nii.gz']},\n",
       "  {'label': '',\n",
       "   'image': ['TCGA-GBM-nifti/TCGA-02-0069/05-28-2000-MRI_BRAIN_WWO_CONTRAST-43557/9-AXIAL_T1_C-28466a_n.nii.gz',\n",
       "    'TCGA-GBM-nifti/TCGA-02-0069/05-28-2000-MRI_BRAIN_WWO_CONTRAST-43557/5-SE_T1-00223a_n.nii.gz',\n",
       "    'TCGA-GBM-nifti/TCGA-02-0069/05-28-2000-MRI_BRAIN_WWO_CONTRAST-43557/6-Axial_T2-34853a_n.nii.gz',\n",
       "    'TCGA-GBM-nifti/TCGA-02-0069/05-28-2000-MRI_BRAIN_WWO_CONTRAST-43557/4-T2_FLAIR-13189a_n.nii.gz']},\n",
       "  {'label': '',\n",
       "   'image': ['TCGA-GBM-nifti/TCGA-06-0177/05-25-2002-52708/8-Ax_T1_2.5mm_for_surgery-08941a_n.nii.gz',\n",
       "    'TCGA-GBM-nifti/TCGA-06-0177/05-25-2002-52708/6-AXIAL_T1-60748a_n.nii.gz',\n",
       "    'TCGA-GBM-nifti/TCGA-06-0177/05-25-2002-52708/3-AXIAL_FSE-86980a_n.nii.gz',\n",
       "    'TCGA-GBM-nifti/TCGA-06-0177/05-25-2002-52708/4-Ax_FLAIR_2.5mm_for_surgery-96866a_n.nii.gz']},\n",
       "  {'label': '',\n",
       "   'image': ['TCGA-GBM-nifti/TCGA-14-1037/03-02-1995-AMR60-52807/601-brain_with_AX_T1_POST-65155a_n.nii.gz',\n",
       "    'TCGA-GBM-nifti/TCGA-14-1037/03-02-1995-AMR60-52807/301-brain_with_Ax_T1_Pre-40055a_n.nii.gz',\n",
       "    'TCGA-GBM-nifti/TCGA-14-1037/03-02-1995-AMR60-52807/501-brain_with_T2_AX_GRASE-04582a_n.nii.gz',\n",
       "    'TCGA-GBM-nifti/TCGA-14-1037/12-13-1995-MRI_BRAIN_W_WOUT_CONTRAST-30838/501-BRAIN_WWO_FLAIR_AX-49548a_n.nii.gz']},\n",
       "  {'label': '',\n",
       "   'image': ['TCGA-GBM-nifti/TCGA-14-1395/09-05-1995-MRI_BRAIN_W_WOUT_CONTRAST-36603/801-brain_with_AX_T1_POST-26488a_n.nii.gz',\n",
       "    'TCGA-GBM-nifti/TCGA-14-1395/10-13-1995-MRI_STROKE_PROTOCOL-43524/1101-BRAIN_WOW_AX_T1-96994a_n.nii.gz',\n",
       "    'TCGA-GBM-nifti/TCGA-14-1395/10-13-1995-MRI_STROKE_PROTOCOL-43524/601-STROKE_____T2_GRASE_AX-28350a_n.nii.gz',\n",
       "    'TCGA-GBM-nifti/TCGA-14-1395/10-13-1995-MRI_STROKE_PROTOCOL-43524/501-STROKE_____FLAIR_AX-02551a_n.nii.gz']},\n",
       "  {'label': '',\n",
       "   'image': ['TCGA-GBM-nifti/TCGA-76-6664/01-10-2002-MRI_BRAIN_per_R-81790/1401-T1_SAG_POST-07378a_n.nii.gz',\n",
       "    'TCGA-GBM-nifti/TCGA-76-6664/01-10-2002-MRI_BRAIN_per_R-81790/501-T1_SAG_SE-36482a_n.nii.gz',\n",
       "    'TCGA-GBM-nifti/TCGA-76-6664/01-10-2002-MRI_BRAIN_per_R-81790/801-T2-WHOLE_BRAIN-49068a_n.nii.gz',\n",
       "    'TCGA-GBM-nifti/TCGA-76-6664/01-10-2002-MRI_BRAIN_per_R-81790/601-T2_AX_FLAIR-75280a_n.nii.gz']},\n",
       "  {'label': '',\n",
       "   'image': ['TCGA-GBM-nifti/TCGA-06-5412/06-03-2008-71272/14-AX_T1_POST_GD_FLAIR-85362a_n.nii.gz',\n",
       "    'TCGA-GBM-nifti/TCGA-06-5412/06-03-2008-71272/11-AX_T1_pre_gd-98139a_n.nii.gz',\n",
       "    'TCGA-GBM-nifti/TCGA-06-5412/06-03-2008-71272/7-AX_T2_FR-FSE_RF2_150-39317a_n.nii.gz',\n",
       "    'TCGA-GBM-nifti/TCGA-06-5412/06-03-2008-71272/10-AXIAL_FLAIR-00786a_n.nii.gz']},\n",
       "  {'label': '',\n",
       "   'image': ['TCGA-GBM-nifti/TCGA-06-0132/05-17-2005-85588/10-AXIAL_T1_GD-80908a_n.nii.gz',\n",
       "    'TCGA-GBM-nifti/TCGA-06-0132/05-17-2005-85588/7-AXIAL_T1-81569a_n.nii.gz',\n",
       "    'TCGA-GBM-nifti/TCGA-06-0132/05-17-2005-85588/4-AXIAL_FSE-54880a_n.nii.gz',\n",
       "    'TCGA-GBM-nifti/TCGA-06-0132/05-17-2005-85588/5-AXIAL_FLAIR-24045a_n.nii.gz']},\n",
       "  {'label': '',\n",
       "   'image': ['TCGA-GBM-nifti/TCGA-06-0145/11-06-2000-TVPSPECTOSCOPTIC-46751/10-AXIAL_T1_GD-78761a_n.nii.gz',\n",
       "    'TCGA-GBM-nifti/TCGA-06-0145/11-06-2000-TVPSPECTOSCOPTIC-46751/6-AXIAL_T1_SI_LOC-83867a_n.nii.gz',\n",
       "    'TCGA-GBM-nifti/TCGA-06-0145/11-06-2000-TVPSPECTOSCOPTIC-46751/3-AXIAL_FSE-52331a_n.nii.gz',\n",
       "    'TCGA-GBM-nifti/TCGA-06-0145/11-06-2000-TVPSPECTOSCOPTIC-46751/4-AXIAL_FLAIR-90714a_n.nii.gz']},\n",
       "  {'label': '',\n",
       "   'image': ['TCGA-GBM-nifti/TCGA-06-0138/01-06-2004-88141/12-AX_T1_POST_GD_FLAIR-37089a_n.nii.gz',\n",
       "    'TCGA-GBM-nifti/TCGA-06-0138/01-06-2004-88141/10-AX_T1_pre_gd-43208a_n.nii.gz',\n",
       "    'TCGA-GBM-nifti/TCGA-06-0138/01-06-2004-88141/7-AX_T2_FR-FSE_RF2_150-55537a_n.nii.gz',\n",
       "    'TCGA-GBM-nifti/TCGA-06-0138/01-06-2004-88141/8-AXIAL_FLAIR-19894a_n.nii.gz']},\n",
       "  {'label': '',\n",
       "   'image': ['TCGA-GBM-nifti/TCGA-06-0142/03-11-2000-15813/11-AXIAL_T1_GD-28546a_n.nii.gz',\n",
       "    'TCGA-GBM-nifti/TCGA-06-0142/03-11-2000-15813/9-AXIAL_T1-72719a_n.nii.gz',\n",
       "    'TCGA-GBM-nifti/TCGA-06-0142/03-11-2000-15813/6-AXIAL_FSE-32486a_n.nii.gz',\n",
       "    'TCGA-GBM-nifti/TCGA-06-0142/03-11-2000-15813/7-AXIAL_FLAIR-05489a_n.nii.gz']},\n",
       "  {'label': '',\n",
       "   'image': ['TCGA-GBM-nifti/TCGA-14-0783/11-26-1992-MRI_BRAIN-52495/301-Brain______T1_AX_POST___TRA____SE____507_______12____-06472a_n.nii.gz',\n",
       "    'TCGA-GBM-nifti/TCGA-14-0783/09-05-1992-MRI_BRAIN-69129/301-Brain______T1_AX_PRE____TRA____SE____500_______11____-82260a_n.nii.gz',\n",
       "    'TCGA-GBM-nifti/TCGA-14-0783/09-05-1992-MRI_BRAIN-69129/501-Brain______T2_AX_GRASE__TRA____GraSE_5000______100___-92906a_n.nii.gz',\n",
       "    'TCGA-GBM-nifti/TCGA-14-0783/09-05-1992-MRI_BRAIN-69129/401-Brain______FLAIR_AX_____TRA____TIR___11000_____120___-76548a_n.nii.gz']},\n",
       "  {'label': '',\n",
       "   'image': ['TCGA-GBM-nifti/TCGA-14-0789/03-05-1998-MRI_BRAIN_WWO_CONT-14816/901-T1_AX_POST-37946a_n.nii.gz',\n",
       "    'TCGA-GBM-nifti/TCGA-14-0789/03-05-1998-MRI_BRAIN_WWO_CONT-14816/801-T1_AX_PRE_C-94328a_n.nii.gz',\n",
       "    'TCGA-GBM-nifti/TCGA-14-0789/12-31-1997-MRI_BRAIN_WWO_CONT-55600/501-brain_with_T2_AX_GRASE-42409a_n.nii.gz',\n",
       "    'TCGA-GBM-nifti/TCGA-14-0789/11-21-1997-MRI_BRAIN_WWO_CONT-19115/1101-quick_brainT2FLAIR-02375a_n.nii.gz']},\n",
       "  {'label': '',\n",
       "   'image': ['TCGA-GBM-nifti/TCGA-27-2524/09-06-1987-ENCEFALO_ADULTIGENERALE-83983/6-t1secor_5mm-62600a_n.nii.gz',\n",
       "    'TCGA-GBM-nifti/TCGA-27-2524/09-06-1987-ENCEFALO_ADULTIGENERALE-83983/4-t1setra-69631a_n.nii.gz',\n",
       "    'TCGA-GBM-nifti/TCGA-27-2524/09-06-1987-ENCEFALO_ADULTIGENERALE-83983/2-pdt2tsetra_6mm-71767a_n.nii.gz',\n",
       "    'TCGA-GBM-nifti/TCGA-27-2524/09-06-1987-ENCEFALO_ADULTIGENERALE-83983/3-T2_FLAIR_COR-11521a_n.nii.gz']},\n",
       "  {'label': '',\n",
       "   'image': ['TCGA-GBM-nifti/TCGA-08-0392/11-03-2003-MSTEALTH-79112/7-3D_SPGR_AX-62668a_n.nii.gz',\n",
       "    'TCGA-GBM-nifti/TCGA-08-0392/11-03-2003-MSTEALTH-79112/2-FSPGR_SAG-78427a_n.nii.gz',\n",
       "    'TCGA-GBM-nifti/TCGA-08-0392/11-03-2003-MSTEALTH-79112/5-3D_FSE_AX-00858a_n.nii.gz',\n",
       "    'TCGA-GBM-nifti/TCGA-08-0392/11-03-2003-MSTEALTH-79112/4-AX_FLAIR-87676a_n.nii.gz']},\n",
       "  {'label': '',\n",
       "   'image': ['TCGA-GBM-nifti/TCGA-06-0241/08-30-2005-93299/10-AX_T1_POST_GD_FLAIR-95256a_n.nii.gz',\n",
       "    'TCGA-GBM-nifti/TCGA-06-0241/08-30-2005-93299/8-AX_T1_pre_gd-23241a_n.nii.gz',\n",
       "    'TCGA-GBM-nifti/TCGA-06-0241/08-30-2005-93299/6-AX_T2_FR-FSE_RF2_150-55213a_n.nii.gz',\n",
       "    'TCGA-GBM-nifti/TCGA-06-0241/08-30-2005-93299/5-AXIAL_FLAIR-99930a_n.nii.gz']},\n",
       "  {'label': '',\n",
       "   'image': ['TCGA-GBM-nifti/TCGA-76-6285/12-19-1998-MRI_STRYKER_W__JHN-32999/7-BRAINSTRYKERt1AX-94711a_n.nii.gz',\n",
       "    'TCGA-GBM-nifti/TCGA-76-6285/12-19-1998-MRI_STRYKER_W__JHN-32999/3-BRAINSTRYKERT1AXIAL-24370a_n.nii.gz',\n",
       "    'TCGA-GBM-nifti/TCGA-76-6285/12-19-1998-MRI_STRYKER_W__JHN-32999/5-RETROORBITT2LATEECHOB-42790a_n.nii.gz',\n",
       "    'TCGA-GBM-nifti/TCGA-76-6285/12-19-1998-MRI_STRYKER_W__JHN-32999/4-BRAINSTRYKERFLAIR-90461a_n.nii.gz']},\n",
       "  {'label': '',\n",
       "   'image': ['TCGA-GBM-nifti/TCGA-19-1388/11-01-2001-NR_MRI_BRAIN_WWO-09984/7-MRHG_T1_AX_POST_GAD-07452a_n.nii.gz',\n",
       "    'TCGA-GBM-nifti/TCGA-19-1388/11-01-2001-NR_MRI_BRAIN_WWO-09984/6-MRHG_T1_AX-02331a_n.nii.gz',\n",
       "    'TCGA-GBM-nifti/TCGA-19-1388/11-01-2001-NR_MRI_BRAIN_WWO-09984/2-MRHG_T2_AXIALS-35828a_n.nii.gz',\n",
       "    'TCGA-GBM-nifti/TCGA-19-1388/11-01-2001-NR_MRI_BRAIN_WWO-09984/3-MRHG_FLAIR_AX-82064a_n.nii.gz']},\n",
       "  {'label': '',\n",
       "   'image': ['TCGA-GBM-nifti/TCGA-02-0064/08-08-1999-MRI_BRAIN_WWO_CONTRAST-72116/14-Ax_SE_T1_Post-12227a_n.nii.gz',\n",
       "    'TCGA-GBM-nifti/TCGA-02-0064/08-08-1999-MRI_BRAIN_WWO_CONTRAST-72116/13-SE_T1-90475a_n.nii.gz',\n",
       "    'TCGA-GBM-nifti/TCGA-02-0064/08-08-1999-MRI_BRAIN_WWO_CONTRAST-72116/19-T2_wand-52265a_n.nii.gz',\n",
       "    'TCGA-GBM-nifti/TCGA-02-0064/08-08-1999-MRI_BRAIN_WWO_CONTRAST-72116/7-T2_FLAIR_2_MM-91339a_n.nii.gz']},\n",
       "  {'label': '',\n",
       "   'image': ['TCGA-GBM-nifti/TCGA-12-3650/07-29-2001-BRAIN-95330/9-AX_T1_POST-58593a_n.nii.gz',\n",
       "    'TCGA-GBM-nifti/TCGA-12-3650/07-29-2001-BRAIN-95330/6-AX_T1-94761a_n.nii.gz',\n",
       "    'TCGA-GBM-nifti/TCGA-12-3650/07-29-2001-BRAIN-95330/5-Ax_T2-79876a_n.nii.gz',\n",
       "    'TCGA-GBM-nifti/TCGA-12-3650/07-29-2001-BRAIN-95330/4-Ax_T2Flair-59587a_n.nii.gz']},\n",
       "  {'label': '',\n",
       "   'image': ['TCGA-GBM-nifti/TCGA-06-0649/01-26-2006-23619/801-T1_AX_POST-06170a_n.nii.gz',\n",
       "    'TCGA-GBM-nifti/TCGA-06-0649/01-26-2006-23619/701-T1_AX_PRE-18322a_n.nii.gz',\n",
       "    'TCGA-GBM-nifti/TCGA-06-0649/01-26-2006-23619/401-T2WTSE-31456a_n.nii.gz',\n",
       "    'TCGA-GBM-nifti/TCGA-06-0649/01-26-2006-23619/501-AX._FLAIR-92837a_n.nii.gz']},\n",
       "  {'label': '',\n",
       "   'image': ['TCGA-GBM-nifti/TCGA-14-0871/07-05-1991-BRAIN-10249/601-Brain______T1_AX_POST___TRA____SE____627_______15____-09503a_n.nii.gz',\n",
       "    'TCGA-GBM-nifti/TCGA-14-0871/07-05-1991-BRAIN-10249/501-Brain______T1_AX_PRE____TRA____SE____627_______15____-71048a_n.nii.gz',\n",
       "    'TCGA-GBM-nifti/TCGA-14-0871/07-05-1991-BRAIN-10249/401-QUICK_HEADST2_TSE_AX___TRA____TSE___3500______120____-04834a_n.nii.gz',\n",
       "    'TCGA-GBM-nifti/TCGA-14-0871/07-05-1991-BRAIN-10249/301-QUICK_HEADSFLAIR_______TRA____IRTSE_8000______120-98191a_n.nii.gz']},\n",
       "  {'label': '',\n",
       "   'image': ['TCGA-GBM-nifti/TCGA-14-1456/05-29-1999-MRI_BRAIN_WWO_CONT-24190/1001-T1_AX_POST-07058a_n.nii.gz',\n",
       "    'TCGA-GBM-nifti/TCGA-14-1456/05-29-1999-MRI_BRAIN_WWO_CONT-24190/601-T1_AX_PRE-85231a_n.nii.gz',\n",
       "    'TCGA-GBM-nifti/TCGA-14-1456/08-05-1999-MRI_BRAIN_WWO_CONTRAST-83082/8-Ax_FRFSE_T2_512_x_512-47712a_n.nii.gz',\n",
       "    'TCGA-GBM-nifti/TCGA-14-1456/08-05-1999-MRI_BRAIN_WWO_CONTRAST-83082/4-AX_T2FLAIR_Prop-48542a_n.nii.gz']},\n",
       "  {'label': '',\n",
       "   'image': ['TCGA-GBM-nifti/TCGA-12-1601/06-20-2000-MRI_BRAIN_WENHANCEMENT-67752/2-ax_t1c-66912a_n.nii.gz',\n",
       "    'TCGA-GBM-nifti/TCGA-12-1601/06-19-2000-MRI_BRAIN_WWO_ENHANCEMENT-83859/3-ax_t1-40219a_n.nii.gz',\n",
       "    'TCGA-GBM-nifti/TCGA-12-1601/06-20-2000-MRI_BRAIN_WENHANCEMENT-67752/3-ax_t2c-66249a_n.nii.gz',\n",
       "    'TCGA-GBM-nifti/TCGA-12-1601/06-19-2000-MRI_BRAIN_WWO_ENHANCEMENT-83859/5-ax_flair-26552a_n.nii.gz']},\n",
       "  {'label': '',\n",
       "   'image': ['TCGA-GBM-nifti/TCGA-06-0187/07-07-2004-41002/12-AxT1-thin_for_surgery-42560a_n.nii.gz',\n",
       "    'TCGA-GBM-nifti/TCGA-06-0187/07-07-2004-41002/9-AXIAL_T1-39993a_n.nii.gz',\n",
       "    'TCGA-GBM-nifti/TCGA-06-0187/07-07-2004-41002/6-AXIAL_FSE-22516a_n.nii.gz',\n",
       "    'TCGA-GBM-nifti/TCGA-06-0187/07-07-2004-41002/7-AxFLAIR-thin_for_surgery-83857a_n.nii.gz']},\n",
       "  {'label': '',\n",
       "   'image': ['TCGA-GBM-nifti/TCGA-12-1094/11-15-1999-BRAIN-48421/7-POST_AX_T1-19749a_n.nii.gz',\n",
       "    'TCGA-GBM-nifti/TCGA-12-1094/11-15-1999-BRAIN-48421/9-AX_T1-97684a_n.nii.gz',\n",
       "    'TCGA-GBM-nifti/TCGA-12-1094/11-15-1999-BRAIN-48421/5-AX_T2_FS-77292a_n.nii.gz',\n",
       "    'TCGA-GBM-nifti/TCGA-12-1094/11-15-1999-BRAIN-48421/3-COR_FLAIR-97371a_n.nii.gz']},\n",
       "  {'label': '',\n",
       "   'image': ['TCGA-GBM-nifti/TCGA-02-0060/02-28-2000-MRI_BRAIN_WWO_CONTRAST-60307/14-3D_AX_FSPGR_POST-81939a_n.nii.gz',\n",
       "    'TCGA-GBM-nifti/TCGA-02-0060/02-28-2000-MRI_BRAIN_WWO_CONTRAST-60307/5-FSPGR_3D_25FOV-73237a_n.nii.gz',\n",
       "    'TCGA-GBM-nifti/TCGA-02-0060/02-28-2000-MRI_BRAIN_WWO_CONTRAST-60307/11-Axial_T2-61817a_n.nii.gz',\n",
       "    'TCGA-GBM-nifti/TCGA-02-0060/02-28-2000-MRI_BRAIN_WWO_CONTRAST-60307/6-T2_FLAIR2MM25FOV-22734a_n.nii.gz']},\n",
       "  {'label': '',\n",
       "   'image': ['TCGA-GBM-nifti/TCGA-06-0127/03-07-2000-83889/8-AXIAL_T1_GD-71120a_n.nii.gz',\n",
       "    'TCGA-GBM-nifti/TCGA-06-0127/03-07-2000-83889/6-AXIAL_T1-44179a_n.nii.gz',\n",
       "    'TCGA-GBM-nifti/TCGA-06-0127/03-07-2000-83889/103-FLCAXIAL_FSE-91285a_n.nii.gz',\n",
       "    'TCGA-GBM-nifti/TCGA-06-0127/03-07-2000-83889/4-AXIAL_FLAIR-56917a_n.nii.gz']},\n",
       "  {'label': '',\n",
       "   'image': ['TCGA-GBM-nifti/TCGA-02-0033/05-26-1997-MRI_BRAIN_WWO_CONTR-89744/6-AX_T1_POST-51465a_n.nii.gz',\n",
       "    'TCGA-GBM-nifti/TCGA-02-0033/05-26-1997-MRI_BRAIN_WWO_CONTR-89744/5-AX_T1-46836a_n.nii.gz',\n",
       "    'TCGA-GBM-nifti/TCGA-02-0033/05-26-1997-MRI_BRAIN_WWO_CONTR-89744/3-AX_T2_FSE-75444a_n.nii.gz',\n",
       "    'TCGA-GBM-nifti/TCGA-02-0033/05-26-1997-MRI_BRAIN_WWO_CONTR-89744/4-AX_FLAIR-20679a_n.nii.gz']},\n",
       "  {'label': '',\n",
       "   'image': ['TCGA-GBM-nifti/TCGA-06-0168/08-12-2000-88871/10-AXIAL_T1_GD-65337a_n.nii.gz',\n",
       "    'TCGA-GBM-nifti/TCGA-06-0168/08-12-2000-88871/8-AXIAL_T1-33210a_n.nii.gz',\n",
       "    'TCGA-GBM-nifti/TCGA-06-0168/08-12-2000-88871/4-AXIAL_FSE-54607a_n.nii.gz',\n",
       "    'TCGA-GBM-nifti/TCGA-06-0168/08-12-2000-88871/5-AXIAL_FLAIR-44027a_n.nii.gz']},\n",
       "  {'label': '',\n",
       "   'image': ['TCGA-GBM-nifti/TCGA-06-0878/03-15-2007-75514/9-AX_T1_POST_GD_FLAIR-62729a_n.nii.gz',\n",
       "    'TCGA-GBM-nifti/TCGA-06-0878/03-15-2007-75514/8-AX_T1_pre_gd-58639a_n.nii.gz',\n",
       "    'TCGA-GBM-nifti/TCGA-06-0878/03-15-2007-75514/6-AX_T2_FR-FSE_RF2_150-68738a_n.nii.gz',\n",
       "    'TCGA-GBM-nifti/TCGA-06-0878/03-15-2007-75514/7-AXIAL_FLAIR-37676a_n.nii.gz']},\n",
       "  {'label': '',\n",
       "   'image': ['TCGA-GBM-nifti/TCGA-02-0106/10-30-1998-MRI_BRAIN_WWO_CONTR-44146/6-AX_T1_POST-08177a_n.nii.gz',\n",
       "    'TCGA-GBM-nifti/TCGA-02-0106/10-30-1998-MRI_BRAIN_WWO_CONTR-44146/5-AX_T1-90547a_n.nii.gz',\n",
       "    'TCGA-GBM-nifti/TCGA-02-0106/10-30-1998-MRI_BRAIN_WWO_CONTR-44146/3-AX_T2_FSE-03373a_n.nii.gz',\n",
       "    'TCGA-GBM-nifti/TCGA-02-0106/10-30-1998-MRI_BRAIN_WWO_CONTR-44146/4-AX_FLAIR-75922a_n.nii.gz']},\n",
       "  {'label': '',\n",
       "   'image': ['TCGA-GBM-nifti/TCGA-19-1390/03-20-2001-NR_MRI_BRAIN_WWO-90326/9-MRHG_T1_AX_Gd-93615a_n.nii.gz',\n",
       "    'TCGA-GBM-nifti/TCGA-19-1390/03-20-2001-NR_MRI_BRAIN_WWO-90326/4-MRHG_T1_AX-77114a_n.nii.gz',\n",
       "    'TCGA-GBM-nifti/TCGA-19-1390/03-20-2001-NR_MRI_BRAIN_WWO-90326/2-MRHG_T2_AXIALS-69016a_n.nii.gz',\n",
       "    'TCGA-GBM-nifti/TCGA-19-1390/03-20-2001-NR_MRI_BRAIN_WWO-90326/3-MRHG_FLAIR_AX-64301a_n.nii.gz']},\n",
       "  {'label': '',\n",
       "   'image': ['TCGA-GBM-nifti/TCGA-08-0356/03-26-2002-MSTEALTH-31923/7-AX_3D_SPGR_GAD-17095a_n.nii.gz',\n",
       "    'TCGA-GBM-nifti/TCGA-08-0356/03-26-2002-MSTEALTH-31923/2-SAG_FSPGR-38793a_n.nii.gz',\n",
       "    'TCGA-GBM-nifti/TCGA-08-0356/03-26-2002-MSTEALTH-31923/4-AX_3D_FSE-25995a_n.nii.gz',\n",
       "    'TCGA-GBM-nifti/TCGA-08-0356/03-26-2002-MSTEALTH-31923/3-AX_FLAIR-66003a_n.nii.gz']},\n",
       "  {'label': '',\n",
       "   'image': ['TCGA-GBM-nifti/TCGA-06-0149/03-25-2003-87536/9-AX_T1_POST_GD_FLAIR-08425a_n.nii.gz',\n",
       "    'TCGA-GBM-nifti/TCGA-06-0149/03-25-2003-87536/7-AX_T1_pre_gd-61428a_n.nii.gz',\n",
       "    'TCGA-GBM-nifti/TCGA-06-0149/03-25-2003-87536/4-AX_T2_FR-FSE_RF2_150-37218a_n.nii.gz',\n",
       "    'TCGA-GBM-nifti/TCGA-06-0149/03-25-2003-87536/5-AXIAL_T2_FLAIR-94682a_n.nii.gz']},\n",
       "  {'label': '',\n",
       "   'image': ['TCGA-GBM-nifti/TCGA-06-0143/01-15-2006-43320/8-GD_AX_T1-63316a_n.nii.gz',\n",
       "    'TCGA-GBM-nifti/TCGA-06-0143/05-06-2005-86694/8-AX_T1_pre_gd-08740a_n.nii.gz',\n",
       "    'TCGA-GBM-nifti/TCGA-06-0143/01-15-2006-43320/4-AX_FSE_T2-74154a_n.nii.gz',\n",
       "    'TCGA-GBM-nifti/TCGA-06-0143/01-15-2006-43320/5-AX_FLAIR-03397a_n.nii.gz']},\n",
       "  {'label': '',\n",
       "   'image': ['TCGA-GBM-nifti/TCGA-06-0240/07-02-2005-04728/9-AxT1-thin_for_surgery-27598a_n.nii.gz',\n",
       "    'TCGA-GBM-nifti/TCGA-06-0240/07-02-2005-04728/6-AXIAL_T1-20532a_n.nii.gz',\n",
       "    'TCGA-GBM-nifti/TCGA-06-0240/07-02-2005-04728/3-AXIAL_FSE-91012a_n.nii.gz',\n",
       "    'TCGA-GBM-nifti/TCGA-06-0240/07-02-2005-04728/4-AxFLAIR-thin_for_surgery-47036a_n.nii.gz']},\n",
       "  {'label': '',\n",
       "   'image': ['TCGA-GBM-nifti/TCGA-14-1401/04-18-1997-MRI_BRAIN_W_WOUT_CONTRAST-27628/1201-BRAIN_WWO_T1_POST-04167a_n.nii.gz',\n",
       "    'TCGA-GBM-nifti/TCGA-14-1401/04-17-1997-MRI_BRAIN_WITH_CONTRAST-04145/201-STEALTHVECT1W_3d-50905a_n.nii.gz',\n",
       "    'TCGA-GBM-nifti/TCGA-14-1401/04-18-1997-MRI_BRAIN_W_WOUT_CONTRAST-27628/801-BRAIN_WWO_T2_HEMOSID-32095a_n.nii.gz',\n",
       "    'TCGA-GBM-nifti/TCGA-14-1401/04-18-1997-MRI_BRAIN_W_WOUT_CONTRAST-27628/601-BRAIN_WWO_FLAIR-20508a_n.nii.gz']},\n",
       "  {'label': '',\n",
       "   'image': ['TCGA-GBM-nifti/TCGA-06-0171/08-04-2001-68007/9-AX_T1_POST_GD_FLAIR-32350a_n.nii.gz',\n",
       "    'TCGA-GBM-nifti/TCGA-06-0171/08-04-2001-68007/8-AX_T1_pre_gd-80187a_n.nii.gz',\n",
       "    'TCGA-GBM-nifti/TCGA-06-0171/08-04-2001-68007/4-AX_PD_FSE-IR_RF2_130-84670a_n.nii.gz',\n",
       "    'TCGA-GBM-nifti/TCGA-06-0171/08-04-2001-68007/7-AXIAL_FLAIR_RF2__150-15878a_n.nii.gz']},\n",
       "  {'label': '',\n",
       "   'image': ['TCGA-GBM-nifti/TCGA-12-0829/06-02-1999-BRAIN-09460/18-T1_AX_POST-73832a_n.nii.gz',\n",
       "    'TCGA-GBM-nifti/TCGA-12-0829/06-02-1999-BRAIN-09460/5-T1_AX_PRE-23096a_n.nii.gz',\n",
       "    'TCGA-GBM-nifti/TCGA-12-0829/06-02-1999-BRAIN-09460/3-T2_TSE_AX-41475a_n.nii.gz',\n",
       "    'TCGA-GBM-nifti/TCGA-12-0829/06-02-1999-BRAIN-09460/4-FLAIR-82367a_n.nii.gz']},\n",
       "  {'label': '',\n",
       "   'image': ['TCGA-GBM-nifti/TCGA-06-0648/01-20-2006-51419/11-AX_T1_POST_GD_FLAIR-02197a_n.nii.gz',\n",
       "    'TCGA-GBM-nifti/TCGA-06-0648/01-20-2006-51419/9-AX_T1_pre_gd-49929a_n.nii.gz',\n",
       "    'TCGA-GBM-nifti/TCGA-06-0648/01-20-2006-51419/7-AX_T2_FR-FSE_RF2_150-98846a_n.nii.gz',\n",
       "    'TCGA-GBM-nifti/TCGA-06-0648/01-20-2006-51419/6-AXIAL_FLAIR-80030a_n.nii.gz']},\n",
       "  {'label': '',\n",
       "   'image': ['TCGA-GBM-nifti/TCGA-19-0955/04-07-2001-NR_MRI_BRAIN_WWO-83151/11-MRHG_T1_AX_POST_GAD-32132a_n.nii.gz',\n",
       "    'TCGA-GBM-nifti/TCGA-19-0955/04-07-2001-NR_MRI_BRAIN_WWO-83151/5-MRHG_T1_AX-33516a_n.nii.gz',\n",
       "    'TCGA-GBM-nifti/TCGA-19-0955/04-07-2001-NR_MRI_BRAIN_WWO-83151/3-MRHG_T2_AXIALS-25880a_n.nii.gz',\n",
       "    'TCGA-GBM-nifti/TCGA-19-0955/04-07-2001-NR_MRI_BRAIN_WWO-83151/4-MRHG_FLAIR_AX-90350a_n.nii.gz']},\n",
       "  {'label': '',\n",
       "   'image': ['TCGA-GBM-nifti/TCGA-02-0086/07-25-1999-MRI_BRAIN_WWO_CONTR-49848/11-AX_T1_POST-86265a_n.nii.gz',\n",
       "    'TCGA-GBM-nifti/TCGA-02-0086/07-25-1999-MRI_BRAIN_WWO_CONTR-49848/6-AX_T1-94367a_n.nii.gz',\n",
       "    'TCGA-GBM-nifti/TCGA-02-0086/07-25-1999-MRI_BRAIN_WWO_CONTR-49848/3-AX_T2_FSE-43139a_n.nii.gz',\n",
       "    'TCGA-GBM-nifti/TCGA-02-0086/07-25-1999-MRI_BRAIN_WWO_CONTR-49848/4-AX_FLAIR-08895a_n.nii.gz']},\n",
       "  {'label': '',\n",
       "   'image': ['TCGA-GBM-nifti/TCGA-06-0645/11-30-2005-52945/9-Ax_T1_2.5mm_for_surgery-38133a_n.nii.gz',\n",
       "    'TCGA-GBM-nifti/TCGA-06-0645/11-30-2005-52945/2-AXIAL_T1-31056a_n.nii.gz',\n",
       "    'TCGA-GBM-nifti/TCGA-06-0645/11-30-2005-52945/4-AXIAL_FSE-76725a_n.nii.gz',\n",
       "    'TCGA-GBM-nifti/TCGA-06-0645/11-30-2005-52945/7-Ax_FLAIR_2.5mm_for_surgery-39868a_n.nii.gz']},\n",
       "  {'label': '',\n",
       "   'image': ['TCGA-GBM-nifti/TCGA-02-0068/05-16-2000-MRI_BRAIN_WWO_CONTRAST-14061/9-AX_T1_POST-76909a_n.nii.gz',\n",
       "    'TCGA-GBM-nifti/TCGA-02-0068/05-16-2000-MRI_BRAIN_WWO_CONTRAST-14061/6-AX_T1-64949a_n.nii.gz',\n",
       "    'TCGA-GBM-nifti/TCGA-02-0068/05-16-2000-MRI_BRAIN_WWO_CONTRAST-14061/3-AX_T2_FSE-85813a_n.nii.gz',\n",
       "    'TCGA-GBM-nifti/TCGA-02-0068/05-16-2000-MRI_BRAIN_WWO_CONTRAST-14061/4-AX_FLAIR-05016a_n.nii.gz']},\n",
       "  {'label': '',\n",
       "   'image': ['TCGA-GBM-nifti/TCGA-06-0192/04-08-2005-16721/10-AX_T1_POST_GD_FLAIR-07635a_n.nii.gz',\n",
       "    'TCGA-GBM-nifti/TCGA-06-0192/04-08-2005-20947/8-AX_T1_pre_gd-48291a_n.nii.gz',\n",
       "    'TCGA-GBM-nifti/TCGA-06-0192/04-08-2005-20947/5-AX_T2_FR-FSE_RF2_150-89317a_n.nii.gz',\n",
       "    'TCGA-GBM-nifti/TCGA-06-0192/04-08-2005-20947/6-AXIAL_FLAIR-43725a_n.nii.gz']},\n",
       "  {'label': '',\n",
       "   'image': ['TCGA-GBM-nifti/TCGA-06-0176/04-09-2002-86055/9-AXIAL_T1_GD-34814a_n.nii.gz',\n",
       "    'TCGA-GBM-nifti/TCGA-06-0176/04-09-2002-86055/7-AXIAL_T1-41113a_n.nii.gz',\n",
       "    'TCGA-GBM-nifti/TCGA-06-0176/04-09-2002-86055/3-AXIAL_FSE-21893a_n.nii.gz',\n",
       "    'TCGA-GBM-nifti/TCGA-06-0176/04-09-2002-86055/4-AXIAL_FLAIR-45540a_n.nii.gz']},\n",
       "  {'label': '',\n",
       "   'image': ['TCGA-GBM-nifti/TCGA-14-1821/08-31-1998-MRI_BRAIN_WWO_CONT-44010/1001-T1_AX_POST-79169a_n.nii.gz',\n",
       "    'TCGA-GBM-nifti/TCGA-14-1821/08-31-1998-MRI_BRAIN_WWO_CONT-44010/701-T1_AX_PRE_C-17789a_n.nii.gz',\n",
       "    'TCGA-GBM-nifti/TCGA-14-1821/10-05-1998-MRI_BRAIN_WWO_CONTRAST-50216/8-Ax_FRFSE_T2_512_x_512-44316a_n.nii.gz',\n",
       "    'TCGA-GBM-nifti/TCGA-14-1821/10-05-1998-MRI_BRAIN_WWO_CONTRAST-50216/4-AX_T2FLAIR_Prop-32483a_n.nii.gz']},\n",
       "  {'label': '',\n",
       "   'image': ['TCGA-GBM-nifti/TCGA-06-1802/01-31-2008-24216/12-AX_T1_POST_GD_FLAIR-61610a_n.nii.gz',\n",
       "    'TCGA-GBM-nifti/TCGA-06-1802/01-31-2008-24216/9-AX_T1_pre_gd-91009a_n.nii.gz',\n",
       "    'TCGA-GBM-nifti/TCGA-06-1802/01-31-2008-24216/5-AX_T2_FR-FSE_RF2_150-57798a_n.nii.gz',\n",
       "    'TCGA-GBM-nifti/TCGA-06-1802/01-31-2008-24216/8-AXIAL_FLAIR-86474a_n.nii.gz']},\n",
       "  {'label': '',\n",
       "   'image': ['TCGA-GBM-nifti/TCGA-02-0027/03-28-1999-MRI_BRAIN_WWO_CONTR-72782/7-Ax_SE_T1_Post-25755a_n.nii.gz',\n",
       "    'TCGA-GBM-nifti/TCGA-02-0027/03-28-1999-MRI_BRAIN_WWO_CONTR-72782/5-SE_T1-74836a_n.nii.gz',\n",
       "    'TCGA-GBM-nifti/TCGA-02-0027/03-28-1999-MRI_BRAIN_WWO_CONTR-72782/3-FSE_T2-71836a_n.nii.gz',\n",
       "    'TCGA-GBM-nifti/TCGA-02-0027/03-28-1999-MRI_BRAIN_WWO_CONTR-72782/4-T2_FLAIR-53321a_n.nii.gz']},\n",
       "  {'label': '',\n",
       "   'image': ['TCGA-GBM-nifti/TCGA-06-0139/11-09-2004-53123/10-AX_T1_POST_GD_FLAIR-05388a_n.nii.gz',\n",
       "    'TCGA-GBM-nifti/TCGA-06-0139/11-09-2004-53123/8-AX_T1_pre_gd-59524a_n.nii.gz',\n",
       "    'TCGA-GBM-nifti/TCGA-06-0139/11-09-2004-53123/5-AX_T2_FR-FSE_RF2_150-01494a_n.nii.gz',\n",
       "    'TCGA-GBM-nifti/TCGA-06-0139/11-09-2004-53123/6-AXIAL_FLAIR-77694a_n.nii.gz']},\n",
       "  {'label': '',\n",
       "   'image': ['TCGA-GBM-nifti/TCGA-06-5413/06-17-2008-18002/13-AX_T1_POST_GD_FLAIR-81821a_n.nii.gz',\n",
       "    'TCGA-GBM-nifti/TCGA-06-5413/06-17-2008-18002/9-AX_T1_pre_gd-06881a_n.nii.gz',\n",
       "    'TCGA-GBM-nifti/TCGA-06-5413/06-17-2008-18002/8-AX_T2_FR-FSE_RF2_150-92373a_n.nii.gz',\n",
       "    'TCGA-GBM-nifti/TCGA-06-5413/06-17-2008-18002/6-AXIAL_FLAIR-20070a_n.nii.gz']},\n",
       "  {'label': '',\n",
       "   'image': ['TCGA-GBM-nifti/TCGA-06-0133/05-15-2006-21155/7-AXIAL_T1_GD-06033a_n.nii.gz',\n",
       "    'TCGA-GBM-nifti/TCGA-06-0133/05-15-2006-21155/6-AXIAL_T1-02740a_n.nii.gz',\n",
       "    'TCGA-GBM-nifti/TCGA-06-0133/05-15-2006-21155/3-AXIAL_FSE-04027a_n.nii.gz',\n",
       "    'TCGA-GBM-nifti/TCGA-06-0133/05-15-2006-21155/4-AXIAL_FLAIR-92989a_n.nii.gz']},\n",
       "  {'label': '',\n",
       "   'image': ['TCGA-GBM-nifti/TCGA-02-0006/08-23-1996-MRI_BRAIN_W_WO_CONTRAMR-42545/6-AX_T1_POST-26504a_n.nii.gz',\n",
       "    'TCGA-GBM-nifti/TCGA-02-0006/08-23-1996-MRI_BRAIN_W_WO_CONTRAMR-42545/5-AX_T1-62419a_n.nii.gz',\n",
       "    'TCGA-GBM-nifti/TCGA-02-0006/08-23-1996-MRI_BRAIN_W_WO_CONTRAMR-42545/3-AX_T2_FSE-27597a_n.nii.gz',\n",
       "    'TCGA-GBM-nifti/TCGA-02-0006/08-23-1996-MRI_BRAIN_W_WO_CONTRAMR-42545/4-AX_FLAIR-23922a_n.nii.gz']},\n",
       "  {'label': '',\n",
       "   'image': ['TCGA-GBM-nifti/TCGA-14-0813/10-13-1996-MRI_BRAIN_W_WOUT_CONTRAST-51578/901-BRAIN_WWO_T1_POST-50983a_n.nii.gz',\n",
       "    'TCGA-GBM-nifti/TCGA-14-0813/10-13-1996-MRI_BRAIN_W_WOUT_CONTRAST-51578/301-BRAIN_WWO_T1_SAG-44016a_n.nii.gz',\n",
       "    'TCGA-GBM-nifti/TCGA-14-0813/10-13-1996-MRI_BRAIN_W_WOUT_CONTRAST-51578/501-BRAIN_WWO_T2_GRASE-38485a_n.nii.gz',\n",
       "    'TCGA-GBM-nifti/TCGA-14-0813/10-13-1996-MRI_BRAIN_W_WOUT_CONTRAST-51578/401-BRAIN_WWO_FLAIR-32434a_n.nii.gz']},\n",
       "  {'label': '',\n",
       "   'image': ['TCGA-GBM-nifti/TCGA-12-1098/07-23-2000-MRI_BRAIN-99313/10-T1_AXIAL__POST-97398a_n.nii.gz',\n",
       "    'TCGA-GBM-nifti/TCGA-12-1098/07-23-2000-MRI_BRAIN-99313/9-T1_AXIAL-25337a_n.nii.gz',\n",
       "    'TCGA-GBM-nifti/TCGA-12-1098/07-23-2000-MRI_BRAIN-99313/6-T2_TSE_AXIAL-58552a_n.nii.gz',\n",
       "    'TCGA-GBM-nifti/TCGA-12-1098/07-23-2000-MRI_BRAIN-99313/8-FLAIR_AXIAL-14764a_n.nii.gz']},\n",
       "  {'label': '',\n",
       "   'image': ['TCGA-GBM-nifti/TCGA-02-0034/07-27-1997-MRI_BRAIN_WWO_CONTRAMR-39956/13-AX_T1_POST-03821a_n.nii.gz',\n",
       "    'TCGA-GBM-nifti/TCGA-02-0034/07-27-1997-MRI_BRAIN_WWO_CONTRAMR-39956/12-AX_T1-46175a_n.nii.gz',\n",
       "    'TCGA-GBM-nifti/TCGA-02-0034/07-27-1997-MRI_BRAIN_WWO_CONTRAMR-39956/10-AX_T2_FSE-01030a_n.nii.gz',\n",
       "    'TCGA-GBM-nifti/TCGA-02-0034/07-27-1997-MRI_BRAIN_WWO_CONTRAMR-39956/11-AX_FLAIR-81489a_n.nii.gz']},\n",
       "  {'label': '',\n",
       "   'image': ['TCGA-GBM-nifti/TCGA-08-0520/10-13-1999-MSTEALTH-10536/3-3D_SPGR_AX-13292a_n.nii.gz',\n",
       "    'TCGA-GBM-nifti/TCGA-08-0520/10-13-1999-MSTEALTH-10536/1-FSPGR_SAG-03204a_n.nii.gz',\n",
       "    'TCGA-GBM-nifti/TCGA-08-0520/10-13-1999-MSTEALTH-10536/4-3D_FSE_AX-04758a_n.nii.gz',\n",
       "    'TCGA-GBM-nifti/TCGA-08-0520/10-13-1999-MSTEALTH-10536/5-AX_FLAIR-45101a_n.nii.gz']},\n",
       "  {'label': '',\n",
       "   'image': ['TCGA-GBM-nifti/TCGA-19-5960/03-15-2004-NR_MRI_BRAIN_WWO-30388/9-T1_AXIAL_Gd-31768a_n.nii.gz',\n",
       "    'TCGA-GBM-nifti/TCGA-19-5960/03-15-2004-NR_MRI_BRAIN_WWO-30388/8-TIR_T1_AX-02076a_n.nii.gz',\n",
       "    'TCGA-GBM-nifti/TCGA-19-5960/03-15-2004-NR_MRI_BRAIN_WWO-30388/3-T2_AX-62164a_n.nii.gz',\n",
       "    'TCGA-GBM-nifti/TCGA-19-5960/03-15-2004-NR_MRI_BRAIN_WWO-30388/7-FLAIR_AX-90386a_n.nii.gz']},\n",
       "  {'label': '',\n",
       "   'image': ['TCGA-GBM-nifti/TCGA-08-0389/07-25-2003-MSTEALTH-53431/10-3d_T1_FSPGR__CONT-32567a_n.nii.gz',\n",
       "    'TCGA-GBM-nifti/TCGA-08-0389/07-25-2003-MSTEALTH-53431/2-FSPGR_SAG-33486a_n.nii.gz',\n",
       "    'TCGA-GBM-nifti/TCGA-08-0389/07-25-2003-MSTEALTH-53431/8-3D_FSE_AXIAL-25214a_n.nii.gz',\n",
       "    'TCGA-GBM-nifti/TCGA-08-0389/07-25-2003-MSTEALTH-53431/5-Ax_T2_FLAIR-33749a_n.nii.gz']},\n",
       "  {'label': '',\n",
       "   'image': ['TCGA-GBM-nifti/TCGA-02-0047/12-15-1998-MRI_BRAIN_WWO_CONTR-70492/6-AX_T1_POST-66184a_n.nii.gz',\n",
       "    'TCGA-GBM-nifti/TCGA-02-0047/12-15-1998-MRI_BRAIN_WWO_CONTR-70492/5-AX_T1-38756a_n.nii.gz',\n",
       "    'TCGA-GBM-nifti/TCGA-02-0047/12-15-1998-MRI_BRAIN_WWO_CONTR-70492/3-AX_T2_FSE-79920a_n.nii.gz',\n",
       "    'TCGA-GBM-nifti/TCGA-02-0047/12-15-1998-MRI_BRAIN_WWO_CONTR-70492/4-AX_FLAIR-13161a_n.nii.gz']},\n",
       "  {'label': '',\n",
       "   'image': ['TCGA-GBM-nifti/TCGA-14-1454/03-19-2000-MRI_BRAIN_WWO_CONTRAST-00318/10-Ax_T1_SE_POST-41828a_n.nii.gz',\n",
       "    'TCGA-GBM-nifti/TCGA-14-1454/03-19-2000-MRI_BRAIN_WWO_CONTRAST-00318/7-Ax_T1_SE_PRE-22584a_n.nii.gz',\n",
       "    'TCGA-GBM-nifti/TCGA-14-1454/03-19-2000-MRI_BRAIN_WWO_CONTRAST-00318/8-Ax_FRFSE_T2_512_x_512-38431a_n.nii.gz',\n",
       "    'TCGA-GBM-nifti/TCGA-14-1454/03-19-2000-MRI_BRAIN_WWO_CONTRAST-00318/4-AX_T2FLAIR_Prop-28081a_n.nii.gz']},\n",
       "  {'label': '',\n",
       "   'image': ['TCGA-GBM-nifti/TCGA-08-0524/11-02-2000-MSTEALTH-38362/4-3D_SPGR_AX-58233a_n.nii.gz',\n",
       "    'TCGA-GBM-nifti/TCGA-08-0524/11-02-2000-MSTEALTH-38362/1-FSPGR_SAG-35073a_n.nii.gz',\n",
       "    'TCGA-GBM-nifti/TCGA-08-0524/11-02-2000-MSTEALTH-38362/5-3D_FSE_AX-19281a_n.nii.gz',\n",
       "    'TCGA-GBM-nifti/TCGA-08-0524/11-02-2000-MSTEALTH-38362/2-AX_FLAIR-67041a_n.nii.gz']},\n",
       "  {'label': '',\n",
       "   'image': ['TCGA-GBM-nifti/TCGA-08-0355/06-06-2001-MSTEALTH-13589/6-3D_SPGR_AX-29720a_n.nii.gz',\n",
       "    'TCGA-GBM-nifti/TCGA-08-0355/06-06-2001-MSTEALTH-13589/2-FSPGR_SAG-43599a_n.nii.gz',\n",
       "    'TCGA-GBM-nifti/TCGA-08-0355/06-06-2001-MSTEALTH-13589/7-3D_FSE_AX-89870a_n.nii.gz',\n",
       "    'TCGA-GBM-nifti/TCGA-08-0355/06-06-2001-MSTEALTH-13589/4-AX_FLAIR-31670a_n.nii.gz']},\n",
       "  {'label': '',\n",
       "   'image': ['TCGA-GBM-nifti/TCGA-14-0817/05-04-1998-MRI_BRAIN_WWO_CONT-74561/901-BRAIN______T1_AX_POST-47275a_n.nii.gz',\n",
       "    'TCGA-GBM-nifti/TCGA-14-0817/05-04-1998-MRI_BRAIN_WWO_CONT-74561/801-BRAIN______T1_AX_PRE-24658a_n.nii.gz',\n",
       "    'TCGA-GBM-nifti/TCGA-14-0817/05-04-1998-MRI_BRAIN_WWO_CONT-74561/401-BRAIN______T2_GRASE-02583a_n.nii.gz',\n",
       "    'TCGA-GBM-nifti/TCGA-14-0817/05-04-1998-MRI_BRAIN_WWO_CONT-74561/301-BRAIN______FLAIR-27209a_n.nii.gz']},\n",
       "  {'label': '',\n",
       "   'image': ['TCGA-GBM-nifti/TCGA-02-0075/09-24-1999-MRI_BRAIN_WWO_CONTRAST-32875/17-Ax_SE_T1_Post-08723a_n.nii.gz',\n",
       "    'TCGA-GBM-nifti/TCGA-02-0075/09-24-1999-MRI_BRAIN_WWO_CONTRAST-32875/7-FSPGR_3D-56726a_n.nii.gz',\n",
       "    'TCGA-GBM-nifti/TCGA-02-0075/09-24-1999-MRI_BRAIN_WWO_CONTRAST-32875/13-Axial_T2-47060a_n.nii.gz',\n",
       "    'TCGA-GBM-nifti/TCGA-02-0075/09-24-1999-MRI_BRAIN_WWO_CONTRAST-32875/11-T2_FLAIR-76096a_n.nii.gz']},\n",
       "  {'label': '',\n",
       "   'image': ['TCGA-GBM-nifti/TCGA-02-0054/05-16-1999-MRI_BRAIN_WWO_CONTR-68633/9-AX_T1_POST-33611a_n.nii.gz',\n",
       "    'TCGA-GBM-nifti/TCGA-02-0054/05-16-1999-MRI_BRAIN_WWO_CONTR-68633/6-AX_T1-67057a_n.nii.gz',\n",
       "    'TCGA-GBM-nifti/TCGA-02-0054/05-16-1999-MRI_BRAIN_WWO_CONTR-68633/4-AX_T2_FSE-25529a_n.nii.gz',\n",
       "    'TCGA-GBM-nifti/TCGA-02-0054/05-16-1999-MRI_BRAIN_WWO_CONTR-68633/5-AX_FLAIR-89982a_n.nii.gz']},\n",
       "  {'label': '',\n",
       "   'image': ['TCGA-GBM-nifti/TCGA-76-4935/01-22-2001-MRI_BRAIN_COMBO-10861/1301-T1_AX_SE_FS_POST-40917a_n.nii.gz',\n",
       "    'TCGA-GBM-nifti/TCGA-76-4935/01-22-2001-MRI_BRAIN_COMBO-10861/1101-T1_AX__SE-88216a_n.nii.gz',\n",
       "    'TCGA-GBM-nifti/TCGA-76-4935/01-22-2001-MRI_BRAIN_COMBO-10861/901-AXIAL__T2-20547a_n.nii.gz',\n",
       "    'TCGA-GBM-nifti/TCGA-76-4935/01-22-2001-MRI_BRAIN_COMBO-10861/801-T2_AX_FLAIR-73732a_n.nii.gz']},\n",
       "  {'label': '',\n",
       "   'image': ['TCGA-GBM-nifti/TCGA-08-0390/08-05-2003-MSTEALTH-70636/8-AX_SPGR_3D-23898a_n.nii.gz',\n",
       "    'TCGA-GBM-nifti/TCGA-08-0390/08-05-2003-MSTEALTH-70636/2-FSPGR_SAG-78674a_n.nii.gz',\n",
       "    'TCGA-GBM-nifti/TCGA-08-0390/08-05-2003-MSTEALTH-70636/6-3D_FSE_AX_20_slabs-00960a_n.nii.gz',\n",
       "    'TCGA-GBM-nifti/TCGA-08-0390/08-05-2003-MSTEALTH-70636/5-AX_FLAIR-86502a_n.nii.gz']},\n",
       "  {'label': '',\n",
       "   'image': ['TCGA-GBM-nifti/TCGA-06-1806/02-27-2008-MRI_BRAIN_WWO_CONTRAST-78379/11-AX_T1_POST_GD_FLAIR-87636a_n.nii.gz',\n",
       "    'TCGA-GBM-nifti/TCGA-06-1806/02-27-2008-MRI_BRAIN_WWO_CONTRAST-78379/8-AX_T1_pre_gd-09207a_n.nii.gz',\n",
       "    'TCGA-GBM-nifti/TCGA-06-1806/02-27-2008-MRI_BRAIN_WWO_CONTRAST-78379/6-AX_T2_FR-FSE_RF2_150-46206a_n.nii.gz',\n",
       "    'TCGA-GBM-nifti/TCGA-06-1806/02-27-2008-MRI_BRAIN_WWO_CONTRAST-78379/5-AXIAL_FLAIR-78218a_n.nii.gz']},\n",
       "  {'label': '',\n",
       "   'image': ['TCGA-GBM-nifti/TCGA-06-0137/12-24-2001-96078/8-AXIAL_T1_GD-27646a_n.nii.gz',\n",
       "    'TCGA-GBM-nifti/TCGA-06-0137/12-24-2001-96078/6-AXIAL_T1-89764a_n.nii.gz',\n",
       "    'TCGA-GBM-nifti/TCGA-06-0137/12-24-2001-96078/3-AXIAL_FSE-59088a_n.nii.gz',\n",
       "    'TCGA-GBM-nifti/TCGA-06-0137/12-24-2001-96078/4-AXIAL_FLAIR-83606a_n.nii.gz']},\n",
       "  {'label': '',\n",
       "   'image': ['TCGA-GBM-nifti/TCGA-06-5417/09-03-2008-MRI_BRAIN_WWO_CONTRAST-20551/13-AX_T1_POST_GD_FLAIR-17395a_n.nii.gz',\n",
       "    'TCGA-GBM-nifti/TCGA-06-5417/09-03-2008-MRI_BRAIN_WWO_CONTRAST-20551/7-AX_T1_pre_gd-88614a_n.nii.gz',\n",
       "    'TCGA-GBM-nifti/TCGA-06-5417/09-03-2008-MRI_BRAIN_WWO_CONTRAST-20551/6-AX_T2_FR-FSE_RF2_150-26501a_n.nii.gz',\n",
       "    'TCGA-GBM-nifti/TCGA-06-5417/09-03-2008-MRI_BRAIN_WWO_CONTRAST-20551/5-AXIAL_FLAIR-52893a_n.nii.gz']},\n",
       "  {'label': '',\n",
       "   'image': ['TCGA-GBM-nifti/TCGA-02-0011/02-01-1998-MRI_BRAIN_WWO_CONTRAMR-31709/6-AX_T1_POST-23284a_n.nii.gz',\n",
       "    'TCGA-GBM-nifti/TCGA-02-0011/02-01-1998-MRI_BRAIN_WWO_CONTRAMR-31709/5-AX_T1-75594a_n.nii.gz',\n",
       "    'TCGA-GBM-nifti/TCGA-02-0011/02-01-1998-MRI_BRAIN_WWO_CONTRAMR-31709/3-AX_T2_FSE-77488a_n.nii.gz',\n",
       "    'TCGA-GBM-nifti/TCGA-02-0011/02-01-1998-MRI_BRAIN_WWO_CONTRAMR-31709/4-AX_FLAIR-53905a_n.nii.gz']},\n",
       "  {'label': '',\n",
       "   'image': ['TCGA-GBM-nifti/TCGA-02-0116/03-22-1997-MRI_BRAIN_WWO_CONTRAMR-70515/6-AX_T1_POST-52648a_n.nii.gz',\n",
       "    'TCGA-GBM-nifti/TCGA-02-0116/03-22-1997-MRI_BRAIN_WWO_CONTRAMR-70515/5-AX_T1-19335a_n.nii.gz',\n",
       "    'TCGA-GBM-nifti/TCGA-02-0116/03-22-1997-MRI_BRAIN_WWO_CONTRAMR-70515/3-AX_T2_FSE-42524a_n.nii.gz',\n",
       "    'TCGA-GBM-nifti/TCGA-02-0116/03-22-1997-MRI_BRAIN_WWO_CONTRAMR-70515/4-AX_FLAIR-47439a_n.nii.gz']},\n",
       "  {'label': '',\n",
       "   'image': ['TCGA-GBM-nifti/TCGA-14-1825/02-10-2000-HeadRoutine-89271/10-t1tra_post-80382a_n.nii.gz',\n",
       "    'TCGA-GBM-nifti/TCGA-14-1825/02-10-2000-HeadRoutine-89271/2-t1sag-65767a_n.nii.gz',\n",
       "    'TCGA-GBM-nifti/TCGA-14-1825/02-10-2000-HeadRoutine-89271/4-t2ax_hemo-96957a_n.nii.gz',\n",
       "    'TCGA-GBM-nifti/TCGA-14-1825/02-10-2000-HeadRoutine-89271/3-t2flair_ax-76103a_n.nii.gz']},\n",
       "  {'label': '',\n",
       "   'image': ['TCGA-GBM-nifti/TCGA-14-1402/06-19-1997-MRI_BRAIN_W_WOUT_CONTRAST-92725/801-NABITT_____AX_T1_POST-33921a_n.nii.gz',\n",
       "    'TCGA-GBM-nifti/TCGA-14-1402/06-21-1997-MRI_BRAIN_W_WOUT_CONTRAST-60238/701-brain_with_Ax_T1_Pre-72007a_n.nii.gz',\n",
       "    'TCGA-GBM-nifti/TCGA-14-1402/06-19-1997-MRI_BRAIN_W_WOUT_CONTRAST-92725/401-NABITT_____T2_AX_GRASE-22419a_n.nii.gz',\n",
       "    'TCGA-GBM-nifti/TCGA-14-1402/10-23-1997-MRI_3D_RECONSTRUCTION-97117/4-AX_T2FLAIR_Prop-54684a_n.nii.gz']},\n",
       "  {'label': '',\n",
       "   'image': ['TCGA-GBM-nifti/TCGA-06-0178/07-13-2002-62651/10-AX_T1_POST_GD_FLAIR-24372a_n.nii.gz',\n",
       "    'TCGA-GBM-nifti/TCGA-06-0178/07-13-2002-62651/8-AX_T1_pre_gd-06686a_n.nii.gz',\n",
       "    'TCGA-GBM-nifti/TCGA-06-0178/07-13-2002-62651/5-AX_T2_FR-FSE_RF2_150-95288a_n.nii.gz',\n",
       "    'TCGA-GBM-nifti/TCGA-06-0178/07-13-2002-62651/6-AXIAL_T2_FLAIR-46785a_n.nii.gz']},\n",
       "  {'label': '',\n",
       "   'image': ['TCGA-GBM-nifti/TCGA-06-0175/11-20-2001-44085/10-AXIAL_T1_GD-48895a_n.nii.gz',\n",
       "    'TCGA-GBM-nifti/TCGA-06-0175/11-20-2001-44085/8-AXIAL_T1-13040a_n.nii.gz',\n",
       "    'TCGA-GBM-nifti/TCGA-06-0175/11-20-2001-44085/4-AXIAL_FSE-31470a_n.nii.gz',\n",
       "    'TCGA-GBM-nifti/TCGA-06-0175/11-20-2001-44085/5-AXIAL_FLAIR-69159a_n.nii.gz']},\n",
       "  {'label': '',\n",
       "   'image': ['TCGA-GBM-nifti/TCGA-06-0881/02-08-2007-54554/10-AX_T1_POST_GD_FLAIR-80095a_n.nii.gz',\n",
       "    'TCGA-GBM-nifti/TCGA-06-0881/02-08-2007-54554/8-AX_T1_pre_gd-15278a_n.nii.gz',\n",
       "    'TCGA-GBM-nifti/TCGA-06-0881/02-08-2007-22773/5-AX_T2_FR-FSE_RF2_150-51242a_n.nii.gz',\n",
       "    'TCGA-GBM-nifti/TCGA-06-0881/02-08-2007-54554/7-AXIAL_FLAIR-12321a_n.nii.gz']},\n",
       "  {'label': '',\n",
       "   'image': ['TCGA-GBM-nifti/TCGA-76-6280/07-21-1998-MRI_BRAIN_WITHO-51400/901-T1_SAG_POST-35676a_n.nii.gz',\n",
       "    'TCGA-GBM-nifti/TCGA-76-6280/07-21-1998-MRI_BRAIN_WITHO-51400/601-T1_SE_PRE-08700a_n.nii.gz',\n",
       "    'TCGA-GBM-nifti/TCGA-76-6280/07-21-1998-MRI_BRAIN_WITHO-51400/501-DUAL_AX_T2-58337a_n.nii.gz',\n",
       "    'TCGA-GBM-nifti/TCGA-76-6280/07-21-1998-MRI_BRAIN_WITHO-51400/401-T2_AX_FLAIR-15378a_n.nii.gz']},\n",
       "  {'label': '',\n",
       "   'image': ['TCGA-GBM-nifti/TCGA-02-0085/01-30-1999-MRI_BRAIN_WWO_CONTR-29853/6-AX_T1_POST-23335a_n.nii.gz',\n",
       "    'TCGA-GBM-nifti/TCGA-02-0085/01-30-1999-MRI_BRAIN_WWO_CONTR-29853/5-AX_T1-84008a_n.nii.gz',\n",
       "    'TCGA-GBM-nifti/TCGA-02-0085/01-30-1999-MRI_BRAIN_WWO_CONTR-29853/3-AX_T2_FSE-87118a_n.nii.gz',\n",
       "    'TCGA-GBM-nifti/TCGA-02-0085/01-30-1999-MRI_BRAIN_WWO_CONTR-29853/4-AX_FLAIR-14351a_n.nii.gz']},\n",
       "  {'label': '',\n",
       "   'image': ['TCGA-GBM-nifti/TCGA-06-0646/12-09-2005-56216/10-AX_T1_POST_GD_FLAIR-11824a_n.nii.gz',\n",
       "    'TCGA-GBM-nifti/TCGA-06-0646/12-09-2005-56216/8-AX_T1_pre_gd-85927a_n.nii.gz',\n",
       "    'TCGA-GBM-nifti/TCGA-06-0646/12-09-2005-56216/6-AX_T2_FR-FSE_RF2_150-16748a_n.nii.gz',\n",
       "    'TCGA-GBM-nifti/TCGA-06-0646/12-09-2005-56216/5-AXIAL_FLAIR-68587a_n.nii.gz']},\n",
       "  {'label': '',\n",
       "   'image': ['TCGA-GBM-nifti/TCGA-14-1795/07-27-1998-MRI_BRAIN_WWO_CONT-65851/801-T1_AX_POST-02525a_n.nii.gz',\n",
       "    'TCGA-GBM-nifti/TCGA-14-1795/07-27-1998-MRI_BRAIN_WWO_CONT-65851/601-T1_AX_PRE-36241a_n.nii.gz',\n",
       "    'TCGA-GBM-nifti/TCGA-14-1795/07-27-1998-MRI_BRAIN_WWO_CONT-65851/701-T2_GRASE-67961a_n.nii.gz',\n",
       "    'TCGA-GBM-nifti/TCGA-14-1795/07-27-1998-MRI_BRAIN_WWO_CONT-65851/301-FLAIR-48439a_n.nii.gz']},\n",
       "  {'label': '',\n",
       "   'image': ['TCGA-GBM-nifti/TCGA-06-0130/09-11-2001-93062/11-AX_T1_POST_GD_FLAIR-18829a_n.nii.gz',\n",
       "    'TCGA-GBM-nifti/TCGA-06-0130/09-11-2001-93062/8-AX_T1_pre_gd-26039a_n.nii.gz',\n",
       "    'TCGA-GBM-nifti/TCGA-06-0130/09-11-2001-93062/4-AX_PD_FSE-IR_RF2_130-37988a_n.nii.gz',\n",
       "    'TCGA-GBM-nifti/TCGA-06-0130/09-11-2001-93062/7-AXIAL_FLAIR_RF2__150-17679a_n.nii.gz']},\n",
       "  {'label': '',\n",
       "   'image': ['TCGA-GBM-nifti/TCGA-19-0963/10-12-2001-NR_MRI_BRAIN_WWO-55607/7-MRHG_T1_AX_POST_GAD-84768a_n.nii.gz',\n",
       "    'TCGA-GBM-nifti/TCGA-19-0963/10-12-2001-NR_MRI_BRAIN_WWO-55607/6-MRHG_T1_AX-65851a_n.nii.gz',\n",
       "    'TCGA-GBM-nifti/TCGA-19-0963/10-12-2001-NR_MRI_BRAIN_WWO-55607/2-MRHG_T2_AXIALS-83338a_n.nii.gz',\n",
       "    'TCGA-GBM-nifti/TCGA-19-0963/10-12-2001-NR_MRI_BRAIN_WWO-55607/3-MRHG_FLAIR_AX-87168a_n.nii.gz']},\n",
       "  {'label': '',\n",
       "   'image': ['TCGA-GBM-nifti/TCGA-06-1801/10-22-2007-23597/8-AX_T1_FLAIR_C-45978a_n.nii.gz',\n",
       "    'TCGA-GBM-nifti/TCGA-06-1801/10-22-2007-23597/7-AX_T1_FLAIR_PRE-16032a_n.nii.gz',\n",
       "    'TCGA-GBM-nifti/TCGA-06-1801/08-16-2007-36099/5-AX_T2_FR-FSE_RF2_150-88049a_n.nii.gz',\n",
       "    'TCGA-GBM-nifti/TCGA-06-1801/11-20-2007-88851/6-AXIAL_FLAIR-34353a_n.nii.gz']},\n",
       "  {'label': '',\n",
       "   'image': ['TCGA-GBM-nifti/TCGA-06-2570/07-26-2007-MRI_BRAIN_WWO_CONTRAST-42847/11-AX_T1_POST_GD_FLAIR-15818a_n.nii.gz',\n",
       "    'TCGA-GBM-nifti/TCGA-06-2570/07-26-2007-MRI_BRAIN_WWO_CONTRAST-42847/8-AX_T1_pre_gd-51584a_n.nii.gz',\n",
       "    'TCGA-GBM-nifti/TCGA-06-2570/07-26-2007-MRI_BRAIN_WWO_CONTRAST-42847/6-AX_T2_FR-FSE_RF2_150-66062a_n.nii.gz',\n",
       "    'TCGA-GBM-nifti/TCGA-06-2570/07-26-2007-MRI_BRAIN_WWO_CONTRAST-42847/7-AXIAL_FLAIR-40162a_n.nii.gz']},\n",
       "  {'label': '',\n",
       "   'image': ['TCGA-GBM-nifti/TCGA-02-0059/08-29-1999-MRI_BRAIN_WWO_CONTR-16610/14-Ax_SE_T1_Post-47437a_n.nii.gz',\n",
       "    'TCGA-GBM-nifti/TCGA-02-0059/08-29-1999-MRI_BRAIN_WWO_CONTR-16610/13-SE_T1-24721a_n.nii.gz',\n",
       "    'TCGA-GBM-nifti/TCGA-02-0059/08-29-1999-MRI_BRAIN_WWO_CONTR-16610/18-T2_wand-17633a_n.nii.gz',\n",
       "    'TCGA-GBM-nifti/TCGA-02-0059/08-29-1999-MRI_BRAIN_WWO_CONTR-16610/8-T2_FLAIR-05867a_n.nii.gz']},\n",
       "  {'label': '',\n",
       "   'image': ['TCGA-GBM-nifti/TCGA-06-0182/09-01-2002-MRI_BRAIN_WWO_CONTRAS-96990/13-AxT1-thin_for_surgery-12089a_n.nii.gz',\n",
       "    'TCGA-GBM-nifti/TCGA-06-0182/09-01-2002-MRI_BRAIN_WWO_CONTRAS-96990/9-AXIAL_T1-13082a_n.nii.gz',\n",
       "    'TCGA-GBM-nifti/TCGA-06-0182/09-01-2002-MRI_BRAIN_WWO_CONTRAS-96990/6-AXIAL_FSE-19198a_n.nii.gz',\n",
       "    'TCGA-GBM-nifti/TCGA-06-0182/09-01-2002-MRI_BRAIN_WWO_CONTRAS-96990/7-AxFLAIR-thin_for_surgery-31783a_n.nii.gz']},\n",
       "  {'label': '',\n",
       "   'image': ['TCGA-GBM-nifti/TCGA-06-0188/08-08-2005-27435/8-AXIAL_T1_GD-58362a_n.nii.gz',\n",
       "    'TCGA-GBM-nifti/TCGA-06-0188/08-08-2005-27435/6-AXIAL_T1-07961a_n.nii.gz',\n",
       "    'TCGA-GBM-nifti/TCGA-06-0188/08-08-2005-27435/3-AXIAL_FSE-76062a_n.nii.gz',\n",
       "    'TCGA-GBM-nifti/TCGA-06-0188/08-08-2005-27435/4-AXIAL_FLAIR-83725a_n.nii.gz']},\n",
       "  {'label': '',\n",
       "   'image': ['TCGA-GBM-nifti/TCGA-02-0102/12-15-1997-MRI_BRAIN_WWO_CONTR-46432/6-AX_T1_POST-94928a_n.nii.gz',\n",
       "    'TCGA-GBM-nifti/TCGA-02-0102/12-15-1997-MRI_BRAIN_WWO_CONTR-46432/5-AX_T1-28522a_n.nii.gz',\n",
       "    'TCGA-GBM-nifti/TCGA-02-0102/12-15-1997-MRI_BRAIN_WWO_CONTR-46432/3-AX_T2_FSE-49954a_n.nii.gz',\n",
       "    'TCGA-GBM-nifti/TCGA-02-0102/12-15-1997-MRI_BRAIN_WWO_CONTR-46432/4-AX_FLAIR-60256a_n.nii.gz']},\n",
       "  {'label': '',\n",
       "   'image': ['TCGA-GBM-nifti/TCGA-08-0358/11-26-2002-MR_BRAIN_WSPEC-14604/8-T1_AX_POST_GAD-12257a_n.nii.gz',\n",
       "    'TCGA-GBM-nifti/TCGA-08-0358/11-26-2002-MR_BRAIN_WSPEC-14604/2-AX_T1-48602a_n.nii.gz',\n",
       "    'TCGA-GBM-nifti/TCGA-08-0358/11-26-2002-MR_BRAIN_ENHANC-42910/3-3D_FSE_AX-79777a_n.nii.gz',\n",
       "    'TCGA-GBM-nifti/TCGA-08-0358/11-26-2002-MR_BRAIN_WSPEC-14604/3-AX_FLAIR-31770a_n.nii.gz']},\n",
       "  {'label': '',\n",
       "   'image': ['TCGA-GBM-nifti/TCGA-14-1453/04-10-1998-MRI_BRAIN_WWO_CONT-55756/801-brain_with_AX_T1_POST-15005a_n.nii.gz',\n",
       "    'TCGA-GBM-nifti/TCGA-14-1453/04-10-1998-MRI_BRAIN_WWO_CONT-55756/701-brain_with_Ax_T1_Pre-08129a_n.nii.gz',\n",
       "    'TCGA-GBM-nifti/TCGA-14-1453/04-10-1998-MRI_BRAIN_WWO_CONT-55756/401-brain_with_T2_AX_GRASE-40739a_n.nii.gz',\n",
       "    'TCGA-GBM-nifti/TCGA-14-1453/04-10-1998-MRI_BRAIN_WWO_CONT-55756/301-brain_with_FLAIR-53137a_n.nii.gz']},\n",
       "  {'label': '',\n",
       "   'image': ['TCGA-GBM-nifti/TCGA-08-0529/10-29-2002-MSTEALTH-52317/7-3D_SPGR_AX-36833a_n.nii.gz',\n",
       "    'TCGA-GBM-nifti/TCGA-08-0529/10-29-2002-MSTEALTH-52317/2-FSPGR_SAG-82544a_n.nii.gz',\n",
       "    'TCGA-GBM-nifti/TCGA-08-0529/10-29-2002-MSTEALTH-52317/5-3D_FSE_AX-42060a_n.nii.gz',\n",
       "    'TCGA-GBM-nifti/TCGA-08-0529/10-29-2002-MSTEALTH-52317/3-AX_FLAIR-52108a_n.nii.gz']},\n",
       "  {'label': '',\n",
       "   'image': ['TCGA-GBM-nifti/TCGA-14-1459/07-16-2000-MRI_BRAIN_STEALTH_LOC-63342/2-Ax_T1_SE-18545a_n.nii.gz',\n",
       "    'TCGA-GBM-nifti/TCGA-14-1459/10-01-1999-MRI_BRAIN_WWO_CONT-40517/601-T1_AX_PRE-55928a_n.nii.gz',\n",
       "    'TCGA-GBM-nifti/TCGA-14-1459/05-25-2000-HeadRoutine-98902/10-T2AXTSEFS512-24189a_n.nii.gz',\n",
       "    'TCGA-GBM-nifti/TCGA-14-1459/05-25-2000-HeadRoutine-98902/3-t2flair_ax-91947a_n.nii.gz']},\n",
       "  {'label': '',\n",
       "   'image': ['TCGA-GBM-nifti/TCGA-19-2624/12-10-2002-NR_MRI_BRAIN_WWO-21815/13-MRHR_T1_AX_POST_GAD-93013a_n.nii.gz',\n",
       "    'TCGA-GBM-nifti/TCGA-19-2624/12-10-2002-NR_MRI_BRAIN_WWO-21815/11-MRHR_T1_AX-84384a_n.nii.gz',\n",
       "    'TCGA-GBM-nifti/TCGA-19-2624/12-10-2002-NR_MRI_BRAIN_WWO-21815/2-MRHR_T2_AX-61279a_n.nii.gz',\n",
       "    'TCGA-GBM-nifti/TCGA-19-2624/12-10-2002-NR_MRI_BRAIN_WWO-21815/3-MRHR_FLAIR_AX-17941a_n.nii.gz']},\n",
       "  {'label': '',\n",
       "   'image': ['TCGA-GBM-nifti/TCGA-08-0360/02-23-2003-MSTEALTH-DTI-31064/6-3D_SPGR_AX-57389a_n.nii.gz',\n",
       "    'TCGA-GBM-nifti/TCGA-08-0360/02-23-2003-MSTEALTH-DTI-31064/1-FSPGR_SAG-11415a_n.nii.gz',\n",
       "    'TCGA-GBM-nifti/TCGA-08-0360/02-23-2003-MSTEALTH-DTI-31064/2-3D_FSE_AX-07517a_n.nii.gz',\n",
       "    'TCGA-GBM-nifti/TCGA-08-0360/02-23-2003-MSTEALTH-DTI-31064/7-AX_FLAIR_gad-51944a_n.nii.gz']},\n",
       "  {'label': '',\n",
       "   'image': ['TCGA-GBM-nifti/TCGA-02-0037/01-13-1998-MRI_BRAIN_WWO_CONTRAMR-61567/6-AX_T1_POST-64479a_n.nii.gz',\n",
       "    'TCGA-GBM-nifti/TCGA-02-0037/01-13-1998-MRI_BRAIN_WWO_CONTRAMR-61567/5-AX_T1-92259a_n.nii.gz',\n",
       "    'TCGA-GBM-nifti/TCGA-02-0037/01-13-1998-MRI_BRAIN_WWO_CONTRAMR-61567/3-AX_T2_FSE-69544a_n.nii.gz',\n",
       "    'TCGA-GBM-nifti/TCGA-02-0037/01-13-1998-MRI_BRAIN_WWO_CONTRAMR-61567/4-AX_FLAIR-95660a_n.nii.gz']}]}"
      ]
     },
     "execution_count": 27,
     "metadata": {},
     "output_type": "execute_result"
    }
   ],
   "source": [
    "datalist"
   ]
  },
  {
   "cell_type": "code",
   "execution_count": 28,
   "metadata": {},
   "outputs": [],
   "source": [
    "t1ca_76_6664 = nib.load('/working/lupolab/julia/tcia_analysis/datasets/TCGA-GBM-nifti/TCGA-76-6664//01-10-2002-MRI_BRAIN_per_R-81790/1401-T1_SAG_POST-07378a_n.nii.gz')"
   ]
  },
  {
   "cell_type": "code",
   "execution_count": 29,
   "metadata": {},
   "outputs": [],
   "source": [
    "fla_76_6664 = nib.load('/working/lupolab/julia/tcia_analysis/datasets/TCGA-GBM-nifti/TCGA-76-6664/01-10-2002-MRI_BRAIN_per_R-81790/601-T2_AX_FLAIR-75280a_n.nii.gz')"
   ]
  },
  {
   "cell_type": "code",
   "execution_count": 30,
   "metadata": {},
   "outputs": [
    {
     "data": {
      "text/plain": [
       "<matplotlib.image.AxesImage at 0x7fe1334614e0>"
      ]
     },
     "execution_count": 30,
     "metadata": {},
     "output_type": "execute_result"
    },
    {
     "data": {
      "image/png": "[encoded data removed]",
      "text/plain": [
       "<Figure size 432x288 with 1 Axes>"
      ]
     },
     "metadata": {
      "needs_background": "light"
     },
     "output_type": "display_data"
    }
   ],
   "source": [
    "plt.imshow(fla_76_6664.dataobj[:,:,75])"
   ]
  },
  {
   "cell_type": "code",
   "execution_count": 31,
   "metadata": {},
   "outputs": [
    {
     "data": {
      "text/plain": [
       "<matplotlib.image.AxesImage at 0x7fe132f7cb00>"
      ]
     },
     "execution_count": 31,
     "metadata": {},
     "output_type": "execute_result"
    },
    {
     "data": {
      "image/png": "[encoded data removed]",
      "text/plain": [
       "<Figure size 432x288 with 1 Axes>"
      ]
     },
     "metadata": {
      "needs_background": "light"
     },
     "output_type": "display_data"
    }
   ],
   "source": [
    "plt.imshow(t1ca_76_6664.dataobj[100,:,:])"
   ]
  },
  {
   "cell_type": "code",
   "execution_count": 40,
   "metadata": {},
   "outputs": [
    {
     "data": {
      "text/plain": [
       "<matplotlib.image.AxesImage at 0x7fe13316dd30>"
      ]
     },
     "execution_count": 40,
     "metadata": {},
     "output_type": "execute_result"
    },
    {
     "data": {
      "image/png": "[encoded data removed]",
      "text/plain": [
       "<Figure size 432x288 with 1 Axes>"
      ]
     },
     "metadata": {
      "needs_background": "light"
     },
     "output_type": "display_data"
    }
   ],
   "source": [
    "plt.imshow(t1ca_76_6664.dataobj[:,:,60])"
   ]
  },
  {
   "cell_type": "code",
   "execution_count": 41,
   "metadata": {},
   "outputs": [],
   "source": [
    "## read in the segmentation of the whole tumor of this one: \n",
    "seg_WT_76_6664 = nib.load('/working/lupolab/julia/tcia_analysis/segmentation_mri_brain_tumors_br16_full_v1/eval_strip/1401-T1_SAG_POST-07378a_n/1401-T1_SAG_POST-07378a_n_WT.nii.gz')"
   ]
  },
  {
   "cell_type": "code",
   "execution_count": 44,
   "metadata": {},
   "outputs": [
    {
     "data": {
      "text/plain": [
       "<matplotlib.image.AxesImage at 0x7fe13306af28>"
      ]
     },
     "execution_count": 44,
     "metadata": {},
     "output_type": "execute_result"
    },
    {
     "data": {
      "image/png": "[encoded data removed]",
      "text/plain": [
       "<Figure size 432x288 with 1 Axes>"
      ]
     },
     "metadata": {
      "needs_background": "light"
     },
     "output_type": "display_data"
    }
   ],
   "source": [
    "plt.imshow(seg_WT_76_6664.dataobj[:,:,75])"
   ]
  },
  {
   "cell_type": "code",
   "execution_count": 45,
   "metadata": {},
   "outputs": [
    {
     "data": {
      "text/plain": [
       "<matplotlib.image.AxesImage at 0x7fe133044208>"
      ]
     },
     "execution_count": 45,
     "metadata": {},
     "output_type": "execute_result"
    },
    {
     "data": {
      "image/png": "[encoded data removed]",
      "text/plain": [
       "<Figure size 432x288 with 1 Axes>"
      ]
     },
     "metadata": {
      "needs_background": "light"
     },
     "output_type": "display_data"
    }
   ],
   "source": [
    "plt.imshow(seg_WT_76_6664.dataobj[:,:,75])"
   ]
  },
  {
   "cell_type": "code",
   "execution_count": 46,
   "metadata": {},
   "outputs": [],
   "source": [
    "## read in the segmentation of the whole tumor of this one: \n",
    "seg_ET_76_6664 = nib.load('/working/lupolab/julia/tcia_analysis/segmentation_mri_brain_tumors_br16_full_v1/eval_strip/1401-T1_SAG_POST-07378a_n/1401-T1_SAG_POST-07378a_n_ET.nii.gz')"
   ]
  },
  {
   "cell_type": "code",
   "execution_count": 47,
   "metadata": {
    "scrolled": true
   },
   "outputs": [
    {
     "data": {
      "text/plain": [
       "<matplotlib.image.AxesImage at 0x7fe132f40630>"
      ]
     },
     "execution_count": 47,
     "metadata": {},
     "output_type": "execute_result"
    },
    {
     "data": {
      "image/png": "[encoded data removed]",
      "text/plain": [
       "<Figure size 432x288 with 1 Axes>"
      ]
     },
     "metadata": {
      "needs_background": "light"
     },
     "output_type": "display_data"
    }
   ],
   "source": [
    "plt.imshow(seg_ET_76_6664.dataobj[:,:,75])"
   ]
  },
  {
   "cell_type": "markdown",
   "metadata": {},
   "source": [
    "### TCGA-DU_5853\n",
    "\n",
    "Chosen Randomly, maps to `11-AX_T1_POST_GD_FLAIR-81300a_n`\n"
   ]
  },
  {
   "cell_type": "code",
   "execution_count": 48,
   "metadata": {},
   "outputs": [],
   "source": [
    "t1ca_DU_5853 = nib.load('/working/lupolab/julia/tcia_analysis/datasets/TCGA-LGG-nifti/TCGA-DU-5853/08-23-1995-MRI_BRAIN_WWO_CONTRAST-78436/11-AX_T1_POST_GD_FLAIR-81300a_n.nii.gz')"
   ]
  },
  {
   "cell_type": "code",
   "execution_count": 49,
   "metadata": {},
   "outputs": [],
   "source": [
    "fla_DU_5853 = nib.load('/working/lupolab/julia/tcia_analysis/datasets/TCGA-LGG-nifti/TCGA-DU-5853/08-23-1995-MRI_BRAIN_WWO_CONTRAST-78436/6-AXIAL_FLAIR-84159a_n.nii.gz')"
   ]
  },
  {
   "cell_type": "code",
   "execution_count": 59,
   "metadata": {},
   "outputs": [
    {
     "data": {
      "text/plain": [
       "<matplotlib.image.AxesImage at 0x7fe132ce52e8>"
      ]
     },
     "execution_count": 59,
     "metadata": {},
     "output_type": "execute_result"
    },
    {
     "data": {
      "image/png": "[encoded data removed]",
      "text/plain": [
       "<Figure size 432x288 with 1 Axes>"
      ]
     },
     "metadata": {
      "needs_background": "light"
     },
     "output_type": "display_data"
    }
   ],
   "source": [
    "plt.imshow(fla_DU_5853.dataobj[:,:,130])"
   ]
  },
  {
   "cell_type": "code",
   "execution_count": 63,
   "metadata": {},
   "outputs": [
    {
     "data": {
      "text/plain": [
       "<matplotlib.image.AxesImage at 0x7fe132bb5d30>"
      ]
     },
     "execution_count": 63,
     "metadata": {},
     "output_type": "execute_result"
    },
    {
     "data": {
      "image/png": "[encoded data removed]",
      "text/plain": [
       "<Figure size 432x288 with 1 Axes>"
      ]
     },
     "metadata": {
      "needs_background": "light"
     },
     "output_type": "display_data"
    }
   ],
   "source": [
    "plt.imshow(t1ca_DU_5853.dataobj[:,:,125])"
   ]
  },
  {
   "cell_type": "code",
   "execution_count": 52,
   "metadata": {},
   "outputs": [],
   "source": [
    "## read in the segmentation of the whole tumor of this one: \n",
    "seg_WT_DU_5853 = nib.load('/working/lupolab/julia/tcia_analysis/segmentation_mri_brain_tumors_br16_full_v1/eval_strip/11-AX_T1_POST_GD_FLAIR-81300a_n/11-AX_T1_POST_GD_FLAIR-81300a_n_WT.nii.gz')"
   ]
  },
  {
   "cell_type": "code",
   "execution_count": 58,
   "metadata": {},
   "outputs": [
    {
     "data": {
      "text/plain": [
       "<matplotlib.image.AxesImage at 0x7fe132d14048>"
      ]
     },
     "execution_count": 58,
     "metadata": {},
     "output_type": "execute_result"
    },
    {
     "data": {
      "image/png": "[encoded data removed]",
      "text/plain": [
       "<Figure size 432x288 with 1 Axes>"
      ]
     },
     "metadata": {
      "needs_background": "light"
     },
     "output_type": "display_data"
    }
   ],
   "source": [
    "plt.imshow(seg_WT_DU_5853.dataobj[:,:,130])"
   ]
  },
  {
   "cell_type": "code",
   "execution_count": 54,
   "metadata": {},
   "outputs": [
    {
     "data": {
      "text/plain": [
       "<matplotlib.image.AxesImage at 0x7fe132e11668>"
      ]
     },
     "execution_count": 54,
     "metadata": {},
     "output_type": "execute_result"
    },
    {
     "data": {
      "image/png": "[encoded data removed]",
      "text/plain": [
       "<Figure size 432x288 with 1 Axes>"
      ]
     },
     "metadata": {
      "needs_background": "light"
     },
     "output_type": "display_data"
    }
   ],
   "source": [
    "plt.imshow(seg_WT_DU_5853.dataobj[:,:,75])"
   ]
  },
  {
   "cell_type": "code",
   "execution_count": 55,
   "metadata": {},
   "outputs": [],
   "source": [
    "## read in the segmentation of the whole tumor of this one: \n",
    "seg_ET_DU_5853 = nib.load('/working/lupolab/julia/tcia_analysis/segmentation_mri_brain_tumors_br16_full_v1/eval_strip/1401-T1_SAG_POST-07378a_n/1401-T1_SAG_POST-07378a_n_ET.nii.gz')"
   ]
  },
  {
   "cell_type": "code",
   "execution_count": 62,
   "metadata": {
    "scrolled": false
   },
   "outputs": [
    {
     "data": {
      "text/plain": [
       "<matplotlib.image.AxesImage at 0x7fe132be1ac8>"
      ]
     },
     "execution_count": 62,
     "metadata": {},
     "output_type": "execute_result"
    },
    {
     "data": {
      "image/png": "[encoded data removed]",
      "text/plain": [
       "<Figure size 432x288 with 1 Axes>"
      ]
     },
     "metadata": {
      "needs_background": "light"
     },
     "output_type": "display_data"
    }
   ],
   "source": [
    "plt.imshow(seg_ET_DU_5853.dataobj[:,:,120])"
   ]
  },
  {
   "cell_type": "code",
   "execution_count": null,
   "metadata": {},
   "outputs": [],
   "source": []
  }
 ],
 "metadata": {
  "kernelspec": {
   "display_name": "Fastai SVCF",
   "language": "python",
   "name": "fastai"
  },
  "language_info": {
   "codemirror_mode": {
    "name": "ipython",
    "version": 3
   },
   "file_extension": ".py",
   "mimetype": "text/x-python",
   "name": "python",
   "nbconvert_exporter": "python",
   "pygments_lexer": "ipython3",
   "version": "3.7.2"
  }
 },
 "nbformat": 4,
 "nbformat_minor": 2
}
