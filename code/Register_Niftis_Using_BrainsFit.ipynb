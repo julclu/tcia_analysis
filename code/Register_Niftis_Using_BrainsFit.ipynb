{
 "cells": [
  {
   "cell_type": "markdown",
   "metadata": {},
   "source": [
    "## Registering the NIFTIS"
   ]
  },
  {
   "cell_type": "markdown",
   "metadata": {},
   "source": [
    "For each exam, we want to register everything to the following (in order): \n",
    "1. T1 pre-contrast Ax\n",
    "2. T1 post-contrast Ax\n",
    "3. T2 FSE Ax \n",
    "4. T1 (other orientation) post-contrast \n",
    "5. T2 FSE (other orientation)\n",
    "6. T2 FLAIR Ax\n",
    "7. T2 FLAIR (other orientation)"
   ]
  },
  {
   "cell_type": "markdown",
   "metadata": {},
   "source": [
    "We want to use the following command: \n",
    "\n",
    "` BRAINSFit --fixedVolume $fixed_vol.nii.gz --movingVolume $moving_vol.nii.gz --outputVolume $output_vol.nii.gz --outputTransform $transform_output.tfm  --transformType Rigid`"
   ]
  },
  {
   "cell_type": "markdown",
   "metadata": {},
   "source": [
    "But first we need to figure out which are the fixed volumes; this will require labeling. "
   ]
  },
  {
   "cell_type": "markdown",
   "metadata": {},
   "source": [
    "Let's use code derived from `http://localhost:8890/notebooks/data/svcf/labels/TCGA-GBM/GenerateGroundTruthUsingDCMdump.ipynb` "
   ]
  },
  {
   "cell_type": "markdown",
   "metadata": {},
   "source": [
    "This function will take in a patient file and output whether the T1 images have contrast: "
   ]
  },
  {
   "cell_type": "code",
   "execution_count": 2,
   "metadata": {},
   "outputs": [],
   "source": [
    "def find_if_t1_image_has_contrast(outfile, root_dir): \n",
    "    patient_images = glob.glob(str(root_dir)+ 'TCGA-LGG-nifti/'+outfile.split('.')[0]+\"/*/*\")\n",
    "    \n",
    "    image_contrast_map = {}\n",
    "    for j in patient_images: \n",
    "        os.chdir(j)\n",
    "#         print(j)\n",
    "        command = \"dcmdump 000000.dcm | grep -i '(0018,0010)' \"\n",
    "        result = sub.Popen(command, stdout=sub.PIPE, stderr = sub.PIPE, shell = True)\n",
    "        out, err = result.communicate()\n",
    "        out = out.decode('utf-8')\n",
    "        if out: \n",
    "            image_contrast_map[j.split('/')[-1]] = 1\n",
    "        else: \n",
    "            image_contrast_map[j.split('/')[-1]] = 0\n",
    "            \n",
    "    return image_contrast_map\n",
    "            "
   ]
  },
  {
   "cell_type": "code",
   "execution_count": null,
   "metadata": {},
   "outputs": [],
   "source": [
    "find_if_t1_image_has_contrast('')"
   ]
  }
 ],
 "metadata": {
  "kernelspec": {
   "display_name": "Fastai SVCF",
   "language": "python",
   "name": "fastai"
  },
  "language_info": {
   "codemirror_mode": {
    "name": "ipython",
    "version": 3
   },
   "file_extension": ".py",
   "mimetype": "text/x-python",
   "name": "python",
   "nbconvert_exporter": "python",
   "pygments_lexer": "ipython3",
   "version": "3.7.2"
  }
 },
 "nbformat": 4,
 "nbformat_minor": 2
}
