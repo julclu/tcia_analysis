{
 "cells": [
  {
   "cell_type": "code",
   "execution_count": 29,
   "metadata": {},
   "outputs": [],
   "source": [
    "import nibabel as nib\n",
    "import os\n",
    "import glob\n",
    "import json\n",
    "from pathlib import Path\n",
    "import pandas as pd\n",
    "import subprocess as sub \n",
    "from subprocess import Popen, PIPE, STDOUT\n",
    "import matplotlib.pyplot as plt"
   ]
  },
  {
   "cell_type": "code",
   "execution_count": 2,
   "metadata": {},
   "outputs": [],
   "source": [
    "import numpy as np"
   ]
  },
  {
   "cell_type": "code",
   "execution_count": 3,
   "metadata": {},
   "outputs": [],
   "source": [
    "label_df_lgg = pd.read_csv('/working/lupolab/julia/tcia_analysis/labels_tcia_lgg.csv')\n",
    "label_df_gbm = pd.read_csv('/working/lupolab/julia/tcia_analysis/labels_tcia_GBM.csv')\n",
    "full_label_df = label_df_lgg.append(label_df_gbm, ignore_index = True)"
   ]
  },
  {
   "cell_type": "code",
   "execution_count": 4,
   "metadata": {},
   "outputs": [
    {
     "data": {
      "text/plain": [
       "'/working/lupolab/julia/tcia_analysis/datasets/TCGA-LGG-nifti/TCGA-CS-5396/03-02-2001-MRI_BRAIN_CONTRAST_MRA_BRAIN-47605/305-RT__COW-39894.nii.gz'"
      ]
     },
     "execution_count": 4,
     "metadata": {},
     "output_type": "execute_result"
    }
   ],
   "source": [
    "label_df_lgg['image'][0]"
   ]
  },
  {
   "cell_type": "code",
   "execution_count": 5,
   "metadata": {},
   "outputs": [],
   "source": [
    "full_label_df['patient_id'] = [x.split('/')[7] for x in full_label_df.image]"
   ]
  },
  {
   "cell_type": "code",
   "execution_count": 6,
   "metadata": {},
   "outputs": [],
   "source": [
    "patient_list = full_label_df.patient_id.unique()"
   ]
  },
  {
   "cell_type": "code",
   "execution_count": 7,
   "metadata": {},
   "outputs": [],
   "source": [
    "usable_patients = []\n",
    "for patient in patient_list: \n",
    "    patient_df = full_label_df.loc[(full_label_df['patient_id'] == patient) & (full_label_df['ground_truth'] != \"OTHER\")]\n",
    "#     print(patient_df)\n",
    "    if len(patient_df.ground_truth.unique()) >= 4: \n",
    "        usable_patients.append(patient)"
   ]
  },
  {
   "cell_type": "code",
   "execution_count": 8,
   "metadata": {},
   "outputs": [],
   "source": [
    "usable_patient_df = full_label_df.loc[(full_label_df['patient_id'].isin(usable_patients)) & \n",
    "                                      (full_label_df['ground_truth'] != \"OTHER\")].copy()"
   ]
  },
  {
   "cell_type": "code",
   "execution_count": 9,
   "metadata": {},
   "outputs": [],
   "source": [
    "root_dir = '/working/lupolab/julia/tcia_analysis'\n"
   ]
  },
  {
   "cell_type": "code",
   "execution_count": 10,
   "metadata": {},
   "outputs": [],
   "source": [
    "usable_patient_df['aligned_image'] = ['' for x in usable_patient_df.image]"
   ]
  },
  {
   "cell_type": "code",
   "execution_count": 11,
   "metadata": {},
   "outputs": [],
   "source": [
    "for idx, row in usable_patient_df.iterrows():\n",
    "    dir_name = '/'.join(row['image'].split('/')[0:-1])\n",
    "    image_name =row['image'].split('/')[-1]\n",
    "    image_name_split = image_name.split('.')\n",
    "    image_name_split[-3] = image_name_split[-3]+'a_n'\n",
    "    image_name_aligned = '.'.join(image_name_split)\n",
    "    if image_name_aligned in os.listdir(dir_name): \n",
    "        row['aligned_image'] = dir_name+'/'+image_name_aligned\n",
    "    \n",
    "    "
   ]
  },
  {
   "cell_type": "code",
   "execution_count": 12,
   "metadata": {},
   "outputs": [
    {
     "data": {
      "text/plain": [
       "'/working/lupolab/julia/tcia_analysis/datasets/TCGA-LGG-nifti/TCGA-DU-5853/08-23-1995-MRI_BRAIN_WWO_CONTRAST-78436/12-COR__T1_POST_GD_FLAIR-32689a_n.nii.gz'"
      ]
     },
     "execution_count": 12,
     "metadata": {},
     "output_type": "execute_result"
    }
   ],
   "source": [
    "usable_patient_df['aligned_image'][39]"
   ]
  },
  {
   "cell_type": "code",
   "execution_count": 13,
   "metadata": {},
   "outputs": [],
   "source": [
    "def find_patient_images(patient_id, usable_patient_df): \n",
    "    images_dict = {}\n",
    "    patient_images_df = usable_patient_df.loc[usable_patient_df.patient_id == patient_id]\n",
    "    for x in ['T1C', 'T1', \"T2\", 'T2_FLAIR']: \n",
    "        contrast_images_df = patient_images_df.loc[patient_images_df.ground_truth == x].reset_index(drop = True)\n",
    "        if contrast_images_df.shape[0] > 1: \n",
    "            for idx, row in contrast_images_df.iterrows(): \n",
    "                if 'ax'  in row['sd'].lower(): \n",
    "                    if row['aligned_image']: \n",
    "                        images_dict[x] =  '/'.join(row['aligned_image'].split('/')[6:])\n",
    "                    else: \n",
    "                        images_dict[x] =  '/'.join(row['image'].split('/')[6:])\n",
    "                    continue\n",
    "                elif x not in images_dict.keys(): \n",
    "                    if row['aligned_image']: \n",
    "                        images_dict[x] =  '/'.join(row['aligned_image'].split('/')[6:])\n",
    "                    else: \n",
    "                        images_dict[x] =  '/'.join(row['image'].split('/')[6:])\n",
    "        else: \n",
    "            if contrast_images_df['aligned_image'][0]: \n",
    "                images_dict[x] = '/'.join(contrast_images_df['aligned_image'][0].split('/')[6:])\n",
    "            else: \n",
    "                images_dict[x] = '/'.join(contrast_images_df['image'][0].split('/')[6:])\n",
    "            \n",
    "    return images_dict"
   ]
  },
  {
   "cell_type": "code",
   "execution_count": 14,
   "metadata": {},
   "outputs": [],
   "source": [
    "x = list(usable_patient_df.patient_id.unique())"
   ]
  },
  {
   "cell_type": "code",
   "execution_count": 15,
   "metadata": {},
   "outputs": [
    {
     "ename": "NameError",
     "evalue": "name 'images_dict' is not defined",
     "output_type": "error",
     "traceback": [
      "\u001b[0;31m---------------------------------------------------------------------------\u001b[0m",
      "\u001b[0;31mNameError\u001b[0m                                 Traceback (most recent call last)",
      "\u001b[0;32m<ipython-input-15-3d22b6248d60>\u001b[0m in \u001b[0;36m<module>\u001b[0;34m\u001b[0m\n\u001b[0;32m----> 1\u001b[0;31m \u001b[0mimages_dict\u001b[0m\u001b[0;34m\u001b[0m\u001b[0;34m\u001b[0m\u001b[0m\n\u001b[0m",
      "\u001b[0;31mNameError\u001b[0m: name 'images_dict' is not defined"
     ]
    }
   ],
   "source": [
    "images_dict"
   ]
  },
  {
   "cell_type": "code",
   "execution_count": 17,
   "metadata": {},
   "outputs": [
    {
     "name": "stdout",
     "output_type": "stream",
     "text": [
      "4\n",
      "TCGA-HT-7684\n",
      "(240, 240, 187) (240, 240, 187) (240, 240, 1394) (240, 240, 187)\n",
      "10\n",
      "TCGA-HT-7690\n",
      "(240, 240, 180) (240, 240, 180) (240, 240, 390) (240, 240, 180)\n",
      "20\n",
      "TCGA-CS-4943\n",
      "(219, 219, 150) (219, 219, 150) (220, 220, 300) (219, 219, 150)\n",
      "44\n",
      "TCGA-CS-4944\n",
      "(219, 219, 150) (219, 219, 150) (220, 220, 300) (219, 219, 150)\n",
      "46\n",
      "TCGA-DU-A6S6\n",
      "(240, 240, 175) (240, 240, 175) (240, 240, 70) (240, 240, 175)\n",
      "63\n",
      "TCGA-HT-8105\n",
      "(240, 240, 140) (240, 240, 140) (240, 240, 44) (240, 240, 140)\n",
      "93\n",
      "TCGA-14-0865\n",
      "(229, 229, 150) (229, 229, 150) (260, 260, 138) (229, 229, 150)\n",
      "104\n",
      "TCGA-06-0156\n",
      "(240, 240, 66) (240, 240, 66) (240, 240, 110) (240, 240, 165)\n",
      "105\n",
      "TCGA-76-6282\n",
      "(219, 219, 150) (219, 219, 150) (220, 220, 300) (219, 219, 150)\n",
      "134\n",
      "TCGA-14-0790\n",
      "(229, 229, 150) (229, 229, 150) (207, 230, 252) (229, 229, 150)\n",
      "148\n",
      "TCGA-06-0237\n",
      "(240, 240, 160) (240, 240, 160) (240, 240, 330) (240, 240, 160)\n",
      "168\n",
      "TCGA-06-0165\n",
      "(240, 240, 174) (199, 199, 150) (240, 240, 348) (240, 240, 174)\n",
      "173\n",
      "TCGA-76-4926\n",
      "(219, 219, 150) (219, 219, 150) (219, 219, 300) (219, 219, 150)\n",
      "180\n",
      "TCGA-06-0185\n",
      "(240, 240, 175) (240, 240, 175) (240, 240, 74) (240, 240, 175)\n",
      "199\n",
      "TCGA-76-4932\n",
      "(219, 219, 150) (219, 219, 150) (220, 220, 300) (219, 219, 150)\n",
      "206\n",
      "TCGA-06-0166\n",
      "(240, 240, 168) (240, 240, 180) (240, 240, 114) (240, 240, 171)\n",
      "['TCGA-HT-7684', 'TCGA-HT-7690', 'TCGA-CS-4943', 'TCGA-CS-4944', 'TCGA-DU-A6S6', 'TCGA-HT-8105', 'TCGA-14-0865', 'TCGA-06-0156', 'TCGA-76-6282', 'TCGA-14-0790', 'TCGA-06-0237', 'TCGA-06-0165', 'TCGA-76-4926', 'TCGA-06-0185', 'TCGA-76-4932', 'TCGA-06-0166']\n"
     ]
    }
   ],
   "source": [
    "i =1 \n",
    "patient_ids_to_remove = []\n",
    "for patient_id in x: \n",
    "    \n",
    "    images_dict = find_patient_images(patient_id, usable_patient_df)\n",
    "    \n",
    "    values = list(images_dict.values())\n",
    "    root = '/working/lupolab/julia/tcia_analysis/datasets/'\n",
    "    image1 = nib.load(root+values[0])\n",
    "    image2 = nib.load(root+values[1])\n",
    "    image3 = nib.load(root+values[2])\n",
    "    image4 = nib.load(root+values[3])\n",
    "    \n",
    "    check_sizes = image1.shape == image2.shape == image3.shape == image4.shape\n",
    "    if not check_sizes: \n",
    "        print(i)\n",
    "        print(patient_id)\n",
    "        patient_ids_to_remove.append(patient_id)\n",
    "        print(image1.shape, image2.shape, image3.shape, image4.shape)\n",
    "    i += 1\n",
    "print(patient_ids_to_remove)"
   ]
  },
  {
   "cell_type": "code",
   "execution_count": 34,
   "metadata": {},
   "outputs": [],
   "source": [
    "fla = nib.load('/working/lupolab/julia/tcia_analysis/datasets/TCGA-LGG-nifti/TCGA-DU-5872/02-23-1995-MRI_BRAIN_WWO_CONTRAST-88714/13-Ax_T1_2.5mm_for_surgery-85579a_n.nii.gz')\n",
    "t1 = nib.load('/working/lupolab/julia/tcia_analysis/datasets/TCGA-LGG-nifti/TCGA-DU-5872/02-23-1995-MRI_BRAIN_WWO_CONTRAST-88714/11-AXIAL_T1-55226a_n.nii.gz')\n",
    "t1c = nib.load('/working/lupolab/julia/tcia_analysis/datasets/TCGA-LGG-nifti/TCGA-DU-5872/02-23-1995-MRI_BRAIN_WWO_CONTRAST-88714/8-AXIAL_FSE-96257a_n.nii.gz')\n",
    "t2 = nib.load('/working/lupolab/julia/tcia_analysis/datasets/TCGA-LGG-nifti/TCGA-DU-5872/02-23-1995-MRI_BRAIN_WWO_CONTRAST-88714/5-Ax_FLAIR_2.5mm_for_surgery-31127a_n.nii.gz')\n",
    "\n",
    "\n"
   ]
  },
  {
   "cell_type": "code",
   "execution_count": 35,
   "metadata": {},
   "outputs": [
    {
     "data": {
      "text/plain": [
       "(240, 240, 160)"
      ]
     },
     "execution_count": 35,
     "metadata": {},
     "output_type": "execute_result"
    }
   ],
   "source": [
    "fla.shape"
   ]
  },
  {
   "cell_type": "code",
   "execution_count": 36,
   "metadata": {},
   "outputs": [
    {
     "data": {
      "text/plain": [
       "<matplotlib.image.AxesImage at 0x7fb7bdf16588>"
      ]
     },
     "execution_count": 36,
     "metadata": {},
     "output_type": "execute_result"
    },
    {
     "data": {
      "image/png": "[encoded data removed]",
      "text/plain": [
       "<Figure size 432x288 with 1 Axes>"
      ]
     },
     "metadata": {
      "needs_background": "light"
     },
     "output_type": "display_data"
    }
   ],
   "source": [
    "plt.imshow(fla.dataobj[:,:,50])"
   ]
  },
  {
   "cell_type": "code",
   "execution_count": 37,
   "metadata": {},
   "outputs": [
    {
     "data": {
      "text/plain": [
       "(240, 240, 160)"
      ]
     },
     "execution_count": 37,
     "metadata": {},
     "output_type": "execute_result"
    }
   ],
   "source": [
    "t1.shape"
   ]
  },
  {
   "cell_type": "code",
   "execution_count": 38,
   "metadata": {},
   "outputs": [
    {
     "data": {
      "text/plain": [
       "(240, 240, 160)"
      ]
     },
     "execution_count": 38,
     "metadata": {},
     "output_type": "execute_result"
    }
   ],
   "source": [
    "t2.shape"
   ]
  },
  {
   "cell_type": "code",
   "execution_count": 39,
   "metadata": {},
   "outputs": [
    {
     "data": {
      "text/plain": [
       "(240, 240, 160)"
      ]
     },
     "execution_count": 39,
     "metadata": {},
     "output_type": "execute_result"
    }
   ],
   "source": [
    "t1c.shape"
   ]
  },
  {
   "cell_type": "code",
   "execution_count": null,
   "metadata": {},
   "outputs": [],
   "source": [
    "fla.shape == t1.shape == "
   ]
  },
  {
   "cell_type": "code",
   "execution_count": null,
   "metadata": {},
   "outputs": [],
   "source": []
  }
 ],
 "metadata": {
  "kernelspec": {
   "display_name": "Fastai SVCF",
   "language": "python",
   "name": "fastai"
  },
  "language_info": {
   "codemirror_mode": {
    "name": "ipython",
    "version": 3
   },
   "file_extension": ".py",
   "mimetype": "text/x-python",
   "name": "python",
   "nbconvert_exporter": "python",
   "pygments_lexer": "ipython3",
   "version": "3.7.2"
  }
 },
 "nbformat": 4,
 "nbformat_minor": 2
}
