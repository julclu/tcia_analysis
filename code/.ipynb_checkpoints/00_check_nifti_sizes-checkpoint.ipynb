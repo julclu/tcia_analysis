{
 "cells": [
  {
   "cell_type": "code",
   "execution_count": 4,
   "metadata": {},
   "outputs": [],
   "source": [
    "import nibabel as nib\n",
    "import os\n",
    "import glob\n",
    "import json\n",
    "from pathlib import Path\n",
    "import pandas as pd\n",
    "import subprocess as sub \n",
    "from subprocess import Popen, PIPE, STDOUT"
   ]
  },
  {
   "cell_type": "code",
   "execution_count": 3,
   "metadata": {},
   "outputs": [],
   "source": [
    "import numpy as np"
   ]
  },
  {
   "cell_type": "code",
   "execution_count": 23,
   "metadata": {},
   "outputs": [],
   "source": [
    "label_df_lgg = pd.read_csv('/working/lupolab/julia/tcia_analysis/labels_tcia_lgg.csv')\n",
    "label_df_gbm = pd.read_csv('/working/lupolab/julia/tcia_analysis/labels_tcia_GBM.csv')\n",
    "full_label_df = label_df_lgg.append(label_df_gbm, ignore_index = True)"
   ]
  },
  {
   "cell_type": "code",
   "execution_count": 24,
   "metadata": {},
   "outputs": [],
   "source": [
    "full_label_df['patient_id'] = [x.split('/')[7] for x in full_label_df.image]"
   ]
  },
  {
   "cell_type": "code",
   "execution_count": 25,
   "metadata": {},
   "outputs": [],
   "source": [
    "patient_list = full_label_df.patient_id.unique()"
   ]
  },
  {
   "cell_type": "code",
   "execution_count": 26,
   "metadata": {},
   "outputs": [],
   "source": [
    "usable_patients = []\n",
    "for patient in patient_list: \n",
    "    patient_df = full_label_df.loc[(full_label_df['patient_id'] == patient) & (full_label_df['ground_truth'] != \"OTHER\")]\n",
    "#     print(patient_df)\n",
    "    if len(patient_df.ground_truth.unique()) >= 4: \n",
    "        usable_patients.append(patient)"
   ]
  },
  {
   "cell_type": "code",
   "execution_count": 27,
   "metadata": {},
   "outputs": [],
   "source": [
    "usable_patient_df = full_label_df.loc[(full_label_df['patient_id'].isin(usable_patients)) & \n",
    "                                      (full_label_df['ground_truth'] != \"OTHER\")].copy()"
   ]
  },
  {
   "cell_type": "code",
   "execution_count": 28,
   "metadata": {},
   "outputs": [],
   "source": [
    "root_dir = '/working/lupolab/julia/tcia_analysis'\n"
   ]
  },
  {
   "cell_type": "code",
   "execution_count": 33,
   "metadata": {},
   "outputs": [],
   "source": [
    "usable_patient_df['aligned_image'] = ['' for x in usable_patient_df.image]"
   ]
  },
  {
   "cell_type": "code",
   "execution_count": 34,
   "metadata": {},
   "outputs": [],
   "source": [
    "for idx, row in usable_patient_df.iterrows():\n",
    "    dir_name = '/'.join(row['image'].split('/')[0:-1])\n",
    "    image_name =row['image'].split('/')[-1]\n",
    "    image_name_split = image_name.split('.')\n",
    "    image_name_split[-3] = image_name_split[-3]+'a'\n",
    "    image_name_aligned = '.'.join(image_name_split)\n",
    "    if image_name_aligned in os.listdir(dir_name): \n",
    "        row['aligned_image'] = dir_name+'/'+image_name_aligned\n",
    "    \n",
    "    "
   ]
  },
  {
   "cell_type": "code",
   "execution_count": null,
   "metadata": {},
   "outputs": [],
   "source": []
  },
  {
   "cell_type": "code",
   "execution_count": 35,
   "metadata": {},
   "outputs": [],
   "source": [
    "def find_patient_images(patient_id, usable_patient_df): \n",
    "    images_dict = {}\n",
    "    patient_images_df = usable_patient_df.loc[usable_patient_df.patient_id == patient_id]\n",
    "    for x in ['T1C', 'T1', \"T2\", 'T2_FLAIR']: \n",
    "        contrast_images_df = patient_images_df.loc[patient_images_df.ground_truth == x].reset_index(drop = True)\n",
    "        if contrast_images_df.shape[0] > 1: \n",
    "            for idx, row in contrast_images_df.iterrows(): \n",
    "                if 'ax'  in row['sd'].lower(): \n",
    "                    if row['aligned_image']: \n",
    "                        images_dict[x] =  '/'.join(row['aligned_image'].split('/')[6:])\n",
    "                    else: \n",
    "                        images_dict[x] =  '/'.join(row['image'].split('/')[6:])\n",
    "                    continue\n",
    "                elif x not in images_dict.keys(): \n",
    "                    if row['aligned_image']: \n",
    "                        images_dict[x] =  '/'.join(row['aligned_image'].split('/')[6:])\n",
    "                    else: \n",
    "                        images_dict[x] =  '/'.join(row['image'].split('/')[6:])\n",
    "        else: \n",
    "            if contrast_images_df['aligned_image'][0]: \n",
    "                images_dict[x] = '/'.join(contrast_images_df['aligned_image'][0].split('/')[6:])\n",
    "            else: \n",
    "                images_dict[x] = '/'.join(contrast_images_df['image'][0].split('/')[6:])\n",
    "            \n",
    "    return images_dict"
   ]
  },
  {
   "cell_type": "code",
   "execution_count": 36,
   "metadata": {},
   "outputs": [],
   "source": [
    "x = list(usable_patient_df.patient_id.unique())"
   ]
  },
  {
   "cell_type": "code",
   "execution_count": 51,
   "metadata": {},
   "outputs": [
    {
     "name": "stdout",
     "output_type": "stream",
     "text": [
      "44\n",
      "TCGA-CS-4944\n",
      "(219, 219, 150) (219, 219, 150) (220, 220, 300) (219, 219, 150)\n",
      "46\n",
      "TCGA-DU-A6S6\n",
      "(240, 240, 175) (240, 240, 175) (240, 240, 70) (240, 240, 175)\n",
      "104\n",
      "TCGA-06-0156\n",
      "(240, 240, 66) (240, 240, 66) (240, 240, 110) (240, 240, 165)\n",
      "105\n",
      "TCGA-76-6282\n",
      "(219, 219, 150) (219, 219, 150) (220, 220, 300) (219, 219, 150)\n",
      "168\n",
      "TCGA-06-0165\n",
      "(240, 240, 174) (199, 199, 150) (240, 240, 348) (240, 240, 174)\n",
      "173\n",
      "TCGA-76-4926\n",
      "(219, 219, 150) (219, 219, 150) (219, 219, 300) (219, 219, 150)\n",
      "199\n",
      "TCGA-76-4932\n",
      "(219, 219, 150) (219, 219, 150) (220, 220, 300) (219, 219, 150)\n",
      "206\n",
      "TCGA-06-0166\n",
      "(240, 240, 168) (240, 240, 180) (240, 240, 114) (240, 240, 171)\n"
     ]
    }
   ],
   "source": [
    "i =1 \n",
    "for patient_id in x: \n",
    "    \n",
    "    images_dict = find_patient_images(patient_id, usable_patient_df)\n",
    "    \n",
    "    values = list(images_dict.values())\n",
    "    root = '/working/lupolab/julia/tcia_analysis/datasets/'\n",
    "    image1 = nib.load(root+values[0])\n",
    "    image2 = nib.load(root+values[1])\n",
    "    image3 = nib.load(root+values[2])\n",
    "    image4 = nib.load(root+values[3])\n",
    "    \n",
    "    check_sizes = image1.shape == image2.shape == image3.shape == image4.shape\n",
    "    if not check_sizes: \n",
    "        print(i)\n",
    "        print(patient_id)\n",
    "        print(image1.shape, image2.shape, image3.shape, image4.shape)\n",
    "    i += 1"
   ]
  },
  {
   "cell_type": "code",
   "execution_count": 14,
   "metadata": {},
   "outputs": [],
   "source": [
    "fla = nib.load('/working/lupolab/julia/tcia_analysis/datasets/TCGA-LGG-nifti/TCGA-DU-7301/11-12-1991-MRI_BRAIN_WWO_CONTRAST-22050/10-AX_T1_POST_GD_FLAIR-56964a.nii.gz')\n",
    "t1 = nib.load('/working/lupolab/julia/tcia_analysis/datasets/TCGA-LGG-nifti/TCGA-DU-7301/11-12-1991-MRI_BRAIN_WWO_CONTRAST-22050/8-AX_T1_pre_gd-40072a.nii.gz')\n",
    "t1c = nib.load('/working/lupolab/julia/tcia_analysis/datasets/TCGA-LGG-nifti/TCGA-DU-7301/11-12-1991-MRI_BRAIN_WWO_CONTRAST-22050/5-AX_T2_FR-FSE_RF2_150-68026a.nii.gz')\n",
    "t2 = nib.load('/working/lupolab/julia/tcia_analysis/datasets/TCGA-LGG-nifti/TCGA-DU-7301/11-12-1991-MRI_BRAIN_WWO_CONTRAST-22050/6-AXIAL_FLAIR-66613a.nii.gz')"
   ]
  },
  {
   "cell_type": "code",
   "execution_count": 15,
   "metadata": {},
   "outputs": [
    {
     "data": {
      "text/plain": [
       "(240, 240, 175)"
      ]
     },
     "execution_count": 15,
     "metadata": {},
     "output_type": "execute_result"
    }
   ],
   "source": [
    "fla.shape"
   ]
  },
  {
   "cell_type": "code",
   "execution_count": 16,
   "metadata": {},
   "outputs": [
    {
     "data": {
      "text/plain": [
       "(240, 240, 175)"
      ]
     },
     "execution_count": 16,
     "metadata": {},
     "output_type": "execute_result"
    }
   ],
   "source": [
    "t1.shape"
   ]
  },
  {
   "cell_type": "code",
   "execution_count": 17,
   "metadata": {},
   "outputs": [
    {
     "data": {
      "text/plain": [
       "(240, 240, 175)"
      ]
     },
     "execution_count": 17,
     "metadata": {},
     "output_type": "execute_result"
    }
   ],
   "source": [
    "t2.shape"
   ]
  },
  {
   "cell_type": "code",
   "execution_count": 18,
   "metadata": {},
   "outputs": [
    {
     "data": {
      "text/plain": [
       "(240, 240, 175)"
      ]
     },
     "execution_count": 18,
     "metadata": {},
     "output_type": "execute_result"
    }
   ],
   "source": [
    "t1c.shape"
   ]
  },
  {
   "cell_type": "code",
   "execution_count": 22,
   "metadata": {},
   "outputs": [
    {
     "data": {
      "text/plain": [
       "True"
      ]
     },
     "execution_count": 22,
     "metadata": {},
     "output_type": "execute_result"
    }
   ],
   "source": [
    "fla.shape == t1.shape == "
   ]
  },
  {
   "cell_type": "code",
   "execution_count": null,
   "metadata": {},
   "outputs": [],
   "source": []
  }
 ],
 "metadata": {
  "kernelspec": {
   "display_name": "Fastai SVCF",
   "language": "python",
   "name": "fastai"
  },
  "language_info": {
   "codemirror_mode": {
    "name": "ipython",
    "version": 3
   },
   "file_extension": ".py",
   "mimetype": "text/x-python",
   "name": "python",
   "nbconvert_exporter": "python",
   "pygments_lexer": "ipython3",
   "version": "3.7.2"
  }
 },
 "nbformat": 4,
 "nbformat_minor": 2
}
