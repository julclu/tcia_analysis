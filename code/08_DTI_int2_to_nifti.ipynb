{
 "cells": [
  {
   "cell_type": "code",
   "execution_count": 2,
   "metadata": {},
   "outputs": [],
   "source": [
    "import os \n",
    "import glob\n",
    "from pathlib import Path\n",
    "import pandas as pd \n",
    "import numpy as np \n",
    "import json \n",
    "import subprocess as sub"
   ]
  },
  {
   "cell_type": "markdown",
   "metadata": {},
   "source": [
    "## Here we want to just convert the int2 files to nifti files"
   ]
  },
  {
   "cell_type": "code",
   "execution_count": 87,
   "metadata": {},
   "outputs": [],
   "source": [
    "os.chdir('/working/lupolab/julia/tcia_analysis/code')"
   ]
  },
  {
   "cell_type": "code",
   "execution_count": 88,
   "metadata": {},
   "outputs": [],
   "source": [
    "final_dti_subset = pd.read_csv('final_dti_subset.csv')"
   ]
  },
  {
   "cell_type": "code",
   "execution_count": 89,
   "metadata": {},
   "outputs": [
    {
     "data": {
      "text/html": [
       "<div>\n",
       "<style scoped>\n",
       "    .dataframe tbody tr th:only-of-type {\n",
       "        vertical-align: middle;\n",
       "    }\n",
       "\n",
       "    .dataframe tbody tr th {\n",
       "        vertical-align: top;\n",
       "    }\n",
       "\n",
       "    .dataframe thead th {\n",
       "        text-align: right;\n",
       "    }\n",
       "</style>\n",
       "<table border=\"1\" class=\"dataframe\">\n",
       "  <thead>\n",
       "    <tr style=\"text-align: right;\">\n",
       "      <th></th>\n",
       "      <th>cohort</th>\n",
       "      <th>dti</th>\n",
       "      <th>exam</th>\n",
       "      <th>patient_id</th>\n",
       "      <th>segmentation_name</th>\n",
       "      <th>dti_series_name</th>\n",
       "    </tr>\n",
       "  </thead>\n",
       "  <tbody>\n",
       "    <tr>\n",
       "      <th>0</th>\n",
       "      <td>TCGA-LGG-nifti</td>\n",
       "      <td>['400-DTI_2.6mm_WH-19253.nii.gz', '4-DTI_2.6mm...</td>\n",
       "      <td>08-23-1995-MRI_BRAIN_WWO_CONTRAST-78436</td>\n",
       "      <td>TCGA-DU-5853</td>\n",
       "      <td>11-AX_T1_POST_GD_FLAIR-81300a_n</td>\n",
       "      <td>4-DTI_2.6mm_WH-81596</td>\n",
       "    </tr>\n",
       "    <tr>\n",
       "      <th>1</th>\n",
       "      <td>TCGA-LGG-nifti</td>\n",
       "      <td>['601-DTI_ASSET-84919.nii.gz', '600-DTI_ASSET-...</td>\n",
       "      <td>06-18-1989-MRI_BRAIN_WWO_CONTRAS-16160</td>\n",
       "      <td>TCGA-DU-7015</td>\n",
       "      <td>10-AX_T1_POST_GD_FLAIR-19430a_n</td>\n",
       "      <td>6-DTI_ASSET-60836</td>\n",
       "    </tr>\n",
       "    <tr>\n",
       "      <th>2</th>\n",
       "      <td>TCGA-LGG-nifti</td>\n",
       "      <td>['501-DTI_2.6mm_WH-21034.nii.gz', '5-DTI_2.6mm...</td>\n",
       "      <td>01-11-1997-MRI_BRAIN_WWO_CONTRAST-98366</td>\n",
       "      <td>TCGA-DU-8164</td>\n",
       "      <td>10-AX_T1_POST_GD_FLAIR-02819a_n</td>\n",
       "      <td>5-DTI_2.6mm_WH-89883</td>\n",
       "    </tr>\n",
       "    <tr>\n",
       "      <th>3</th>\n",
       "      <td>TCGA-LGG-nifti</td>\n",
       "      <td>['6-DTI_2.6mm_WH-60904.nii.gz', '601-DTI_2.6mm...</td>\n",
       "      <td>11-19-1996-MRI_BRAIN_WWO_CONTRAST-27038</td>\n",
       "      <td>TCGA-DU-8163</td>\n",
       "      <td>12-AX_T1_POST_GD_FLAIR-07772a_n</td>\n",
       "      <td>6-DTI_2.6mm_WH-60904</td>\n",
       "    </tr>\n",
       "    <tr>\n",
       "      <th>4</th>\n",
       "      <td>TCGA-LGG-nifti</td>\n",
       "      <td>['1100-DTI_ASSET-99068.nii.gz', '1101-DTI_ASSE...</td>\n",
       "      <td>12-20-1991-MRI_BRAIN_WWO_CONTRAST-98852</td>\n",
       "      <td>TCGA-DU-7018</td>\n",
       "      <td>13-AX_T1_POST_GD_FLAIR-47091a_n</td>\n",
       "      <td>11-DTI_ASSET-81799</td>\n",
       "    </tr>\n",
       "  </tbody>\n",
       "</table>\n",
       "</div>"
      ],
      "text/plain": [
       "           cohort                                                dti  \\\n",
       "0  TCGA-LGG-nifti  ['400-DTI_2.6mm_WH-19253.nii.gz', '4-DTI_2.6mm...   \n",
       "1  TCGA-LGG-nifti  ['601-DTI_ASSET-84919.nii.gz', '600-DTI_ASSET-...   \n",
       "2  TCGA-LGG-nifti  ['501-DTI_2.6mm_WH-21034.nii.gz', '5-DTI_2.6mm...   \n",
       "3  TCGA-LGG-nifti  ['6-DTI_2.6mm_WH-60904.nii.gz', '601-DTI_2.6mm...   \n",
       "4  TCGA-LGG-nifti  ['1100-DTI_ASSET-99068.nii.gz', '1101-DTI_ASSE...   \n",
       "\n",
       "                                      exam    patient_id  \\\n",
       "0  08-23-1995-MRI_BRAIN_WWO_CONTRAST-78436  TCGA-DU-5853   \n",
       "1   06-18-1989-MRI_BRAIN_WWO_CONTRAS-16160  TCGA-DU-7015   \n",
       "2  01-11-1997-MRI_BRAIN_WWO_CONTRAST-98366  TCGA-DU-8164   \n",
       "3  11-19-1996-MRI_BRAIN_WWO_CONTRAST-27038  TCGA-DU-8163   \n",
       "4  12-20-1991-MRI_BRAIN_WWO_CONTRAST-98852  TCGA-DU-7018   \n",
       "\n",
       "                 segmentation_name       dti_series_name  \n",
       "0  11-AX_T1_POST_GD_FLAIR-81300a_n  4-DTI_2.6mm_WH-81596  \n",
       "1  10-AX_T1_POST_GD_FLAIR-19430a_n     6-DTI_ASSET-60836  \n",
       "2  10-AX_T1_POST_GD_FLAIR-02819a_n  5-DTI_2.6mm_WH-89883  \n",
       "3  12-AX_T1_POST_GD_FLAIR-07772a_n  6-DTI_2.6mm_WH-60904  \n",
       "4  13-AX_T1_POST_GD_FLAIR-47091a_n    11-DTI_ASSET-81799  "
      ]
     },
     "execution_count": 89,
     "metadata": {},
     "output_type": "execute_result"
    }
   ],
   "source": [
    "final_dti_subset.head()"
   ]
  },
  {
   "cell_type": "code",
   "execution_count": 99,
   "metadata": {},
   "outputs": [],
   "source": [
    "list_of_diffusion = []\n",
    "missing_diffusion  = []\n",
    "for idx, row in final_dti_subset.iterrows():\n",
    "    cohort = '-'.join(row['cohort'].split('-')[:-1])\n",
    "    patient_id = row['patient_id']\n",
    "    exam = row['exam']\n",
    "#     print(os.listdir(Path('/working/lupolab/julia/tcia_analysis/datasets/', cohort, patient_id, exam)))\n",
    "    if 'diffusion_b=1000' in os.listdir(Path('/working/lupolab/julia/tcia_analysis/datasets/', cohort, patient_id, exam)) or 'diffusion_b=1200' in os.listdir(Path('/working/lupolab/julia/tcia_analysis/datasets/', cohort, patient_id, exam)): \n",
    "        list_of_diffusion.append(patient_id)\n",
    "    else: \n",
    "        missing_diffusion.append(patient_id)"
   ]
  },
  {
   "cell_type": "code",
   "execution_count": 100,
   "metadata": {},
   "outputs": [
    {
     "data": {
      "text/plain": [
       "26"
      ]
     },
     "execution_count": 100,
     "metadata": {},
     "output_type": "execute_result"
    }
   ],
   "source": [
    "len(list_of_diffusion)"
   ]
  },
  {
   "cell_type": "code",
   "execution_count": 101,
   "metadata": {},
   "outputs": [
    {
     "data": {
      "text/plain": [
       "['TCGA-DU-5853',\n",
       " 'TCGA-DU-7015',\n",
       " 'TCGA-DU-8164',\n",
       " 'TCGA-DU-8163',\n",
       " 'TCGA-DU-7018',\n",
       " 'TCGA-DU-7302',\n",
       " 'TCGA-DU-7306',\n",
       " 'TCGA-DU-5871',\n",
       " 'TCGA-DU-6407',\n",
       " 'TCGA-DU-8167',\n",
       " 'TCGA-DU-5849',\n",
       " 'TCGA-DU-6542',\n",
       " 'TCGA-DU-7301',\n",
       " 'TCGA-DU-7309',\n",
       " 'TCGA-DU-8168',\n",
       " 'TCGA-DU-8162',\n",
       " 'TCGA-DU-7019',\n",
       " 'TCGA-DU-5874',\n",
       " 'TCGA-DU-8165',\n",
       " 'TCGA-DU-7304',\n",
       " 'TCGA-DU-5852',\n",
       " 'TCGA-DU-7300',\n",
       " 'TCGA-DU-8166',\n",
       " 'TCGA-DU-A5TP',\n",
       " 'TCGA-DU-7299',\n",
       " 'TCGA-06-1806']"
      ]
     },
     "execution_count": 101,
     "metadata": {},
     "output_type": "execute_result"
    }
   ],
   "source": [
    "list_of_diffusion"
   ]
  },
  {
   "cell_type": "markdown",
   "metadata": {},
   "source": [
    "## Convert to nifti: "
   ]
  },
  {
   "cell_type": "markdown",
   "metadata": {},
   "source": [
    "`nifti_file_convert --input TCGA-DU-5853_1000_adc.idf --output /working/lupolab/julia/tcia_analysis/datasets/TCGA-LGG-nifti/TCGA-DU-5853/08-23-1995-MRI_BRAIN_WWO_CONTRAST-78436/ --output_root TCGA-DU-5853_adc`\n"
   ]
  },
  {
   "cell_type": "code",
   "execution_count": 102,
   "metadata": {},
   "outputs": [],
   "source": [
    "dti_to_convert_to_nifti = final_dti_subset.loc[final_dti_subset.patient_id.isin(list_of_diffusion)]"
   ]
  },
  {
   "cell_type": "code",
   "execution_count": 103,
   "metadata": {},
   "outputs": [
    {
     "data": {
      "text/plain": [
       "(26, 6)"
      ]
     },
     "execution_count": 103,
     "metadata": {},
     "output_type": "execute_result"
    }
   ],
   "source": [
    "dti_to_convert_to_nifti.shape"
   ]
  },
  {
   "cell_type": "code",
   "execution_count": 104,
   "metadata": {},
   "outputs": [
    {
     "data": {
      "text/html": [
       "<div>\n",
       "<style scoped>\n",
       "    .dataframe tbody tr th:only-of-type {\n",
       "        vertical-align: middle;\n",
       "    }\n",
       "\n",
       "    .dataframe tbody tr th {\n",
       "        vertical-align: top;\n",
       "    }\n",
       "\n",
       "    .dataframe thead th {\n",
       "        text-align: right;\n",
       "    }\n",
       "</style>\n",
       "<table border=\"1\" class=\"dataframe\">\n",
       "  <thead>\n",
       "    <tr style=\"text-align: right;\">\n",
       "      <th></th>\n",
       "      <th>cohort</th>\n",
       "      <th>dti</th>\n",
       "      <th>exam</th>\n",
       "      <th>patient_id</th>\n",
       "      <th>segmentation_name</th>\n",
       "      <th>dti_series_name</th>\n",
       "    </tr>\n",
       "  </thead>\n",
       "  <tbody>\n",
       "    <tr>\n",
       "      <th>21</th>\n",
       "      <td>TCGA-LGG-nifti</td>\n",
       "      <td>['701-DTI_ASSET-28393.nii.gz', '700-DTI_ASSET-...</td>\n",
       "      <td>08-14-1991-MRI_BRAIN_WWO_CONTRAST-33968</td>\n",
       "      <td>TCGA-DU-7300</td>\n",
       "      <td>10-AX_T1_POST_GD_FLAIR-17011a_n</td>\n",
       "      <td>7-DTI_ASSET-26847</td>\n",
       "    </tr>\n",
       "    <tr>\n",
       "      <th>22</th>\n",
       "      <td>TCGA-LGG-nifti</td>\n",
       "      <td>['4-DTI_2.6mm_WH-31825.nii.gz', '401-DTI_2.6mm...</td>\n",
       "      <td>03-22-1997-MRI_BRAIN_WWO_CONTRAST-94974</td>\n",
       "      <td>TCGA-DU-8166</td>\n",
       "      <td>12-AX_T1_POST_GD_FLAIR-47718a_n</td>\n",
       "      <td>4-DTI_2.6mm_WH-31825</td>\n",
       "    </tr>\n",
       "    <tr>\n",
       "      <th>23</th>\n",
       "      <td>TCGA-LGG-nifti</td>\n",
       "      <td>['8-DTI_2.6mm_WH-90495.nii.gz', '802-DTI_2.6mm...</td>\n",
       "      <td>06-14-1997-MRI_BRAIN_WWO_CONTRAST-14542</td>\n",
       "      <td>TCGA-DU-A5TP</td>\n",
       "      <td>10-AX_T1_POST_GD_FLAIR-90264a_n</td>\n",
       "      <td>8-DTI_2.6mm_WH-90495</td>\n",
       "    </tr>\n",
       "    <tr>\n",
       "      <th>24</th>\n",
       "      <td>TCGA-LGG-nifti</td>\n",
       "      <td>['7-DTI_ASSET-72031.nii.gz', '702-DTI_ASSET-13...</td>\n",
       "      <td>04-17-1991-MRI_BRAIN_WWO_CONTRAST-84114</td>\n",
       "      <td>TCGA-DU-7299</td>\n",
       "      <td>10-AX_T1_POST_GD_FLAIR-49564a_n</td>\n",
       "      <td>7-DTI_ASSET-72031</td>\n",
       "    </tr>\n",
       "    <tr>\n",
       "      <th>41</th>\n",
       "      <td>TCGA-GBM-nifti</td>\n",
       "      <td>['402-DTI_2.6mm_WH-04206.nii.gz', '400-DTI_2.6...</td>\n",
       "      <td>02-27-2008-MRI_BRAIN_WWO_CONTRAST-78379</td>\n",
       "      <td>TCGA-06-1806</td>\n",
       "      <td>11-AX_T1_POST_GD_FLAIR-87636a_n</td>\n",
       "      <td>4-DTI_2.6mm_WH-63977</td>\n",
       "    </tr>\n",
       "  </tbody>\n",
       "</table>\n",
       "</div>"
      ],
      "text/plain": [
       "            cohort                                                dti  \\\n",
       "21  TCGA-LGG-nifti  ['701-DTI_ASSET-28393.nii.gz', '700-DTI_ASSET-...   \n",
       "22  TCGA-LGG-nifti  ['4-DTI_2.6mm_WH-31825.nii.gz', '401-DTI_2.6mm...   \n",
       "23  TCGA-LGG-nifti  ['8-DTI_2.6mm_WH-90495.nii.gz', '802-DTI_2.6mm...   \n",
       "24  TCGA-LGG-nifti  ['7-DTI_ASSET-72031.nii.gz', '702-DTI_ASSET-13...   \n",
       "41  TCGA-GBM-nifti  ['402-DTI_2.6mm_WH-04206.nii.gz', '400-DTI_2.6...   \n",
       "\n",
       "                                       exam    patient_id  \\\n",
       "21  08-14-1991-MRI_BRAIN_WWO_CONTRAST-33968  TCGA-DU-7300   \n",
       "22  03-22-1997-MRI_BRAIN_WWO_CONTRAST-94974  TCGA-DU-8166   \n",
       "23  06-14-1997-MRI_BRAIN_WWO_CONTRAST-14542  TCGA-DU-A5TP   \n",
       "24  04-17-1991-MRI_BRAIN_WWO_CONTRAST-84114  TCGA-DU-7299   \n",
       "41  02-27-2008-MRI_BRAIN_WWO_CONTRAST-78379  TCGA-06-1806   \n",
       "\n",
       "                  segmentation_name       dti_series_name  \n",
       "21  10-AX_T1_POST_GD_FLAIR-17011a_n     7-DTI_ASSET-26847  \n",
       "22  12-AX_T1_POST_GD_FLAIR-47718a_n  4-DTI_2.6mm_WH-31825  \n",
       "23  10-AX_T1_POST_GD_FLAIR-90264a_n  8-DTI_2.6mm_WH-90495  \n",
       "24  10-AX_T1_POST_GD_FLAIR-49564a_n     7-DTI_ASSET-72031  \n",
       "41  11-AX_T1_POST_GD_FLAIR-87636a_n  4-DTI_2.6mm_WH-63977  "
      ]
     },
     "execution_count": 104,
     "metadata": {},
     "output_type": "execute_result"
    }
   ],
   "source": [
    "dti_to_convert_to_nifti.tail()"
   ]
  },
  {
   "cell_type": "code",
   "execution_count": 107,
   "metadata": {},
   "outputs": [
    {
     "name": "stdout",
     "output_type": "stream",
     "text": [
      "/working/lupolab/julia/tcia_analysis/datasets/TCGA-LGG/TCGA-DU-5853/08-23-1995-MRI_BRAIN_WWO_CONTRAST-78436/diffusion_b=1000\n",
      "nifti_file_convert --input TCGA-DU-5853_1000_adc.idf --output /working/lupolab/julia/tcia_analysis/datasets/TCGA-LGG-nifti/TCGA-DU-5853/08-23-1995-MRI_BRAIN_WWO_CONTRAST-78436 --output_root TCGA-DU-5853_adc\n",
      "====================\n",
      "/working/lupolab/julia/tcia_analysis/datasets/TCGA-LGG/TCGA-DU-7015/06-18-1989-MRI_BRAIN_WWO_CONTRAS-16160/diffusion_b=1000\n",
      "nifti_file_convert --input TCGA-DU-7015_1000_adc.idf --output /working/lupolab/julia/tcia_analysis/datasets/TCGA-LGG-nifti/TCGA-DU-7015/06-18-1989-MRI_BRAIN_WWO_CONTRAS-16160 --output_root TCGA-DU-7015_adc\n",
      "====================\n",
      "/working/lupolab/julia/tcia_analysis/datasets/TCGA-LGG/TCGA-DU-8164/01-11-1997-MRI_BRAIN_WWO_CONTRAST-98366/diffusion_b=1000\n",
      "nifti_file_convert --input TCGA-DU-8164_1000_adc.idf --output /working/lupolab/julia/tcia_analysis/datasets/TCGA-LGG-nifti/TCGA-DU-8164/01-11-1997-MRI_BRAIN_WWO_CONTRAST-98366 --output_root TCGA-DU-8164_adc\n",
      "====================\n",
      "/working/lupolab/julia/tcia_analysis/datasets/TCGA-LGG/TCGA-DU-8163/11-19-1996-MRI_BRAIN_WWO_CONTRAST-27038/diffusion_b=1000\n",
      "nifti_file_convert --input TCGA-DU-8163_1000_adc.idf --output /working/lupolab/julia/tcia_analysis/datasets/TCGA-LGG-nifti/TCGA-DU-8163/11-19-1996-MRI_BRAIN_WWO_CONTRAST-27038 --output_root TCGA-DU-8163_adc\n",
      "====================\n",
      "/working/lupolab/julia/tcia_analysis/datasets/TCGA-LGG/TCGA-DU-7018/12-20-1991-MRI_BRAIN_WWO_CONTRAST-98852/diffusion_b=1000\n",
      "nifti_file_convert --input TCGA-DU-7018_1000_adc.idf --output /working/lupolab/julia/tcia_analysis/datasets/TCGA-LGG-nifti/TCGA-DU-7018/12-20-1991-MRI_BRAIN_WWO_CONTRAST-98852 --output_root TCGA-DU-7018_adc\n",
      "====================\n",
      "/working/lupolab/julia/tcia_analysis/datasets/TCGA-LGG/TCGA-DU-7302/12-03-1991-MRI_BRAIN_WWO_CONTRAST-41440/diffusion_b=1000\n",
      "nifti_file_convert --input TCGA-DU-7302_1000_adc.idf --output /working/lupolab/julia/tcia_analysis/datasets/TCGA-LGG-nifti/TCGA-DU-7302/12-03-1991-MRI_BRAIN_WWO_CONTRAST-41440 --output_root TCGA-DU-7302_adc\n",
      "====================\n",
      "/working/lupolab/julia/tcia_analysis/datasets/TCGA-LGG/TCGA-DU-7306/05-12-1993-MRI_BRAIN_WWO_CONTRAST-11323/diffusion_b=1000\n",
      "nifti_file_convert --input TCGA-DU-7306_1000_adc.idf --output /working/lupolab/julia/tcia_analysis/datasets/TCGA-LGG-nifti/TCGA-DU-7306/05-12-1993-MRI_BRAIN_WWO_CONTRAST-11323 --output_root TCGA-DU-7306_adc\n",
      "====================\n",
      "/working/lupolab/julia/tcia_analysis/datasets/TCGA-LGG/TCGA-DU-5871/12-06-1994-MRI_BRAIN_WWO_CONTRAST-77531/diffusion_b=1000\n",
      "nifti_file_convert --input TCGA-DU-5871_1000_adc.idf --output /working/lupolab/julia/tcia_analysis/datasets/TCGA-LGG-nifti/TCGA-DU-5871/12-06-1994-MRI_BRAIN_WWO_CONTRAST-77531 --output_root TCGA-DU-5871_adc\n",
      "====================\n",
      "/working/lupolab/julia/tcia_analysis/datasets/TCGA-LGG/TCGA-DU-6407/12-22-1992-MRI_BRAIN_WWO_CONTRAST-78886/diffusion_b=1000\n",
      "nifti_file_convert --input TCGA-DU-6407_1000_adc.idf --output /working/lupolab/julia/tcia_analysis/datasets/TCGA-LGG-nifti/TCGA-DU-6407/12-22-1992-MRI_BRAIN_WWO_CONTRAST-78886 --output_root TCGA-DU-6407_adc\n",
      "====================\n",
      "/working/lupolab/julia/tcia_analysis/datasets/TCGA-LGG/TCGA-DU-8167/04-02-1997-MRI_BRAIN_WWO_CONTRAST-29125/diffusion_b=1000\n",
      "nifti_file_convert --input TCGA-DU-8167_1000_adc.idf --output /working/lupolab/julia/tcia_analysis/datasets/TCGA-LGG-nifti/TCGA-DU-8167/04-02-1997-MRI_BRAIN_WWO_CONTRAST-29125 --output_root TCGA-DU-8167_adc\n",
      "====================\n",
      "/working/lupolab/julia/tcia_analysis/datasets/TCGA-LGG/TCGA-DU-5849/04-05-1995-MRI_BRAIN_WWO_CONTRAST-20866/diffusion_b=1000\n",
      "nifti_file_convert --input TCGA-DU-5849_1000_adc.idf --output /working/lupolab/julia/tcia_analysis/datasets/TCGA-LGG-nifti/TCGA-DU-5849/04-05-1995-MRI_BRAIN_WWO_CONTRAST-20866 --output_root TCGA-DU-5849_adc\n",
      "====================\n",
      "/working/lupolab/julia/tcia_analysis/datasets/TCGA-LGG/TCGA-DU-6542/05-08-1996-MRI_BRAIN_WWO_CONTRAST-27308/diffusion_b=1000\n",
      "nifti_file_convert --input TCGA-DU-6542_1000_adc.idf --output /working/lupolab/julia/tcia_analysis/datasets/TCGA-LGG-nifti/TCGA-DU-6542/05-08-1996-MRI_BRAIN_WWO_CONTRAST-27308 --output_root TCGA-DU-6542_adc\n",
      "====================\n",
      "/working/lupolab/julia/tcia_analysis/datasets/TCGA-LGG/TCGA-DU-7301/11-12-1991-MRI_BRAIN_WWO_CONTRAST-22050/diffusion_b=1000\n",
      "nifti_file_convert --input TCGA-DU-7301_1000_adc.idf --output /working/lupolab/julia/tcia_analysis/datasets/TCGA-LGG-nifti/TCGA-DU-7301/11-12-1991-MRI_BRAIN_WWO_CONTRAST-22050 --output_root TCGA-DU-7301_adc\n",
      "====================\n",
      "/working/lupolab/julia/tcia_analysis/datasets/TCGA-LGG/TCGA-DU-7309/08-31-1996-MRI_BRAIN_WWO_CONTRAST-83234/diffusion_b=1000\n",
      "nifti_file_convert --input TCGA-DU-7309_1000_adc.idf --output /working/lupolab/julia/tcia_analysis/datasets/TCGA-LGG-nifti/TCGA-DU-7309/08-31-1996-MRI_BRAIN_WWO_CONTRAST-83234 --output_root TCGA-DU-7309_adc\n",
      "====================\n",
      "/working/lupolab/julia/tcia_analysis/datasets/TCGA-LGG/TCGA-DU-8168/05-03-1997-MRI_BRAIN_WWO_CONTRAST-55138/diffusion_b=1000\n",
      "nifti_file_convert --input TCGA-DU-8168_1000_adc.idf --output /working/lupolab/julia/tcia_analysis/datasets/TCGA-LGG-nifti/TCGA-DU-8168/05-03-1997-MRI_BRAIN_WWO_CONTRAST-55138 --output_root TCGA-DU-8168_adc\n",
      "====================\n",
      "/working/lupolab/julia/tcia_analysis/datasets/TCGA-LGG/TCGA-DU-8162/10-29-1996-MRI_BRAIN_WWO_CONTRAST-44912/diffusion_b=1000\n",
      "nifti_file_convert --input TCGA-DU-8162_1000_adc.idf --output /working/lupolab/julia/tcia_analysis/datasets/TCGA-LGG-nifti/TCGA-DU-8162/10-29-1996-MRI_BRAIN_WWO_CONTRAST-44912 --output_root TCGA-DU-8162_adc\n",
      "====================\n",
      "/working/lupolab/julia/tcia_analysis/datasets/TCGA-LGG/TCGA-DU-7019/09-08-1994-MRI_BRAIN_WWO_CONTRAST-36813/diffusion_b=1000\n",
      "nifti_file_convert --input TCGA-DU-7019_1000_adc.idf --output /working/lupolab/julia/tcia_analysis/datasets/TCGA-LGG-nifti/TCGA-DU-7019/09-08-1994-MRI_BRAIN_WWO_CONTRAST-36813 --output_root TCGA-DU-7019_adc\n",
      "====================\n",
      "/working/lupolab/julia/tcia_analysis/datasets/TCGA-LGG/TCGA-DU-5874/05-10-1995-MRI_BRAIN_WWO_CONTRAST-73527/diffusion_b=1000\n",
      "nifti_file_convert --input TCGA-DU-5874_1000_adc.idf --output /working/lupolab/julia/tcia_analysis/datasets/TCGA-LGG-nifti/TCGA-DU-5874/05-10-1995-MRI_BRAIN_WWO_CONTRAST-73527 --output_root TCGA-DU-5874_adc\n",
      "====================\n",
      "/working/lupolab/julia/tcia_analysis/datasets/TCGA-LGG/TCGA-DU-8165/02-05-1997-MRI_BRAIN_WWO_CONTRAST-94305/diffusion_b=1000\n",
      "nifti_file_convert --input TCGA-DU-8165_1000_adc.idf --output /working/lupolab/julia/tcia_analysis/datasets/TCGA-LGG-nifti/TCGA-DU-8165/02-05-1997-MRI_BRAIN_WWO_CONTRAST-94305 --output_root TCGA-DU-8165_adc\n",
      "====================\n",
      "/working/lupolab/julia/tcia_analysis/datasets/TCGA-LGG/TCGA-DU-7304/03-25-1993-MRI_BRAIN_WWO_CONTRAST-46100/diffusion_b=1000\n",
      "nifti_file_convert --input TCGA-DU-7304_1000_adc.idf --output /working/lupolab/julia/tcia_analysis/datasets/TCGA-LGG-nifti/TCGA-DU-7304/03-25-1993-MRI_BRAIN_WWO_CONTRAST-46100 --output_root TCGA-DU-7304_adc\n",
      "====================\n",
      "/working/lupolab/julia/tcia_analysis/datasets/TCGA-LGG/TCGA-DU-5852/07-09-1995-MRI_BRAIN_WWO_CONTRAST-62702/diffusion_b=1000\n",
      "nifti_file_convert --input TCGA-DU-5852_1000_adc.idf --output /working/lupolab/julia/tcia_analysis/datasets/TCGA-LGG-nifti/TCGA-DU-5852/07-09-1995-MRI_BRAIN_WWO_CONTRAST-62702 --output_root TCGA-DU-5852_adc\n",
      "====================\n",
      "/working/lupolab/julia/tcia_analysis/datasets/TCGA-LGG/TCGA-DU-7300/08-14-1991-MRI_BRAIN_WWO_CONTRAST-33968/diffusion_b=1000\n",
      "nifti_file_convert --input TCGA-DU-7300_1000_adc.idf --output /working/lupolab/julia/tcia_analysis/datasets/TCGA-LGG-nifti/TCGA-DU-7300/08-14-1991-MRI_BRAIN_WWO_CONTRAST-33968 --output_root TCGA-DU-7300_adc\n",
      "====================\n",
      "/working/lupolab/julia/tcia_analysis/datasets/TCGA-LGG/TCGA-DU-8166/03-22-1997-MRI_BRAIN_WWO_CONTRAST-94974/diffusion_b=1000\n",
      "nifti_file_convert --input TCGA-DU-8166_1000_adc.idf --output /working/lupolab/julia/tcia_analysis/datasets/TCGA-LGG-nifti/TCGA-DU-8166/03-22-1997-MRI_BRAIN_WWO_CONTRAST-94974 --output_root TCGA-DU-8166_adc\n",
      "====================\n",
      "/working/lupolab/julia/tcia_analysis/datasets/TCGA-LGG/TCGA-DU-A5TP/06-14-1997-MRI_BRAIN_WWO_CONTRAST-14542/diffusion_b=1000\n",
      "nifti_file_convert --input TCGA-DU-A5TP_1000_adc.idf --output /working/lupolab/julia/tcia_analysis/datasets/TCGA-LGG-nifti/TCGA-DU-A5TP/06-14-1997-MRI_BRAIN_WWO_CONTRAST-14542 --output_root TCGA-DU-A5TP_adc\n",
      "====================\n"
     ]
    },
    {
     "name": "stdout",
     "output_type": "stream",
     "text": [
      "/working/lupolab/julia/tcia_analysis/datasets/TCGA-LGG/TCGA-DU-7299/04-17-1991-MRI_BRAIN_WWO_CONTRAST-84114/diffusion_b=1000\n",
      "nifti_file_convert --input TCGA-DU-7299_1000_adc.idf --output /working/lupolab/julia/tcia_analysis/datasets/TCGA-LGG-nifti/TCGA-DU-7299/04-17-1991-MRI_BRAIN_WWO_CONTRAST-84114 --output_root TCGA-DU-7299_adc\n",
      "====================\n",
      "/working/lupolab/julia/tcia_analysis/datasets/TCGA-GBM/TCGA-06-1806/02-27-2008-MRI_BRAIN_WWO_CONTRAST-78379/diffusion_b=1000\n",
      "nifti_file_convert --input TCGA-06-1806_1000_adc.idf --output /working/lupolab/julia/tcia_analysis/datasets/TCGA-GBM-nifti/TCGA-06-1806/02-27-2008-MRI_BRAIN_WWO_CONTRAST-78379 --output_root TCGA-06-1806_adc\n",
      "====================\n"
     ]
    }
   ],
   "source": [
    "for idx, row in dti_to_convert_to_nifti.iterrows():\n",
    "    \n",
    "    patient_id = row['patient_id']\n",
    "    exam = row['exam']\n",
    "\n",
    "    root = Path(\"/working/lupolab/julia/tcia_analysis/datasets/\")\n",
    "    output_cohort = row['cohort']\n",
    "    input_cohort = '-'.join(row['cohort'].split('-')[:-1])\n",
    "    \n",
    "    os.chdir(Path(root, input_cohort, patient_id, exam)) \n",
    "    diffusion_folder = glob.glob('diffusion_b=*')[0]\n",
    "    os.chdir(diffusion_folder)\n",
    "    print(os.getcwd())\n",
    "#     if glob.glob('*adc.idf'): \n",
    "    adc_idf_file = glob.glob('*adc.idf')[0]\n",
    "    \n",
    "    command = 'nifti_file_convert --input '+adc_idf_file+' --output '+str(root)+'/'+output_cohort+'/'+patient_id+\"/\"+exam+' --output_root '+patient_id+'_adc'\n",
    "    print(command)\n",
    "    print('====================')\n",
    "    \n",
    "    sub.call(command, shell = True)"
   ]
  },
  {
   "cell_type": "markdown",
   "metadata": {},
   "source": [
    "## Let's see which of these \"missing\" diffusion already have processed ADC from the download: "
   ]
  },
  {
   "cell_type": "code",
   "execution_count": 64,
   "metadata": {},
   "outputs": [
    {
     "name": "stdout",
     "output_type": "stream",
     "text": [
      "TCGA-06-0644 []\n",
      "TCGA-06-5412 []\n",
      "TCGA-06-0241 []\n",
      "TCGA-06-0878 []\n",
      "TCGA-06-0149 []\n",
      "TCGA-06-0143 []\n",
      "TCGA-06-0648 []\n",
      "TCGA-19-0955 ['7-MRHG_DIFFADC-81753', '7-MRHG_DIFFADC-81109']\n",
      "TCGA-06-1802 []\n",
      "TCGA-06-0139 []\n",
      "TCGA-06-5413 []\n",
      "TCGA-06-0133 ['500-Average_DC-93686']\n",
      "TCGA-06-0178 ['104-ADC_Slope-55332']\n",
      "TCGA-06-0646 []\n",
      "TCGA-06-0188 ['500-Average_DC-59999']\n",
      "TCGA-19-2624 ['7-DTIADC-43987', '5-MRHR_DIFF_IPATADC-07518']\n",
      "TCGA-08-0360 []\n"
     ]
    }
   ],
   "source": [
    "for patient in missing_diffusion: \n",
    "    exam = str(final_dti_subset.loc[final_dti_subset.patient_id == patient].exam).split()[1]\n",
    "    series_in_exam = os.listdir('/working/lupolab/julia/tcia_analysis/datasets/TCGA-GBM/'+patient+'/'+exam)\n",
    "    adc = [x for x in series_in_exam if 'adc' in x.lower() or 'apparent' in x.lower() or 'average' in x.lower()]\n",
    "    print(patient, adc)"
   ]
  },
  {
   "cell_type": "code",
   "execution_count": 12,
   "metadata": {},
   "outputs": [],
   "source": [
    "patient = missing_diffusion[0]"
   ]
  },
  {
   "cell_type": "code",
   "execution_count": 13,
   "metadata": {},
   "outputs": [],
   "source": [
    "exam = final_dti_subset.loc[final_dti_subset.patient_id == patient]['exam']"
   ]
  },
  {
   "cell_type": "code",
   "execution_count": 46,
   "metadata": {},
   "outputs": [
    {
     "data": {
      "text/plain": [
       "'11-28-2005-78030'"
      ]
     },
     "execution_count": 46,
     "metadata": {},
     "output_type": "execute_result"
    }
   ],
   "source": [
    "str(final_dti_subset.loc[final_dti_subset.patient_id == patient].exam).split()[1]"
   ]
  },
  {
   "cell_type": "code",
   "execution_count": null,
   "metadata": {},
   "outputs": [],
   "source": []
  }
 ],
 "metadata": {
  "kernelspec": {
   "display_name": "Fastai SVCF",
   "language": "python",
   "name": "fastai"
  },
  "language_info": {
   "codemirror_mode": {
    "name": "ipython",
    "version": 3
   },
   "file_extension": ".py",
   "mimetype": "text/x-python",
   "name": "python",
   "nbconvert_exporter": "python",
   "pygments_lexer": "ipython3",
   "version": "3.7.2"
  }
 },
 "nbformat": 4,
 "nbformat_minor": 2
}
