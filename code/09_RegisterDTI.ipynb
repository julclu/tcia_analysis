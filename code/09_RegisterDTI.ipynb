{
 "cells": [
  {
   "cell_type": "code",
   "execution_count": 4,
   "metadata": {},
   "outputs": [],
   "source": [
    "import os \n",
    "import glob\n",
    "from pathlib import Path\n",
    "import pandas as pd \n",
    "import numpy as np \n",
    "import ast\n",
    "import json "
   ]
  },
  {
   "cell_type": "code",
   "execution_count": 2,
   "metadata": {},
   "outputs": [],
   "source": [
    "map_dti = pd.read_csv('/working/lupolab/julia/tcia_analysis/code/dti_seg_map.csv', index_col = 0)"
   ]
  },
  {
   "cell_type": "code",
   "execution_count": 3,
   "metadata": {},
   "outputs": [
    {
     "data": {
      "text/html": [
       "<div>\n",
       "<style scoped>\n",
       "    .dataframe tbody tr th:only-of-type {\n",
       "        vertical-align: middle;\n",
       "    }\n",
       "\n",
       "    .dataframe tbody tr th {\n",
       "        vertical-align: top;\n",
       "    }\n",
       "\n",
       "    .dataframe thead th {\n",
       "        text-align: right;\n",
       "    }\n",
       "</style>\n",
       "<table border=\"1\" class=\"dataframe\">\n",
       "  <thead>\n",
       "    <tr style=\"text-align: right;\">\n",
       "      <th></th>\n",
       "      <th>cohort</th>\n",
       "      <th>dti</th>\n",
       "      <th>exam</th>\n",
       "      <th>patient_id</th>\n",
       "      <th>segmentation_name</th>\n",
       "    </tr>\n",
       "  </thead>\n",
       "  <tbody>\n",
       "    <tr>\n",
       "      <th>0</th>\n",
       "      <td>TCGA-LGG-nifti</td>\n",
       "      <td>['400-DTI_2.6mm_WH-19253.nii.gz', '4-DTI_2.6mm...</td>\n",
       "      <td>08-23-1995-MRI_BRAIN_WWO_CONTRAST-78436</td>\n",
       "      <td>TCGA-DU-5853</td>\n",
       "      <td>11-AX_T1_POST_GD_FLAIR-81300a_n</td>\n",
       "    </tr>\n",
       "    <tr>\n",
       "      <th>1</th>\n",
       "      <td>TCGA-LGG-nifti</td>\n",
       "      <td>['205-dadc-52244.nii.gz']</td>\n",
       "      <td>06-01-2000-MRI_BRAIN_per_R-97608</td>\n",
       "      <td>TCGA-CS-6186</td>\n",
       "      <td>1001-T1_SE_POST-94212a_n</td>\n",
       "    </tr>\n",
       "    <tr>\n",
       "      <th>2</th>\n",
       "      <td>TCGA-LGG-nifti</td>\n",
       "      <td>['12-ep2ddiffmddw20p2_wipADC-35015.nii.gz', '1...</td>\n",
       "      <td>04-23-2004-NR_MRI_BRAIN_WWO-08141</td>\n",
       "      <td>TCGA-FG-A6J1</td>\n",
       "      <td>20-T1fl2dAx__Gd-43129a_n</td>\n",
       "    </tr>\n",
       "    <tr>\n",
       "      <th>3</th>\n",
       "      <td>TCGA-LGG-nifti</td>\n",
       "      <td>['601-DTI_ASSET-84919.nii.gz', '600-DTI_ASSET-...</td>\n",
       "      <td>06-18-1989-MRI_BRAIN_WWO_CONTRAS-16160</td>\n",
       "      <td>TCGA-DU-7015</td>\n",
       "      <td>10-AX_T1_POST_GD_FLAIR-19430a_n</td>\n",
       "    </tr>\n",
       "    <tr>\n",
       "      <th>4</th>\n",
       "      <td>TCGA-LGG-nifti</td>\n",
       "      <td>['501-DTI_2.6mm_WH-21034.nii.gz', '5-DTI_2.6mm...</td>\n",
       "      <td>01-11-1997-MRI_BRAIN_WWO_CONTRAST-98366</td>\n",
       "      <td>TCGA-DU-8164</td>\n",
       "      <td>10-AX_T1_POST_GD_FLAIR-02819a_n</td>\n",
       "    </tr>\n",
       "  </tbody>\n",
       "</table>\n",
       "</div>"
      ],
      "text/plain": [
       "           cohort                                                dti  \\\n",
       "0  TCGA-LGG-nifti  ['400-DTI_2.6mm_WH-19253.nii.gz', '4-DTI_2.6mm...   \n",
       "1  TCGA-LGG-nifti                          ['205-dadc-52244.nii.gz']   \n",
       "2  TCGA-LGG-nifti  ['12-ep2ddiffmddw20p2_wipADC-35015.nii.gz', '1...   \n",
       "3  TCGA-LGG-nifti  ['601-DTI_ASSET-84919.nii.gz', '600-DTI_ASSET-...   \n",
       "4  TCGA-LGG-nifti  ['501-DTI_2.6mm_WH-21034.nii.gz', '5-DTI_2.6mm...   \n",
       "\n",
       "                                      exam    patient_id  \\\n",
       "0  08-23-1995-MRI_BRAIN_WWO_CONTRAST-78436  TCGA-DU-5853   \n",
       "1         06-01-2000-MRI_BRAIN_per_R-97608  TCGA-CS-6186   \n",
       "2        04-23-2004-NR_MRI_BRAIN_WWO-08141  TCGA-FG-A6J1   \n",
       "3   06-18-1989-MRI_BRAIN_WWO_CONTRAS-16160  TCGA-DU-7015   \n",
       "4  01-11-1997-MRI_BRAIN_WWO_CONTRAST-98366  TCGA-DU-8164   \n",
       "\n",
       "                 segmentation_name  \n",
       "0  11-AX_T1_POST_GD_FLAIR-81300a_n  \n",
       "1         1001-T1_SE_POST-94212a_n  \n",
       "2         20-T1fl2dAx__Gd-43129a_n  \n",
       "3  10-AX_T1_POST_GD_FLAIR-19430a_n  \n",
       "4  10-AX_T1_POST_GD_FLAIR-02819a_n  "
      ]
     },
     "execution_count": 3,
     "metadata": {},
     "output_type": "execute_result"
    }
   ],
   "source": [
    "map_dti.head()"
   ]
  },
  {
   "cell_type": "markdown",
   "metadata": {},
   "source": [
    "## Here we're going to figure out which came with preprocessed ADC: "
   ]
  },
  {
   "cell_type": "code",
   "execution_count": 8,
   "metadata": {},
   "outputs": [],
   "source": [
    "map_dti['adc'] = ['' for x in range(map_dti.shape[0])]"
   ]
  },
  {
   "cell_type": "code",
   "execution_count": 22,
   "metadata": {},
   "outputs": [],
   "source": [
    "for idx, row in map_dti.iterrows(): \n",
    "    list_of_dti = ast.literal_eval(row['dti'])\n",
    "    adc_list = [x for x in list_of_dti if 'adc' in x.lower() or 'apparent' in x.lower() or 'coeff' in x.lower() or 'average' in x.lower()]\n",
    "    if adc_list: \n",
    "        row['adc'] = adc_list\n",
    "    else: \n",
    "        row['adc'] = float(\"NaN\")"
   ]
  },
  {
   "cell_type": "code",
   "execution_count": 25,
   "metadata": {},
   "outputs": [
    {
     "data": {
      "text/plain": [
       "False    70\n",
       "True     68\n",
       "Name: adc, dtype: int64"
      ]
     },
     "execution_count": 25,
     "metadata": {},
     "output_type": "execute_result"
    }
   ],
   "source": [
    "map_dti['adc'].isnull().value_counts()"
   ]
  },
  {
   "cell_type": "code",
   "execution_count": 35,
   "metadata": {},
   "outputs": [
    {
     "data": {
      "text/html": [
       "<div>\n",
       "<style scoped>\n",
       "    .dataframe tbody tr th:only-of-type {\n",
       "        vertical-align: middle;\n",
       "    }\n",
       "\n",
       "    .dataframe tbody tr th {\n",
       "        vertical-align: top;\n",
       "    }\n",
       "\n",
       "    .dataframe thead th {\n",
       "        text-align: right;\n",
       "    }\n",
       "</style>\n",
       "<table border=\"1\" class=\"dataframe\">\n",
       "  <thead>\n",
       "    <tr style=\"text-align: right;\">\n",
       "      <th></th>\n",
       "      <th>cohort</th>\n",
       "      <th>dti</th>\n",
       "      <th>exam</th>\n",
       "      <th>patient_id</th>\n",
       "      <th>segmentation_name</th>\n",
       "      <th>adc</th>\n",
       "    </tr>\n",
       "  </thead>\n",
       "  <tbody>\n",
       "    <tr>\n",
       "      <th>0</th>\n",
       "      <td>TCGA-LGG-nifti</td>\n",
       "      <td>['400-DTI_2.6mm_WH-19253.nii.gz', '4-DTI_2.6mm...</td>\n",
       "      <td>08-23-1995-MRI_BRAIN_WWO_CONTRAST-78436</td>\n",
       "      <td>TCGA-DU-5853</td>\n",
       "      <td>11-AX_T1_POST_GD_FLAIR-81300a_n</td>\n",
       "      <td>NaN</td>\n",
       "    </tr>\n",
       "    <tr>\n",
       "      <th>1</th>\n",
       "      <td>TCGA-LGG-nifti</td>\n",
       "      <td>['205-dadc-52244.nii.gz']</td>\n",
       "      <td>06-01-2000-MRI_BRAIN_per_R-97608</td>\n",
       "      <td>TCGA-CS-6186</td>\n",
       "      <td>1001-T1_SE_POST-94212a_n</td>\n",
       "      <td>[205-dadc-52244.nii.gz]</td>\n",
       "    </tr>\n",
       "    <tr>\n",
       "      <th>2</th>\n",
       "      <td>TCGA-LGG-nifti</td>\n",
       "      <td>['12-ep2ddiffmddw20p2_wipADC-35015.nii.gz', '1...</td>\n",
       "      <td>04-23-2004-NR_MRI_BRAIN_WWO-08141</td>\n",
       "      <td>TCGA-FG-A6J1</td>\n",
       "      <td>20-T1fl2dAx__Gd-43129a_n</td>\n",
       "      <td>[12-ep2ddiffmddw20p2_wipADC-35015.nii.gz, 10-D...</td>\n",
       "    </tr>\n",
       "    <tr>\n",
       "      <th>3</th>\n",
       "      <td>TCGA-LGG-nifti</td>\n",
       "      <td>['601-DTI_ASSET-84919.nii.gz', '600-DTI_ASSET-...</td>\n",
       "      <td>06-18-1989-MRI_BRAIN_WWO_CONTRAS-16160</td>\n",
       "      <td>TCGA-DU-7015</td>\n",
       "      <td>10-AX_T1_POST_GD_FLAIR-19430a_n</td>\n",
       "      <td>NaN</td>\n",
       "    </tr>\n",
       "    <tr>\n",
       "      <th>4</th>\n",
       "      <td>TCGA-LGG-nifti</td>\n",
       "      <td>['501-DTI_2.6mm_WH-21034.nii.gz', '5-DTI_2.6mm...</td>\n",
       "      <td>01-11-1997-MRI_BRAIN_WWO_CONTRAST-98366</td>\n",
       "      <td>TCGA-DU-8164</td>\n",
       "      <td>10-AX_T1_POST_GD_FLAIR-02819a_n</td>\n",
       "      <td>NaN</td>\n",
       "    </tr>\n",
       "  </tbody>\n",
       "</table>\n",
       "</div>"
      ],
      "text/plain": [
       "           cohort                                                dti  \\\n",
       "0  TCGA-LGG-nifti  ['400-DTI_2.6mm_WH-19253.nii.gz', '4-DTI_2.6mm...   \n",
       "1  TCGA-LGG-nifti                          ['205-dadc-52244.nii.gz']   \n",
       "2  TCGA-LGG-nifti  ['12-ep2ddiffmddw20p2_wipADC-35015.nii.gz', '1...   \n",
       "3  TCGA-LGG-nifti  ['601-DTI_ASSET-84919.nii.gz', '600-DTI_ASSET-...   \n",
       "4  TCGA-LGG-nifti  ['501-DTI_2.6mm_WH-21034.nii.gz', '5-DTI_2.6mm...   \n",
       "\n",
       "                                      exam    patient_id  \\\n",
       "0  08-23-1995-MRI_BRAIN_WWO_CONTRAST-78436  TCGA-DU-5853   \n",
       "1         06-01-2000-MRI_BRAIN_per_R-97608  TCGA-CS-6186   \n",
       "2        04-23-2004-NR_MRI_BRAIN_WWO-08141  TCGA-FG-A6J1   \n",
       "3   06-18-1989-MRI_BRAIN_WWO_CONTRAS-16160  TCGA-DU-7015   \n",
       "4  01-11-1997-MRI_BRAIN_WWO_CONTRAST-98366  TCGA-DU-8164   \n",
       "\n",
       "                 segmentation_name  \\\n",
       "0  11-AX_T1_POST_GD_FLAIR-81300a_n   \n",
       "1         1001-T1_SE_POST-94212a_n   \n",
       "2         20-T1fl2dAx__Gd-43129a_n   \n",
       "3  10-AX_T1_POST_GD_FLAIR-19430a_n   \n",
       "4  10-AX_T1_POST_GD_FLAIR-02819a_n   \n",
       "\n",
       "                                                 adc  \n",
       "0                                                NaN  \n",
       "1                            [205-dadc-52244.nii.gz]  \n",
       "2  [12-ep2ddiffmddw20p2_wipADC-35015.nii.gz, 10-D...  \n",
       "3                                                NaN  \n",
       "4                                                NaN  "
      ]
     },
     "execution_count": 35,
     "metadata": {},
     "output_type": "execute_result"
    }
   ],
   "source": [
    "map_dti.head()"
   ]
  },
  {
   "cell_type": "markdown",
   "metadata": {},
   "source": [
    "## Here are the manually processed DTI: "
   ]
  },
  {
   "cell_type": "code",
   "execution_count": 54,
   "metadata": {},
   "outputs": [
    {
     "name": "stdout",
     "output_type": "stream",
     "text": [
      "['3-SAG_T1_FLAIR-94337', '4-DTI_2.6mm_WH-81596', '12-COR__T1_POST_GD_FLAIR-32689', '401-DTI_2.6mm_WH-97906', 'final_dti_subset.csv', '7-AX_T2_FR-FSE_RF2_150-55295', '10-3D_DCE_DYNAMIC_PERF-61302', '11-AX_T1_POST_GD_FLAIR-81300', '6-AXIAL_FLAIR-84159', '5-AXIAL_DIFFUSION-35619', 'diffusion_b=1000', '8-AX_T1_pre_gd-14019', '400-DTI_2.6mm_WH-19253', '9-3D_DCE_T1_MAP-73753', 'Logfile', '402-DTI_2.6mm_WH-69647']\n",
      "['1101-STRYKER-27064', '605-MRA-59702', '701-AX_PD-23493', '201-DIFFUSION-10198', '301-T1_SAG_SE-41348', '101-SurveyMST-18717', '1201-T1_COR_POST-35170', '801-T2WFFE_bleed-67839', '1301-T1_SAG_POST-08017', '603-RT___MRA-44425', '602-3D_MC__MRA-83030', '901-T1_SE_PRE-16483', '401-T2_AX_FLAIR-72445', '501-T2-WHOLE_BRAIN-32557', '203-eB_0-99844', '205-dadc-52244', '204-eB1000I-81870', '601-3D_MC__MRA-29688', '202-Reg_-_DIFFUSION_SENSE-00561', '1001-T1_SE_POST-94212', '604-LT___MRA-27206']\n",
      "['13-ep2ddiffmddw20p2_wipTRACEW-63745', '11-ep2ddiffmddw20p2_wip-78279', '15-ep2ddiffmddw20p2_wipColFA-13380', '19-T1mprageAx_Gd-83585', '17-FLAIR_axial-36217', '20-T1fl2dAx__Gd-43129', '22-T1fl2dSag_Gd-23150', '2-T2_axial-49770', '21-T1_Se__Cor_Gd-90785', '18-T1tiraxial-48554', '9-DiffusionTRACEW-28179', '14-ep2ddiffmddw20p2_wipFA-71233', '1-localizer-97201', '12-ep2ddiffmddw20p2_wipADC-35015', '10-DiffusionADC-68763']\n",
      "['3-SAG_T1_FLAIR-85518', '601-DTI_ASSET-84919', '10-AX_T1_POST_GD_FLAIR-19430', '602-DTI_ASSET-87691', '7-AX_T1_pre_gd-93841', 'Logfile', '8-AXIAL_FLAIR-42112', '600-DTI_ASSET-07696', '4-AXIAL_DIFFUSION-75697', '5-AX_T2_FR-FSE_RF2_150-98258', 'diffusion_b=1000', '1-3_PLANE_LOC-47544', '9-AXIAL_PERFUSION-82605', '6-DTI_ASSET-60836', '2-ASSET_cal-62707']\n",
      "['502-DTI_2.6mm_WH-17893', '11-COR__T1_POST_GD_FLAIR-90691', '2-ASSET_cal-34016', 'diffusion_b=1000', 'Logfile', '8-AX_T1_pre_gd-39637', '5-DTI_2.6mm_WH-89883', '7-AX_T2_FR-FSE_RF2_150-94767', '9-AXIAL_PERFUSION-65144', '6-AXIAL_DIFFUSION-45058', '3-SAG_T1_FLAIR-50361', '500-DTI_2.6mm_WH-85224', '1-3_PLANE_LOC-57309', '501-DTI_2.6mm_WH-21034', '10-AX_T1_POST_GD_FLAIR-02819', '4-AXIAL_FLAIR-03012']\n",
      "['5-AXIAL_FLAIR-79506', '4-AX_T2_FR-FSE_RF2_150-34223', '800-DTI_2.6mm_WH-28335', '601-Apparent_Diffusion_Coefficient_mms-21763', '8-DTI_2.6mm_WH-91398', '11-COR_T1_POST_GD_FLAIR-08356', '600-Exponential_Apparent_Diffusion_Coefficient-07232', '802-DTI_2.6mm_WH-35614', '7-AX_T1_pre_gd-73601', '3-SAG_T1_FLAIR-52043', '1-3_PLANE_LOC-04031', '10-AX_T1_POST_GD_FLAIR-23755', '9-AXIAL_PERFUSION-45650', '2-ASSET_cal-48836', '801-DTI_2.6mm_WH-18664', '6-AXIAL_DIFFUSION-04398']\n",
      "['8-COR_GRE_T2-03371', '3-SAG_T1-29597', '11-COR_T1C-37414', '12-CAX_3D_SPGR-37353', '5-AX_T1-70448', '7-Ax_Flair_irFSE_H-59891', '4-Ax_DW_DW-EPI_S_b1000T2-04509', '6-Prop_T2_TRF-66950', '902-PROP_COMB-57275', '901-PROP_eADC-05038', '10-SAG_T1C-39537', '400-Exponential_Apparent_Diffusion_Coefficient-44278', '401-Apparent_Diffusion_Coefficient_mms-88471', '9-Prop_DWI-26548', '900-PROP_ADC-74032', '1-3-pl_T2_FGRE_S-20280']\n",
      "['15-Axial_T1_FSE_Post_Gad-17816', '6-Sag_T1_FSE-01686', '12-Axial_DWI-91472', '8-Axial_T2_GE-38145', '16-Cor_T1_FSE_Post_Gad-20866', '10-Axial_FLAIR-13367', '9-Axial_T1_FSE-06321', '2-Scanogram_SCA-10876', '13-Axial_DWI-76635', '7-Axial_T2_FSE_Hi-Res-16668', '14-Sag_T1_FSE_Post_Gad-03305', '1-Scanogram_SCA-21199', '11-Axial_DWI-11211', '3-Scanogram_SCA-19438']\n",
      "['8-AXIAL_FLAIR-03695', '1-3_PLANE_LOC-69347', '10-3D_DCE_T1_MAP-70935', '5-AX_T2_FR-FSE_RF2_150-58001', '3-SAG_T1_FLAIR-53490', '601-DTI_2.6mm_WH-10084', '7-AXIAL_DIFFUSION-74925', 'diffusion_b=1000', 'Logfile', '13-COR__T1_POST_GD_FLAIR-85227', '600-DTI_2.6mm_WH-87851', '4-AX_T2_FR-FSE_RF2_150-98081', '12-AX_T1_POST_GD_FLAIR-07772', '9-AX_T1_pre_gd-63205', '602-DTI_2.6mm_WH-39405', '2-ASSET_cal-38312', '6-DTI_2.6mm_WH-60904', '11-3D_DCE_DYNAMIC_PERF-65938']\n",
      "['12-AXIAL_PERFUSION-99016', 'Logfile', '10-AX_T1_pre_gd-00693', '8-AXIAL_FLAIR-28777', '9-AXIAL_DIFFUSION-90314', 'diffusion_b=1000', '14-COR__T1_POST_GD_FLAIR-46276', '5-AX_T2_FR-FSE_RF2_150-91572', '11-DTI_ASSET-81799', '1101-DTI_ASSET-20961', '6-SWI7311-80269', '3-SAG_T1_FLAIR-61309', '1100-DTI_ASSET-99068', '13-AX_T1_POST_GD_FLAIR-47091', '1102-DTI_ASSET-91358']\n",
      "['7-T1AXMPRSEL3D-32845', '5-FLAIRAX-51397', '6-T2AXTSE3MM-FS-85237', '3-ep2ddiff3scantrace-41839', '4-ep2ddiff3scantraceADC-62120', '10-T1AXMPRSEL3D-83348', '9-T1SAGTSEFCREAD-49659', '11-T1CORSEFLOWCOMP-64394', '2-T1SAG-46961']\n",
      "['201-Survey-95026', '1104-POST_COR_T1__3MM-18541', '803-isoB_1000_I-08016', '401-SAG_T1WIRTSE-67083', '804-dADC-77881', '802-Reg_-_DTIhighiso_SENSE-68443', '1102-POST_AX_T1_BRAIN_LAB_1MM-92596', '1001-Post_AX_T1WIRTSE-80861', '801-DTI15_direction-73979', '701-AX_T1WIRTSE-19980', '806-facFA_COLOR-73511', '805-faFA-57340', '601-FLAIRLongTR-81161', '1101-POST_SAG_T1_3d-44147', '901-PERF_FEEPI_20_TE-69563', '1103-POST_AX_T1__3MM-87638', '501-AX_T2WDRIVE-96018']\n",
      "['702-DTI_ASSET-42058', '701-DTI_ASSET-44321', '7-DTI_ASSET-56632', '10-AXIAL_PERFUSION-23519', 'Logfile', 'diffusion_b=1000', '3-SAG_T1_FLAIR-67322', '11-AX_T1_POST_GD_FLAIR-45183', '4-AXIAL_DIFFUSION-03802', '700-DTI_ASSET-46062', '8-AX_T1_pre_gd-53768', '6-AX_T2_FR-FSE_RF2_150-85470', '1-3_PLANE_LOC-08934', '5-AXIAL_FLAIR-46378', '2-ASSET_cal-30574', '12-COR__T1_POST_GD_FLAIR-19937']\n",
      "['801-DTI_ASSET-06206', '12-COR__T1_POST_GD_FLAIR-61815', '802-DTI_ASSET-38005', 'Logfile', '800-DTI_ASSET-30557', '9-AX_T1_pre_gd-28619', '5-AXIAL_DIFFUSION-19530', 'diffusion_b=1000', '11-AX_T1_POST_GD_FLAIR-17891', '6-AXIAL_FLAIR-72811', '7-AX_T2_FR-FSE_RF2_150-41748', '3-ASSET_cal-05437', '2-3_PLANE_LOC-65439', '1-3_PLANE_LOC-09999', '10-AXIAL_PERFUSION-23734', '8-DTI_ASSET-10129', '4-SAG_T1_FLAIR-70041']\n",
      "['1201-Post_AX_T1WIRTSE-59024', '904-dADC-27431', '1303-POST_AX_T1__3MM-19967', '501-SAG_T1WIRTSE-21801', '1301-POST_SAG_T1_3d-42344', '906-facFA_COLOR-29761', '1304-POST_COR_T1__3MM-66680', '903-isoB_1000_I-70117', '701-FLAIRLongTR-51998', '1001-PERF_FEEPI_20_TE-38829', '905-faFA-24307', '1101-Post_AX_T1WIRTSE-31975', '801-AX_T1WIRTSE-45170', '301-Survey_NO_PAD-99658', '1302-POST_AX_T1_BRAIN_LAB_1MM-00396', '601-AX_T2WDRIVE-52058']\n",
      "['3-EPI_DWI-29447', '7-Ax_T1_MP_SPGR-34231', '11-C_Ax_T1_MP_SPGR-45507', '8-T2_Propeller-31173', '300-Exponential_Apparent_Diffusion_Coefficient-75381', '5-AXIAL_T2_FLAIR-50069', '9-C_SAG_T1_SE-69743', '4-Sag_T2_FSE-77144', '1-3-PLocalizer-03398', '10-C_COR_T1_SE-51918', '6-Cor_2D_T2GRE-76577', '301-Apparent_Diffusion_Coefficient_mms-50200']\n",
      "['7-Ax_Flair_irFSE_H-86866', '6-3-pl_T2_FGRE_S-22053', '5-AX_T1-26909', '12-SAG_T1C-20268', '300-Exponential_Apparent_Diffusion_Coefficient-43956', '9-Prop_T2_TRF-58349', '301-Apparent_Diffusion_Coefficient_mms-13146', '11-AX_3D_SPGR-99436', '3-Ax_DW_DW-EPI_S_b1000T2-54743', '8-COR_GRE_T2-88988', '4-SAG_T1-61269', '1-3-pl_T2_FGRE_S-26156', '10-COR_T1C-01198']\n",
      "['11-AX_T1_POST_GD_FLAIR-63849', '10-3D_DCE_DYNAMIC_PERF-96846', '12-COR__T1_POST_GD_FLAIR-51059', '7-AX_T2_FR-FSE_RF2_150-65483', 'diffusion_b=1000', '400-DTI_2.6mm_WH-62373', '6-AXIAL_FLAIR-22910', 'Logfile', '3-SAG_T1_FLAIR-41276', '9-3D_DCE_T1_MAPPING_X_5-55274', '4-DTI_2.6mm_WH-26095', '402-DTI_2.6mm_WH-59663', '401-DTI_2.6mm_WH-77073', '5-AXIAL_DIFFUSION-12745', '8-AX_T1_pre_gd-75838', '2-ASSET_cal-86287', '1-3_PLANE_LOC-22914']\n",
      "['10-AX_T1_POST_GD_FLAIR-91295', '9-AXIAL_PERFUSION-82953', 'Logfile', '8-AX_T1_pre_gd-59554', '700-DTI_ASSET-80660', '6-AX_T2_FR-FSE_RF2_150-57817', '702-DTI_ASSET-04630', '11-COR__T1_POST_GD_FLAIR-83173', '1-3_PLANE_LOC-62164', 'diffusion_b=1000', '2-ASSET_cal-72123', '7-DTI_ASSET-27118', '3-SAG_T1_FLAIR-80825', '4-AXIAL_DIFFUSION-84154', '701-DTI_ASSET-02051', '5-AXIAL_FLAIR-43201']\n",
      "['12-COR_T1C-86657', '300-Exponential_Apparent_Diffusion_Coefficient-82659', '5-AX_T1-06545', '902-PROP_COMB-98499', '11-AX_T1C-14217', '8-COR_GRE_T2-50000', '7-Ax_Flair_irFSE_H-82301', '900-PROP_ADC-21084', '901-PROP_eADC-80275', '9-Prop_DWI-48943', '13-CAX_3D_SPGR-47898', '3-Ax_DW_DW-EPI_S_b1000T2-84338', '6-Prop_T2_TRF-82823', '10-SAG_T1C-88145', '301-Apparent_Diffusion_Coefficient_ms-22763', '4-SAG_T1-56298']\n",
      "['15-SAG_T1_SEC-28402', '1401-Apparent_Diffusion_Coefficient_mms-12637', '14-2D_EPI_DWI_ASSET-50533', '8-T2Prop-97284', '501-PROP_eADC-44553', '7-Ax_T2_Flair-25684', '500-PROP_ADC-33609', '13-Ax_T1_MP_SPGR_C-64481', '11-COR_T1_SEC-12641', '4-Sag_T2_FSE-92782', '1400-Exponential_Apparent_Diffusion_Coefficient-13771', '10-Cor_2D_T2GRE-76525', '9-Ax_T1_SE-48997', '502-PROP_COMB-42349', '6-OPTIONALAx_T2_FSE_INTER-50083', '5-8hrbrainAx2DZoomDWIProp-92850']\n",
      "['4-DTI_2.6mm_WH-00936', '10-AX_T1_POST_GD_FLAIR-74207', '7-AX_T2_FR-FSE_RF2_150-02988', 'diffusion_b=1000', '11-COR__T1_POST_GD_FLAIR-50801', '1-3_PLANE_LOC-44485', '6-AXIAL_FLAIR-25902', '5-AXIAL_DIFFUSION-32196', '9-AXIAL_PERFUSION-04494', '3-SAG_T1_FLAIR-32472', '402-DTI_2.6mm_WH-66929', '2-ASSET_cal-29345', '400-DTI_2.6mm_WH-39403', '401-DTI_2.6mm_WH-56261', '8-AX_T1_pre_gd-36450', 'Logfile']\n",
      "['10-3D_DCE_T1_MAPPING_X_5-75063', '2-3_PLANE_LOC-07157', 'diffusion_b=1000', '12-AX_T1_POST_GD_FLAIR-53586', '13-COR__T1_POST_GD_FLAIR-06706', '5-DTI_2.6mm_WH-75602', '8-AXIAL_FLAIR-05561', '6-AXIAL_DIFFUSION-49261', '502-DTI_2.6mm_WH-25208', '7-AX_T2_FR-FSE_RF2_150-91281', '501-DTI_2.6mm_WH-33997', 'Logfile', '11-3D_DCE_DYNAMIC_PERF-58958', '4-SAG_T1_FLAIR-99197', '9-AX_T1_pre_gd-21019', '3-ASSET_cal-41727', '1-3_PLANE_LOC-74330', '500-DTI_2.6mm_WH-08128']\n",
      "['8-AX_T1_pre_gd-17760', '6-AXIAL_DIFFUSION-99891', 'diffusion_b=1000', '2-ASSET_cal-07308', 'Logfile', '501-DTI_2.6mm_WH-97002', '10-3D_DCE_DYNAMIC_PERF-31397', '9-3D_DCE_T1_MAP-91203', '1-3_PLANE_LOC-98985', '11-AX_T1_POST_GD_FLAIR-99692', '500-DTI_2.6mm_WH-13767', '3-SAG_T1_FLAIR-66609', '5-DTI_2.6mm_WH-03483', '4-AXIAL_FLAIR-35548', '502-DTI_2.6mm_WH-26661', '12-COR__T1_POST_GD_FLAIR-01253', '7-AX_T2_FR-FSE_RF2_150-10201']\n",
      "['3-SAG_T1-84614', '8-Ax_Flair_irFSE_H-57005', '12-AX_3D_SPGRC-76794', '702-PROP_COMB-12084', '4-Ax_DW_DW-EPI_S_b1000T2-57977', '401-Apparent_Diffusion_Coefficient_mms-85392', '700-PROP_ADC-27376', '5-AX_3D_SPGR-44386', '7-8hrbrainOb2DDWIProp-65267', '1-3-pl_T2_FGRE_S-69518', '13-COR_T1C-57156', '701-PROP_eADC-33415', '10-COR_GRE_T2-78331', '6-Prop_T2_TRF-35426', '400-Exponential_Apparent_Diffusion_Coefficient-17482', '9-COR_GRE_T2-75537', '11-SAG_T1C-73151']\n",
      "['902-PROP_COMB-40524', '3-Ax_DW_DW-EPI_S_b1000T2-37620', '9-Prop_DWI-24618', '900-PROP_ADC-04404', '301-Apparent_Diffusion_Coefficient_ms-12762', '1-3-pl_T2_FGRE_S-47067', '5-AX_T1-32031', '300-Exponential_Apparent_Diffusion_Coefficient-63782', '6-Prop_T2_TRF-32901', '11-CAX_3D_SPGR-24306', '12-CCOR_T1-17511', '8-COR_GRE_T2-79047', '901-PROP_eADC-86374', '10-CSAG_T1-31192', '4-SAG_T1-27239', '7-Ax_Flair_irFSE_H-18767']\n",
      "['12-T1AXMPRSEL3D-14364', '9-ep2dperftraRELCBV-89209', '13-T1CORSEFLOWCOMP-77825', '10-ep2dperftraRELCBF-65199', '5-FLAIRAXBLADE-18517', '3-ep2ddiff3scantrace-16099', '7-T1AXMPRSEL3D-04050', '12-ep2dperftraTTP-42919', '11-ep2dperftraRELMTT-82362', '2-T1SAG-13030', '4-ep2ddiff3scantraceADC-07569', '14-T1SAGTSEFCREAD-27124', '6-T2AXTSE3MM_FS-19167']\n",
      "['3-Ax_DW_DW-EPI_S_b1000T2-27380', '301-Apparent_Diffusion_Coefficient_mms-63156', '7-Prop_T2_TRF-59441', '4-SAG_T1-67777', '12-POST_Ax_T1_SE-36810', '10-SAG_T1C-70375', '300-Exponential_Apparent_Diffusion_Coefficient-73554', '11-COR_T1C-73894', '6-COR_GRE_T2-84363', '5-Ax_Flair_irFSE_H-64631', '1-3-pl_T2_FGRE_S-55967', '15-POST_AX_3D_SPGR-75871', '14-POSTCOR_T1_SE-25202', '8-AX_3D_SPGR-96980', '13-POST_SAG_T1_SE-43742', '9-REPEAT_AX_3D_SPGR-29355']\n"
     ]
    },
    {
     "name": "stdout",
     "output_type": "stream",
     "text": [
      "['9-MPRAGE_SAG__IPAT-86123', '2-MRHR_T2_AX-69038', '8-MRHR_DIFF_IPATADC-99808', '10-T1_AX-92227', '1-MRHR_SCOUT-74219', '13-MRHR_T1_AX_POST_GAD-66565', '11-MRHR_T1_AX_POST_GAD-48215', '102-MPR_SAG-29359', '12-MRHR_T1_COR_POST_GAD-78825', '5-MRHR_FLAIR_AX-17349', '4-MRHR_FLAIR_AX-42830', '7-MRHR_DIFF_IPAT-05020', '100-MPR_AX-95760', '101-MPR_COR-13800', '14-MRHR_T1_SAG_POST_GAD-79916']\n",
      "['3-2D_EPI_DWI_ASSET-62914', '7-T2Prop-24727', '12-COR_T1_SEC-59798', '11-C_Ax_T1_MP_SPGR-28808', '10-SAG_T1_SEC-31391', '5-Ax_T2_Flair-75934', '300-Exponential_Apparent_Diffusion_Coefficient-99753', '9-Ax_T1_MP_SPGR-99964', '8-Cor_2D_T2GRE-97249', '301-Apparent_Diffusion_Coefficient_mm2s-82769', '4-Sag_T2_FSE-04153', '6-Ax_T1_SE-88546']\n",
      "['9-8hrbrainAx2DDWIProp-96105', '900-PROP_ADC-27269', '5-AX_T1-38562', '11-COR_T1C-21635', '301-Apparent_Diffusion_Coefficient_mms-86725', '901-PROP_eADC-40494', '8-Prop_T2_TRF-14460', '7-COR_GRE_T2-97585', '10-SAG_T1C-56341', '12-CAX_3D_SPGR-92286', '3-Ax_DW_DW-EPI_S_b1000T2-78924', '4-SAG_T1-48081', '902-PROP_COMB-63435', '6-Ax_Flair_irFSE_H-95027', '300-Exponential_Apparent_Diffusion_Coefficient-80999', '1-3-pl_T2_FGRE_S-90578']\n",
      "['6-AXIAL_FLAIR-66613', '701-DTI_ASSET-86571', '8-AX_T1_pre_gd-40072', '3-SAG_T1_FLAIR-70866', '10-AX_T1_POST_GD_FLAIR-56964', '4-AXIAL_DIFFUSION-14977', '700-DTI_ASSET-93395', '11-COR__T1_POST_GD_FLAIR-09795', '702-DTI_ASSET-89416', '5-AX_T2_FR-FSE_RF2_150-68026', '9-AXIAL_PERFUSION-34460', '7-DTI_ASSET-15834', 'diffusion_b=1000', '2-ASSET_cal-71729', 'Logfile', '1-3_PLANE_LOC-50712']\n",
      "['9-Ax_T1_FS_BRAIN_POST-73660', '11-SAG_T1_POST-28698', '3-SAG_T1_LOC-67134', '8-AX_GRE_FOR_SUSCEPTIBILITY-17680', '1-3_Plane_Localizer-97573', '6-AX_FSE_T2-26661', '5-Ax_T1-31183', '400-Apparent_Diffusion_Coefficient_mms-64318', '10-COR_T1_POST_GAD-10915', '4-AX_DIFFUSION-47494', '7-AX_FLAIR-14614']\n",
      "['9-SAG_T1C-02261', '11-COR_T1C-40471', '4-Ax_DW_DW-EPI_S_b1000T2-69048', '5-AX_T1-98149', '6-Prop_T2_TRF-39183', '400-Exponential_Apparent_Diffusion_Coefficient-94908', '401-Apparent_Diffusion_Coefficient_mms-43198', '12-AX_T1C-63038', '3-SAG_T1-79570', '1-3-pl_T2_FGRE_S-41098', '8-COR_GRE_T2-79573', '7-Ax_Flair_irFSE_H-41436']\n",
      "['8-Prop_T2_TRF-52441', '6-Ax_Flair_irFSE_H-04644', '301-Apparent_Diffusion_Coefficient_mms-78619', '9-COR_T1C-19488', '10-SAG_T1C-36795', '11-AX_3D_SPGRC-47886', '4-SAG_T1-45660', '7-COR_GRE_T2-25606', '1-3-pl_T2_FGRE_S-12963', '3-Ax_DW_DW-EPI_S_b1000T2-98346', '300-Exponential_Apparent_Diffusion_Coefficient-19636', '5-AX_T1-01164']\n",
      "['4-AX_T2_FR-FSE_RF2_150-79703', '7-AXIAL_DIFFUSION-02078', 'Logfile', '6-AXIAL_FLAIR-44187', '12-AX_T1_POST_GD_FLAIR-75778', '13-COR__T1_POST_GD_FLAIR-63305', '9-3D_DCE_T1_MAP-28590', '5-DTI_2.6mm_WH-71175', '502-DTI_2.6mm_WH-46208', '501-DTI_2.6mm_WH-08666', '3-SAG_T1_FLAIR-00455', '500-DTI_2.6mm_WH-90540', '11-3D_DCE_DYNAMIC_PERF-57317', 'diffusion_b=1000', '10-AX_T1_pre_gd-82760', '8-AX_T1_pre_gd-90729']\n",
      "['8-2D_EPI_DWI_ASSET-35719', '2-Sag_T2_FSE-34418', '700-PROP_ADC-55886', '13-OPTIONALAx_T2_FSE_INTER-94190', '12-Ax_T1_MP_SPGR__GAD-05970', '701-PROP_eADC-50209', '7-DWIProp-49516', '14-COR_T1_SEC-48312', '702-PROP_COMB-25588', '5-Ax_T1_MP_SPGR_PRE_GAD-09555', '15-SAG_T1_SEC-42744', '9-Cor_2D_T2GRE-96117', '11-COR_T1_SEC-38050', '10-SAG_T1_SEC-63000', '4-Ax_T2_FSE-43427', '3-Ax_T2_Flair-18873', '1-3-PLocalizer-65963']\n",
      "['11-SAG_T1C-55726', '302-Exponential_Apparent_Diffusion_Coefficient-32853', '8-Prop_T2_TRF-10921', '4-Ax_Flair_irFSE_H-63620', '12-COR__T1C-83647', '1-3-pl_T2_FGRE_S-02294', '500-PROP_ADC-85619', '501-PROP_eADC-28261', '301-Apparent_Diffusion_Coefficient_mms-16056', '10-AX_3D_SPGR-56128', '6-SAG_T1-27504', '303-Apparent_Diffusion_Coefficient_mms-59074', '5-Prop_DWI-58193', '300-Exponential_Apparent_Diffusion_Coefficient-66907', '7-AX_T1-05806', '502-PROP_COMB-91629', '9-COR_GRE_T2-11320', '3-Ax_DW_DW-EPI_S_b1000T2-63614']\n",
      "['1-3_PLANE_LOC-23363', 'Logfile', '7-AXIAL_FLAIR-40636', '8-AX_T1_pre_gd-14297', '500-DTI_2.6mm_WH-14346', '3-SAG_T1_FLAIR-67751', 'diffusion_b=1000', '2-ASSET_cal-51671', '10-3D_DCE_T1_MAP-58677', '902-rt_cst-18486', '11-3D_DCE_DYNAMIC_PERF-17910', '501-DTI_2.6mm_WH-71695', '6-AXIAL_DIFFUSION-10947', '5-DTI_2.6mm_WH-36205', '13-COR__T1_POST_GD_FLAIR-94304', '502-DTI_2.6mm_WH-22321', '12-AX_T1_POST_GD_FLAIR-79320', '4-AX_T2_FR-FSE_RF2_150-98020']\n",
      "['401-SAG_T1WIRTSE-90972', '1201-POSTT1W3DTFE-13721', '201-Survey-21244', '501-AX_T2WDRIVE-07967', '1301-3DBrainViewT2SHC-81095', '1303-COR_T2_1MM-22625', '1305-AX_T2_1MM-15292', '901-DTI32_direction-50307', '1205-ax_t1_1mm-88684', '1101-Post_AX_T1WIRTSE-89300', '903-isoB_1000_I-35906', '701-AX_T1IRTSE5mm-01887', '801-Pre_AX_T1WIRTSE-03915', '905-faFA-93575', '904-dADC-59031', '1203-cor_t1_1mm-25994', '601-FLAIRLongTR-70500', '1001-PERF_FEEPI_20_TE-35190', '902-Reg_-_DTIhighiso_SENSE-34971', '906-facFA_COLOR-96030']\n",
      "['11-AX_T1_POST_GD_FLAIR-78295', '6-AXIAL_DIFFUSION-40225', '8-AX_T1_pre_gd-63463', '5-DTI_2.6mm_WH-31802', '10-3D_DCE_DYNAMIC_PERF-68800', '12-COR__T1_POST_GD_FLAIR-13408', '502-DTI_2.6mm_WH-27097', 'diffusion_b=1000', '2-ASSET_cal-96811', '1-3_PLANE_LOC-66150', '7-AX_T2_FR-FSE_RF2_150-82140', 'Logfile', '4-AXIAL_FLAIR-34659', '9-3D_DCE_T1_MAP-57687', '500-DTI_2.6mm_WH-84303', '501-DTI_2.6mm_WH-92008', '3-SAG_T1_FLAIR-38564']\n",
      "['4-AXIAL_DIFFUSION-73794', '702-DTI_2.6mm_WH-19610', '10-3D_DCE_DYNAMIC_PERF-58380', '9-3D_DCE_T1_MAPPING_X_5-16194', '5-AX_T2_FR-FSE_RF2_150-56476', '1-3_PLANE_LOC-70172', '700-DTI_2.6mm_WH-17852', '11-AX_T1_POST_GD_FLAIR-34098', '3-SAG_T1_FLAIR-41565', 'diffusion_b=1000', '2-ASSET_cal-08217', '6-AXIAL_FLAIR-36919', '12-COR__T1_POST_GD_FLAIR-11229', '701-DTI_2.6mm_WH-37159', 'Logfile', '7-DTI_2.6mm_WH-58503', '8-AX_T1_pre_gd-46981']\n",
      "['8-AXIAL_FLAIR-99641', '700-DTI_2.6mm_WH-72196', '2-ASSET_cal-17739', '10-3D_DCE_T1_MAPPING_X_5-74494', '12-AX_T1_POST_GD_FLAIR-28074', 'Logfile', '6-AX_T2_FR-FSE_RF2_150-73321', '4-AXIAL_DIFFUSION-44823', '701-DTI_2.6mm_WH-10960', 'diffusion_b=1000', '7-DTI_2.6mm_WH-10639', '11-3D_DCE_DYNAMIC_PERF-50231', '13-COR__T1_POST_GD_FLAIR-85867', '1-3_PLANE_LOC-67487', '702-DTI_2.6mm_WH-81430', '3-SAG_T1_FLAIR-46872', '5-AXIAL_DIFFUSION-95509', '9-AX_T1_pre_gd-68886']\n",
      "['4-FLAIR_axial-10513', '9-ep2ddiffmddw20p2_wipColFA-86847', '1-localizer-20291', '7-ep2ddiffmddw20p2_wipTRACEW-11233', '102-SAG_PRE-46026', '103-AX_POST-49931', '100-AX_PRE-15848', '11-t1mpragetra_Gd-25909', '105-SAG_POST-15732', '104-COR_POST-42771', '8-ep2ddiffmddw20p2_wipFA-41358', '6-ep2ddiffmddw20p2_wipADC-09654', '101-COR_PRE-62229', '3-T2_axial-68962', '2-t1mpragetra-18978', '5-ep2ddiffmddw20p2_wip-29084']\n",
      "['5-AXIAL_FLAIR-45628', '10-AX_T1_POST_GD_FLAIR-15937', '9-AXIAL_PERFUSION-53605', '11-COR_T1_POST_GD_FLAIR-56052', '8-DTI_2.6mm_WH-47124', '7-AX_T1_pre_gd-79303', '800-DTI_2.6mm_WH-33065', '3-SAG_T1_FLAIR-30957', '6-AXIAL_DIFFUSION-67377', '1-3_PLANE_LOC-30682', '2-ASSET_cal-69202', '4-AX_T2_FR-FSE_RF2_150-05186', '801-DTI_2.6mm_WH-67088', '802-DTI_2.6mm_WH-75472']\n",
      "['1-3_PLANE_LOC-70299', '401-DTI_2.6mm_WH-10565', '3-SAG_T1_FLAIR-63313', '400-DTI_2.6mm_WH-36637', '6-AXIAL_FLAIR-16811', '5-AXIAL_DIFFUSION-52487', '10-3D_DCE_T1_MAP-20527', '13-COR__T1_POST_GD_FLAIR-37513', '2-ASSET_cal-56363', 'diffusion_b=1000', 'Logfile', '9-AX_T1_pre_gd-69017', '11-3D_DCE_DYNAMIC_PERF-89791', '12-AX_T1_POST_GD_FLAIR-96133', '402-DTI_2.6mm_WH-05094', '8-AX_T2_FR-FSE_RF2_150-35709', '4-DTI_2.6mm_WH-62997', '7-AXIAL_FLAIR-60788']\n",
      "['1-localizer-78179', '6-TIR_T1_AX-56889', '2-T2_AX-76297', '8-T1_AXIAL_Gd-67673', '10-T1_SAG_Gd-50942', '9-T1_COR_Gd-81749', '7-VOLUMETRIC_AXIAL-56119', '4-DIFFUSION-70796', '3-FLAIR_AX-15823', '5-DIFFUSIONADC-54445']\n",
      "['14-DWI_ASSET-63239', '18-Ax_T1_MP_SPGR-73978', '1401-Apparent_Diffusion_Coefficient_mms-25123', '1-loc-66950', '16-Cor_2D_T2GRE-17463', '20-C_Ax_T1_MP_SPGR-72811', '15-AXIAL_T2_FLAIR-83535', '17-OPTIONALAx_T2_FSE_INTER-34158', '19-C_SAG_T1_SE-35760', '1400-Exponential_Apparent_Diffusion_Coefficient-40121', '13-Sag_T2_FSE-61723', '21-C_COR_T1_SE-21069']\n",
      "['5-AXIAL_FLAIR-79801', '9-AXIAL_PERFUSION-91399', '7-DTI_ASSET-43628', '1-3_PLANE_LOC-15984', '700-DTI_ASSET-43806', '4-AXIAL_DIFFUSION-05020', 'diffusion_b=1000', '10-AX_T1_POST_GD_FLAIR-79006', 'Logfile', '11-COR__T1_POST_GD_FLAIR-39719', '2-SAG_T1_FLAIR-26959', '8-AX_T1_pre_gd-54697', '6-AX_T2_FR-FSE_RF2_150-02554', '702-DTI_ASSET-20380', '3-ASSET_cal-43024', '701-DTI_ASSET-22869']\n",
      "['3-Ax_DW_DW-EPI_S_b1000T2-22140', '5-AX_T1-68450', '301-Apparent_Diffusion_Coefficient_mms-28864', '6-Ax_Flair_irFSE_H-47930', '300-Exponential_Apparent_Diffusion_Coefficient-52884', '7-COR_GRE_T2-90435', '9-COR_T1C-30002', '11-SAG_T1C-62247', '4-SAG_T1-96767', '10-AX_3D_SPGR-35180', '1-3-pl_T2_FGRE_S-10807', '8-Prop_T2_TRF-94570']\n",
      "['1-3_PLANE_LOC-02726', '402-DTI_2.6mm_WH-50329', 'Logfile', '8-AX_T1_pre_gd-61202', '10-3D_DCE_DYNAMIC_PERF-64266', '6-AXIAL_DIFFUSION-66596', '11-AX_T1_POST_GD_FLAIR-41253', 'diffusion_b=1000', '400-DTI_2.6mm_WH-45305', '401-DTI_2.6mm_WH-83732', '5-AX_T2_FR-FSE_RF2_150-08573', '12-COR__T1_POST_GD_FLAIR-51539', '4-DTI_2.6mm_WH-01377', '7-AXIAL_FLAIR-87535', '3-SAG_T1_FLAIR-51210', '9-3D_DCE_T1_MAP-09968', '2-ASSET_cal-58095']\n"
     ]
    },
    {
     "name": "stdout",
     "output_type": "stream",
     "text": [
      "['4-AX_3D_SPGR-08228', '8-Ax_Flair_irFSE_H-30437', '901-Apparent_Diffusion_Coefficient_ms-81614', '5-COR_GRE_T2-36967', '1-3-pl_T2_FGRE_S-04369', '11-SAG_T1C-50563', '6-SAG_T1-72398', '9-Ax_DW_DW-EPI_S_b1000T2-84695', '10-AX_3D_SPGRC-88568', '900-Exponential_Apparent_Diffusion_Coefficient-01613', '7-Ax_T2_FSE_H-78773', '12-COR_T1C-08484']\n",
      "['501-DIFFUSION-08793', '1201-T1_COR_SE-17084', '1003-SAG_MPR_ISO1MM-83617', '401-SAG_T1-02443', '1001-T1W3DSTRYKER-84137', '502-eBo-00599', '1301-T1_SAG_SE-08339', '601-T2WFFE-90138', '101-Survey-94672', '1002-COR_MPR_ISO1MM-45390', '503-eB1000i-73091', '801-AXIAL__T2-43433', '504-dADC_MAP-93398', '1101-T1_AX_SE_FS_POST-08997', '701-T2_AX_FLAIR-08756', '901-T1_AX__SE-78879']\n",
      "['12-COR_T1C-68868', '802-PROP_COMB-11163', '801-PROP_eADC-93184', '400-Exponential_Apparent_Diffusion_Coefficient-95285', '401-Apparent_Diffusion_Coefficient_mms-85810', '3-SAG_T1-99851', '9-Prop_T2_TRF-28138', '4-Ax_DW_DW-EPI_S_b1000T2-41290', '800-PROP_ADC-80124', '7-COR_GRE_T2-75870', '1-3-pl_T2_FGRE_S-41695', '8-Prop_DWI-14771', '11-AX_3D_SPGR-38668', '10-SAG_T1C-45672', '6-Ax_Flair_irFSE_H-00373', '5-AX_T1-04486']\n",
      "['8-ep2ddiffmddw20p2_wipFA-92420', '102-MPR_COR_Post-64009', '3-T2_axial-60226', '100-MPR_COR-01139', '101-MPR_SAG-67536', '2-t1mpragetra-29148', '11-t1mpragetra_Gd-45030', '9-ep2ddiffmddw20p2_wipColFA-46945', '7-ep2ddiffmddw20p2_wipTRACEW-26066', '6-ep2ddiffmddw20p2_wipADC-46649', '4-FLAIR_axial-08517', '103-MPR_SAG_Post-42064', '5-ep2ddiffmddw20p2_wip-61002', '1-localizer-89909']\n",
      "['11-COR__T1_POST_GD_FLAIR-59999', '4-AXIAL_DIFFUSION-30753', '8-AX_T1_pre_gd-75477', '1-3_PLANE_LOC-41755', '701-DTI_ASSET-28393', '3-SAG_T1_FLAIR-25278', '10-AX_T1_POST_GD_FLAIR-17011', 'Logfile', '700-DTI_ASSET-92407', '9-AXIAL_PERFUSION-64218', '2-ASSET_cal-48680', '7-DTI_ASSET-26847', '702-DTI_ASSET-12742', 'diffusion_b=1000', '5-AXIAL_FLAIR-16329', '6-AX_T2_FR-FSE_RF2_150-18382']\n",
      "['301-Apparent_Diffusion_Coefficient_mm2s-78326', '1-3-pl_T2_FGRE_S-89387', '4-SAG_T1-50609', '6-AX_3D_SPGR-65319', '1-3-pl_T2_FGRE_S-72220', '300-Exponential_Apparent_Diffusion_Coefficient-01816', '5-Ax_Flair_irFSE_H-29741', '3-Ax_DW_DW-EPI_S_b1000T2-42010', '8-Prop_T2_TRF-00358', '3-AX_3D_SPGR-09138', '4-Sag_T1_SE_F-61862', '7-COR_GRE_T2-50107', '5-COR_T1_SE_F-28898']\n",
      "['14-mpRAGE_AX3DSPGRFast-40697', '16-C_COR_T1_SE-12925', '900-Average_DC2500-46248', '901-Fractional_Ansio.-76909', '9-DKI_ASSET_2500-40563', '13-Ax_T2_FSE_INTER-91195', '10-loc-09036', '15-C_SAG_T1_SE-64351', '11-mpRAGE_Sag3DSPGRFast-12181', '902-T2-weighted_trace-38307', '12-EPI_DWI_ASSET-46454', '1201-Apparent_Diffusion_Coefficient_mms-38224', '1200-Exponential_Apparent_Diffusion_Coefficient-92424']\n",
      "['801-AX_T1_FLAIR_PRE-97616', '701-AX_T1_FLAIR_PRE-85406', '303-isoDWI_ISO-93266', '304-dADC_ISO-85548', '401-AX_T2-90558', '301-DTIlow-93473', '501-AX_T2_FLAIR-37956', '101-Survey-90115', '201-SAG_T1-28999', '1001-POST_COR_T1-30351', '302-Reg_-_DTIlow_SENSE-30687', '901-POST_AX_T1_FLAIR-75656', '305-faFA-69502', '601-AX_T1-01946']\n",
      "['8-DWIProp-22557', '13-SAG_T1_SEC-54774', '5-Ax_T2_Flair-36356', '400-Exponential_Apparent_Diffusion_Coefficient-80602', '6-T2Prop-24953', '12-COR_T1_SEC-16013', '7-Ax_T1_SE-60410', '401-Apparent_Diffusion_Coefficient_mms-52409', '4-2D_EPI_DWI_ASSET-33152', '2-Sag_T2_FSE-05582', '9-Cor_2D_T2GRE-60988', '10-Ax_T1_MP_SPGRC-86643', '801-PROP_eADC-28858', '800-PROP_ADC-92705', '1-3-PLocalizer-93543', '802-PROP_COMB-92633', '11-Ax_T1_SEC-73599']\n",
      "['4-SAG_T1-57939', '300-Exponential_Apparent_Diffusion_Coefficient-11048', '9-AX_3D_SPGR__C-53314', '7-COR_GRE_T2-02953', '3-Ax_DW_DW-EPI_S_b1000T2-84392', '301-Apparent_Diffusion_Coefficient_mms-06358', '11-COR_T1C-02023', '5-AX_T1-65940', '10-SAG_T1C-76955', '8-AX_FSE_T2_inter-67120', '6-Ax_Flair_irFSE_H-36055', '1-3-pl_T2_FGRE_S-32540']\n",
      "['3-Ax_DW_DW-EPI_S_b1000T2-83598', '6-OPT_AX_T2_FSE_inter-35755', '1-3-pl_T2_FGRE_S-22599', '10-SAG_T1C-32786', '8-COR_GRE_T2-07415', '300-Exponential_Apparent_Diffusion_Coefficient-07845', '11-AX_3D_SPGRC-52662', '7-Ax_Flair_irFSE_H-63283', '4-SAG_T1-43916', '12-OPT_AX_T2_FSE_inter-47214', '9-COR_T1C-22773', '301-Apparent_Diffusion_Coefficient_mms-27532', '5-AX_T1-98660']\n",
      "['6-Prop_T2_TRF-81803', '11-COR_T1C-86347', '5-AX_T1-04566', '4-SAG_T1-46901', '8-COR_GRE_T2-31907', '901-PROP_eADC-09905', '10-SAG_T1C-26521', '12-CAX_3D_SPGR-00878', '3-Ax_DW_DW-EPI_S_b1000T2-64272', '9-8hrbrainAx2DDWIProp-74768', '300-Exponential_Apparent_Diffusion_Coefficient-10992', '900-PROP_ADC-63727', '301-Apparent_Diffusion_Coefficient_mms-07069', '902-PROP_COMB-05253', '7-Ax_Flair_irFSE_H-18747']\n",
      "['8-Prop_T2_TRF-34147', '3-Ax_DW_DW-EPI_S_b1000T2-07210', '12-CAX_3D_SPGR-46928', '902-PROP_COMB-44465', '4-SAG_T1-84135', '10-SAG_T1C-03912', '11-COR_T1C-32939', '300-Exponential_Apparent_Diffusion_Coefficient-67437', '5-AX_T1-10082', '900-PROP_ADC-67864', '6-Ax_Flair_irFSE_H-39528', '7-COR_GRE_T2-82795', '1-3-pl_T2_FGRE_S-85173', '301-Apparent_Diffusion_Coefficient_mms-99520', '901-PROP_eADC-05942', '9-8hrbrainAx2DDWIProp-25222']\n",
      "['800-PROP_ADC-69961', '12-COR_T1C-74863', '4-Ax_DW_DW-EPI_S_b1000T2-94331', '1-3-pl_T2_FGRE_S-60211', '801-PROP_eADC-56548', '802-PROP_COMB-41986', '10-SAG_T1C-96254', '3-SAG_T1-12665', '8-8hrbrainOb2DDWIProp-63835', '5-AX_3D_SPGR-10807', '6-Ax_Flair_irFSE_H-06527', '400-Exponential_Apparent_Diffusion_Coefficient-00063', '7-Prop_T2_TRF-41596', '11-AX_3D_SPGRC-33028', '401-Apparent_Diffusion_Coefficient_mms-85317', '9-COR_GRE_T2-91324']\n",
      "['10-3D_DCE_T1_MAP-41046', '400-DTI_2.6mm_WH-23321', '3-SAG_T1_FLAIR-69643', '11-3D_DCE_DYNAMIC_PERF-00450', 'Logfile', '6-AXIAL_DIFFUSION-83372', '7-AXIAL_FLAIR-20431', 'diffusion_b=1000', '9-AX_T1_pre_gd-32082', '2-ASSET_cal-08759', '4-DTI_2.6mm_WH-31825', '13-COR__T1_POST_GD_FLAIR-71878', '402-DTI_2.6mm_WH-72439', '1-3_PLANE_LOC-83388', '401-DTI_2.6mm_WH-24627', '5-SAG_T1_FLAIR-78070', '8-AX_T2_FR-FSE_RF2_150-13948', '12-AX_T1_POST_GD_FLAIR-47718']\n",
      "['801-DTI_2.6mm_WH-70837', '9-AXIAL_PERFUSION-32499', '10-AX_T1_POST_GD_FLAIR-90264', 'diffusion_b=1000', '6-AXIAL_FLAIR-07910', '1-3_PLANE_LOC-82298', '5-AX_T2_FR-FSE_RF2_150-15488', '800-DTI_2.6mm_WH-80888', '802-DTI_2.6mm_WH-65012', 'Logfile', '2-ASSET_cal-40016', '11-COR_T1_POST_GD_FLAIR-70203', '8-DTI_2.6mm_WH-90495', '7-AX_T1_pre_gd-49092', '4-AXIAL_DIFFUSION-49771', '3-SAG_T1_FLAIR-87621']\n",
      "['diffusion_b=1000', '6-AX_T2_FR-FSE_RF2_150-11418', '11-COR__T1_POST_GD_FLAIR-28103', '10-AX_T1_POST_GD_FLAIR-49564', '1-3_PLANE_LOC-15093', '5-AXIAL_FLAIR-03289', '3-SAG_T1_FLAIR-02642', '700-DTI_ASSET-28396', '9-AXIAL_PERFUSION-04700', '4-AXIAL_DIFFUSION-48283', '2-ASSET_cal-69637', 'Logfile', '7-DTI_ASSET-72031', '701-DTI_ASSET-39610', '8-AX_T1_pre_gd-86144', '702-DTI_ASSET-13763']\n",
      "['7-OPTIONALAx_T2_FSE_INTER-84430', '5-Ax_T2_Flair-42124', '9-Cor_2D_T2GRE-50159', '12-POST_Ax_T1_MP_SPGR-64353', '300-Exponential_Apparent_Diffusion_Coefficient-96012', '1-3-PLocalizer-90679', '11-POST_SAG_T1_SEC-23992', '3-2D_EPI_DWI_ASSET-86800', '4-Sag_T2_FSE-01354', '8-Cor_T2_FSE-50234', '10-POST_COR_T1_SEC-59991', '301-Apparent_Diffusion_Coefficient_mms-85823', '6-Ax_T1_MP_SPGR-40361']\n",
      "['801-AX_T1WIRTSE-61713', '1003-isoB_1000_I-34115', '1304-POST_COR_T1__3MM-70056', '1005-faFA-77561', '1302-POST_AX_T1_BRAIN_LAB_1MM-97269', '301-Survey_NO_PAD-99948', '1004-dADC-77061', '1006-facFA_COLOR-22417', '501-SAG_T1WIRTSE-05768', '1301-POST_SAG_T1_3d-37875', '1101-PERF_FEEPI_20_TE-11469', '701-FLAIRLongTR-58933', '1303-POST_AX_T1__3MM-05566', '601-AX_T2WDRIVE-28974', '1201-Post_AX_T1WIRTSE-17879']\n",
      "['801-PROP_eADC-08491', '9-COR_GRE_T2-40626', '802-PROP_COMB-36418', '800-PROP_ADC-06270', '11-SAG_T1C-85266', '8-Prop_DWI-19420', '6-Prop_T2_TRF-81976', '3-Ax_DW_DW-EPI_S_b1000T2-52129', '301-Apparent_Diffusion_Coefficient_ms-77631', '7-Ax_Flair_irFSE_H-35931', '12-COR__T1C-04712', '300-Exponential_Apparent_Diffusion_Coefficient-37376', '5-AX_T1-26042', '10-AX_3D_SPGR-39020', '4-SAG_T1-21397']\n",
      "['200-Exponential_Apparent_Diffusion_Coefficient-62436', '6-Ax_Flair_irFSE_H-43337', '1-3-pl_T2_FGRE_S-23547', '4-AX_T1-28979', '3-SAG_T1-45843', '7-COR_GRE_T2-92117', '5-OPTIONAL_AX_FSE_T2_inter-99676', '10-COR_T1C-33933', '2-Ax_DW_DW-EPI_S_b1000T2-80792', '201-Apparent_Diffusion_Coefficient_mms-59303', '8-SAG_T1C-20441', '9-AX_3D_SPGR__C-46765']\n",
      "['1001-Post_AX_T1WIRTSE-01683', '1102-POST_AX_T1_BRAIN_LAB_1MM-84436', '1103-POST_AX_T1__3MM-83812', '803-isoB_1000_I-86615', '101-Survey-41680', '805-faFA-37087', '601-AX_T1WIRTSE-64087', '501-FLAIRLongTR-35981', '1101-POST_SAG_T1_3d-30733', '804-dADC-90898', '1104-POST_COR_T1__3MM-46126', '806-facFA_COLOR-81134', '301-SAG_T1WIRTSE-65550', '401-AX_T2WDRIVE-02703', '901-PERF_FEEPI_20_TE-08199']\n",
      "['7-ASSET_Calib-69560', '2-AX_DWI-74272', '800-DTI_N27-26260', '10-AXIAL_T1_C-24985', '9-COR_3D_POST-09215', '11-SE_SAG_T1_POST-28373', '12-FSPGR_3D-67548', '13-T2_wand-75589', '3-FSE_T2-71981', '801-DTI_N27-40119', '4-T2_FLAIR-05248', '802-DTI_N27-19564', '6-Axial_T2-64258', '5-SE_T1-06105', '1-3-P_Loc-86486', '8-DTI_N27-04978']\n",
      "['7-AxFLAIR-thin_for_surgery-06923', '12-COR_T1-73293', '369-Apparent_Diffusion_Coefficien-89403', '11-AxT1-thin_for_surgery-54106', '21-nordicICE_HFH_-_rBF_map_-Leakage_corrected-125.0', '22-nordicICE_HFH_-_MTT_map_-Leakage_corrected-750.0', '10-AXIAL_PERFUSION-13032', '9-AXIAL_DIFFUSION-08121', '3-3_PLANE_LOC-50108', '2-SAG_T1-00552', '5-AXIAL_FSE-67200', '1-3_PLANE_LOC-21963', '20-nordicICE_HFH_-_rBV_map_-Leakage_corrected-219.0', '6-AXIAL_T1-84562', '8-SAG_T1-27364', '4-SAG_T1-90421']\n"
     ]
    },
    {
     "name": "stdout",
     "output_type": "stream",
     "text": [
      "['702-DTI_ASSET-69796', '11-AX_T1_POST_GD_FLAIR-22225', '700-DTI_ASSET-17883', '12-COR_T1_POST_GD_FLAIR-40179', '701-DTI_ASSET-07155', '13-AX_T1_POST_GD_FLAIR-16002']\n",
      "['8-AX_T1_PostFIL-73586', '10-AX_T2_FS-03857', '7-AX_T2_FS-39199', '13-AX_DWI_WIP-91895', '12-SAG_MP-RAGE_Post-30819', '14-AX_DWI_WIPADC-88397', '11-AX_FLAIR-01197', '100-CORONAL_MPR-68548', '4-AX_FLAIR-62483', '5-AX_T2_GREFIL-81946', '16-SAG_3D_DIX_Postopp-35264', '9-AX_T1_PostFIL-17853', '17-SAG_3D_DIX_PostW-83305', '6-AX_T1-26978', '15-SAG_3D_DIX_Postin-51317']\n",
      "['4-Ax__DW-EPI-54432', '6-COR_T1_FSE_C-21588', '2-Ax_T2_FSE_H-23335', '672-Apparent_Diffusion_Coefficien-26049', '3-Ax_Flair_irFSE_H-76518', '1-Sag_T1_FSE_S-74015', '7-COR_T1_FSE_C-24007', '5-AX_T1_FSE_HC-14079', '8-AX_T1_FSE_HC-10944']\n",
      "['1101-T1_AX_SE_FS_POST-29108', '1003-SAG_MPR_ISO1MM-87549', '1001-T1W3DSTRYKER-96114', '403-eB1000i-48518', '101-Survey-37713', '901-T1_AX__SE-25444', '404-dADC_MAP-42057', '1201-T1_COR_SE-35572', '701-AXIAL__T2-73118', '402-eBo-26665', '301-SAG_T1-47911', '1002-COR_MPR_ISO1MM-25234', '501-T2WFFE-34608', '601-T2_AX_FLAIR-30900', '1301-T1_SAG_SE-91066', '801-AXIAL__PD-78784', '401-DIFFUSION-85164']\n",
      "['diffusion_b=', '11-COR__T1_POST_GD_FLAIR-05301', '7-DTI_ASSET-71101', '21-nordicIce_HFH_-_rBV_map_-Leakage_corrected-35.21', '10-nordicIce_HFH_-_rBF_map_-Leakage_corrected-85.10', '1-3_PLANE_LOC-38339', '702-DTI_ASSET-43410', '6-AX_T2_FR-FSE_RF2_150-22047', '3-SAG_T1_FLAIR-58332', 'Logfile', '8-AX_T1_pre_gd-91966', '700-DTI_ASSET-92255', '10-nordicIce_HFH_-_MTT_map_-Leakage_corrected-07.10', '9-AXIAL_PERFUSION-07787', '2-ASSET_cal-84613', '10-AX_T1_POST_GD_FLAIR-65253', '701-DTI_ASSET-53182', '4-AXIAL_DIFFUSION-44292', '5-AXIAL_FLAIR-36667']\n",
      "['19-T2_wand-00512', '2-fMRI_Anat-54153', '1402-DTI_N27-46023', '12-Axial_T2-46690', 'Logfile', '9-FSE_T2-17360', 'diffusion_b=1200', '17-POST-Sag_SE_T1-12021', '16-POST-Cor_SE_T1-29752', '5-FSPGR_3D_25FOV-94547', '1401-DTI_N27-79938', '4-fMRI_-_RHand-10954', '6-T2_FLAIR2MM25FOV-05155', '7-3-P_Loc-03535', '15-Ax_SE_T1_Post-42502', '1400-DTI_N27-98219', '1-3-P_Loc-03394', '10-T2_FLAIR-05645', '18-FSPGR_3D-30540', '8-AX_DWI-80807', '13-ASSET_Calib-26207', '3-fMRI_-_LHand-34603', '11-SE_T1-21223', '14-DTI_N27-48262']\n",
      "['9-AXIAL_T1_C-28466', '13-T2_wand-56505', '1-3-P_Loc-71633', '8-DTI_N27-96295', '801-DTI_N27-21973', '4-T2_FLAIR-13189', '6-Axial_T2-34853', '802-DTI_N27-97478', '7-ASSET_Calib-51434', '5-SE_T1-00223', '3-FSE_T2-98690', '10-SE_SAG_T1_POST-33487', '800-DTI_N27-30045', '2-AX_DWI-09056', '11-COR_3D_POST-34065', '12-FSPGR_3D-04205']\n",
      "['101-brain_with_mst_scout-39750', '701-brain_with_SS_DWI-67141', '401-brain_with_Ax_T1_Pre-70244', '301-brain_with_T1_SAG_23SL-86809', '601-brain_with_T2_AX_GRASE-13238', '801-brain_with_AX_T1_POST-26488', '501-brain_with_FLAIR-60524', '901-brain_with_Cor_T1_Post-26781', '702-brain_with_SS_DWI-14318', '201-brain_with_mst_scout-22676']\n",
      "['1102-corSTRYKER-34365', '901-T2WFFE_bleed-74661', '405-dadc-69151', '1001-T1_SE_PRE-97514', '1303-SagSTRYKER-72128', '1302-corSTRYKER-32489', '601-T2_AX_FLAIR-75280', '1301-STRYKER_2010-02151', '402-Reg_-_DIFFUSION_SENSE-70000', '1103-SagSTRYKER-08975', '701-T2-WHOLE_BRAIN-45019', '403-eB_0-63742', '101-Survey-80885', '1101-STRYKER_2010-80177', '404-eB1000I-25723', '801-T2-WHOLE_BRAIN-49068', '501-T1_SAG_SE-36482', '302-COR_MPR-40951', '401-DIFFUSION_SHC-91159', '301-SurveyMST-84985', '301-T1W3Dstryker-73398', '101-SurveyMST-27075', '303-SAG_MRP-60273', '1201-T1_SE_POST-15267', '1401-T1_SAG_POST-07378']\n",
      "['15-COR__T1_POST_GD_FLAIR-35544', '4-3_PLANE_LOC-32862', 'Logfile', 'diffusion_b=', '5-ASSET_cal-97300', '9-DTI_2.6mm_WH-23912', '8-AXIAL_DIFFUSION-23830', '13-3D_DCE_DYNAMIC_PERF-51823', '6-SAG_T1_FLAIR-02270', '1-3_PLANE_LOC-63898', '3-SAG_T1_FLAIR-19908', '14-AX_T1_POST_GD_FLAIR-85362', '901-DTI_2.6mm_WH-88309', '11-AX_T1_pre_gd-98139', '10-AXIAL_FLAIR-00786', '7-AX_T2_FR-FSE_RF2_150-39317', '2-ASSET_cal-23881', '12-3D_DCE_T1_MAPPING_X_5-20002', '902-DTI_2.6mm_WH-82156', '900-DTI_2.6mm_WH-48032']\n",
      "['3-3_PLANE_LOC-90493', '15-AXIAL_T1_GD-30102', '22-nordicICE_HFH_-_MTT_map_-Leakage_corrected-416.0', '7-AXIAL_T1-81569', '10-AXIAL_T1_GD-80908', '20-nordicICE_HFH_-_rBV_map_-Leakage_corrected-307.0', '13-3_PLANE_LOC-34131', '21-nordicICE_HFH_-_rBF_map_-Leakage_corrected-400.0', '961-Apparent_Diffusion_Coefficien-94774', '11-AXIAL_T1_GD-39971', '1-3_PLANE_LOC-15644', '9-AXIAL_PERFUSION-85707', '12-AXIAL_T1_GD-50052', '5-AXIAL_FLAIR-24045', '4-AXIAL_FSE-54880', '14-3_PLANE_LOC-04598', '6-AXIAL_DIFFUSION-19959', '16-COR_T1GD-70564', '8-AXIAL_PERFUSION-23500', '2-SAG_T1-44239']\n",
      "['1001-POST_COR_CL-35509', '401-SS_DWI_SEN-11899', '801-T1_AX_PRE_C-94328', '301-SAG_CLEAR-24480', '701-T2_HEMOSID-63767', '901-T1_AX_POST-37946', '1101-SAG_POST_CL-06929', '501-FLAIR_SENSE-32397', '601-T2_GRASE_SE-36835', '403-SS_DWI_SEN-82929']\n",
      "['22-nordicICE_HFH_-_MTT_map_-Leakage_corrected-864.0', '815-Combined_Image-83317', '814-Attenuation_Coefficient_Map-51656', '2-FSPGR_SAG-78427', '20-nordicICE_HFH_-_rBV_map_-Leakage_corrected-383.0', '6-PERFUSION_15_sec_inject.delay-12087', '813-Apparent_Diffusion_Coefficien-85345', '4-AX_FLAIR-87676', '5-3D_FSE_AX-00858', '7-3D_SPGR_AX-62668', '21-nordicICE_HFH_-_rBF_map_-Leakage_corrected-271.0', '1-3-PLANE_LOC-91714', '3-AXIAL_DIFFUSION-93130']\n",
      "['1-3_PLANE_LOC-07237', '3-SAG_T1_FLAIR-35331', 'diffusion_b=', 'Logfile', '11-COR__T1_POST_GD_FLAIR-59018', '9-AXIAL_PERFUSION-76959', '6-AX_T2_FR-FSE_RF2_150-55213', '700-DTI_ASSET-45151', '7-DTI_ASSET-38695', '10-AX_T1_POST_GD_FLAIR-95256', '701-DTI_ASSET-07631', '20-nordicICE_HFH_-_rBV_map_-Leakage_corrected-757.0', '8-AX_T1_pre_gd-23241', '22-nordicICE_HFH_-_MTT_map_-Leakage_corrected-837.0', '5-AXIAL_FLAIR-99930', '4-AXIAL_DIFFUSION-17316', '702-DTI_ASSET-92475', '2-ASSET_cal-35237', '21-nordicICE_HFH_-_rBF_map_-Leakage_corrected-225.0']\n",
      "['9-MRHG_T1_SAG_POST_GAD-35903', '8-MRHG_T1_COR_POST_GAD-62753', '7-MRHG_T1_AX_POST_GAD-07452', '5-MRHG_DIFFADC-70758', '1-MRHG_SCOUT-79682', '3-MRHG_FLAIR_AX-82064', '2-MRHG_T2_AXIALS-35828', '6-MRHG_T1_AX-02331', '4-MRHG_DIFF-21348']\n",
      "['12-T2_FLAIR-41740', '13-SE_T1-90475', '15-Cor_SE_T1-75388', '18-T2_wand-56678', '19-T2_wand-52265', '6-FSPGR_3D-26669', '10-DWI-07024', '4-fMRI_-_CAT-32113', '7-T2_FLAIR_2_MM-91339', '16-Sag_SE_T1-67972', '5-fMRI_-_FAS-33654', '8-T2_FLAIR_2_MM-39385', '14-Ax_SE_T1_Post-12227', '3-fMRI_-_PCOMP-79861', '11-FSE_T2-39810', '17-FSPGR_3D-24433', '9-loc-19100']\n",
      "['301-FLAIR-59086', '501-DWISSH-49380', '1001-T1_AX_POST-07058', '401-HEMOSIDERIN-03396', '502-DWISSH-88770', '901-T1_SAG_POST-12634', '201-T1_SAG-86285', '1101-T1_COR_POST-25028', '701-T2_GRASE-20832', '601-T1_AX_PRE-85231']\n",
      "['22-nordicICE_HFH_-_MTT_map_-Leakage_corrected-405.0', '20-nordicICE_HFH_-_rBV_map_-Leakage_corrected-380.0', '12-AxT1-thin_for_surgery-42560', '6-AXIAL_FSE-22516', '7-AxFLAIR-thin_for_surgery-83857', '10-AXIAL_PERFUSION-09480', '172-Apparent_Diffusion_Coefficien-07376', '13-COR_T1-08791', '21-nordicICE_HFH_-_rBF_map_-Leakage_corrected-937.0', '11-AXIAL_PERFUSION-02140', '8-AXIAL_DIFFUSION-27805', '9-AXIAL_T1-39993', '5-SAG_T1-01348']\n",
      "['15-SE_COR_T1_POST-67389', '12-ASSET_Calib-58564', '8-FSE_T2-71467', '16-SE_SAG_T1_POST-99392', '1-3-P_Loc-90300', 'Logfile', '11-Axial_T2-61817', '5-FSPGR_3D_25FOV-73237', '13-DTI_N27-47032', '1300-DTI_N27-31536', '3-fMRI_-_PCOMP-98577', '9-T2_FLAIR-05792', '205-Seg_Structural-54371', '4-fMRI_-_CAT-47401', '6-T2_FLAIR2MM25FOV-22734', 'diffusion_b=1200', '14-3D_AX_FSPGR_POST-81939', '1302-DTI_N27-16020', '2-fMRI_Anat-90109', '1301-DTI_N27-47745', '10-SE_T1-69939', '7-AX_DWI-05985']\n",
      "['2-ASSET_cal-47201', '10-COR__T1_POST_GD_FLAIR-71030', '8-AX_T1_pre_gd-58639', '1-3_PLANE_LOC-11291', '6-AX_T2_FR-FSE_RF2_150-68738', 'Logfile', '401-DTI_2.6mm_WH-06109', '9-AX_T1_POST_GD_FLAIR-62729', '402-DTI_2.6mm_WH-00216', '5-AXIAL_DIFFUSION-62659', '400-DTI_2.6mm_WH-72177', 'diffusion_b=', '3-SAG_T1_FLAIR-56861', '4-DTI_2.6mm_WH-68527', '7-AXIAL_FLAIR-37676']\n",
      "['2-MRHG_T2_AXIALS-69016', '6-MRHG_DIFFADC-47902', '3-MRHG_FLAIR_AX-64301', '1-MRHG_SCOUT-74861', '8-MP_RAGE_AXIAL-23748', '5-MRHG_DIFF-16504', '10-MRHG_T1_COR_Gd-25706', '11-MRHG_T1_SAG_Gd-76244', '9-MRHG_T1_AX_Gd-93615', '4-MRHG_T1_AX-77114']\n",
      "['2-ASSET_cal-96653', '600-DTI_ASSET-29906', '10-COR_T1_POST_GD_FLAIR-88922', 'Logfile', '4-AX_T2_FR-FSE_RF2_150-37218', '21-nordicICE_HFH_-_rBF_map_-Leakage_corrected-151.0', '22-nordicICE_HFH_-_MTT_map_-Leakage_corrected-182.0', '3-SAG_T1_FLAIR-61477', '1-3_PLANE_LOC-18957', '20-nordicICE_HFH_-_rBV_map_-Leakage_corrected-870.0', 'diffusion_b=', '7-AX_T1_pre_gd-61428', '5-AXIAL_T2_FLAIR-94682', '602-DTI_ASSET-25249', '6-DTI_ASSET-04795', '9-AX_T1_POST_GD_FLAIR-08425', '601-DTI_ASSET-75099', '8-AXIAL_PERFUSION-11851']\n",
      "['Logfile', '7-Axial_ssflair-39944', '6-Axial_ssfse-67535', '8-GD_AX_T1-63316', '333-DTI_1000_24_FOV-91561', '1-3_PLANE-95853', '2-SAG_T1-92263', '3-DTI_1000_24_FOV-56310', 'diffusion_b=', '4-AX_FSE_T2-74154', '9-GD_COR_T1-19703', '363-DTI_1000_24_FOV-03737', '303-DTI_1000_24_FOV-32080', '5-AX_FLAIR-03397']\n",
      "['9-AxT1-thin_for_surgery-27598', '21-nordicICE_HFH_-_rBF_map_-Leakage_corrected-101.0', '1-3_PLANE_LOC-22369', '5-AXIAL_DIFFUSION-62807', '8-AXIAL_PERFUSION-44568', '4-AxFLAIR-thin_for_surgery-47036', '10-COR_T1-52396', '6-AXIAL_T1-20532', '2-SAG_T1-00985', '22-nordicICE_HFH_-_MTT_map_-Leakage_corrected-960.0', '3-AXIAL_FSE-91012', '7-AXIAL_PERFUSION-20070', '474-Apparent_Diffusion_Coefficien-97986', '20-nordicICE_HFH_-_rBV_map_-Leakage_corrected-929.0']\n",
      "['801-BRAIN_WWO_T2_HEMOSID-32095', '601-BRAIN_WWO_FLAIR-20508', '1101-BRAIN_WWO_T1_PRE-55878', '1201-BRAIN_WWO_T1_POST-04167', '901-BRAIN_WWO_SS_DWI-11037', '501-BRAIN_WWO_T1_SAG-89718', '1301-BRAIN_WWO_COR_POST-43163', '1003-BRAIN_WWO_DTImedium-60450', '1401-FAST_BRAIN_t-1_SAG_GAD-35914', '701-BRAIN_WWO_T2_GRASE-38542', '902-BRAIN_WWO_SS_DWI-67966']\n",
      "['4-FLAIR-82367', '18-T1_AX_POST-73832', '7-ep2ddiff3scantraceADC-46169', '2-T1_SE_SAG-47686', '19-T1_COR_POST-83017', '3-T2_TSE_AX-41475', '5-T1_AX_PRE-23096', '6-ep2ddiff3scantrace-59892']\n",
      "['20-nordicICE_HFH_-_rBV_map_-Leakage_corrected-500.0', '11-AX_T1_POST_GD_FLAIR-02197', '3-SAG_T1_FLAIR-88539', '6-AXIAL_FLAIR-80030', '9-AX_T1_pre_gd-49929', '10-AXIAL_PERFUSION-23835', 'diffusion_b=', '802-DTI_ASSET-80966', '8-DTI_ASSET-79144', '2-ASSET_cal-36729', '22-nordicICE_HFH_-_MTT_map_-Leakage_corrected-202.0', '801-DTI_ASSET-05865', '7-AX_T2_FR-FSE_RF2_150-98846', '1-3_PLANE_LOC-18539', '21-nordicICE_HFH_-_rBF_map_-Leakage_corrected-875.0', '12-COR__T1_POST_GD_FLAIR-22910', 'Logfile', '800-DTI_ASSET-57755', '4-AXIAL_DIFFUSION-49486']\n",
      "['8-MRHG_T1_AX_POST_GAD-01973', '6-MRHG_DIFF-35092', '1-MRHG_SCOUT-65759', '9-MRHG_T1_COR_POST_GAD-25509', '10-MP_RAGE_AXIAL-63638', '6-MRHG_DIFF-41372', '12-MRHG_T1_COR_POST_GAD-59603', 'Logfile', '5-MRHG_T1_AX-92222', '3-MRHG_FLAIR_AX-38966', '9-MRHG_FLAIR_AX-56466', '8-DTI_DIFF-81868', '11-MRHG_T1_AX_POST_GAD-32132', '4-MRHR_GE_AX-40423', '2-MRHG_T2_AXIALS-40160', '10-MRHG_T1_SAG_POST_GAD-31705', '5-MRHG_T1_AX-33516', '1-MRHG_SCOUT-06933', '2-MRHG_SCOUT-68424', '13-MRHG_T1_SAG_POST_GAD-66756', '7-MRHG_DIFFADC-81753', '4-MRHG_FLAIR_AX-90350', '7-MRHG_DIFFADC-81109', '3-MRHG_T2_AXIALS-25880']\n",
      "['8-2D_WAND_T2_WEIGHTED-07199', 'Logfile', '5-AX_T2_FSE-13971', '3-AX_T2_FSE-43139', '701-DTI-TRACTOGRAPHY-59346', '2-Diffusion_Weighted-39217', '700-DTI-TRACTOGRAPHY-69175', '702-DTI-TRACTOGRAPHY-58399', 'diffusion_b=1000', '10-2D_WAND_T2_WEIGHTED-13120', '13-SAG_T1_POST-15493', '11-AX_T1_POST-86265', '1-LOC-87916', '7-DTI-TRACTOGRAPHY-35855', '9-3D_WAND_T1_WEIGHTED-11225', '12-COR_T1_POST-88120', '6-AX_T1-94367', '4-AX_FLAIR-08895']\n",
      "['8-DTI-23852', '800-DTI-65857', '9-AX_T1_POST-76909', '801-DTI-32828', '3-AX_T2_FSE-85813', '10-COR_T1_POST-85775', '7-Axial_CALIB-37143', '2-Diffusion_Weighted-76086', '6-AX_T1-64949', '802-DTI-95695', '4-AX_FLAIR-05016', '11-SAG_T1_POST-33376', '5-AX_T2GRE-32284', '1-3_PLANE_LOC-69629']\n",
      "['702-DTI_ASSET-35772', '10-AX_T1_POST_GD_FLAIR-07635', '700-DTI_ASSET-02521', '21-nordicICE_HFH_-_rBF_map_-Leakage_corrected-846.0', '20-nordicICE_HFH_-_rBV_map_-Leakage_corrected-737.0', '701-DTI_ASSET-71917', '11-COR__T1_POST_GD_FLAIR-77854', '9-AXIAL_PERFUSION-28651', '22-nordicICE_HFH_-_MTT_map_-Leakage_corrected-674.0']\n",
      "['901-SAG_POST_CL-28423', '701-T1_AX_PRE_C-17789', '1101-POST_COR_CL-43376', '601-SS_DWI_SEN-98114', '301-SAG_CLEAR-47763', '501-T2_HEMOSID-94134', '602-SS_DWI_SEN-30211', '801-T2_GRASE_SE-13072', '1001-T1_AX_POST-79169', '401-FLAIR_SENSE-14109']\n",
      "['11-3D_DCE_DYNAMIC_PERF-87502', '601-DTI_2.6mm_WH-10870', '4-SAG_T1_FLAIR-95590', '2-3_PLANE_LOC-58882', 'Logfile', '7-AXIAL_DIFFUSION-30245', '600-DTI_2.6mm_WH-52846', '6-DTI_2.6mm_WH-42434', '1-3_PLANE_LOC-30036', '8-AXIAL_FLAIR-86474', '3-ASSET_cal-92638', '10-3D_DCE_T1_MAPPING_X_5-32498', '12-AX_T1_POST_GD_FLAIR-61610', '9-AX_T1_pre_gd-91009', '13-COR__T1_POST_GD_FLAIR-08936', 'diffusion_b=', '5-AX_T2_FR-FSE_RF2_150-57798', '602-DTI_2.6mm_WH-59955']\n",
      "['1-3-P_Loc-10117', '6-DTI-91029', '10-FSPGR_3D-23094', '7-Ax_SE_T1_Post-25755', '8-Cor_SE_T1-24700', '601-DTI-19667', '4-T2_FLAIR-53321', '3-FSE_T2-71836', '5-SE_T1-74836', '602-DTI-11820', '11-T2_wand-61886', '2-DWI-11777', '9-Sag_SE_T1-24339', '600-DTI-43733']\n",
      "['10-AX_T1_POST_GD_FLAIR-05388', '11-COR__T1_POST_GD_FLAIR-36621', '700-DTI_ASSET-67358', 'diffusion_b=', '4-AXIAL_DIFFUSION-22044', '6-AXIAL_FLAIR-77694', 'Logfile', '1-3_PLANE_LOC-41612', '702-DTI_ASSET-03417', '701-DTI_ASSET-31739', '2-ASSET_cal-76616', '8-AX_T1_pre_gd-59524', '5-AX_T2_FR-FSE_RF2_150-01494', '3-SAG_T1_FLAIR-60266', '7-DTI_ASSET-74149', '9-AXIAL_PERFUSION-04974']\n",
      "['Logfile', 'diffusion_b=', '10-SAG_T1_FLAIR-05610', '14-COR__T1_POST_GD_FLAIR-38486', '5-AXIAL_FLAIR-86504', '702-DTI_2.6mm_WH-62584', '12-3D_DCE_DYNAMIC_PERF-30252', '7-DTI_2.6mm_WH-15165', '4-AXIAL_DIFFUSION-49505', '11-3D_DCE_T1_MAPPING_X_5-37671', '700-DTI_2.6mm_WH-79713', '13-AX_T1_POST_GD_FLAIR-81821', '8-AX_T2_FR-FSE_RF2_150-92373', '1-3_PLANE_LOC-30732', '6-AXIAL_FLAIR-20070', '2-ASSET_cal-74488', '9-AX_T1_pre_gd-06881', '3-SAG_T1_FLAIR-44294', '701-DTI_2.6mm_WH-87376']\n",
      "['Logfile', '8-COR_T1_GD-17834', '1-3_PLANE_LOC-39157', '5-AXIAL_DTI-48785', '3-AXIAL_FSE-04027', '502-T2-weighted_trace-08311', '7-AXIAL_T1_GD-06033', '6-AXIAL_T1-02740', '500-Average_DC-93686', '501-Fractional_Ansio.-66444', 'diffusion_b=', '4-AXIAL_FLAIR-92989', '2-SAG_T1-09943']\n"
     ]
    },
    {
     "name": "stdout",
     "output_type": "stream",
     "text": [
      "['601-BRAIN_WWO_T2_HEMOSID-56262', '501-BRAIN_WWO_T2_GRASE-38485', '301-BRAIN_WWO_T1_SAG-44016', '1001-BRAIN_WWO_COR_POST-97459', '901-BRAIN_WWO_T1_POST-50983', '702-BRAIN_WWO_SS_DWI-07290', '401-BRAIN_WWO_FLAIR-32434', '701-BRAIN_WWO_SS_DWI-12278', '801-BRAIN_WWO_T1_PRE-14606']\n",
      "['8-FLAIR_AXIAL-14764', '7-T2_TSE_COR-07685', '3-T1_SAG-50719', '11-T1_COR_C-72346', '4-ep2ddifforthbasic_PAT2-23658', '1-localizer-02129', '9-T1_AXIAL-25337', '10-T1_AXIAL__POST-97398', '2-localizer-63884', '5-ADC-57186', '6-T2_TSE_AXIAL-58552']\n",
      "['2-localizer-24375', '3-T2_AX-62164', '10-T1_COR_Gd-35380', '11-T1_SAG_Gd-56476', '6-DIFFUSIONADC-19007', '9-T1_AXIAL_Gd-31768', '7-FLAIR_AX-90386', '5-DIFFUSION-40367', '8-TIR_T1_AX-02076']\n",
      "['7-Ax_DWI_1000b_ASSET-93286', '700-Ax_DWI_1000b_ASSET-51482', '701-Ax_DWI_1000b_ASSET-53063', '22-nordicICE_HFH_-_MTT_map_-Leakage_corrected-217.0', '5-Ax_T2_FLAIR-33749', '10-3d_T1_FSPGR__CONT-32567', '21-nordicICE_HFH_-_rBF_map_-Leakage_corrected-624.0', '6-ASSET_Cal-35485', '2-FSPGR_SAG-33486', '1-3-pl_T2_FGRE_S-37776', '20-nordicICE_HFH_-_rBV_map_-Leakage_corrected-296.0', '9-PERFUSION__15_sec_inject_dela-32497', '3-PURE_surface_coil_cal-14159', '4-PURE_body_coil_cal-98977', '702-Ax_DWI_1000b_ASSET-98324', '8-3D_FSE_AXIAL-25214']\n",
      "['7-Ax_T1_SE_PRE-22584', '8-Ax_FRFSE_T2_512_x_512-38431', '3-Sag_T1_SE-72212', '10-Ax_T1_SE_POST-41828', '600-Exponential_Apparent_Diffusion_Coefficient-63992', '6-AX_DWI_1000b-63869', '9-Sag_T1_POST-12911', '5-HEMO-10807', '4-AX_T2FLAIR_Prop-28081', '601-Apparent_Diffusion_Coefficient_ms-17445', '11-Cor_T1_SE_POST-19886']\n",
      "['4-AX_FLAIR-31670', '21-nordicICE_HFH_-_rBF_map_-Leakage_corrected-876.0', '815-Combined_Image-31966', '814-Attenuation_Coefficient_Map-07352', '8-MRSI_-VSS-56519', '1102-Summary_Series-56736', '813-Apparent_Diffusion_Coefficien-54400', '22-nordicICE_HFH_-_MTT_map_-Leakage_corrected-969.0', '740-Negative_Enhancement_Integral-73757', '5-PERFUSION_15_sec_inject.delay-20056', '2-FSPGR_SAG-43599', '6-3D_SPGR_AX-29720', '7-3D_FSE_AX-89870', '1-3-PLANE_LOC-98870', '20-nordicICE_HFH_-_rBV_map_-Leakage_corrected-423.0', '3-AXIAL_DIFFUSION-94101']\n",
      "['501-BRAIN______SS_DWI-81030', '301-BRAIN______FLAIR-27209', '601-BRAIN______HEMOSIDERIN-45408', '201-BRAIN______T1_SAG-56811', '701-BRAIN______HEMOSIDERIN-98581', '801-BRAIN______T1_AX_PRE-24658', '1101-BRAIN______T1_SAG_POST-59138', '502-BRAIN______SS_DWI-29643', '1001-BRAIN______T1_COR_POST-23785', '401-BRAIN______T2_GRASE-02583', '901-BRAIN______T1_AX_POST-47275']\n",
      "['13-Axial_T2-47060', '7-FSPGR_3D-56726', 'Logfile', '16-DTI_N27-89084', '2-fMRI_Anat-43638', '1601-DTI_N27-57108', '1-3-P_Loc-31259', '14-FSPGR_3D-90164', '8-T2_FLAIR-2MM-74210', '3-fMRI_-_FAS-49780', '10-FSE_T2-35736', '11-T2_FLAIR-76096', '9-3-P_Loc-22599', '5-fMRI_-_PCOMP-47901', '1600-DTI_N27-36577', '17-Ax_SE_T1_Post-08723', '15-ASSET_Calib-52589', 'diffusion_b=1200', '1602-DTI_N27-33542', '18-POST-Cor_SE_T1-93708', '4-fMRI_-_CAT-77996', '20-FSPGR_3D-14397', '6-fMRI_-_RHand-81987', '19-POST-Sag_SE_T1-83426', '12-SE_T1-12267']\n",
      "['701-T2WFFE-80343', '1501-T1_SAG_SE-59738', '1202-COR_MPR_ISO1MM-93674', '1201-T1W3DSTRYKER-63606', '201-Survey-72087', '1401-T1_COR_SE-99620', '1203-SAG_MPR_ISO1MM-59782', '901-AXIAL__T2-20547', '1101-T1_AX__SE-88216', '602-eBo-80486', '301-Survey-95164', '601-DIFFUSION-42000', '1301-T1_AX_SE_FS_POST-40917', '801-T2_AX_FLAIR-73732', '101-Survey-34635', '604-dADC_MAP-57575', '1001-AXIAL__PD-67361', '501-SAG_T1-51452', '603-eB1000i-40654']\n",
      "['400-DWI_ASSET-80101', '3-ASSET_cal-07545', '401-DWI_ASSET-19557', '5-AX_FLAIR-86502', '6-3D_FSE_AX_20_slabs-00960', '8-AX_SPGR_3D-23898', '701-Summary_Series-06532', '402-DWI_ASSET-36492', '4-DWI_ASSET-97122', '7-ASSET_PERF-71114', '1-3_PL_LOC-66799', '2-FSPGR_SAG-78674']\n",
      "['1-3_PLANE_LOC-64125', '2-ASSET_cal-66050', '5-AXIAL_FLAIR-78218', '3-SAG_T1_FLAIR-01635', 'diffusion_b=1000', '6-AX_T2_FR-FSE_RF2_150-46206', '4-DTI_2.6mm_WH-63977', '400-DTI_2.6mm_WH-38478', '402-DTI_2.6mm_WH-04206', '401-DTI_2.6mm_WH-94702', '9-3D_DCE_T1_MAPPING_X_5-17440', '7-AXIAL_DIFFUSION-07547', '11-AX_T1_POST_GD_FLAIR-87636', '12-COR__T1_POST_GD_FLAIR-13432', '10-3D_DCE_DYNAMIC_PERF-20043', 'Logfile', '8-AX_T1_pre_gd-09207']\n",
      "['800-DTI_3.2mm_WH-88634', '14-COR__T1_POST_GD_FLAIR-96929', '7-AX_T1_pre_gd-88614', '13-AX_T1_POST_GD_FLAIR-17395', '5-AXIAL_FLAIR-52893', '12-3D_DCE_DYNAMIC_PERF-11406', '801-DTI_3.2mm_WH-01860', '2-ASSET_cal-43331', '1-3_PLANE_LOC-91489', '802-DTI_3.2mm_WH-89246', '9-ASSET_cal-02775', '11-2-3D_DCE_T1_MAP-25123', '3-SAG_T1_FLAIR-12442', '4-AXIAL_DIFFUSION-60685', '8-DTI_3.2mm_WH-02349', '10-3D_DCE_T1_MAP-33750', '6-AX_T2_FR-FSE_RF2_150-26501']\n",
      "['6-ep2ddiff3scantracep2ADC-07811', '2-t1sag-65767', '9-T1_sag_post-89230', '5-ep2ddiff3scantracep2-09053', '7-t1tra_pre-73994', '10-t1tra_post-80382', '11-t1cor_post-15293', '3-t2flair_ax-76103', '8-T2AXFS_post-53394', '4-t2ax_hemo-96957']\n",
      "['702-DTI_ASSET-80324', '10-AX_T1_POST_GD_FLAIR-24372', '700-DTI_ASSET-24893', '3-SAG_T1_FLAIR-94222', '9-AXIAL_PERFUSION-79460', '104-ADC_Slope-55332', '5-AX_T2_FR-FSE_RF2_150-95288', 'diffusion_b=', '1-3_PLANE_LOC-58060', '4-AXIAL_DIFFUSION-77209', '6-AXIAL_T2_FLAIR-46785', '701-DTI_ASSET-09291', '2-ASSET_cal-35859', 'Logfile', '7-DTI_ASSET-43462', '8-AX_T1_pre_gd-06686']\n",
      "['601-DTI_2.6mm_WH-88681', '602-DTI_2.6mm_WH-42986', '8-AX_T1_pre_gd-15278', '9-AXIAL_PERFUSION-82867', '10-AX_T1_POST_GD_FLAIR-80095', '600-DTI_2.6mm_WH-04513', '11-COR__T1_POST_GD_FLAIR-61892', '7-AXIAL_FLAIR-12321']\n",
      "['9-AXIAL_PERFUSION-43368', '702-DTI_ASSET-45626', '20-nordicICE_HFH_-_rBV_map_-Leakage_corrected-453.0', '22-nordicICE_HFH_-_MTT_map_-Leakage_corrected-218.0', '5-AXIAL_FLAIR-68587', '3-SAG_T1_FLAIR-15584', '2-ASSET_cal-65017', '4-AXIAL_DIFFUSION-03558', '701-DTI_ASSET-71322', '6-AX_T2_FR-FSE_RF2_150-16748', '10-AX_T1_POST_GD_FLAIR-11824', 'Logfile', '7-DTI_ASSET-19050', '700-DTI_ASSET-30399', '21-nordicICE_HFH_-_rBF_map_-Leakage_corrected-297.0', 'diffusion_b=', '11-COR__T1_POST_GD_FLAIR-67144', '1-3_PLANE_LOC-75182', '8-AX_T1_pre_gd-85927']\n",
      "['1001-T1_SAG_POST-19109', '801-T1_AX_POST-02525', '301-FLAIR-48439', '901-T1_COR_POST-87233', '501-SS_DWI-56422', '701-T2_GRASE-67961', '601-T1_AX_PRE-36241', '201-T1_SAG-80928', '401-HEMOSIDERIN-67100', '502-SS_DWI-09161']\n",
      "['3-MRHG_FLAIR_AX-87168', '9-MRHG_T1_SAG_POST_GAD-92004', '4-MRHG_DIFF-45176', '6-MRHG_T1_AX-65851', '1-MRHG_SCOUT-38814', '7-MRHG_T1_AX_POST_GAD-84768', '2-MRHG_T2_AXIALS-83338', '5-MRHG_DIFFADC-02800', '8-MRHG_T1_COR_POST_GAD-15960']\n",
      "['4-Ax_DWI-98057', '6-AX_T2_FLAIR_PROPELLER-26458', '5-Ax_T2_PROPELLER-99484', '8-AX_T1_FLAIR_C-45978', '1-3PLANE_PERFORM-45375', '9-COR_T1_FLAIR_C-37550', '3-Sag_T1_FLAIR-92998', '7-AX_T1_FLAIR_PRE-16032', '400-Apparent_Diffusion_Coefficient_mms-23032']\n",
      "['10-3D_DCE_DYNAMIC_PERF-20734', '500-DTI_2.6mm_WH__COVERED_CUT_AIR-34767', '8-AX_T1_pre_gd-51584', '2-ASSET_cal-87520', '4-AXIAL_DIFFUSION-35174', '5-DTI_2.6mm_WH__COVERED_CUT_AIR-16630', '11-AX_T1_POST_GD_FLAIR-15818', '3-SAG_T1_FLAIR-20574', '1-3_PLANE_LOC-22074', '501-DTI_2.6mm_WH__COVERED_CUT_AIR-87548', '12-COR__T1_POST_GD_FLAIR-25637', '7-AXIAL_FLAIR-40162', '502-DTI_2.6mm_WH__COVERED_CUT_AIR-65637', '9-3D_DCE_T1_MAPPING_X_5-50334', '6-AX_T2_FR-FSE_RF2_150-66062']\n",
      "['2-fMRI_Anat-43149', '8-T2_FLAIR-05867', '1-3-P_Loc-86690', '17-FSPGR_3D-37164', '6-fMRI_-_BOTH_HANDS-07383', '7-FSPGR_3D-54002', '18-T2_wand-17633', '4-fMRI_-_LHand-12661', '13-SE_T1-24721', '9-loc-14922', '12-T2_FLAIR-98633', '15-Cor_SE_T1-51134', '16-Sag_SE_T1-28794', '10-DWI-96881', '11-FSE_T2-96534', '5-fMRI_-_RHand-85820', '14-Ax_SE_T1_Post-47437']\n",
      "['3-AXIAL_FSE-76062', '502-T2-weighted_trace-99028', '7-AXIAL_PERFUSION-90066', '4-AXIAL_FLAIR-83725', '9-COR_T1_GD-04859', '8-AXIAL_T1_GD-58362', '6-AXIAL_T1-07961', '501-Fractional_Ansio.-38477', '1-3_PLANE_LOC-13423', 'diffusion_b=', '5-AXIAL_DTI-89099', 'Logfile', '2-SAG_T1-16805', '500-Average_DC-59999']\n",
      "['401-brain_with_T2_AX_GRASE-40739', '601-brain_with_DWISSH-93404', '201-brain_with_T1_SAG_23SL-79587', '501-brain_with_T2_Hemosidr-20762', '701-brain_with_Ax_T1_Pre-08129', '901-brain_with_Cor_T1_Post-32150', '801-brain_with_AX_T1_POST-15005', '602-brain_with_DWISSH-87644', '301-brain_with_FLAIR-53137', '1001-brain_with_T1_SAG_post-99892']\n"
     ]
    },
    {
     "name": "stdout",
     "output_type": "stream",
     "text": [
      "['6-PERFUSION_15_sec_inject.delay-13363', '814-Apparent_Diffusion_Coefficien-13024', '5-3D_FSE_AX-42060', '4-AXIAL_DIFFUSION-70965', '20-nordicICE_HFH_-_rBV_map_-Leakage_corrected-898.0', '3-AX_FLAIR-52108', '2-FSPGR_SAG-82544', '815-Attenuation_Coefficient_Map-20564', '22-nordicICE_HFH_-_MTT_map_-Leakage_corrected-300.0', '7-3D_SPGR_AX-36833', '816-Combined_Image-58868', '1-3-PLANE_LOC-18653', '601-Negative_Enhancement_Integral-65961', '21-nordicICE_HFH_-_rBF_map_-Leakage_corrected-754.0']\n",
      "['9-DTIColFA-98462', '14-MRHR_T1_COR_POST_GAD-57836', 'Logfile', '1-MRHR_SCOUT-41314', '11-MRHR_T1_AX-84384', '7-DTIADC-43987', '3-MRHR_FLAIR_AX-17941', '2-MRHR_T2_AX-61279', '13-MRHR_T1_AX_POST_GAD-93013', '15-MRHR_T1_SAG_POST_GAD-28393', '6-DTI-72659', '5-MRHR_DIFF_IPATADC-07518', '4-MRHR_DIFF_IPAT-29471', '8-DTIFA-00791', '12-MP_RAGE_AXIAL_VOLUMETRIC-21079', 'diffusion_b=']\n",
      "['20-nordicICE_HFH_-_rBV_map_-Leakage_corrected-306.0', '8-MRSI_-VSS-88935', '12-FSE_Tractography_Stealth-12040', '7-AX_FLAIR_gad-51944', '22-nordicICE_HFH_-_MTT_map_-Leakage_corrected-133.0', 'Logfile', '1-FSPGR_SAG-11415', '21-nordicICE_HFH_-_rBF_map_-Leakage_corrected-118.0', '3-DTI_Tractography-33955', '6-3D_SPGR_AX-57389', '5-PERFUSION_15_sec_inject.delay-47166', '16-SPGR_Tractography_Stealth-85890', '2-3D_FSE_AX-07517', 'diffusion_b=', '4-DTI_Tractography-85145']\n"
     ]
    }
   ],
   "source": [
    "for idx, row in map_dti.iterrows(): \n",
    "    \n",
    "    path = '/working/lupolab/julia/tcia_analysis/datasets/'+'-'.join(row['cohort'].split('-')[:-1])+'/'+row['patient_id']+'/'+row['exam']\n",
    "    series_in_exam = os.listdir(path)\n",
    "    print(series_in_exam)\n",
    "    if 'diffusion_b=1000' in series_in_exam : \n",
    "        row['adc'] = 'diffusion_b=1000'\n",
    "    elif 'diffusion_b=1200' in series_in_exam: \n",
    "        row['adc'] = 'diffusion_b=1200'\n",
    "    "
   ]
  },
  {
   "cell_type": "code",
   "execution_count": 56,
   "metadata": {},
   "outputs": [
    {
     "data": {
      "text/plain": [
       "False    100\n",
       "True      38\n",
       "Name: adc, dtype: int64"
      ]
     },
     "execution_count": 56,
     "metadata": {},
     "output_type": "execute_result"
    }
   ],
   "source": [
    "map_dti.adc.isnull().value_counts()"
   ]
  },
  {
   "cell_type": "code",
   "execution_count": 74,
   "metadata": {},
   "outputs": [
    {
     "data": {
      "text/plain": [
       "(100, 6)"
      ]
     },
     "execution_count": 74,
     "metadata": {},
     "output_type": "execute_result"
    }
   ],
   "source": [
    "map_dti_to_align = map_dti.loc[~map_dti.adc.isnull()]\n",
    "map_dti_to_align.shape"
   ]
  },
  {
   "cell_type": "code",
   "execution_count": 88,
   "metadata": {},
   "outputs": [
    {
     "data": {
      "text/html": [
       "<div>\n",
       "<style scoped>\n",
       "    .dataframe tbody tr th:only-of-type {\n",
       "        vertical-align: middle;\n",
       "    }\n",
       "\n",
       "    .dataframe tbody tr th {\n",
       "        vertical-align: top;\n",
       "    }\n",
       "\n",
       "    .dataframe thead th {\n",
       "        text-align: right;\n",
       "    }\n",
       "</style>\n",
       "<table border=\"1\" class=\"dataframe\">\n",
       "  <thead>\n",
       "    <tr style=\"text-align: right;\">\n",
       "      <th></th>\n",
       "      <th>cohort</th>\n",
       "      <th>dti</th>\n",
       "      <th>exam</th>\n",
       "      <th>patient_id</th>\n",
       "      <th>segmentation_name</th>\n",
       "      <th>adc</th>\n",
       "    </tr>\n",
       "  </thead>\n",
       "  <tbody>\n",
       "    <tr>\n",
       "      <th>0</th>\n",
       "      <td>TCGA-LGG-nifti</td>\n",
       "      <td>['400-DTI_2.6mm_WH-19253.nii.gz', '4-DTI_2.6mm...</td>\n",
       "      <td>08-23-1995-MRI_BRAIN_WWO_CONTRAST-78436</td>\n",
       "      <td>TCGA-DU-5853</td>\n",
       "      <td>11-AX_T1_POST_GD_FLAIR-81300a_n</td>\n",
       "      <td>diffusion_b=1000</td>\n",
       "    </tr>\n",
       "    <tr>\n",
       "      <th>1</th>\n",
       "      <td>TCGA-LGG-nifti</td>\n",
       "      <td>['205-dadc-52244.nii.gz']</td>\n",
       "      <td>06-01-2000-MRI_BRAIN_per_R-97608</td>\n",
       "      <td>TCGA-CS-6186</td>\n",
       "      <td>1001-T1_SE_POST-94212a_n</td>\n",
       "      <td>[205-dadc-52244.nii.gz]</td>\n",
       "    </tr>\n",
       "    <tr>\n",
       "      <th>2</th>\n",
       "      <td>TCGA-LGG-nifti</td>\n",
       "      <td>['12-ep2ddiffmddw20p2_wipADC-35015.nii.gz', '1...</td>\n",
       "      <td>04-23-2004-NR_MRI_BRAIN_WWO-08141</td>\n",
       "      <td>TCGA-FG-A6J1</td>\n",
       "      <td>20-T1fl2dAx__Gd-43129a_n</td>\n",
       "      <td>[12-ep2ddiffmddw20p2_wipADC-35015.nii.gz, 10-D...</td>\n",
       "    </tr>\n",
       "    <tr>\n",
       "      <th>3</th>\n",
       "      <td>TCGA-LGG-nifti</td>\n",
       "      <td>['601-DTI_ASSET-84919.nii.gz', '600-DTI_ASSET-...</td>\n",
       "      <td>06-18-1989-MRI_BRAIN_WWO_CONTRAS-16160</td>\n",
       "      <td>TCGA-DU-7015</td>\n",
       "      <td>10-AX_T1_POST_GD_FLAIR-19430a_n</td>\n",
       "      <td>diffusion_b=1000</td>\n",
       "    </tr>\n",
       "    <tr>\n",
       "      <th>4</th>\n",
       "      <td>TCGA-LGG-nifti</td>\n",
       "      <td>['501-DTI_2.6mm_WH-21034.nii.gz', '5-DTI_2.6mm...</td>\n",
       "      <td>01-11-1997-MRI_BRAIN_WWO_CONTRAST-98366</td>\n",
       "      <td>TCGA-DU-8164</td>\n",
       "      <td>10-AX_T1_POST_GD_FLAIR-02819a_n</td>\n",
       "      <td>diffusion_b=1000</td>\n",
       "    </tr>\n",
       "    <tr>\n",
       "      <th>5</th>\n",
       "      <td>TCGA-LGG-nifti</td>\n",
       "      <td>['802-DTI_2.6mm_WH-35614.nii.gz', '600-Exponen...</td>\n",
       "      <td>07-26-1997-MRI_BRAIN_WWO_CONTRAST-17402</td>\n",
       "      <td>TCGA-DU-A5TR</td>\n",
       "      <td>10-AX_T1_POST_GD_FLAIR-23755a_n</td>\n",
       "      <td>[600-Exponential_Apparent_Diffusion_Coefficien...</td>\n",
       "    </tr>\n",
       "    <tr>\n",
       "      <th>6</th>\n",
       "      <td>TCGA-LGG-nifti</td>\n",
       "      <td>['900-PROP_ADC-74032.nii.gz', '401-Apparent_Di...</td>\n",
       "      <td>10-28-1995-MRI_BRAIN_FOR_STEREOTACTIC_WWO_CONT...</td>\n",
       "      <td>TCGA-HT-7604</td>\n",
       "      <td>12-CAX_3D_SPGR-37353a_n</td>\n",
       "      <td>[900-PROP_ADC-74032.nii.gz, 401-Apparent_Diffu...</td>\n",
       "    </tr>\n",
       "    <tr>\n",
       "      <th>8</th>\n",
       "      <td>TCGA-LGG-nifti</td>\n",
       "      <td>['6-DTI_2.6mm_WH-60904.nii.gz', '601-DTI_2.6mm...</td>\n",
       "      <td>11-19-1996-MRI_BRAIN_WWO_CONTRAST-27038</td>\n",
       "      <td>TCGA-DU-8163</td>\n",
       "      <td>12-AX_T1_POST_GD_FLAIR-07772a_n</td>\n",
       "      <td>diffusion_b=1000</td>\n",
       "    </tr>\n",
       "    <tr>\n",
       "      <th>9</th>\n",
       "      <td>TCGA-LGG-nifti</td>\n",
       "      <td>['1100-DTI_ASSET-99068.nii.gz', '1101-DTI_ASSE...</td>\n",
       "      <td>12-20-1991-MRI_BRAIN_WWO_CONTRAST-98852</td>\n",
       "      <td>TCGA-DU-7018</td>\n",
       "      <td>13-AX_T1_POST_GD_FLAIR-47091a_n</td>\n",
       "      <td>diffusion_b=1000</td>\n",
       "    </tr>\n",
       "    <tr>\n",
       "      <th>10</th>\n",
       "      <td>TCGA-LGG-nifti</td>\n",
       "      <td>['4-ep2ddiff3scantraceADC-62120.nii.gz']</td>\n",
       "      <td>09-17-2001-MRI_BRAIN__W_WO_CONT-92660</td>\n",
       "      <td>TCGA-EZ-7265A</td>\n",
       "      <td>10-T1AXMPRSEL3D-83348a_n</td>\n",
       "      <td>[4-ep2ddiff3scantraceADC-62120.nii.gz]</td>\n",
       "    </tr>\n",
       "  </tbody>\n",
       "</table>\n",
       "</div>"
      ],
      "text/plain": [
       "            cohort                                                dti  \\\n",
       "0   TCGA-LGG-nifti  ['400-DTI_2.6mm_WH-19253.nii.gz', '4-DTI_2.6mm...   \n",
       "1   TCGA-LGG-nifti                          ['205-dadc-52244.nii.gz']   \n",
       "2   TCGA-LGG-nifti  ['12-ep2ddiffmddw20p2_wipADC-35015.nii.gz', '1...   \n",
       "3   TCGA-LGG-nifti  ['601-DTI_ASSET-84919.nii.gz', '600-DTI_ASSET-...   \n",
       "4   TCGA-LGG-nifti  ['501-DTI_2.6mm_WH-21034.nii.gz', '5-DTI_2.6mm...   \n",
       "5   TCGA-LGG-nifti  ['802-DTI_2.6mm_WH-35614.nii.gz', '600-Exponen...   \n",
       "6   TCGA-LGG-nifti  ['900-PROP_ADC-74032.nii.gz', '401-Apparent_Di...   \n",
       "8   TCGA-LGG-nifti  ['6-DTI_2.6mm_WH-60904.nii.gz', '601-DTI_2.6mm...   \n",
       "9   TCGA-LGG-nifti  ['1100-DTI_ASSET-99068.nii.gz', '1101-DTI_ASSE...   \n",
       "10  TCGA-LGG-nifti           ['4-ep2ddiff3scantraceADC-62120.nii.gz']   \n",
       "\n",
       "                                                 exam     patient_id  \\\n",
       "0             08-23-1995-MRI_BRAIN_WWO_CONTRAST-78436   TCGA-DU-5853   \n",
       "1                    06-01-2000-MRI_BRAIN_per_R-97608   TCGA-CS-6186   \n",
       "2                   04-23-2004-NR_MRI_BRAIN_WWO-08141   TCGA-FG-A6J1   \n",
       "3              06-18-1989-MRI_BRAIN_WWO_CONTRAS-16160   TCGA-DU-7015   \n",
       "4             01-11-1997-MRI_BRAIN_WWO_CONTRAST-98366   TCGA-DU-8164   \n",
       "5             07-26-1997-MRI_BRAIN_WWO_CONTRAST-17402   TCGA-DU-A5TR   \n",
       "6   10-28-1995-MRI_BRAIN_FOR_STEREOTACTIC_WWO_CONT...   TCGA-HT-7604   \n",
       "8             11-19-1996-MRI_BRAIN_WWO_CONTRAST-27038   TCGA-DU-8163   \n",
       "9             12-20-1991-MRI_BRAIN_WWO_CONTRAST-98852   TCGA-DU-7018   \n",
       "10              09-17-2001-MRI_BRAIN__W_WO_CONT-92660  TCGA-EZ-7265A   \n",
       "\n",
       "                  segmentation_name  \\\n",
       "0   11-AX_T1_POST_GD_FLAIR-81300a_n   \n",
       "1          1001-T1_SE_POST-94212a_n   \n",
       "2          20-T1fl2dAx__Gd-43129a_n   \n",
       "3   10-AX_T1_POST_GD_FLAIR-19430a_n   \n",
       "4   10-AX_T1_POST_GD_FLAIR-02819a_n   \n",
       "5   10-AX_T1_POST_GD_FLAIR-23755a_n   \n",
       "6           12-CAX_3D_SPGR-37353a_n   \n",
       "8   12-AX_T1_POST_GD_FLAIR-07772a_n   \n",
       "9   13-AX_T1_POST_GD_FLAIR-47091a_n   \n",
       "10         10-T1AXMPRSEL3D-83348a_n   \n",
       "\n",
       "                                                  adc  \n",
       "0                                    diffusion_b=1000  \n",
       "1                             [205-dadc-52244.nii.gz]  \n",
       "2   [12-ep2ddiffmddw20p2_wipADC-35015.nii.gz, 10-D...  \n",
       "3                                    diffusion_b=1000  \n",
       "4                                    diffusion_b=1000  \n",
       "5   [600-Exponential_Apparent_Diffusion_Coefficien...  \n",
       "6   [900-PROP_ADC-74032.nii.gz, 401-Apparent_Diffu...  \n",
       "8                                    diffusion_b=1000  \n",
       "9                                    diffusion_b=1000  \n",
       "10             [4-ep2ddiff3scantraceADC-62120.nii.gz]  "
      ]
     },
     "execution_count": 88,
     "metadata": {},
     "output_type": "execute_result"
    }
   ],
   "source": [
    "map_dti_to_align.head(10)"
   ]
  },
  {
   "cell_type": "code",
   "execution_count": 119,
   "metadata": {},
   "outputs": [],
   "source": [
    "# map_dti_to_align.to_csv('/working/lupolab/julia/tcia_analysis/code/aligned_dti.csv', index = False)"
   ]
  },
  {
   "cell_type": "markdown",
   "metadata": {},
   "source": [
    "## Register the DTI "
   ]
  },
  {
   "cell_type": "code",
   "execution_count": 58,
   "metadata": {},
   "outputs": [],
   "source": [
    "os.chdir('/working/lupolab/julia/tcia_analysis/code')"
   ]
  },
  {
   "cell_type": "code",
   "execution_count": 64,
   "metadata": {},
   "outputs": [],
   "source": [
    "usable_patient_gbm = pd.read_csv('usable_patient_gbm.csv', index_col = 0)"
   ]
  },
  {
   "cell_type": "code",
   "execution_count": 65,
   "metadata": {},
   "outputs": [],
   "source": [
    "usable_patient_lgg = pd.read_csv('usable_patient_lgg.csv', index_col = 0)"
   ]
  },
  {
   "cell_type": "code",
   "execution_count": 72,
   "metadata": {},
   "outputs": [],
   "source": [
    "usable_patients = pd.concat([usable_patient_gbm, usable_patient_lgg], ignore_index=True)"
   ]
  },
  {
   "cell_type": "code",
   "execution_count": 76,
   "metadata": {},
   "outputs": [
    {
     "data": {
      "text/html": [
       "<div>\n",
       "<style scoped>\n",
       "    .dataframe tbody tr th:only-of-type {\n",
       "        vertical-align: middle;\n",
       "    }\n",
       "\n",
       "    .dataframe tbody tr th {\n",
       "        vertical-align: top;\n",
       "    }\n",
       "\n",
       "    .dataframe thead th {\n",
       "        text-align: right;\n",
       "    }\n",
       "</style>\n",
       "<table border=\"1\" class=\"dataframe\">\n",
       "  <thead>\n",
       "    <tr style=\"text-align: right;\">\n",
       "      <th></th>\n",
       "      <th>ground_truth</th>\n",
       "      <th>image</th>\n",
       "      <th>sd</th>\n",
       "      <th>patient_id</th>\n",
       "      <th>exam_id</th>\n",
       "      <th>fixed_vol</th>\n",
       "    </tr>\n",
       "  </thead>\n",
       "  <tbody>\n",
       "    <tr>\n",
       "      <th>0</th>\n",
       "      <td>T1C</td>\n",
       "      <td>/working/lupolab/julia/tcia_analysis/datasets/...</td>\n",
       "      <td>701-BRAIN_WWO_T1_COR_POST-08207</td>\n",
       "      <td>TCGA-14-0865</td>\n",
       "      <td>06-04-1995-MRI_BRAIN_W_WOUT_CONTRAST-31488</td>\n",
       "      <td>/working/lupolab/julia/tcia_analysis/datasets/...</td>\n",
       "    </tr>\n",
       "  </tbody>\n",
       "</table>\n",
       "</div>"
      ],
      "text/plain": [
       "  ground_truth                                              image  \\\n",
       "0          T1C  /working/lupolab/julia/tcia_analysis/datasets/...   \n",
       "\n",
       "                                sd    patient_id  \\\n",
       "0  701-BRAIN_WWO_T1_COR_POST-08207  TCGA-14-0865   \n",
       "\n",
       "                                      exam_id  \\\n",
       "0  06-04-1995-MRI_BRAIN_W_WOUT_CONTRAST-31488   \n",
       "\n",
       "                                           fixed_vol  \n",
       "0  /working/lupolab/julia/tcia_analysis/datasets/...  "
      ]
     },
     "execution_count": 76,
     "metadata": {},
     "output_type": "execute_result"
    }
   ],
   "source": [
    "usable_patients.head(1)"
   ]
  },
  {
   "cell_type": "markdown",
   "metadata": {},
   "source": [
    "Need to find the fixed volume using patient id/ exam/ & then just create command to do this with diffusion: "
   ]
  },
  {
   "cell_type": "markdown",
   "metadata": {},
   "source": [
    "`BRAINSFit --fixedVolume $fixed_vol.nii.gz --movingVolume $moving_vol.nii.gz --outputVolume $output_vol.nii.gz --outputTransform $transform_output.tfm  --transformType Rigid`"
   ]
  },
  {
   "cell_type": "code",
   "execution_count": 115,
   "metadata": {},
   "outputs": [],
   "source": [
    "# map_dti_to_align['aligned_dti'] = ['' for x in range(map_dti_to_align.shape[0])]"
   ]
  },
  {
   "cell_type": "code",
   "execution_count": 118,
   "metadata": {},
   "outputs": [
    {
     "data": {
      "text/html": [
       "<div>\n",
       "<style scoped>\n",
       "    .dataframe tbody tr th:only-of-type {\n",
       "        vertical-align: middle;\n",
       "    }\n",
       "\n",
       "    .dataframe tbody tr th {\n",
       "        vertical-align: top;\n",
       "    }\n",
       "\n",
       "    .dataframe thead th {\n",
       "        text-align: right;\n",
       "    }\n",
       "</style>\n",
       "<table border=\"1\" class=\"dataframe\">\n",
       "  <thead>\n",
       "    <tr style=\"text-align: right;\">\n",
       "      <th></th>\n",
       "      <th>cohort</th>\n",
       "      <th>dti</th>\n",
       "      <th>exam</th>\n",
       "      <th>patient_id</th>\n",
       "      <th>segmentation_name</th>\n",
       "      <th>adc</th>\n",
       "      <th>aligned_dti</th>\n",
       "    </tr>\n",
       "  </thead>\n",
       "  <tbody>\n",
       "    <tr>\n",
       "      <th>0</th>\n",
       "      <td>TCGA-LGG-nifti</td>\n",
       "      <td>['400-DTI_2.6mm_WH-19253.nii.gz', '4-DTI_2.6mm...</td>\n",
       "      <td>08-23-1995-MRI_BRAIN_WWO_CONTRAST-78436</td>\n",
       "      <td>TCGA-DU-5853</td>\n",
       "      <td>11-AX_T1_POST_GD_FLAIR-81300a_n</td>\n",
       "      <td>diffusion_b=1000</td>\n",
       "      <td>/working/lupolab/julia/tcia_analysis/datasets/...</td>\n",
       "    </tr>\n",
       "    <tr>\n",
       "      <th>1</th>\n",
       "      <td>TCGA-LGG-nifti</td>\n",
       "      <td>['205-dadc-52244.nii.gz']</td>\n",
       "      <td>06-01-2000-MRI_BRAIN_per_R-97608</td>\n",
       "      <td>TCGA-CS-6186</td>\n",
       "      <td>1001-T1_SE_POST-94212a_n</td>\n",
       "      <td>[205-dadc-52244.nii.gz]</td>\n",
       "      <td>[/working/lupolab/julia/tcia_analysis/datasets...</td>\n",
       "    </tr>\n",
       "    <tr>\n",
       "      <th>2</th>\n",
       "      <td>TCGA-LGG-nifti</td>\n",
       "      <td>['12-ep2ddiffmddw20p2_wipADC-35015.nii.gz', '1...</td>\n",
       "      <td>04-23-2004-NR_MRI_BRAIN_WWO-08141</td>\n",
       "      <td>TCGA-FG-A6J1</td>\n",
       "      <td>20-T1fl2dAx__Gd-43129a_n</td>\n",
       "      <td>[12-ep2ddiffmddw20p2_wipADC-35015.nii.gz, 10-D...</td>\n",
       "      <td>[/working/lupolab/julia/tcia_analysis/datasets...</td>\n",
       "    </tr>\n",
       "    <tr>\n",
       "      <th>3</th>\n",
       "      <td>TCGA-LGG-nifti</td>\n",
       "      <td>['601-DTI_ASSET-84919.nii.gz', '600-DTI_ASSET-...</td>\n",
       "      <td>06-18-1989-MRI_BRAIN_WWO_CONTRAS-16160</td>\n",
       "      <td>TCGA-DU-7015</td>\n",
       "      <td>10-AX_T1_POST_GD_FLAIR-19430a_n</td>\n",
       "      <td>diffusion_b=1000</td>\n",
       "      <td>/working/lupolab/julia/tcia_analysis/datasets/...</td>\n",
       "    </tr>\n",
       "    <tr>\n",
       "      <th>4</th>\n",
       "      <td>TCGA-LGG-nifti</td>\n",
       "      <td>['501-DTI_2.6mm_WH-21034.nii.gz', '5-DTI_2.6mm...</td>\n",
       "      <td>01-11-1997-MRI_BRAIN_WWO_CONTRAST-98366</td>\n",
       "      <td>TCGA-DU-8164</td>\n",
       "      <td>10-AX_T1_POST_GD_FLAIR-02819a_n</td>\n",
       "      <td>diffusion_b=1000</td>\n",
       "      <td>/working/lupolab/julia/tcia_analysis/datasets/...</td>\n",
       "    </tr>\n",
       "  </tbody>\n",
       "</table>\n",
       "</div>"
      ],
      "text/plain": [
       "           cohort                                                dti  \\\n",
       "0  TCGA-LGG-nifti  ['400-DTI_2.6mm_WH-19253.nii.gz', '4-DTI_2.6mm...   \n",
       "1  TCGA-LGG-nifti                          ['205-dadc-52244.nii.gz']   \n",
       "2  TCGA-LGG-nifti  ['12-ep2ddiffmddw20p2_wipADC-35015.nii.gz', '1...   \n",
       "3  TCGA-LGG-nifti  ['601-DTI_ASSET-84919.nii.gz', '600-DTI_ASSET-...   \n",
       "4  TCGA-LGG-nifti  ['501-DTI_2.6mm_WH-21034.nii.gz', '5-DTI_2.6mm...   \n",
       "\n",
       "                                      exam    patient_id  \\\n",
       "0  08-23-1995-MRI_BRAIN_WWO_CONTRAST-78436  TCGA-DU-5853   \n",
       "1         06-01-2000-MRI_BRAIN_per_R-97608  TCGA-CS-6186   \n",
       "2        04-23-2004-NR_MRI_BRAIN_WWO-08141  TCGA-FG-A6J1   \n",
       "3   06-18-1989-MRI_BRAIN_WWO_CONTRAS-16160  TCGA-DU-7015   \n",
       "4  01-11-1997-MRI_BRAIN_WWO_CONTRAST-98366  TCGA-DU-8164   \n",
       "\n",
       "                 segmentation_name  \\\n",
       "0  11-AX_T1_POST_GD_FLAIR-81300a_n   \n",
       "1         1001-T1_SE_POST-94212a_n   \n",
       "2         20-T1fl2dAx__Gd-43129a_n   \n",
       "3  10-AX_T1_POST_GD_FLAIR-19430a_n   \n",
       "4  10-AX_T1_POST_GD_FLAIR-02819a_n   \n",
       "\n",
       "                                                 adc  \\\n",
       "0                                   diffusion_b=1000   \n",
       "1                            [205-dadc-52244.nii.gz]   \n",
       "2  [12-ep2ddiffmddw20p2_wipADC-35015.nii.gz, 10-D...   \n",
       "3                                   diffusion_b=1000   \n",
       "4                                   diffusion_b=1000   \n",
       "\n",
       "                                         aligned_dti  \n",
       "0  /working/lupolab/julia/tcia_analysis/datasets/...  \n",
       "1  [/working/lupolab/julia/tcia_analysis/datasets...  \n",
       "2  [/working/lupolab/julia/tcia_analysis/datasets...  \n",
       "3  /working/lupolab/julia/tcia_analysis/datasets/...  \n",
       "4  /working/lupolab/julia/tcia_analysis/datasets/...  "
      ]
     },
     "execution_count": 118,
     "metadata": {},
     "output_type": "execute_result"
    }
   ],
   "source": [
    "map_dti_to_align.head()"
   ]
  },
  {
   "cell_type": "code",
   "execution_count": 117,
   "metadata": {},
   "outputs": [],
   "source": [
    "commands = []\n",
    "for idx, row in map_dti_to_align.iterrows(): \n",
    "    patient_id = row['patient_id']\n",
    "    fixed_vol_df = usable_patients.loc[usable_patients.patient_id == patient_id]['fixed_vol'].reset_index()\n",
    "    fixed_vol = (fixed_vol_df['fixed_vol'][0])\n",
    "    root_dir = '/working/lupolab/julia/tcia_analysis/datasets/'\n",
    "    cohort = row['cohort']\n",
    "    exam = row['exam']\n",
    "    if 'diffu' in row['adc']: \n",
    "        moving_vol = str(Path(root_dir, cohort, patient_id, exam, patient_id+'_adc.nii.gz'))\n",
    "        output_vol = str(Path(root_dir, cohort, patient_id, exam, patient_id+'_adca.nii.gz'))\n",
    "        command_align = 'BRAINSFit --fixedVolume '+fixed_vol+' --movingVolume '+moving_vol+' --outputVolume '+output_vol+' --transformType Rigid'\n",
    "        commands.append(command_align)\n",
    "        row['aligned_dti'] = output_vol\n",
    "    else: \n",
    "#         print(type(row['adc']))\n",
    "#         list_adc = ast.literal_eval(row['adc'])\n",
    "        output_vols = []\n",
    "        for series in row['adc']: \n",
    "            moving_vol = str(Path(root_dir, cohort, patient_id, exam, series))\n",
    "            output_vol = str(Path(root_dir, cohort, patient_id, exam, '.'.join(series.split('.')[:-2])+'a.nii.gz'))\n",
    "            command_align = command_align = 'BRAINSFit --fixedVolume '+fixed_vol+' --movingVolume '+moving_vol+' --outputVolume '+output_vol+' --transformType Rigid'\n",
    "            commands.append(command_align)\n",
    "            output_vols.append(output_vol)\n",
    "        row['aligned_dti'] = output_vols"
   ]
  },
  {
   "cell_type": "code",
   "execution_count": 105,
   "metadata": {},
   "outputs": [],
   "source": [
    "os.chdir('/working/lupolab/julia/tcia_analysis/code/')"
   ]
  },
  {
   "cell_type": "code",
   "execution_count": 106,
   "metadata": {},
   "outputs": [],
   "source": [
    "x = open('register_ADC.txt', 'w')"
   ]
  },
  {
   "cell_type": "code",
   "execution_count": 107,
   "metadata": {},
   "outputs": [],
   "source": [
    "x.write('{')\n",
    "x.write('\\n')\n",
    "for command in commands: \n",
    "    x.write(command)\n",
    "    x.write('\\n')\n",
    "x.write('}')\n",
    "x.close()"
   ]
  },
  {
   "cell_type": "code",
   "execution_count": 108,
   "metadata": {},
   "outputs": [],
   "source": [
    "!grid_pipeline --scriptonly register_ADC.txt\n"
   ]
  },
  {
   "cell_type": "code",
   "execution_count": 109,
   "metadata": {},
   "outputs": [],
   "source": [
    "# Run qsub register_ADC.txt_1.csh on Atom at Sun 3:33 pm Mar 1, 2020\n"
   ]
  },
  {
   "cell_type": "code",
   "execution_count": null,
   "metadata": {},
   "outputs": [],
   "source": []
  }
 ],
 "metadata": {
  "kernelspec": {
   "display_name": "Fastai SVCF",
   "language": "python",
   "name": "fastai"
  },
  "language_info": {
   "codemirror_mode": {
    "name": "ipython",
    "version": 3
   },
   "file_extension": ".py",
   "mimetype": "text/x-python",
   "name": "python",
   "nbconvert_exporter": "python",
   "pygments_lexer": "ipython3",
   "version": "3.7.2"
  }
 },
 "nbformat": 4,
 "nbformat_minor": 2
}
