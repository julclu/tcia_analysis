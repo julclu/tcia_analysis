{
 "cells": [
  {
   "cell_type": "code",
   "execution_count": 4,
   "metadata": {},
   "outputs": [],
   "source": [
    "import os\n",
    "import subprocess as sub \n",
    "from pathlib import Path \n",
    "from glob import glob"
   ]
  },
  {
   "cell_type": "code",
   "execution_count": 12,
   "metadata": {},
   "outputs": [],
   "source": [
    "patient_list = glob('*-*/*')"
   ]
  },
  {
   "cell_type": "code",
   "execution_count": null,
   "metadata": {},
   "outputs": [],
   "source": [
    "## looking for FLAIR, T1, T2 + T1C "
   ]
  },
  {
   "cell_type": "code",
   "execution_count": 43,
   "metadata": {},
   "outputs": [
    {
     "name": "stdout",
     "output_type": "stream",
     "text": [
      "TCGA-FG-8186/12-19-2002-NR_MRI_BRAIN_WWO-45736\n",
      "[]\n",
      "TCGA-CS-5395/10-04-1998-JHN_STYKER_BRAIN_IP_SPEC-45955\n",
      "['4-BRAINCONTRASTT1CORONAL-99357.nii.gz', '15-BRAINSTRYKERT1CORONAL-84824.nii.gz']\n",
      "TCGA-DU-7298/03-24-1991-MRI_BRAIN_WWO_CONTRAST-10889\n",
      "['9-COR_T1_POST_GD-63027.nii.gz']\n",
      "TCGA-DU-5871/12-06-1994-MRI_BRAIN_WWO_CONTRAST-77531\n",
      "['12-COR__T1_POST_GD_FLAIR-51059.nii.gz', '11-AX_T1_POST_GD_FLAIR-63849.nii.gz']\n",
      "TCGA-DU-6407/01-09-1994-MRI_BRAIN_WWO_CONTRAST-91345\n",
      "['10-AX_T1_POST_GD_FLAIR-38224.nii.gz', '11-COR__T1_POST_GD_FLAIR-60414.nii.gz']\n",
      "TCGA-DU-6407/05-14-1986-TUMOR_VOLSPECT-23740\n",
      "['1-AXIAL_T1_POST_GD-77810.nii.gz', '2-AXIAL_T1_POST_GD_FOR_SPECT.-78009.nii.gz']\n",
      "TCGA-DU-6407/05-14-1986-TUMOR_VOLSPECT-28234\n",
      "[]\n",
      "TCGA-DU-6407/12-22-1992-MRI_BRAIN_WWO_CONTRAST-78886\n",
      "['10-AX_T1_POST_GD_FLAIR-91295.nii.gz', '11-COR__T1_POST_GD_FLAIR-83173.nii.gz']\n",
      "TCGA-HT-7694/04-04-1995-MRI_BRAIN_FOR_STEREOTACTIC_WWO_CONTR-93153\n",
      "['11-AX_T1C-14217.nii.gz', '12-COR_T1C-86657.nii.gz', '10-SAG_T1C-88145.nii.gz']\n",
      "TCGA-HT-8107/07-08-1998-MRI_BRAIN_FOR_STEREOTACTIC_WWO_CONTR-30177\n",
      "[]\n",
      "TCGA-HT-A61A/01-27-2000-MRI_BRAIN_WWO_CONTRAST-09361\n",
      "[]\n",
      "TCGA-HT-7607/03-16-1995-MRI_BRAIN_FOR_STEREOTACTIC_WO_CONTRAST-42707\n",
      "[]\n",
      "TCGA-FG-7643/11-04-2002-NR_MRI_BRAIN_WWO-33312\n",
      "[]\n",
      "TCGA-FG-7634/01-28-2000-NR_MRI_BRAIN_WO-23271\n",
      "[]\n",
      "TCGA-DU-6395/02-09-1983-BRAINGD-38915\n",
      "[]\n",
      "TCGA-DU-8167/04-02-1997-MRI_BRAIN_WWO_CONTRAST-29125\n",
      "['10-AX_T1_POST_GD_FLAIR-74207.nii.gz', '11-COR__T1_POST_GD_FLAIR-50801.nii.gz']\n",
      "TCGA-DU-5849/04-05-1995-MRI_BRAIN_WWO_CONTRAST-20866\n",
      "['13-COR__T1_POST_GD_FLAIR-06706.nii.gz', '12-AX_T1_POST_GD_FLAIR-53586.nii.gz']\n",
      "TCGA-HT-7474/07-03-1998-MRI_BRAIN_FOR_STEREOTACTIC_WWO_CONTR-88037\n",
      "[]\n",
      "TCGA-DU-6542/05-08-1996-MRI_BRAIN_WWO_CONTRAST-27308\n",
      "['12-COR__T1_POST_GD_FLAIR-01253.nii.gz', '11-AX_T1_POST_GD_FLAIR-99692.nii.gz']\n",
      "TCGA-HT-7854/05-08-1997-MRI_BRAIN_FOR_STEREOTACTIC_WWO_CONTR-43092\n",
      "[]\n",
      "TCGA-HT-7479/06-03-1998-MRI_BRAIN_FOR_STEREOTACTIC_WWO_CONTR-37577\n",
      "[]\n",
      "TCGA-HT-A5RB/05-28-1998-MRI_BRAIN_FOR_STEREOTACTIC_WWO_CONTR-46448\n",
      "[]\n",
      "TCGA-HT-7473/08-26-1997-MRI_BRAIN_FOR_STEREOTACTIC_WWO_CONTR-47712\n",
      "['13-COR_T1C-57156.nii.gz', '11-SAG_T1C-73151.nii.gz']\n",
      "TCGA-HT-7693/05-20-1995-MRI_BRAIN_WWO-71036\n",
      "[]\n",
      "TCGA-HT-7677/07-02-1996-MRI_BRAIN_FOR_STEREOTACTIC_WWO_CONTR-46787\n",
      "[]\n",
      "TCGA-DU-8158/09-22-1986-BRAIN_WWO-21326\n",
      "[]\n",
      "TCGA-HT-7882/01-25-1997-MRI_BRAIN_FOR_STEREOTACTIC_WWO_CONTR-81378\n",
      "['10-SAG_T1C-70375.nii.gz', '11-COR_T1C-73894.nii.gz', '14-POSTCOR_T1_SE-25202.nii.gz', '12-POST_Ax_T1_SE-36810.nii.gz', '13-POST_SAG_T1_SE-43742.nii.gz']\n",
      "TCGA-DU-6400/05-18-1983-TUMOR_VOLUME-38359\n",
      "[]\n",
      "TCGA-FG-6692/06-06-2002-NR_MRI_BRAIN_WWO-54931\n",
      "['11-MRHR_T1_AX_POST_GAD-48215.nii.gz', '14-MRHR_T1_SAG_POST_GAD-79916.nii.gz', '13-MRHR_T1_AX_POST_GAD-66565.nii.gz', '12-MRHR_T1_COR_POST_GAD-78825.nii.gz']\n",
      "TCGA-HT-A614/12-24-1999-MRI_BRAIN_WWO_CONTRAST-59404\n",
      "[]\n",
      "TCGA-CS-6188/08-12-2001-MRI_BRAIN_STRYKER_JHN-95530\n",
      "[]\n",
      "TCGA-HT-7680/02-02-1997-MRI_BRAIN_FOR_STEREOTACTIC_WWO_CONTR-12810\n",
      "['10-SAG_T1C-56341.nii.gz', '11-COR_T1C-21635.nii.gz']\n",
      "TCGA-HT-8113/08-09-1993-MRI_BRAIN_FOR_STEREOTACTI-59884\n",
      "['8-SAG_T1C-56783.nii.gz', '10-COR_T1C-29580.nii.gz']\n",
      "TCGA-DU-7301/11-12-1991-MRI_BRAIN_SPECTROSCOPY-55953\n",
      "['2-AX_T1_POST_GD_FLAIR-86746.nii.gz']\n",
      "TCGA-DU-7301/11-12-1991-MRI_BRAIN_WWO_CONTRAST-22050\n",
      "['10-AX_T1_POST_GD_FLAIR-56964.nii.gz', '11-COR__T1_POST_GD_FLAIR-09795.nii.gz']\n",
      "TCGA-CS-4944/02-08-2001-JHN_BRAIN-IP-65472\n",
      "['10-BRAINSTRYKERT1CORONAL-63124.nii.gz']\n",
      "TCGA-HT-7875/04-12-1995-MRI_BRAIN_FOR_STEREOTACTIC_WO_CONTRAST-12626\n",
      "[]\n",
      "TCGA-CS-6667/11-05-2001-MRI_BRAIN_WITH-96919\n",
      "['11-SAG_T1_POST-28698.nii.gz', '9-Ax_T1_FS_BRAIN_POST-73660.nii.gz', '10-COR_T1_POST_GAD-10915.nii.gz']\n",
      "TCGA-DU-7008/07-23-1983-60413\n",
      "['9-AXIAL_T1_POST_GD-98176.nii.gz']\n"
     ]
    }
   ],
   "source": [
    "for i in patient_list: \n",
    "    print(i)\n",
    "    series = os.listdir(i)\n",
    "    t1_post_images = list(filter(lambda x: 't1c' in x.lower() or ('t1' in x.lower() and 'post'  in x.lower()), series))\n",
    "    t1_post_images_ax = list(filter(lambda x: 'ax' in x.lower(), t1_post_images))\n",
    "    print(t1_post_images)"
   ]
  },
  {
   "cell_type": "code",
   "execution_count": 42,
   "metadata": {},
   "outputs": [
    {
     "data": {
      "text/plain": [
       "['9-AXIAL_T1_POST_GD-98176.nii.gz']"
      ]
     },
     "execution_count": 42,
     "metadata": {},
     "output_type": "execute_result"
    }
   ],
   "source": [
    "t1_post_images"
   ]
  },
  {
   "cell_type": "code",
   "execution_count": null,
   "metadata": {},
   "outputs": [],
   "source": []
  }
 ],
 "metadata": {
  "kernelspec": {
   "display_name": "Fastai SVCF",
   "language": "python",
   "name": "fastai"
  },
  "language_info": {
   "codemirror_mode": {
    "name": "ipython",
    "version": 3
   },
   "file_extension": ".py",
   "mimetype": "text/x-python",
   "name": "python",
   "nbconvert_exporter": "python",
   "pygments_lexer": "ipython3",
   "version": "3.7.2"
  }
 },
 "nbformat": 4,
 "nbformat_minor": 2
}
